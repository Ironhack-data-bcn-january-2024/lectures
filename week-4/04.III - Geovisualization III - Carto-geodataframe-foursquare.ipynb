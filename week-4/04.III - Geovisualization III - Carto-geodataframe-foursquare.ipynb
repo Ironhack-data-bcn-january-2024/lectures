{
 "cells": [
  {
   "cell_type": "markdown",
   "metadata": {
    "toc": true
   },
   "source": [
    "<h1>Table of Contents<span class=\"tocSkip\"></span></h1>\n",
    "<div class=\"toc\"><ul class=\"toc-item\"><li><ul class=\"toc-item\"><li><span><a href=\"#GeoDataframe-/-Carto\" data-toc-modified-id=\"GeoDataframe-/-Carto-0.1\"><span class=\"toc-item-num\">0.1&nbsp;&nbsp;</span>GeoDataframe / Carto</a></span></li></ul></li><li><span><a href=\"#Geocode-API\" data-toc-modified-id=\"Geocode-API-1\"><span class=\"toc-item-num\">1&nbsp;&nbsp;</span>Geocode API</a></span></li><li><span><a href=\"#Foursquare-API\" data-toc-modified-id=\"Foursquare-API-2\"><span class=\"toc-item-num\">2&nbsp;&nbsp;</span>Foursquare API</a></span><ul class=\"toc-item\"><li><span><a href=\"#I-want-to-see-all-the-bookstores--in-Madrid-on-Foursquare\" data-toc-modified-id=\"I-want-to-see-all-the-bookstores--in-Madrid-on-Foursquare-2.1\"><span class=\"toc-item-num\">2.1&nbsp;&nbsp;</span>I want to see all the bookstores  in Madrid on Foursquare</a></span><ul class=\"toc-item\"><li><span><a href=\"#Setting-up\" data-toc-modified-id=\"Setting-up-2.1.1\"><span class=\"toc-item-num\">2.1.1&nbsp;&nbsp;</span>Setting up</a></span></li><li><span><a href=\"#Ready-to-query:-url-&amp;-headers\" data-toc-modified-id=\"Ready-to-query:-url-&amp;-headers-2.1.2\"><span class=\"toc-item-num\">2.1.2&nbsp;&nbsp;</span>Ready to query: url &amp; headers</a></span></li></ul></li></ul></li><li><span><a href=\"#Processing-the-response\" data-toc-modified-id=\"Processing-the-response-3\"><span class=\"toc-item-num\">3&nbsp;&nbsp;</span>Processing the response</a></span><ul class=\"toc-item\"><li><span><a href=\"#What-elements-do-I-want?\" data-toc-modified-id=\"What-elements-do-I-want?-3.1\"><span class=\"toc-item-num\">3.1&nbsp;&nbsp;</span>What elements do I want?</a></span></li><li><span><a href=\"#Extraction\" data-toc-modified-id=\"Extraction-3.2\"><span class=\"toc-item-num\">3.2&nbsp;&nbsp;</span>Extraction</a></span></li><li><span><a href=\"#Transformation\" data-toc-modified-id=\"Transformation-3.3\"><span class=\"toc-item-num\">3.3&nbsp;&nbsp;</span>Transformation</a></span></li></ul></li><li><span><a href=\"#The-CartoFrames-Map\" data-toc-modified-id=\"The-CartoFrames-Map-4\"><span class=\"toc-item-num\">4&nbsp;&nbsp;</span>The CartoFrames Map</a></span></li><li><span><a href=\"#We-export/import-to-MongoDB\" data-toc-modified-id=\"We-export/import-to-MongoDB-5\"><span class=\"toc-item-num\">5&nbsp;&nbsp;</span>We export/import to MongoDB</a></span><ul class=\"toc-item\"><li><span><a href=\"#Exporting\" data-toc-modified-id=\"Exporting-5.1\"><span class=\"toc-item-num\">5.1&nbsp;&nbsp;</span>Exporting</a></span></li><li><span><a href=\"#Importing\" data-toc-modified-id=\"Importing-5.2\"><span class=\"toc-item-num\">5.2&nbsp;&nbsp;</span>Importing</a></span></li><li><span><a href=\"#Load-into-Mongo\" data-toc-modified-id=\"Load-into-Mongo-5.3\"><span class=\"toc-item-num\">5.3&nbsp;&nbsp;</span>Load into Mongo</a></span><ul class=\"toc-item\"><li><ul class=\"toc-item\"><li><span><a href=\"#1.-Extraction\" data-toc-modified-id=\"1.-Extraction-5.3.0.1\"><span class=\"toc-item-num\">5.3.0.1&nbsp;&nbsp;</span>1. Extraction</a></span></li><li><span><a href=\"#2.-Processing-/-transformation\" data-toc-modified-id=\"2.-Processing-/-transformation-5.3.0.2\"><span class=\"toc-item-num\">5.3.0.2&nbsp;&nbsp;</span>2. Processing / transformation</a></span></li><li><span><a href=\"#3.-Visualization\" data-toc-modified-id=\"3.-Visualization-5.3.0.3\"><span class=\"toc-item-num\">5.3.0.3&nbsp;&nbsp;</span>3. Visualization</a></span></li><li><span><a href=\"#4.-Loading-into-a-database\" data-toc-modified-id=\"4.-Loading-into-a-database-5.3.0.4\"><span class=\"toc-item-num\">5.3.0.4&nbsp;&nbsp;</span>4. Loading into a database</a></span></li></ul></li></ul></li><li><span><a href=\"#Sanity-check:-are-you-in-Kenya?\" data-toc-modified-id=\"Sanity-check:-are-you-in-Kenya?-5.4\"><span class=\"toc-item-num\">5.4&nbsp;&nbsp;</span>Sanity check: are you in Kenya?</a></span></li><li><span><a href=\"#token-must-be-hidden-and-deleted-from-the-notebook\" data-toc-modified-id=\"token-must-be-hidden-and-deleted-from-the-notebook-5.5\"><span class=\"toc-item-num\">5.5&nbsp;&nbsp;</span>token must be hidden and deleted from the notebook</a></span></li><li><span><a href=\"#limit-your-queries-until-you-know-for-sure-it-works,-then-scale-it-up\" data-toc-modified-id=\"limit-your-queries-until-you-know-for-sure-it-works,-then-scale-it-up-5.6\"><span class=\"toc-item-num\">5.6&nbsp;&nbsp;</span>limit your queries until you know for sure it works, then scale it up</a></span></li></ul></li></ul></div>"
   ]
  },
  {
   "cell_type": "markdown",
   "metadata": {},
   "source": [
    "### GeoDataframe / Carto"
   ]
  },
  {
   "cell_type": "markdown",
   "metadata": {},
   "source": [
    "![mapa](../images/geo_portada.jpg)"
   ]
  },
  {
   "cell_type": "code",
   "execution_count": 2,
   "metadata": {},
   "outputs": [],
   "source": [
    "#! pip install cartoframes"
   ]
  },
  {
   "cell_type": "code",
   "execution_count": 2,
   "metadata": {},
   "outputs": [],
   "source": [
    "import os\n",
    "import requests\n",
    "import json\n",
    "from dotenv import load_dotenv\n",
    "import pandas as pd\n",
    "import time\n",
    "import os\n",
    "load_dotenv() # load_env\n",
    "\n",
    "import geopandas as gpd\n",
    "from cartoframes.viz import Map, Layer, popup_element"
   ]
  },
  {
   "cell_type": "markdown",
   "metadata": {},
   "source": [
    "⚠️\n",
    "\n",
    "ImportError: cannot import name 'soft_unicode' from 'markupsafe' (/Users/user/opt/anaconda3/envs/ironhack/lib/python3.8/site-packages/markupsafe/__init__.py) ?\n",
    "\n",
    "`pip install markupsafe==2.0.1` ?"
   ]
  },
  {
   "cell_type": "markdown",
   "metadata": {},
   "source": [
    "1. Geocode API\n",
    "2. Foursquare API\n",
    "3. Cartomap"
   ]
  },
  {
   "cell_type": "markdown",
   "metadata": {},
   "source": [
    "## Geocode API"
   ]
  },
  {
   "cell_type": "markdown",
   "metadata": {
    "lang": "en"
   },
   "source": [
    "There are APIs for a lot of things, here I leave you [Geocode](https://geocode.xyz/)"
   ]
  },
  {
   "cell_type": "code",
   "execution_count": 3,
   "metadata": {},
   "outputs": [],
   "source": [
    "# Location"
   ]
  },
  {
   "cell_type": "code",
   "execution_count": 4,
   "metadata": {},
   "outputs": [],
   "source": [
    "where = \"Madrid, Spain\""
   ]
  },
  {
   "cell_type": "code",
   "execution_count": 5,
   "metadata": {},
   "outputs": [],
   "source": [
    "# Expected coordinates"
   ]
  },
  {
   "cell_type": "markdown",
   "metadata": {},
   "source": [
    "`mad_long = 40.4107367` <br>\n",
    "`mad_lat = -3.707267119`"
   ]
  },
  {
   "cell_type": "code",
   "execution_count": 6,
   "metadata": {},
   "outputs": [],
   "source": [
    "# How to get coordinates from a location"
   ]
  },
  {
   "cell_type": "markdown",
   "metadata": {
    "lang": "en"
   },
   "source": [
    "```python\n",
    "url_geocode = f\"https://geocode.xyz/{Adress I want to convert}?json=1\"\n",
    "```"
   ]
  },
  {
   "cell_type": "markdown",
   "metadata": {
    "lang": "en"
   },
   "source": [
    "What is type point?\n",
    "```python\n",
    "place_coordinates = {\"type\": \"Point\", \"coordinates\": [latitude, longitude]}\n",
    "```"
   ]
  },
  {
   "cell_type": "code",
   "execution_count": 6,
   "metadata": {},
   "outputs": [],
   "source": [
    "url_geocode = f\"https://geocode.xyz/{where}?json=1\""
   ]
  },
  {
   "cell_type": "code",
   "execution_count": null,
   "metadata": {},
   "outputs": [],
   "source": []
  },
  {
   "cell_type": "markdown",
   "metadata": {
    "lang": "en"
   },
   "source": [
    "Sometimes Geocode Fails, so plan is to get the coordinates from the web"
   ]
  },
  {
   "cell_type": "code",
   "execution_count": null,
   "metadata": {},
   "outputs": [],
   "source": []
  },
  {
   "cell_type": "markdown",
   "metadata": {},
   "source": [
    "## Foursquare API"
   ]
  },
  {
   "cell_type": "markdown",
   "metadata": {},
   "source": [
    "### I want to see all the bookstores  in Madrid on Foursquare"
   ]
  },
  {
   "cell_type": "code",
   "execution_count": 7,
   "metadata": {},
   "outputs": [
    {
     "data": {
      "text/plain": [
       "<Response [401]>"
      ]
     },
     "execution_count": 7,
     "metadata": {},
     "output_type": "execute_result"
    }
   ],
   "source": [
    "import requests\n",
    "\n",
    "url = \"https://api.foursquare.com/v3/places/search?query=bar&ll=41.8781%2C-87.6298\"\n",
    "\n",
    "headers = {\"accept\": \"application/json\"}\n",
    "\n",
    "response = requests.get(url, headers=headers)\n",
    "\n",
    "response"
   ]
  },
  {
   "cell_type": "code",
   "execution_count": 8,
   "metadata": {},
   "outputs": [],
   "source": [
    "from getpass import getpass"
   ]
  },
  {
   "cell_type": "code",
   "execution_count": 20,
   "metadata": {},
   "outputs": [
    {
     "data": {
      "text/plain": [
       "<Response [200]>"
      ]
     },
     "execution_count": 20,
     "metadata": {},
     "output_type": "execute_result"
    }
   ],
   "source": [
    "response"
   ]
  },
  {
   "cell_type": "code",
   "execution_count": 24,
   "metadata": {},
   "outputs": [
    {
     "data": {
      "text/plain": [
       "<Response [200]>"
      ]
     },
     "execution_count": 24,
     "metadata": {},
     "output_type": "execute_result"
    }
   ],
   "source": [
    "import requests\n",
    "\n",
    "url = \"https://api.foursquare.com/v3/places/search?query=bar&ll=41.8781%2C-87.6298\"\n",
    "\n",
    "headers = {\n",
    "    \"accept\": \"application/json\",\n",
    "    \"Authorization\": token\n",
    "}\n",
    "\n",
    "response = requests.get(url, headers=headers)\n",
    "\n",
    "response"
   ]
  },
  {
   "cell_type": "code",
   "execution_count": 26,
   "metadata": {},
   "outputs": [],
   "source": [
    "# terrassa bars\n",
    "\n",
    "coordinates_terrasa = 41.5076071, 1.9762711"
   ]
  },
  {
   "cell_type": "code",
   "execution_count": 30,
   "metadata": {},
   "outputs": [
    {
     "data": {
      "text/plain": [
       "(41.5076071, 1.9762711)"
      ]
     },
     "execution_count": 30,
     "metadata": {},
     "output_type": "execute_result"
    }
   ],
   "source": [
    "coordinates_terrasa"
   ]
  },
  {
   "cell_type": "code",
   "execution_count": 49,
   "metadata": {
    "scrolled": true
   },
   "outputs": [],
   "source": [
    "#response.json()"
   ]
  },
  {
   "cell_type": "code",
   "execution_count": 35,
   "metadata": {
    "scrolled": false
   },
   "outputs": [
    {
     "data": {
      "text/plain": [
       "'Old Fashioned'"
      ]
     },
     "execution_count": 35,
     "metadata": {},
     "output_type": "execute_result"
    }
   ],
   "source": [
    "response[\"results\"][0][\"name\"]"
   ]
  },
  {
   "cell_type": "code",
   "execution_count": 48,
   "metadata": {},
   "outputs": [
    {
     "data": {
      "text/plain": [
       "{'results': [{'fsq_id': '5062f798e4b03eb27dc2e3ab',\n",
       "   'categories': [{'id': 13346,\n",
       "     'name': 'Paella Restaurant',\n",
       "     'short_name': 'Paella',\n",
       "     'plural_name': 'Paella Restaurants',\n",
       "     'icon': {'prefix': 'https://ss3.4sqi.net/img/categories_v2/food/paella_',\n",
       "      'suffix': '.png'}}],\n",
       "   'chains': [],\n",
       "   'closed_bucket': 'LikelyOpen',\n",
       "   'distance': 123,\n",
       "   'geocodes': {'main': {'latitude': 39.487249, 'longitude': -0.367146},\n",
       "    'roof': {'latitude': 39.487249, 'longitude': -0.367146}},\n",
       "   'link': '/v3/places/5062f798e4b03eb27dc2e3ab',\n",
       "   'location': {'address': 'Primado Reig, 81',\n",
       "    'admin_region': 'Comunidad Valenciana',\n",
       "    'country': 'ES',\n",
       "    'cross_street': '',\n",
       "    'formatted_address': 'Primado Reig, 81, València Comunitat Valenciana',\n",
       "    'locality': 'València',\n",
       "    'region': 'Comunitat Valenciana'},\n",
       "   'name': \"Bar Mario's\",\n",
       "   'related_places': {},\n",
       "   'timezone': 'Europe/Madrid'}],\n",
       " 'context': {'geo_bounds': {'circle': {'center': {'latitude': 39.4883844,\n",
       "     'longitude': -0.3673049},\n",
       "    'radius': 22000}}}}"
      ]
     },
     "execution_count": 48,
     "metadata": {},
     "output_type": "execute_result"
    }
   ],
   "source": [
    "def find_things (venue, lat, lon):\n",
    "\n",
    "    url = f\"https://api.foursquare.com/v3/places/search?query={venue}&ll={lat}%2C{lon}&sort=DISTANCE\"\n",
    "\n",
    "    headers = {\n",
    "        \"accept\": \"application/json\",\n",
    "        \"Authorization\": token\n",
    "    }\n",
    "    \n",
    "    params = {\"limit\":1}\n",
    "\n",
    "    response = requests.get(url, headers=headers, params= params).json()\n",
    "\n",
    "    return response\n",
    "\n",
    "result_valencia = find_things (\"bar\", \"39.4883844\",\"-0.3673049\")\n",
    "result_valencia\n",
    "# 39.4851256,-0.3538227"
   ]
  },
  {
   "cell_type": "code",
   "execution_count": 46,
   "metadata": {},
   "outputs": [
    {
     "data": {
      "text/plain": [
       "{'results': [{'fsq_id': '5062f798e4b03eb27dc2e3ab',\n",
       "   'categories': [{'id': 13346,\n",
       "     'name': 'Paella Restaurant',\n",
       "     'short_name': 'Paella',\n",
       "     'plural_name': 'Paella Restaurants',\n",
       "     'icon': {'prefix': 'https://ss3.4sqi.net/img/categories_v2/food/paella_',\n",
       "      'suffix': '.png'}}],\n",
       "   'chains': [],\n",
       "   'closed_bucket': 'LikelyOpen',\n",
       "   'distance': 123,\n",
       "   'geocodes': {'main': {'latitude': 39.487249, 'longitude': -0.367146},\n",
       "    'roof': {'latitude': 39.487249, 'longitude': -0.367146}},\n",
       "   'link': '/v3/places/5062f798e4b03eb27dc2e3ab',\n",
       "   'location': {'address': 'Primado Reig, 81',\n",
       "    'admin_region': 'Comunidad Valenciana',\n",
       "    'country': 'ES',\n",
       "    'cross_street': '',\n",
       "    'formatted_address': 'Primado Reig, 81, València Comunitat Valenciana',\n",
       "    'locality': 'València',\n",
       "    'region': 'Comunitat Valenciana'},\n",
       "   'name': \"Bar Mario's\",\n",
       "   'related_places': {},\n",
       "   'timezone': 'Europe/Madrid'},\n",
       "  {'fsq_id': '4d7cb727f260a093eb1a3fba',\n",
       "   'categories': [{'id': 13065,\n",
       "     'name': 'Restaurant',\n",
       "     'short_name': 'Restaurant',\n",
       "     'plural_name': 'Restaurants',\n",
       "     'icon': {'prefix': 'https://ss3.4sqi.net/img/categories_v2/food/default_',\n",
       "      'suffix': '.png'}}],\n",
       "   'chains': [],\n",
       "   'closed_bucket': 'LikelyOpen',\n",
       "   'distance': 213,\n",
       "   'geocodes': {'drop_off': {'latitude': 39.486283, 'longitude': -0.368351},\n",
       "    'main': {'latitude': 39.486337, 'longitude': -0.368452},\n",
       "    'roof': {'latitude': 39.486337, 'longitude': -0.368452}},\n",
       "   'link': '/v3/places/4d7cb727f260a093eb1a3fba',\n",
       "   'location': {'address': 'Calle Alboraya, 65',\n",
       "    'admin_region': 'Comunidad Valenciana',\n",
       "    'country': 'ES',\n",
       "    'cross_street': 'C. Cofrentes',\n",
       "    'formatted_address': 'Calle Alboraya, 65 (C. Cofrentes), 46010 Valencia Valencia',\n",
       "    'locality': 'Valencia',\n",
       "    'postcode': '46010',\n",
       "    'region': 'Valencia'},\n",
       "   'name': 'Bar Amphitryon',\n",
       "   'related_places': {},\n",
       "   'timezone': 'Europe/Madrid'},\n",
       "  {'fsq_id': '4b8adb93f964a520a58532e3',\n",
       "   'categories': [{'id': 13018,\n",
       "     'name': 'Pub',\n",
       "     'short_name': 'Pub',\n",
       "     'plural_name': 'Pubs',\n",
       "     'icon': {'prefix': 'https://ss3.4sqi.net/img/categories_v2/nightlife/pub_',\n",
       "      'suffix': '.png'}},\n",
       "    {'id': 13057,\n",
       "     'name': 'Gastropub',\n",
       "     'short_name': 'Gastropub',\n",
       "     'plural_name': 'Gastropubs',\n",
       "     'icon': {'prefix': 'https://ss3.4sqi.net/img/categories_v2/food/gastropub_',\n",
       "      'suffix': '.png'}},\n",
       "    {'id': 13347,\n",
       "     'name': 'Tapas Restaurant',\n",
       "     'short_name': 'Tapas',\n",
       "     'plural_name': 'Tapas Restaurants',\n",
       "     'icon': {'prefix': 'https://ss3.4sqi.net/img/categories_v2/food/tapas_',\n",
       "      'suffix': '.png'}}],\n",
       "   'chains': [],\n",
       "   'closed_bucket': 'LikelyOpen',\n",
       "   'distance': 232,\n",
       "   'geocodes': {'drop_off': {'latitude': 39.489131, 'longitude': -0.369862},\n",
       "    'main': {'latitude': 39.489223, 'longitude': -0.369794},\n",
       "    'roof': {'latitude': 39.489223, 'longitude': -0.369794}},\n",
       "   'link': '/v3/places/4b8adb93f964a520a58532e3',\n",
       "   'location': {'address': 'Avenida Primado Reig, 53',\n",
       "    'admin_region': 'Comunidad Valenciana',\n",
       "    'country': 'ES',\n",
       "    'cross_street': '',\n",
       "    'formatted_address': 'Avenida Primado Reig, 53, 46019 València Comunitat Valenciana',\n",
       "    'locality': 'València',\n",
       "    'postcode': '46019',\n",
       "    'region': 'Comunitat Valenciana'},\n",
       "   'name': 'Old Trafford',\n",
       "   'related_places': {},\n",
       "   'timezone': 'Europe/Madrid'},\n",
       "  {'fsq_id': '56a7451e498e4709640743f0',\n",
       "   'categories': [{'id': 13049,\n",
       "     'name': 'Diner',\n",
       "     'short_name': 'Diner',\n",
       "     'plural_name': 'Diners',\n",
       "     'icon': {'prefix': 'https://ss3.4sqi.net/img/categories_v2/food/diner_',\n",
       "      'suffix': '.png'}}],\n",
       "   'chains': [],\n",
       "   'closed_bucket': 'Unsure',\n",
       "   'distance': 241,\n",
       "   'geocodes': {'main': {'latitude': 39.487471, 'longitude': -0.364752}},\n",
       "   'link': '/v3/places/56a7451e498e4709640743f0',\n",
       "   'location': {'address': 'Calle Albocácer, 30',\n",
       "    'admin_region': 'Comunidad Valenciana',\n",
       "    'country': 'ES',\n",
       "    'cross_street': '',\n",
       "    'formatted_address': 'Calle Albocácer, 30, València Comunitat Valenciana',\n",
       "    'locality': 'València',\n",
       "    'region': 'Comunitat Valenciana'},\n",
       "   'name': 'Bar Cafetería Quebracho',\n",
       "   'related_places': {},\n",
       "   'timezone': 'Europe/Madrid'},\n",
       "  {'fsq_id': '4ee1ebd69911340c366f1be3',\n",
       "   'categories': [{'id': 13345,\n",
       "     'name': 'Spanish Restaurant',\n",
       "     'short_name': 'Spanish',\n",
       "     'plural_name': 'Spanish Restaurants',\n",
       "     'icon': {'prefix': 'https://ss3.4sqi.net/img/categories_v2/food/spanish_',\n",
       "      'suffix': '.png'}}],\n",
       "   'chains': [],\n",
       "   'closed_bucket': 'Unsure',\n",
       "   'distance': 293,\n",
       "   'geocodes': {'main': {'latitude': 39.490374, 'longitude': -0.365059}},\n",
       "   'link': '/v3/places/4ee1ebd69911340c366f1be3',\n",
       "   'location': {'address': \"Avinguda D'Ausiàs March, 48\",\n",
       "    'admin_region': 'Comunidad Valenciana',\n",
       "    'country': 'ES',\n",
       "    'cross_street': '',\n",
       "    'formatted_address': \"Avinguda D'Ausiàs March, 48, 46120 Alboraia Comunitat Valenciana\",\n",
       "    'locality': 'Alboraia',\n",
       "    'postcode': '46120',\n",
       "    'region': 'Comunitat Valenciana'},\n",
       "   'name': 'Bar Juanito',\n",
       "   'related_places': {},\n",
       "   'timezone': 'Europe/Madrid'}],\n",
       " 'context': {'geo_bounds': {'circle': {'center': {'latitude': 39.4883844,\n",
       "     'longitude': -0.3673049},\n",
       "    'radius': 22000}}}}"
      ]
     },
     "execution_count": 46,
     "metadata": {},
     "output_type": "execute_result"
    }
   ],
   "source": [
    "def find_things (venue, lat, lon):\n",
    "\n",
    "    url = f\"https://api.foursquare.com/v3/places/search?query={venue}&ll={lat}%2C{lon}&sort=DISTANCE&limit=5\"\n",
    "\n",
    "    headers = {\n",
    "        \"accept\": \"application/json\",\n",
    "        \"Authorization\": token\n",
    "    }\n",
    "\n",
    "    response = requests.get(url, headers=headers).json()\n",
    "\n",
    "    return response\n",
    "\n",
    "result_valencia = find_things (\"bar\", \"39.4883844\",\"-0.3673049\")\n",
    "result_valencia\n",
    "# 39.4851256,-0.3538227"
   ]
  },
  {
   "cell_type": "code",
   "execution_count": 47,
   "metadata": {},
   "outputs": [
    {
     "data": {
      "text/plain": [
       "{'fsq_id': '4d7cb727f260a093eb1a3fba',\n",
       " 'categories': [{'id': 13065,\n",
       "   'name': 'Restaurant',\n",
       "   'short_name': 'Restaurant',\n",
       "   'plural_name': 'Restaurants',\n",
       "   'icon': {'prefix': 'https://ss3.4sqi.net/img/categories_v2/food/default_',\n",
       "    'suffix': '.png'}}],\n",
       " 'chains': [],\n",
       " 'closed_bucket': 'LikelyOpen',\n",
       " 'distance': 213,\n",
       " 'geocodes': {'drop_off': {'latitude': 39.486283, 'longitude': -0.368351},\n",
       "  'main': {'latitude': 39.486337, 'longitude': -0.368452},\n",
       "  'roof': {'latitude': 39.486337, 'longitude': -0.368452}},\n",
       " 'link': '/v3/places/4d7cb727f260a093eb1a3fba',\n",
       " 'location': {'address': 'Calle Alboraya, 65',\n",
       "  'admin_region': 'Comunidad Valenciana',\n",
       "  'country': 'ES',\n",
       "  'cross_street': 'C. Cofrentes',\n",
       "  'formatted_address': 'Calle Alboraya, 65 (C. Cofrentes), 46010 Valencia Valencia',\n",
       "  'locality': 'Valencia',\n",
       "  'postcode': '46010',\n",
       "  'region': 'Valencia'},\n",
       " 'name': 'Bar Amphitryon',\n",
       " 'related_places': {},\n",
       " 'timezone': 'Europe/Madrid'}"
      ]
     },
     "execution_count": 47,
     "metadata": {},
     "output_type": "execute_result"
    }
   ],
   "source": [
    "result_valencia[\"results\"][1]"
   ]
  },
  {
   "cell_type": "markdown",
   "metadata": {},
   "source": [
    "#### Setting up"
   ]
  },
  {
   "cell_type": "markdown",
   "metadata": {
    "lang": "en"
   },
   "source": [
    "I'm sorry to tell you that the first thing is to read the API documentation.\n",
    "- https://developer.foursquare.com/docs/places-api-overview\n",
    "- https://developer.foursquare.com/reference/api-explorer-overview"
   ]
  },
  {
   "cell_type": "markdown",
   "metadata": {},
   "source": [
    "1. Sign-up for the foursquare places API [here](https://foursquare.com/products/places-api/)\n",
    "2. Create a New Project\n",
    "3. Generate `CLIENT_ID` & `CLIENT_SECRET` so that you can generate TOKEN\n",
    "4. Save your credentials locally on a `.env` file on the root of your project\n",
    "5. Add .env to .gitignore"
   ]
  },
  {
   "cell_type": "markdown",
   "metadata": {},
   "source": [
    "1. https://foursquare.com/developers/orgs/62e1bdd8a3409370dc466164/projects/63598a1b1cdc2f7d810cf839/settings\n",
    "2. https://developer.foursquare.com/reference/place-search"
   ]
  },
  {
   "cell_type": "markdown",
   "metadata": {},
   "source": [
    "```shell\n",
    "!touch .env #creates the file\n",
    "!echo \"token='mytoken' >> .env\" #appends into the file\n",
    "!touch .gitignore\n",
    "!echo \".env\" >> .gitignore\n",
    "import os\n",
    "load_dotenv()\n",
    "token = os.getenv(\"token\")\n",
    "```"
   ]
  },
  {
   "cell_type": "code",
   "execution_count": null,
   "metadata": {},
   "outputs": [],
   "source": []
  },
  {
   "cell_type": "markdown",
   "metadata": {},
   "source": [
    "#### Ready to query: url & headers"
   ]
  },
  {
   "cell_type": "markdown",
   "metadata": {
    "lang": "en"
   },
   "source": [
    "Foursquare parameters are explained [here.](https://developer.foursquare.com/docs/places-api-overview)"
   ]
  },
  {
   "cell_type": "code",
   "execution_count": null,
   "metadata": {},
   "outputs": [],
   "source": []
  },
  {
   "cell_type": "markdown",
   "metadata": {},
   "source": [
    "## Processing the response"
   ]
  },
  {
   "cell_type": "markdown",
   "metadata": {},
   "source": [
    "### What elements do I want?"
   ]
  },
  {
   "cell_type": "code",
   "execution_count": null,
   "metadata": {},
   "outputs": [],
   "source": []
  },
  {
   "cell_type": "markdown",
   "metadata": {},
   "source": [
    "# RECAP\n",
    "\n",
    "### Extraction\n",
    "\n",
    "0. Get the token\n",
    "1. Went into the docs tried an example through here: https://developer.foursquare.com/reference/place-search\n",
    "2. You copy the code into python\n",
    "3. Check that it works\n",
    "4. Parameters: \"&query=libreria\" -> f\"&query={query}\"\n",
    "5. Save into a function FOR QUERYING THE API\n",
    "\n",
    "--------\n",
    "### Transformation\n",
    "\n",
    "6. Process the result of that function to target meaningful info\n",
    "    - Testing one by one: one item at a time\n",
    "7. Loop the result of the first function to get the info for each element\n",
    "8. A list of dictionaties -> dataframe"
   ]
  },
  {
   "cell_type": "markdown",
   "metadata": {
    "lang": "en"
   },
   "source": [
    "## The CartoFrames Map"
   ]
  },
  {
   "cell_type": "markdown",
   "metadata": {
    "lang": "en"
   },
   "source": [
    "For the geometry column we have to put in this order Longitude, Latitude ⚠️🚨"
   ]
  },
  {
   "cell_type": "code",
   "execution_count": null,
   "metadata": {},
   "outputs": [],
   "source": []
  },
  {
   "cell_type": "markdown",
   "metadata": {
    "lang": "en"
   },
   "source": [
    "https://carto.com/developers/cartoframes/"
   ]
  },
  {
   "cell_type": "code",
   "execution_count": 72,
   "metadata": {},
   "outputs": [],
   "source": [
    "import geopandas as gdp"
   ]
  },
  {
   "cell_type": "code",
   "execution_count": null,
   "metadata": {},
   "outputs": [],
   "source": []
  },
  {
   "cell_type": "markdown",
   "metadata": {},
   "source": [
    "## We export/import to MongoDB"
   ]
  },
  {
   "cell_type": "markdown",
   "metadata": {},
   "source": [
    "### Exporting"
   ]
  },
  {
   "cell_type": "code",
   "execution_count": null,
   "metadata": {},
   "outputs": [],
   "source": []
  },
  {
   "cell_type": "markdown",
   "metadata": {},
   "source": [
    "### Importing"
   ]
  },
  {
   "cell_type": "code",
   "execution_count": null,
   "metadata": {},
   "outputs": [],
   "source": []
  },
  {
   "cell_type": "markdown",
   "metadata": {},
   "source": [
    "### Load into Mongo"
   ]
  },
  {
   "cell_type": "code",
   "execution_count": null,
   "metadata": {},
   "outputs": [],
   "source": []
  },
  {
   "cell_type": "markdown",
   "metadata": {},
   "source": [
    "# Recap\n"
   ]
  },
  {
   "cell_type": "markdown",
   "metadata": {},
   "source": [
    "##### 1. Extraction\n",
    "\n",
    "- Signed up for foursquare API as a developer\n",
    "- We created an project AND got a token\n",
    "- Explored the examples to do requests from the docs\n",
    "- We did requests\n",
    "- We gathered the code into functions\n",
    "\n",
    "##### 2. Processing / transformation\n",
    "- We processed the results of the requests\n",
    "- Saved into a list\n",
    "\n",
    "##### 3. Visualization\n",
    "\n",
    "- Geopandas to plot things\n",
    "    - Create a new column from lat and lon -> geometry\n",
    "- With geometry column -> carto map\n",
    "\n",
    "\n",
    "##### 4. Loading into a database\n",
    "- Loop the dictionary to insert_one(document)\n"
   ]
  },
  {
   "cell_type": "markdown",
   "metadata": {},
   "source": [
    "# TIPS\n",
    "### Sanity check: are you in Kenya?\n",
    "### token must be hidden and deleted from the notebook\n",
    "### limit your queries until you know for sure it works, then scale it up"
   ]
  }
 ],
 "metadata": {
  "kernelspec": {
   "display_name": "ironhack",
   "language": "python",
   "name": "ironhack"
  },
  "language_info": {
   "codemirror_mode": {
    "name": "ipython",
    "version": 3
   },
   "file_extension": ".py",
   "mimetype": "text/x-python",
   "name": "python",
   "nbconvert_exporter": "python",
   "pygments_lexer": "ipython3",
   "version": "3.9.12"
  },
  "nbTranslate": {
   "displayLangs": [
    "en",
    "es"
   ],
   "hotkey": "alt-a",
   "langInMainMenu": true,
   "sourceLang": "es",
   "targetLang": "en",
   "useGoogleTranslate": true
  },
  "toc": {
   "base_numbering": 1,
   "nav_menu": {},
   "number_sections": true,
   "sideBar": true,
   "skip_h1_title": true,
   "title_cell": "Table of Contents",
   "title_sidebar": "Contents",
   "toc_cell": true,
   "toc_position": {
    "height": "calc(100% - 180px)",
    "left": "10px",
    "top": "150px",
    "width": "165px"
   },
   "toc_section_display": true,
   "toc_window_display": false
  }
 },
 "nbformat": 4,
 "nbformat_minor": 4
}
