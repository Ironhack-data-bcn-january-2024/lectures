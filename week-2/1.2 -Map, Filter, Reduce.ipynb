{
 "cells": [
  {
   "cell_type": "markdown",
   "id": "bottom-commerce",
   "metadata": {},
   "source": [
    "# Map, Filter, Reduce"
   ]
  },
  {
   "cell_type": "markdown",
   "id": "rising-buyer",
   "metadata": {
    "toc": true
   },
   "source": [
    "<h1>Table of Contents<span class=\"tocSkip\"></span></h1>\n",
    "<div class=\"toc\"><ul class=\"toc-item\"><li><ul class=\"toc-item\"><li><span><a href=\"#Each-student-is-randomly-assigned-a-topic\" data-toc-modified-id=\"Each-student-is-randomly-assigned-a-topic-0.1\"><span class=\"toc-item-num\">0.1&nbsp;&nbsp;</span>Each student is randomly assigned a topic</a></span></li></ul></li><li><span><a href=\"#Let's-start\" data-toc-modified-id=\"Let's-start-1\"><span class=\"toc-item-num\">1&nbsp;&nbsp;</span>Let's start</a></span><ul class=\"toc-item\"><li><span><a href=\"#Create-groups-with-other-people-who-have-studied-the-same-function\" data-toc-modified-id=\"Create-groups-with-other-people-who-have-studied-the-same-function-1.1\"><span class=\"toc-item-num\">1.1&nbsp;&nbsp;</span>Create groups with other people who have studied the same function</a></span></li></ul></li><li><span><a href=\"#Map,-Filter,-Reduce\" data-toc-modified-id=\"Map,-Filter,-Reduce-2\"><span class=\"toc-item-num\">2&nbsp;&nbsp;</span>Map, Filter, Reduce</a></span><ul class=\"toc-item\"><li><span><a href=\"#Map\" data-toc-modified-id=\"Map-2.1\"><span class=\"toc-item-num\">2.1&nbsp;&nbsp;</span>Map</a></span><ul class=\"toc-item\"><li><span><a href=\"#First-we-do-it-with-functions\" data-toc-modified-id=\"First-we-do-it-with-functions-2.1.1\"><span class=\"toc-item-num\">2.1.1&nbsp;&nbsp;</span>First we do it with functions</a></span></li><li><span><a href=\"#Extra:-Do-it-with-lambda!\" data-toc-modified-id=\"Extra:-Do-it-with-lambda!-2.1.2\"><span class=\"toc-item-num\">2.1.2&nbsp;&nbsp;</span>Extra: Do it with lambda!</a></span></li></ul></li><li><span><a href=\"#Filter\" data-toc-modified-id=\"Filter-2.2\"><span class=\"toc-item-num\">2.2&nbsp;&nbsp;</span>Filter</a></span><ul class=\"toc-item\"><li><span><a href=\"#First-we-do-it-with-functions\" data-toc-modified-id=\"First-we-do-it-with-functions-2.2.1\"><span class=\"toc-item-num\">2.2.1&nbsp;&nbsp;</span>First we do it with functions</a></span></li><li><span><a href=\"#Extra:-Do-it-with-lambda!\" data-toc-modified-id=\"Extra:-Do-it-with-lambda!-2.2.2\"><span class=\"toc-item-num\">2.2.2&nbsp;&nbsp;</span>Extra: Do it with lambda!</a></span></li></ul></li><li><span><a href=\"#Reduce\" data-toc-modified-id=\"Reduce-2.3\"><span class=\"toc-item-num\">2.3&nbsp;&nbsp;</span>Reduce</a></span><ul class=\"toc-item\"><li><span><a href=\"#What-happened?\" data-toc-modified-id=\"What-happened?-2.3.1\"><span class=\"toc-item-num\">2.3.1&nbsp;&nbsp;</span>What happened?</a></span></li></ul></li><li><span><a href=\"#First-we-do-it-with-functions\" data-toc-modified-id=\"First-we-do-it-with-functions-2.4\"><span class=\"toc-item-num\">2.4&nbsp;&nbsp;</span>First we do it with functions</a></span></li><li><span><a href=\"#Bonus:-Do-it-with-lambda!\" data-toc-modified-id=\"Bonus:-Do-it-with-lambda!-2.5\"><span class=\"toc-item-num\">2.5&nbsp;&nbsp;</span>Bonus: Do it with lambda!</a></span></li></ul></li><li><span><a href=\"#Summary\" data-toc-modified-id=\"Summary-3\"><span class=\"toc-item-num\">3&nbsp;&nbsp;</span>Summary</a></span></li><li><span><a href=\"#Further-materials\" data-toc-modified-id=\"Further-materials-4\"><span class=\"toc-item-num\">4&nbsp;&nbsp;</span>Further materials</a></span></li></ul></div>"
   ]
  },
  {
   "cell_type": "markdown",
   "id": "07c5496e",
   "metadata": {
    "lang": "en"
   },
   "source": [
    "### Each student is randomly assigned a topic"
   ]
  },
  {
   "cell_type": "code",
   "execution_count": null,
   "id": "e3f79416",
   "metadata": {},
   "outputs": [],
   "source": []
  },
  {
   "cell_type": "code",
   "execution_count": 15,
   "id": "c900d2bf",
   "metadata": {},
   "outputs": [],
   "source": [
    "# Group 1: [(\"Andres\", \"map\"), (\"dani\", \"filter\"), (\"David\", \"reduce\")]\n",
    "# Group 2: [(\"Andres\", \"map\"), (\"dani\", \"filter\"), (\"David\", \"reduce\")]"
   ]
  },
  {
   "cell_type": "code",
   "execution_count": null,
   "id": "7603a79f",
   "metadata": {},
   "outputs": [],
   "source": []
  },
  {
   "cell_type": "code",
   "execution_count": 18,
   "id": "885d112e",
   "metadata": {},
   "outputs": [],
   "source": [
    "# Group 1: [(\"Andres\", \"map\"), (\"dani\", \"filter\"), (\"David\", \"reduce\")]\n",
    "# Group 2: [(\"Andres\", \"map\"), (\"dani\", \"filter\"), (\"David\", \"reduce\")]"
   ]
  },
  {
   "cell_type": "code",
   "execution_count": null,
   "id": "72d7a3ed",
   "metadata": {},
   "outputs": [],
   "source": []
  },
  {
   "cell_type": "markdown",
   "id": "67ba83fd",
   "metadata": {
    "lang": "en"
   },
   "source": [
    "## Let's start"
   ]
  },
  {
   "cell_type": "markdown",
   "id": "2044e738",
   "metadata": {
    "lang": "en"
   },
   "source": [
    "You have 10 minutes to explore and understand the role you have been assigned on your own. You may find these links useful:\n",
    "\n",
    "- [map, filter, reduce - I](https://medium.com/swlh/higher-order-functions-in-python-map-filter-and-reduce-34299fee1b21)\n",
    "- [map, filter, reduce - II](https://www.learnpython.org/en/Map,_Filter,_Reduce)\n",
    "- [map, filter, reduce - III](https://stackabuse.com/map-filter-and-reduce-in-python-with-examples)"
   ]
  },
  {
   "cell_type": "markdown",
   "id": "1494059b",
   "metadata": {},
   "source": [
    "### Create groups with other people who have studied the same function"
   ]
  },
  {
   "cell_type": "markdown",
   "id": "closing-referral",
   "metadata": {},
   "source": [
    "![otrogif](https://media.giphy.com/media/UatRnEUNX8iCQ/giphy.gif)"
   ]
  },
  {
   "cell_type": "markdown",
   "id": "ad055efd",
   "metadata": {
    "lang": "en"
   },
   "source": [
    "In this part of the game you are assigned to a group in which you are the expert in your role.\n",
    "Each group member has 5 minutes to explain their role to the other team members."
   ]
  },
  {
   "cell_type": "code",
   "execution_count": null,
   "id": "2768c032",
   "metadata": {},
   "outputs": [],
   "source": []
  },
  {
   "cell_type": "markdown",
   "id": "8fd5c1b9",
   "metadata": {
    "lang": "en"
   },
   "source": [
    "## Map, Filter, Reduce"
   ]
  },
  {
   "cell_type": "markdown",
   "id": "55e1da7a",
   "metadata": {
    "lang": "en"
   },
   "source": [
    "There are three functions that will come in very handy when working with iterators. These functions facilitate certain basic and common operations on iterable collections of data, such as removing elements that do not meet a certain condition, calculating a result from the contained data, or applying a transformation to each element. Let's see them with examples of use:"
   ]
  },
  {
   "cell_type": "code",
   "execution_count": 2,
   "id": "32d89a18",
   "metadata": {},
   "outputs": [],
   "source": [
    "from functools import reduce"
   ]
  },
  {
   "cell_type": "code",
   "execution_count": null,
   "id": "0f6e049b",
   "metadata": {},
   "outputs": [],
   "source": [
    "# they recieve: function & iterable"
   ]
  },
  {
   "cell_type": "code",
   "execution_count": null,
   "id": "65e1b95c",
   "metadata": {},
   "outputs": [],
   "source": [
    "# functional programming\n",
    "map()\n",
    "filter()\n",
    "reduce()\n",
    "\n"
   ]
  },
  {
   "cell_type": "markdown",
   "id": "distinct-translator",
   "metadata": {},
   "source": [
    "### Map"
   ]
  },
  {
   "cell_type": "markdown",
   "id": "3bbb0048",
   "metadata": {
    "lang": "en"
   },
   "source": [
    "The map() function takes a function and a list and applies that function to each element in that list, producing a new list.\n",
    "```python\n",
    "map(function_to_apply, list_of_inputs)\n",
    "```"
   ]
  },
  {
   "cell_type": "code",
   "execution_count": 4,
   "id": "faf045a6",
   "metadata": {},
   "outputs": [],
   "source": [
    "lst_ = [\"sdsaf \", \"s.dsdi_\", \"s!d sd \"]"
   ]
  },
  {
   "cell_type": "code",
   "execution_count": 7,
   "id": "cb094083",
   "metadata": {},
   "outputs": [
    {
     "name": "stdout",
     "output_type": "stream",
     "text": [
      "SDSAF\n",
      "S.DSDI_\n",
      "S!DSD\n"
     ]
    }
   ],
   "source": [
    "# never go for data structure\n",
    "# always go for data type\n",
    "\n",
    "x = \"sdsaf \"\n",
    "\n",
    "def upper_whitespaces (x):\n",
    "    return x.upper().strip()\n",
    "\n",
    "for i in lst_:\n",
    "    print(upper_whitespaces(i))"
   ]
  },
  {
   "cell_type": "code",
   "execution_count": 10,
   "id": "ebd04746",
   "metadata": {},
   "outputs": [
    {
     "data": {
      "text/plain": [
       "['SDSAF', 'S.DSDI_', 'S!DSD']"
      ]
     },
     "execution_count": 10,
     "metadata": {},
     "output_type": "execute_result"
    }
   ],
   "source": [
    "result = list(map(upper_whitespaces, lst_))\n",
    "result\n",
    "\n",
    "# map: quicker\n",
    "# avoids the loop"
   ]
  },
  {
   "cell_type": "code",
   "execution_count": 11,
   "id": "287a746e",
   "metadata": {},
   "outputs": [
    {
     "data": {
      "text/plain": [
       "['SDSAF', 'S.DSDI_', 'S!DSD']"
      ]
     },
     "execution_count": 11,
     "metadata": {},
     "output_type": "execute_result"
    }
   ],
   "source": [
    "result = [upper_whitespaces(i) for i in lst_]\n",
    "result"
   ]
  },
  {
   "cell_type": "markdown",
   "id": "6279886e",
   "metadata": {},
   "source": [
    "- function\n",
    "    - does things: combine iterables, it can combine\n",
    "    - it can be one\n",
    "    - tell them what to do\n",
    "    \n",
    "    - like a for loop: takes iterables & functions\n",
    "    - returns a map object\n",
    "    - which you can cast into a list"
   ]
  },
  {
   "cell_type": "markdown",
   "id": "3a2fc244",
   "metadata": {},
   "source": [
    "`goal: square of numbers`"
   ]
  },
  {
   "cell_type": "code",
   "execution_count": 12,
   "id": "b609b290",
   "metadata": {},
   "outputs": [],
   "source": [
    "nums = [567, 45 ,45 ,56 , 4]"
   ]
  },
  {
   "cell_type": "code",
   "execution_count": null,
   "id": "b4afa5af",
   "metadata": {},
   "outputs": [],
   "source": [
    "# 1. Loop\n",
    "# 2. Function\n",
    "# 3. Comprehension list & funcion\n",
    "# 4. map"
   ]
  },
  {
   "cell_type": "code",
   "execution_count": 13,
   "id": "574c464f",
   "metadata": {},
   "outputs": [
    {
     "data": {
      "text/plain": [
       "[321489, 2025, 2025, 3136, 16]"
      ]
     },
     "execution_count": 13,
     "metadata": {},
     "output_type": "execute_result"
    }
   ],
   "source": [
    "# 1. Loop\n",
    "\n",
    "new_list = []\n",
    "for i in nums:\n",
    "    new_list.append(i**2)\n",
    "new_list"
   ]
  },
  {
   "cell_type": "code",
   "execution_count": 14,
   "id": "4929d239",
   "metadata": {},
   "outputs": [],
   "source": [
    "# 2. Function\n",
    "\n",
    "def squares (x):\n",
    "    return x ** 2"
   ]
  },
  {
   "cell_type": "code",
   "execution_count": 15,
   "id": "89f69a5d",
   "metadata": {},
   "outputs": [
    {
     "name": "stdout",
     "output_type": "stream",
     "text": [
      "321489\n",
      "2025\n",
      "2025\n",
      "3136\n",
      "16\n"
     ]
    }
   ],
   "source": [
    "# 3. Loop & function\n",
    "for i in nums:\n",
    "    print(squares(i))"
   ]
  },
  {
   "cell_type": "code",
   "execution_count": 23,
   "id": "84c7096a",
   "metadata": {},
   "outputs": [
    {
     "data": {
      "text/plain": [
       "[321489, 2025, 2025, 3136, 16]"
      ]
     },
     "execution_count": 23,
     "metadata": {},
     "output_type": "execute_result"
    }
   ],
   "source": [
    "# 4. Map\n",
    "\n",
    "result = list(map(squares, nums))\n",
    "result"
   ]
  },
  {
   "cell_type": "code",
   "execution_count": 26,
   "id": "ef762dad",
   "metadata": {},
   "outputs": [],
   "source": [
    "result = list(map(squares, nums))\n",
    "result = list(map(lambda x: x **2, nums))"
   ]
  },
  {
   "cell_type": "code",
   "execution_count": 27,
   "id": "d66bdcb2",
   "metadata": {},
   "outputs": [
    {
     "data": {
      "text/plain": [
       "[321489, 2025, 2025, 3136, 16]"
      ]
     },
     "execution_count": 27,
     "metadata": {},
     "output_type": "execute_result"
    }
   ],
   "source": [
    "result"
   ]
  },
  {
   "cell_type": "markdown",
   "id": "848ef234",
   "metadata": {
    "lang": "en"
   },
   "source": [
    "#### First we do it with functions"
   ]
  },
  {
   "cell_type": "code",
   "execution_count": null,
   "id": "faca82e0",
   "metadata": {},
   "outputs": [],
   "source": []
  },
  {
   "cell_type": "markdown",
   "id": "209cfe9b",
   "metadata": {
    "lang": "en"
   },
   "source": [
    "The map function returns an iterator, so we have to use `list(map_iterator)`"
   ]
  },
  {
   "cell_type": "code",
   "execution_count": null,
   "id": "c438a51a",
   "metadata": {
    "scrolled": true
   },
   "outputs": [],
   "source": []
  },
  {
   "cell_type": "markdown",
   "id": "7ac78fc9",
   "metadata": {
    "lang": "en"
   },
   "source": [
    "#### Extra: Do it with lambda!"
   ]
  },
  {
   "cell_type": "code",
   "execution_count": 24,
   "id": "445874f9",
   "metadata": {},
   "outputs": [
    {
     "data": {
      "text/plain": [
       "[321489, 2025, 2025, 3136, 16]"
      ]
     },
     "execution_count": 24,
     "metadata": {},
     "output_type": "execute_result"
    }
   ],
   "source": [
    "# 4. Map\n",
    "\n",
    "result = list(map(squares, nums))\n",
    "result"
   ]
  },
  {
   "cell_type": "code",
   "execution_count": 25,
   "id": "162d9f90",
   "metadata": {},
   "outputs": [
    {
     "data": {
      "text/plain": [
       "[321489, 2025, 2025, 3136, 16]"
      ]
     },
     "execution_count": 25,
     "metadata": {},
     "output_type": "execute_result"
    }
   ],
   "source": [
    "result = list(map(lambda x: x**2, nums))\n",
    "result"
   ]
  },
  {
   "cell_type": "markdown",
   "id": "connected-found",
   "metadata": {},
   "source": [
    "### Filter"
   ]
  },
  {
   "cell_type": "markdown",
   "id": "b0fd2478",
   "metadata": {
    "lang": "en"
   },
   "source": [
    "The filter() function filters a list of items for which a function returns True.\n",
    "```python\n",
    "filter(a_function, a_list)\n",
    "```"
   ]
  },
  {
   "cell_type": "markdown",
   "id": "3ac537c7",
   "metadata": {
    "lang": "en"
   },
   "source": [
    "Imagine you want to filter a list of numbers to get only even values."
   ]
  },
  {
   "cell_type": "code",
   "execution_count": null,
   "id": "7f29f2ba",
   "metadata": {},
   "outputs": [],
   "source": [
    "# filter\n",
    "    # function and iterable\n",
    "    # function: true / false\n",
    "    # narrows down the iterable\n",
    "    # returns an object"
   ]
  },
  {
   "cell_type": "code",
   "execution_count": 28,
   "id": "c6cf8791",
   "metadata": {},
   "outputs": [],
   "source": [
    "# map\n",
    "# filter\n",
    "# reduce"
   ]
  },
  {
   "cell_type": "code",
   "execution_count": null,
   "id": "dccb506f",
   "metadata": {},
   "outputs": [],
   "source": [
    "filter (function, iterable)\n",
    "# function should return a boolean"
   ]
  },
  {
   "cell_type": "code",
   "execution_count": null,
   "id": "40bd2529",
   "metadata": {},
   "outputs": [],
   "source": [
    "def even_numbers (n): #data type, not data structure\n",
    "    # incomplete\n",
    "    if n % 2 == 0:\n",
    "        return True"
   ]
  },
  {
   "cell_type": "code",
   "execution_count": null,
   "id": "7fe4c954",
   "metadata": {},
   "outputs": [],
   "source": [
    "def even_numbers (n): #data type, not data structure\n",
    "    \n",
    "    if n % 2 == 0:\n",
    "        return True\n",
    "    else:\n",
    "        return False"
   ]
  },
  {
   "cell_type": "code",
   "execution_count": 29,
   "id": "89b6cab8",
   "metadata": {},
   "outputs": [],
   "source": [
    "def even_numbers (n): #data type, not data structure\n",
    "    \n",
    "    if n % 2 == 0:\n",
    "        return True\n",
    "    \n",
    "    return False"
   ]
  },
  {
   "cell_type": "code",
   "execution_count": 31,
   "id": "6f93e1f6",
   "metadata": {},
   "outputs": [
    {
     "data": {
      "text/plain": [
       "[567, 45, 45, 56, 4]"
      ]
     },
     "execution_count": 31,
     "metadata": {},
     "output_type": "execute_result"
    }
   ],
   "source": [
    "nums"
   ]
  },
  {
   "cell_type": "code",
   "execution_count": 32,
   "id": "effa24d9",
   "metadata": {},
   "outputs": [
    {
     "data": {
      "text/plain": [
       "<filter at 0x7fe243a34ee0>"
      ]
     },
     "execution_count": 32,
     "metadata": {},
     "output_type": "execute_result"
    }
   ],
   "source": [
    "filter (even_numbers, nums)"
   ]
  },
  {
   "cell_type": "code",
   "execution_count": 33,
   "id": "b018d0f2",
   "metadata": {},
   "outputs": [
    {
     "data": {
      "text/plain": [
       "[56, 4]"
      ]
     },
     "execution_count": 33,
     "metadata": {},
     "output_type": "execute_result"
    }
   ],
   "source": [
    "list(filter (even_numbers, nums)) # filtering by funct that returns True"
   ]
  },
  {
   "cell_type": "code",
   "execution_count": 34,
   "id": "d4cbd4ad",
   "metadata": {},
   "outputs": [
    {
     "data": {
      "text/plain": [
       "True"
      ]
     },
     "execution_count": 34,
     "metadata": {},
     "output_type": "execute_result"
    }
   ],
   "source": [
    "even_numbers(2)"
   ]
  },
  {
   "cell_type": "code",
   "execution_count": 35,
   "id": "a4c6351d",
   "metadata": {},
   "outputs": [
    {
     "data": {
      "text/plain": [
       "[False, False, False, True, True]"
      ]
     },
     "execution_count": 35,
     "metadata": {},
     "output_type": "execute_result"
    }
   ],
   "source": [
    "list(map(even_numbers, nums))"
   ]
  },
  {
   "cell_type": "code",
   "execution_count": 19,
   "id": "3d3129d4",
   "metadata": {},
   "outputs": [],
   "source": [
    "#filter_experts"
   ]
  },
  {
   "cell_type": "code",
   "execution_count": null,
   "id": "3bf2eae1",
   "metadata": {},
   "outputs": [],
   "source": [
    "# map: object modified\n",
    "# filter: gives you the ELEMENT (if condition is met)"
   ]
  },
  {
   "cell_type": "code",
   "execution_count": 36,
   "id": "4347ab59",
   "metadata": {},
   "outputs": [],
   "source": [
    "grades = [65, 71, 100, 98, 20, 35, 60] # 70/100"
   ]
  },
  {
   "cell_type": "code",
   "execution_count": 37,
   "id": "3b7c6d33",
   "metadata": {},
   "outputs": [
    {
     "data": {
      "text/plain": [
       "[65, 71, 100, 98, 20, 35, 60]"
      ]
     },
     "execution_count": 37,
     "metadata": {},
     "output_type": "execute_result"
    }
   ],
   "source": [
    "grades"
   ]
  },
  {
   "cell_type": "code",
   "execution_count": 38,
   "id": "61ac147b",
   "metadata": {},
   "outputs": [],
   "source": [
    "def passing (grade):\n",
    "    if grade >= 70:\n",
    "        return True\n",
    "    return False"
   ]
  },
  {
   "cell_type": "code",
   "execution_count": 45,
   "id": "8a0776d9",
   "metadata": {},
   "outputs": [
    {
     "data": {
      "text/plain": [
       "True"
      ]
     },
     "execution_count": 45,
     "metadata": {},
     "output_type": "execute_result"
    }
   ],
   "source": [
    "passing (80)"
   ]
  },
  {
   "cell_type": "code",
   "execution_count": 48,
   "id": "24bf415c",
   "metadata": {},
   "outputs": [
    {
     "data": {
      "text/plain": [
       "[False, True, True, True, False, False, False]"
      ]
     },
     "execution_count": 48,
     "metadata": {},
     "output_type": "execute_result"
    }
   ],
   "source": [
    "list(map(passing, grades))"
   ]
  },
  {
   "cell_type": "code",
   "execution_count": null,
   "id": "e01a2d6e",
   "metadata": {},
   "outputs": [],
   "source": [
    "# [71, 100, 98]"
   ]
  },
  {
   "cell_type": "code",
   "execution_count": 41,
   "id": "4df42ff7",
   "metadata": {},
   "outputs": [
    {
     "data": {
      "text/plain": [
       "[71, 100, 98]"
      ]
     },
     "execution_count": 41,
     "metadata": {},
     "output_type": "execute_result"
    }
   ],
   "source": [
    "passing_grades = list(filter(passing, grades))\n",
    "passing_grades\n",
    "\n",
    "# narrow things down: filter"
   ]
  },
  {
   "cell_type": "code",
   "execution_count": null,
   "id": "17929afd",
   "metadata": {},
   "outputs": [],
   "source": [
    "# map -> loop\n",
    "    # apply aaany given function\n",
    "    # to aaany iterable\n",
    "    \n",
    "# filter -> narrow iterables down\n",
    "    # based on a condition\n",
    "        # condition is within a function\n"
   ]
  },
  {
   "cell_type": "code",
   "execution_count": 49,
   "id": "bd1d17e2",
   "metadata": {},
   "outputs": [],
   "source": [
    "def check_if_number_starts_with_plus (phone_number):\n",
    "    if phone_number.startswith(\"+\"):\n",
    "        return True\n",
    "    return False"
   ]
  },
  {
   "cell_type": "code",
   "execution_count": 50,
   "id": "d7314d9f",
   "metadata": {},
   "outputs": [
    {
     "data": {
      "text/plain": [
       "['+456789', '+9876']"
      ]
     },
     "execution_count": 50,
     "metadata": {},
     "output_type": "execute_result"
    }
   ],
   "source": [
    "result = list(filter(check_if_number_starts_with_plus, [\"+456789\", \"9876\", \"+9876\"]))\n",
    "result"
   ]
  },
  {
   "cell_type": "code",
   "execution_count": 52,
   "id": "26fc8b00",
   "metadata": {},
   "outputs": [],
   "source": [
    "def replaces_plus (phone_number): #  [\"456789\", \"+(98)76\", \"9876\"]\n",
    "    return phone_number.replace(\"+\", \"\").replace(\"(\", \"\").replace(\")\", \"\")"
   ]
  },
  {
   "cell_type": "code",
   "execution_count": 55,
   "id": "fc18997d",
   "metadata": {},
   "outputs": [
    {
     "data": {
      "text/plain": [
       "['456789', '9876', '9876']"
      ]
     },
     "execution_count": 55,
     "metadata": {},
     "output_type": "execute_result"
    }
   ],
   "source": [
    "result = list(map(replaces_plus,[\"+45(6)789\", \"9876\", \"+(98)76\"] ))\n",
    "result"
   ]
  },
  {
   "cell_type": "markdown",
   "id": "1df16233",
   "metadata": {
    "lang": "en"
   },
   "source": [
    "#### First we do it with functions"
   ]
  },
  {
   "cell_type": "code",
   "execution_count": null,
   "id": "630ee78a",
   "metadata": {},
   "outputs": [],
   "source": []
  },
  {
   "cell_type": "markdown",
   "id": "24d5f21b",
   "metadata": {
    "lang": "en"
   },
   "source": [
    "Imagine that you want to filter a list and keep only the groups that start with the letter R"
   ]
  },
  {
   "cell_type": "code",
   "execution_count": null,
   "id": "7ce695c1",
   "metadata": {},
   "outputs": [],
   "source": []
  },
  {
   "cell_type": "markdown",
   "id": "498aae32",
   "metadata": {
    "lang": "en"
   },
   "source": [
    "#### Extra: Do it with lambda!"
   ]
  },
  {
   "cell_type": "code",
   "execution_count": 56,
   "id": "1b9871e6",
   "metadata": {},
   "outputs": [],
   "source": [
    "grades = [65, 71, 100, 98, 20, 35, 60] # 70/100"
   ]
  },
  {
   "cell_type": "code",
   "execution_count": 58,
   "id": "0ce29fba",
   "metadata": {},
   "outputs": [
    {
     "data": {
      "text/plain": [
       "[71, 100, 98]"
      ]
     },
     "execution_count": 58,
     "metadata": {},
     "output_type": "execute_result"
    }
   ],
   "source": [
    "passing_grades = list(filter(lambda x: True if x >= 70 else False,grades))\n",
    "passing_grades"
   ]
  },
  {
   "cell_type": "code",
   "execution_count": 60,
   "id": "3a92f49d",
   "metadata": {},
   "outputs": [
    {
     "data": {
      "text/plain": [
       "[71, 100, 98]"
      ]
     },
     "execution_count": 60,
     "metadata": {},
     "output_type": "execute_result"
    }
   ],
   "source": [
    "passing_grades = list(filter(lambda niko: niko >= 70, grades))\n",
    "passing_grades"
   ]
  },
  {
   "cell_type": "code",
   "execution_count": 61,
   "id": "7b86f015",
   "metadata": {},
   "outputs": [],
   "source": [
    "list_of_names = [\"antonio\", \"Pol\", \"monica\", \"Guille\", \"eloi\", \"Leo\"]"
   ]
  },
  {
   "cell_type": "code",
   "execution_count": null,
   "id": "a0e922eb",
   "metadata": {},
   "outputs": [],
   "source": [
    "# 1. only capitalize: filter (funct: true / false)\n",
    "# 2. keep all, but make them capitalize: map"
   ]
  },
  {
   "cell_type": "code",
   "execution_count": 73,
   "id": "30ff3f86",
   "metadata": {},
   "outputs": [
    {
     "data": {
      "text/plain": [
       "False"
      ]
     },
     "execution_count": 73,
     "metadata": {},
     "output_type": "execute_result"
    }
   ],
   "source": [
    "def filter_capitalize (one_name): # 1. checks\n",
    "    if one_name[0].isupper():\n",
    "        return True\n",
    "    return False\n",
    "\n",
    "filter_capitalize(\"guille\")"
   ]
  },
  {
   "cell_type": "code",
   "execution_count": 65,
   "id": "235670b6",
   "metadata": {},
   "outputs": [
    {
     "data": {
      "text/plain": [
       "['Pol', 'Guille', 'Leo']"
      ]
     },
     "execution_count": 65,
     "metadata": {},
     "output_type": "execute_result"
    }
   ],
   "source": [
    "filtered_result = list(filter(filter_capitalize, list_of_names))\n",
    "filtered_result"
   ]
  },
  {
   "cell_type": "code",
   "execution_count": 74,
   "id": "a2bf7e0a",
   "metadata": {},
   "outputs": [
    {
     "data": {
      "text/plain": [
       "'Antonio'"
      ]
     },
     "execution_count": 74,
     "metadata": {},
     "output_type": "execute_result"
    }
   ],
   "source": [
    "def capitalize_string (one_name): # 2. modifies\n",
    "    return one_name.capitalize()\n",
    "\n",
    "capitalize_string(\"antonio\")"
   ]
  },
  {
   "cell_type": "code",
   "execution_count": 75,
   "id": "09af0aff",
   "metadata": {},
   "outputs": [
    {
     "data": {
      "text/plain": [
       "['Antonio', 'Pol', 'Monica', 'Guille', 'Eloi', 'Leo']"
      ]
     },
     "execution_count": 75,
     "metadata": {},
     "output_type": "execute_result"
    }
   ],
   "source": [
    "mapped_names = list(map(capitalize_string, list_of_names))\n",
    "mapped_names"
   ]
  },
  {
   "cell_type": "markdown",
   "id": "9b923a35",
   "metadata": {
    "lang": "en"
   },
   "source": [
    "### Reduce"
   ]
  },
  {
   "cell_type": "markdown",
   "id": "5e2eb96a",
   "metadata": {
    "lang": "en"
   },
   "source": [
    "This function is not a built-in function, which means you must first import the functools library for use. The reduce() function cumulatively applies the f() function to the elements of the iterable. The accumulator can be initialized with an optional third argument. The result is the final value of the accumulator.\n",
    "\n",
    "```python\n",
    "reduce(function, iterable[, initial])\n",
    "```"
   ]
  },
  {
   "cell_type": "code",
   "execution_count": null,
   "id": "c731b8db",
   "metadata": {},
   "outputs": [],
   "source": [
    "#random.choice(reduce_experts)"
   ]
  },
  {
   "cell_type": "code",
   "execution_count": 76,
   "id": "408b7fe6",
   "metadata": {},
   "outputs": [],
   "source": [
    "from functools import reduce "
   ]
  },
  {
   "cell_type": "code",
   "execution_count": 77,
   "id": "ee3973d6",
   "metadata": {},
   "outputs": [],
   "source": [
    "nums = [1, 104, 3, 1, 4]"
   ]
  },
  {
   "cell_type": "code",
   "execution_count": 89,
   "id": "7f2eb12c",
   "metadata": {},
   "outputs": [],
   "source": [
    "def addition (a, b):\n",
    "    print(f\"a is {a}, b is {b}. Result is: {a+b}\")\n",
    "    return a + b"
   ]
  },
  {
   "cell_type": "code",
   "execution_count": 90,
   "id": "49959c33",
   "metadata": {},
   "outputs": [
    {
     "name": "stdout",
     "output_type": "stream",
     "text": [
      "a is 1, b is 104. Result is: 105\n"
     ]
    },
    {
     "data": {
      "text/plain": [
       "105"
      ]
     },
     "execution_count": 90,
     "metadata": {},
     "output_type": "execute_result"
    }
   ],
   "source": [
    "addition (1, 104)"
   ]
  },
  {
   "cell_type": "code",
   "execution_count": 93,
   "id": "87e055c1",
   "metadata": {},
   "outputs": [
    {
     "name": "stdout",
     "output_type": "stream",
     "text": [
      "a is 500, b is 1. Result is: 501\n",
      "a is 501, b is 104. Result is: 605\n",
      "a is 605, b is 3. Result is: 608\n",
      "a is 608, b is 1. Result is: 609\n",
      "a is 609, b is 4. Result is: 613\n"
     ]
    },
    {
     "data": {
      "text/plain": [
       "613"
      ]
     },
     "execution_count": 93,
     "metadata": {},
     "output_type": "execute_result"
    }
   ],
   "source": [
    "result = reduce(addition, nums, 500) # initial: Starting point\n",
    "result"
   ]
  },
  {
   "cell_type": "code",
   "execution_count": null,
   "id": "91378335",
   "metadata": {},
   "outputs": [],
   "source": [
    "# map -> all the values\n",
    "# filter -> only some values\n",
    "# reduce -> ONE value"
   ]
  },
  {
   "cell_type": "code",
   "execution_count": 86,
   "id": "b9c6c3e8",
   "metadata": {},
   "outputs": [
    {
     "data": {
      "text/plain": [
       "'Initial value: hello my name is'"
      ]
     },
     "execution_count": 86,
     "metadata": {},
     "output_type": "execute_result"
    }
   ],
   "source": [
    "list_of_strings = [\"hello\", \"my\", \"name\", \"is\"]\n",
    "\n",
    "def addition (a, b):\n",
    "    return a + \" \" + b\n",
    "\n",
    "sentence = reduce(addition, list_of_strings, \"Initial value:\")\n",
    "sentence"
   ]
  },
  {
   "cell_type": "code",
   "execution_count": null,
   "id": "a5ffa3ae",
   "metadata": {},
   "outputs": [],
   "source": [
    "# reduce \n",
    "from functools import reduce"
   ]
  },
  {
   "cell_type": "markdown",
   "id": "54940f3b",
   "metadata": {},
   "source": [
    "- one final VALUE\n",
    "- two arguments:\n",
    "    - 1st: function\n",
    "    - 2nd: looped object\n",
    "    - needs to be imported\n",
    "    - flow:\n",
    "        - first item: apply function -> one value\n",
    "        - one value: apply function -> another value\n",
    "        - another value: apply function -> last result\n",
    "        - return last result\n",
    "    - optional argument: initial: first value you want to begin with\n",
    "    "
   ]
  },
  {
   "cell_type": "code",
   "execution_count": null,
   "id": "5600b022",
   "metadata": {},
   "outputs": [],
   "source": []
  },
  {
   "cell_type": "markdown",
   "id": "be41def2",
   "metadata": {
    "lang": "en"
   },
   "source": [
    "⚠️ Reduce is a bit more complicated to understand than map() and filter() so let's walk through the following example ⚠️"
   ]
  },
  {
   "cell_type": "code",
   "execution_count": null,
   "id": "52fcf783",
   "metadata": {},
   "outputs": [],
   "source": []
  },
  {
   "cell_type": "markdown",
   "id": "9bcc559e",
   "metadata": {
    "lang": "en"
   },
   "source": [
    "#### What happened?\n",
    "- We start with a list [2, 4, 7, 3] and pass the function add (x, y) to reduce ( ) along with this list, without an initial value\n",
    "\n",
    "- reduce() calls add(2, 4), and add() returns 6\n",
    "\n",
    "- reduce() calls sum(6, 7) (result of the previous call to sum() and the next element in the list as parameters), and sum() returns 13\n",
    "\n",
    "- reduce() calls sum(13, 3), and sum() returns 16\n",
    "\n",
    "Since there are no more elements left in the sequence, reduce() returns 16"
   ]
  },
  {
   "cell_type": "markdown",
   "id": "04ecdfe8",
   "metadata": {
    "lang": "en"
   },
   "source": [
    "Factorial:\n",
    "Amount that results from the multiplication of a certain natural number by all the natural numbers that precede it, excluding zero; is represented by n!"
   ]
  },
  {
   "cell_type": "markdown",
   "id": "0334080d",
   "metadata": {
    "lang": "en"
   },
   "source": [
    "### First we do it with functions"
   ]
  },
  {
   "cell_type": "code",
   "execution_count": null,
   "id": "electrical-knitting",
   "metadata": {},
   "outputs": [],
   "source": []
  },
  {
   "cell_type": "markdown",
   "id": "d678c6ca",
   "metadata": {
    "lang": "en"
   },
   "source": [
    "### Bonus: Do it with lambda!"
   ]
  },
  {
   "cell_type": "code",
   "execution_count": null,
   "id": "72c750b8",
   "metadata": {},
   "outputs": [],
   "source": []
  },
  {
   "cell_type": "markdown",
   "id": "69ae8c39",
   "metadata": {
    "lang": "en"
   },
   "source": [
    "## Summary"
   ]
  },
  {
   "cell_type": "code",
   "execution_count": null,
   "id": "73bd382a",
   "metadata": {},
   "outputs": [],
   "source": [
    "# lambdas\n",
    "# user defined functions"
   ]
  },
  {
   "cell_type": "code",
   "execution_count": 113,
   "id": "5bed426c",
   "metadata": {},
   "outputs": [],
   "source": [
    "dict_ = {\"name\": \"albert\", \"city\": \"mataró\", \"age\":20}"
   ]
  },
  {
   "cell_type": "code",
   "execution_count": 110,
   "id": "00d72447",
   "metadata": {},
   "outputs": [],
   "source": [
    "def turns_keys_upper(x):\n",
    "    # x = (\"name\", \"albert\")\n",
    "    return x[0].upper(), x[1].lower()"
   ]
  },
  {
   "cell_type": "code",
   "execution_count": 111,
   "id": "448bd292",
   "metadata": {},
   "outputs": [
    {
     "data": {
      "text/plain": [
       "{'NAME': 'albert', 'CITY': 'mataró', 'AGE': '30'}"
      ]
     },
     "execution_count": 111,
     "metadata": {},
     "output_type": "execute_result"
    }
   ],
   "source": [
    "result = dict(map(turns_keys_upper, dict_.items()))\n",
    "result"
   ]
  },
  {
   "cell_type": "code",
   "execution_count": 115,
   "id": "2ff9b284",
   "metadata": {},
   "outputs": [],
   "source": [
    "def turns_keys_upper(x):\n",
    "    if type(x[1])== int:\n",
    "        return False\n",
    "    return True"
   ]
  },
  {
   "cell_type": "code",
   "execution_count": 119,
   "id": "3ed99802",
   "metadata": {},
   "outputs": [
    {
     "data": {
      "text/plain": [
       "{'name': 'albert', 'city': 'mataró'}"
      ]
     },
     "execution_count": 119,
     "metadata": {},
     "output_type": "execute_result"
    }
   ],
   "source": [
    "result = dict(filter(turns_keys_upper, dict_.items()))\n",
    "result # filtering: leaving out the pairs where the values are not ints"
   ]
  },
  {
   "cell_type": "code",
   "execution_count": 112,
   "id": "0c8c01ab",
   "metadata": {},
   "outputs": [
    {
     "data": {
      "text/plain": [
       "{'name': 'albert', 'city': 'mataró', 'age': '30'}"
      ]
     },
     "execution_count": 112,
     "metadata": {},
     "output_type": "execute_result"
    }
   ],
   "source": [
    "\"\"\"for i in dict_.keys():\n",
    "    i = i.upper()\n",
    "    \n",
    "dict_\"\"\""
   ]
  },
  {
   "cell_type": "code",
   "execution_count": 120,
   "id": "57885486",
   "metadata": {},
   "outputs": [],
   "source": [
    "# 1. write a function: data types (one element), not the whole data structure\n",
    "# 2. apply the function\n",
    "    # 2.1. On a loop\n",
    "    # 2.2. map, filter, reduce"
   ]
  },
  {
   "cell_type": "markdown",
   "id": "jewish-configuration",
   "metadata": {},
   "source": [
    "## Further materials\n",
    "http://web.mit.edu/6.005/www/sp16/classes/25-map-filter-reduce/    \n"
   ]
  },
  {
   "cell_type": "code",
   "execution_count": null,
   "id": "fb004b58",
   "metadata": {},
   "outputs": [],
   "source": []
  }
 ],
 "metadata": {
  "kernelspec": {
   "display_name": "ironhack",
   "language": "python",
   "name": "ironhack"
  },
  "language_info": {
   "codemirror_mode": {
    "name": "ipython",
    "version": 3
   },
   "file_extension": ".py",
   "mimetype": "text/x-python",
   "name": "python",
   "nbconvert_exporter": "python",
   "pygments_lexer": "ipython3",
   "version": "3.9.12"
  },
  "nbTranslate": {
   "displayLangs": [
    "en",
    "es"
   ],
   "hotkey": "alt-a",
   "langInMainMenu": true,
   "sourceLang": "es",
   "targetLang": "en",
   "useGoogleTranslate": true
  },
  "toc": {
   "base_numbering": 1,
   "nav_menu": {},
   "number_sections": true,
   "sideBar": true,
   "skip_h1_title": true,
   "title_cell": "Table of Contents",
   "title_sidebar": "Contents",
   "toc_cell": true,
   "toc_position": {
    "height": "calc(100% - 180px)",
    "left": "10px",
    "top": "150px",
    "width": "266px"
   },
   "toc_section_display": true,
   "toc_window_display": false
  }
 },
 "nbformat": 4,
 "nbformat_minor": 5
}
