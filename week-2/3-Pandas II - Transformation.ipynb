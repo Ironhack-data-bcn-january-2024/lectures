{
 "cells": [
  {
   "cell_type": "markdown",
   "id": "9b243b09",
   "metadata": {
    "toc": true
   },
   "source": [
    "<h1>Table of Contents<span class=\"tocSkip\"></span></h1>\n",
    "<div class=\"toc\"><ul class=\"toc-item\"><li><span><a href=\"#Basic-operations-with-dataframes\" data-toc-modified-id=\"Basic-operations-with-dataframes-1\"><span class=\"toc-item-num\">1&nbsp;&nbsp;</span>Basic operations with dataframes</a></span><ul class=\"toc-item\"><li><span><a href=\"#Select:-column\" data-toc-modified-id=\"Select:-column-1.1\"><span class=\"toc-item-num\">1.1&nbsp;&nbsp;</span>Select: column</a></span></li><li><span><a href=\"#Select:-subset\" data-toc-modified-id=\"Select:-subset-1.2\"><span class=\"toc-item-num\">1.2&nbsp;&nbsp;</span>Select: subset</a></span></li><li><span><a href=\"#Get-the-unique-values-​​of-a-column\" data-toc-modified-id=\"Get-the-unique-values-​​of-a-column-1.3\"><span class=\"toc-item-num\">1.3&nbsp;&nbsp;</span>Get the unique values ​​of a column</a></span></li></ul></li><li><span><a href=\"#Filtering\" data-toc-modified-id=\"Filtering-2\"><span class=\"toc-item-num\">2&nbsp;&nbsp;</span>Filtering</a></span><ul class=\"toc-item\"><li><span><a href=\"#by-the-value-of-the-columns\" data-toc-modified-id=\"by-the-value-of-the-columns-2.1\"><span class=\"toc-item-num\">2.1&nbsp;&nbsp;</span>by the value of the columns</a></span></li><li><span><a href=\"#df.loc-&amp;-df.iloc\" data-toc-modified-id=\"df.loc-&amp;-df.iloc-2.2\"><span class=\"toc-item-num\">2.2&nbsp;&nbsp;</span>df.loc &amp; df.iloc</a></span><ul class=\"toc-item\"><li><span><a href=\"#Based-on-label:-loc\" data-toc-modified-id=\"Based-on-label:-loc-2.2.1\"><span class=\"toc-item-num\">2.2.1&nbsp;&nbsp;</span>Based on label: <code>loc</code></a></span></li><li><span><a href=\"#Based-on-index:--iloc\" data-toc-modified-id=\"Based-on-index:--iloc-2.2.2\"><span class=\"toc-item-num\">2.2.2&nbsp;&nbsp;</span>Based on index:  <code>iloc</code></a></span></li></ul></li><li><span><a href=\"#Rename-columns\" data-toc-modified-id=\"Rename-columns-2.3\"><span class=\"toc-item-num\">2.3&nbsp;&nbsp;</span>Rename columns</a></span><ul class=\"toc-item\"><li><span><a href=\"#Rename-columns\" data-toc-modified-id=\"Rename-columns-2.3.1\"><span class=\"toc-item-num\">2.3.1&nbsp;&nbsp;</span>Rename columns</a></span></li></ul></li><li><span><a href=\"#Change-the-data-type-of-a-column\" data-toc-modified-id=\"Change-the-data-type-of-a-column-2.4\"><span class=\"toc-item-num\">2.4&nbsp;&nbsp;</span>Change the data type of a column</a></span></li><li><span><a href=\"#Copy-a-dataframe\" data-toc-modified-id=\"Copy-a-dataframe-2.5\"><span class=\"toc-item-num\">2.5&nbsp;&nbsp;</span>Copy a dataframe</a></span></li></ul></li><li><span><a href=\"#deleting\" data-toc-modified-id=\"deleting-3\"><span class=\"toc-item-num\">3&nbsp;&nbsp;</span>deleting</a></span><ul class=\"toc-item\"><li><span><a href=\"#delete-columns\" data-toc-modified-id=\"delete-columns-3.1\"><span class=\"toc-item-num\">3.1&nbsp;&nbsp;</span>delete columns</a></span></li><li><span><a href=\"#delete-rows\" data-toc-modified-id=\"delete-rows-3.2\"><span class=\"toc-item-num\">3.2&nbsp;&nbsp;</span>delete rows</a></span></li></ul></li><li><span><a href=\"#working-with-the-index\" data-toc-modified-id=\"working-with-the-index-4\"><span class=\"toc-item-num\">4&nbsp;&nbsp;</span>working with the index</a></span></li><li><span><a href=\"#Operations-between-columns\" data-toc-modified-id=\"Operations-between-columns-5\"><span class=\"toc-item-num\">5&nbsp;&nbsp;</span>Operations between columns</a></span><ul class=\"toc-item\"><li><span><a href=\"#creating-columns\" data-toc-modified-id=\"creating-columns-5.1\"><span class=\"toc-item-num\">5.1&nbsp;&nbsp;</span>creating columns</a></span></li><li><span><a href=\"#apply:-mapping-a-function-to-columns-/-rows\" data-toc-modified-id=\"apply:-mapping-a-function-to-columns-/-rows-5.2\"><span class=\"toc-item-num\">5.2&nbsp;&nbsp;</span>apply: mapping a function to columns / rows</a></span></li></ul></li><li><span><a href=\"#Deleting-the-duplicates\" data-toc-modified-id=\"Deleting-the-duplicates-6\"><span class=\"toc-item-num\">6&nbsp;&nbsp;</span>Deleting the duplicates</a></span></li><li><span><a href=\"#Null-values\" data-toc-modified-id=\"Null-values-7\"><span class=\"toc-item-num\">7&nbsp;&nbsp;</span>Null values</a></span><ul class=\"toc-item\"><li><ul class=\"toc-item\"><li><span><a href=\"#It-is-null?\" data-toc-modified-id=\"It-is-null?-7.0.1\"><span class=\"toc-item-num\">7.0.1&nbsp;&nbsp;</span>It is null?</a></span></li><li><span><a href=\"#Is-NOT-null?\" data-toc-modified-id=\"Is-NOT-null?-7.0.2\"><span class=\"toc-item-num\">7.0.2&nbsp;&nbsp;</span>Is NOT null?</a></span></li><li><span><a href=\"#Sum-the-null-values-​​of-each-column\" data-toc-modified-id=\"Sum-the-null-values-​​of-each-column-7.0.3\"><span class=\"toc-item-num\">7.0.3&nbsp;&nbsp;</span>Sum the null values ​​of each column</a></span></li></ul></li><li><span><a href=\"#delete-null-values\" data-toc-modified-id=\"delete-null-values-7.1\"><span class=\"toc-item-num\">7.1&nbsp;&nbsp;</span>delete null values</a></span></li><li><span><a href=\"#How-to-fill-in-the-missing-data\" data-toc-modified-id=\"How-to-fill-in-the-missing-data-7.2\"><span class=\"toc-item-num\">7.2&nbsp;&nbsp;</span>How to fill in the missing data</a></span></li></ul></li><li><span><a href=\"#Export-data\" data-toc-modified-id=\"Export-data-8\"><span class=\"toc-item-num\">8&nbsp;&nbsp;</span>Export data</a></span></li><li><span><a href=\"#Pandas-usual-methods\" data-toc-modified-id=\"Pandas-usual-methods-9\"><span class=\"toc-item-num\">9&nbsp;&nbsp;</span>Pandas usual methods</a></span></li><li><span><a href=\"#Further-materials\" data-toc-modified-id=\"Further-materials-10\"><span class=\"toc-item-num\">10&nbsp;&nbsp;</span>Further materials</a></span></li></ul></div>"
   ]
  },
  {
   "cell_type": "markdown",
   "id": "97844b55",
   "metadata": {},
   "source": [
    "![](https://files.realpython.com/media/How-to-Speed-Up-Your-Pandas-Projects_Watermarked.87866cfe1bc2.jpg)"
   ]
  },
  {
   "cell_type": "code",
   "execution_count": 2,
   "id": "9cebc4c4",
   "metadata": {},
   "outputs": [],
   "source": [
    "import pandas as pd\n",
    "import numpy as np"
   ]
  },
  {
   "cell_type": "markdown",
   "id": "ac26b6d0",
   "metadata": {
    "lang": "en"
   },
   "source": [
    "## Basic operations with dataframes"
   ]
  },
  {
   "cell_type": "markdown",
   "id": "c110b361",
   "metadata": {
    "lang": "en"
   },
   "source": [
    "### Select: column"
   ]
  },
  {
   "cell_type": "code",
   "execution_count": null,
   "id": "35e7b697",
   "metadata": {},
   "outputs": [],
   "source": []
  },
  {
   "cell_type": "markdown",
   "id": "0abe5788",
   "metadata": {
    "lang": "en"
   },
   "source": [
    "### Select: subset"
   ]
  },
  {
   "cell_type": "code",
   "execution_count": null,
   "id": "88df0988",
   "metadata": {},
   "outputs": [],
   "source": []
  },
  {
   "cell_type": "markdown",
   "id": "3bfdd8ef",
   "metadata": {
    "lang": "en"
   },
   "source": [
    "### Get the unique values ​​of a column"
   ]
  },
  {
   "cell_type": "code",
   "execution_count": null,
   "id": "c68097d1",
   "metadata": {},
   "outputs": [],
   "source": []
  },
  {
   "cell_type": "markdown",
   "id": "398da8a7",
   "metadata": {},
   "source": [
    "`df.column.unique()`"
   ]
  },
  {
   "cell_type": "code",
   "execution_count": null,
   "id": "8d58e2b3",
   "metadata": {},
   "outputs": [],
   "source": []
  },
  {
   "cell_type": "markdown",
   "id": "172942ea",
   "metadata": {},
   "source": [
    "`df.column.value_counts()`"
   ]
  },
  {
   "cell_type": "code",
   "execution_count": null,
   "id": "827d009c",
   "metadata": {},
   "outputs": [],
   "source": []
  },
  {
   "cell_type": "markdown",
   "id": "79454aa7",
   "metadata": {},
   "source": [
    "## Filtering"
   ]
  },
  {
   "cell_type": "markdown",
   "id": "04cc0a80",
   "metadata": {
    "lang": "en"
   },
   "source": [
    "### by the value of the columns"
   ]
  },
  {
   "cell_type": "code",
   "execution_count": null,
   "id": "1e977976",
   "metadata": {},
   "outputs": [],
   "source": []
  },
  {
   "cell_type": "markdown",
   "id": "f512fb29",
   "metadata": {},
   "source": [
    "`watch out for | symbol`"
   ]
  },
  {
   "cell_type": "code",
   "execution_count": null,
   "id": "c8a33403",
   "metadata": {},
   "outputs": [],
   "source": []
  },
  {
   "cell_type": "markdown",
   "id": "occupational-intro",
   "metadata": {},
   "source": [
    "### df.loc & df.iloc"
   ]
  },
  {
   "cell_type": "code",
   "execution_count": null,
   "id": "2f1e672f",
   "metadata": {},
   "outputs": [],
   "source": []
  },
  {
   "cell_type": "markdown",
   "id": "67d8a63e",
   "metadata": {},
   "source": [
    "`df.iloc[rows, columns]`"
   ]
  },
  {
   "cell_type": "code",
   "execution_count": null,
   "id": "7ac46918",
   "metadata": {},
   "outputs": [],
   "source": []
  },
  {
   "cell_type": "markdown",
   "id": "e992e0aa",
   "metadata": {
    "lang": "en"
   },
   "source": [
    "#### Based on label: `loc`"
   ]
  },
  {
   "cell_type": "markdown",
   "id": "642e2963",
   "metadata": {
    "lang": "en"
   },
   "source": [
    "The loc method can be used in two different ways: select rows or columns based on a label, or select rows or columns based on a condition."
   ]
  },
  {
   "cell_type": "code",
   "execution_count": null,
   "id": "d1d0c6e5",
   "metadata": {},
   "outputs": [],
   "source": []
  },
  {
   "cell_type": "markdown",
   "id": "3b7a67ca",
   "metadata": {},
   "source": [
    "#### Based on index:  `iloc`"
   ]
  },
  {
   "cell_type": "markdown",
   "id": "c0b495bd",
   "metadata": {
    "lang": "en"
   },
   "source": [
    "The iloc method is used on DataFrames to select elements based on their location. Its syntax is data.iloc[<filas>, <columnas>], where <filas> and <columnas> are the position of the rows and columns that you want to select in the order that they appear in the object. A familiar notation for Matlab users. In a DataFrame, each of the rows has a number that goes from 0 to the total number of rows minus one. Being iloc the method that allows selecting the data based on these numbers. The same applies to columns.\n",
    "\n",
    "In iloc there are two arguments rows and columns. In case the second is omitted, all columns in the row will be selected. So to select different rows can be used."
   ]
  },
  {
   "cell_type": "code",
   "execution_count": null,
   "id": "68252a22",
   "metadata": {},
   "outputs": [],
   "source": []
  },
  {
   "cell_type": "markdown",
   "id": "184d0d9b",
   "metadata": {
    "lang": "en"
   },
   "source": [
    "loc syntax with multiple conditions\n",
    "```python\n",
    "df.loc[(df[\"column\"] condition) & (df[\"column\"] condition)]\n",
    "````"
   ]
  },
  {
   "cell_type": "code",
   "execution_count": null,
   "id": "8361ca7c",
   "metadata": {},
   "outputs": [],
   "source": []
  },
  {
   "cell_type": "markdown",
   "id": "0399bb7e",
   "metadata": {},
   "source": [
    "### Rename columns"
   ]
  },
  {
   "cell_type": "markdown",
   "id": "1c5e1955",
   "metadata": {
    "lang": "en"
   },
   "source": [
    "#### Rename columns"
   ]
  },
  {
   "cell_type": "markdown",
   "id": "b8cc91b3",
   "metadata": {},
   "source": [
    "`.rename(dict_)`"
   ]
  },
  {
   "cell_type": "code",
   "execution_count": null,
   "id": "f1832d44",
   "metadata": {},
   "outputs": [],
   "source": []
  },
  {
   "cell_type": "markdown",
   "id": "43d7f8be",
   "metadata": {
    "lang": "en"
   },
   "source": [
    "The rename method allows me to rename only the columns that I want, the ones that are in the dictionary. No need to rename all at once"
   ]
  },
  {
   "cell_type": "code",
   "execution_count": null,
   "id": "fe418697",
   "metadata": {},
   "outputs": [],
   "source": []
  },
  {
   "cell_type": "markdown",
   "id": "e809626d",
   "metadata": {
    "lang": "en"
   },
   "source": [
    "`overwriting attributes`: Requires a list with the same number of columns"
   ]
  },
  {
   "cell_type": "code",
   "execution_count": null,
   "id": "f3525fac",
   "metadata": {},
   "outputs": [],
   "source": []
  },
  {
   "cell_type": "markdown",
   "id": "898d8fa0",
   "metadata": {
    "lang": "en"
   },
   "source": [
    "### Change the data type of a column"
   ]
  },
  {
   "cell_type": "code",
   "execution_count": null,
   "id": "ede100ef",
   "metadata": {},
   "outputs": [],
   "source": []
  },
  {
   "cell_type": "markdown",
   "id": "a848ff40",
   "metadata": {
    "lang": "en"
   },
   "source": [
    "### Copy a dataframe"
   ]
  },
  {
   "cell_type": "code",
   "execution_count": null,
   "id": "35996d7d",
   "metadata": {},
   "outputs": [],
   "source": []
  },
  {
   "cell_type": "markdown",
   "id": "17be832e",
   "metadata": {
    "lang": "en"
   },
   "source": [
    "## deleting"
   ]
  },
  {
   "cell_type": "markdown",
   "id": "cef99497",
   "metadata": {},
   "source": [
    "### delete columns"
   ]
  },
  {
   "cell_type": "code",
   "execution_count": null,
   "id": "3fc1f38c",
   "metadata": {},
   "outputs": [],
   "source": []
  },
  {
   "cell_type": "markdown",
   "id": "208b16d6",
   "metadata": {
    "lang": "en"
   },
   "source": [
    "### delete rows"
   ]
  },
  {
   "cell_type": "code",
   "execution_count": null,
   "id": "d18ee8f8",
   "metadata": {},
   "outputs": [],
   "source": []
  },
  {
   "cell_type": "markdown",
   "id": "017482de",
   "metadata": {
    "lang": "en"
   },
   "source": [
    "Rows can also be deleted. Note that the indexes are not reset. The index is associated with the row, not the order.\n",
    "Can the index be restarted? Correct"
   ]
  },
  {
   "cell_type": "markdown",
   "id": "e86b9901",
   "metadata": {
    "lang": "en"
   },
   "source": [
    "## working with the index"
   ]
  },
  {
   "cell_type": "markdown",
   "id": "92a5ca1d",
   "metadata": {
    "lang": "en"
   },
   "source": [
    "We read the [documentation](https://pandas.pydata.org/pandas-docs/stable/reference/api/pandas.DataFrame.reset_index.html) to understand some parameters"
   ]
  },
  {
   "cell_type": "markdown",
   "id": "dcfc7dbb",
   "metadata": {},
   "source": [
    "`set_index`"
   ]
  },
  {
   "cell_type": "code",
   "execution_count": null,
   "id": "157a1236",
   "metadata": {},
   "outputs": [],
   "source": []
  },
  {
   "cell_type": "markdown",
   "id": "cd3e56b8",
   "metadata": {},
   "source": [
    "`reset_index`"
   ]
  },
  {
   "cell_type": "code",
   "execution_count": null,
   "id": "a2c98940",
   "metadata": {},
   "outputs": [],
   "source": []
  },
  {
   "cell_type": "markdown",
   "id": "d41774c2",
   "metadata": {
    "lang": "en"
   },
   "source": [
    "What can we use to have the date as an index?\n",
    "We will see it later, to analyze temporary series"
   ]
  },
  {
   "cell_type": "code",
   "execution_count": 89,
   "id": "a44c6fbe",
   "metadata": {},
   "outputs": [],
   "source": [
    "# index: unique\n",
    "# an order\n",
    "# maybe  before passing it to new libraries"
   ]
  },
  {
   "cell_type": "markdown",
   "id": "9776cc6d",
   "metadata": {
    "lang": "en"
   },
   "source": [
    "## Operations between columns"
   ]
  },
  {
   "cell_type": "markdown",
   "id": "80a809a7",
   "metadata": {},
   "source": [
    "### creating columns"
   ]
  },
  {
   "cell_type": "code",
   "execution_count": null,
   "id": "995f0924",
   "metadata": {},
   "outputs": [],
   "source": []
  },
  {
   "cell_type": "markdown",
   "id": "b9661880",
   "metadata": {},
   "source": [
    "`as the result of an operation between other columns`"
   ]
  },
  {
   "cell_type": "code",
   "execution_count": null,
   "id": "709ab0e8",
   "metadata": {},
   "outputs": [],
   "source": []
  },
  {
   "cell_type": "markdown",
   "id": "a034b1d0",
   "metadata": {
    "lang": "en"
   },
   "source": [
    "### apply: mapping a function to columns / rows"
   ]
  },
  {
   "cell_type": "markdown",
   "id": "797bd98d",
   "metadata": {},
   "source": [
    "`apply to a pd.Series`"
   ]
  },
  {
   "cell_type": "code",
   "execution_count": null,
   "id": "fa934a53",
   "metadata": {},
   "outputs": [],
   "source": []
  },
  {
   "cell_type": "markdown",
   "id": "6db7bb24",
   "metadata": {
    "lang": "en"
   },
   "source": [
    "Applies a function along an axis of the DataFrame.\n",
    "[Read the docs](https://pandas.pydata.org/docs/reference/api/pandas.DataFrame.apply.html)"
   ]
  },
  {
   "cell_type": "markdown",
   "id": "c96a080d",
   "metadata": {
    "lang": "en"
   },
   "source": [
    "When I do an apply on a column, even though I use a lambda, I don't put axis because in the case below, what I'm doing is modifying a column, I use lambda to tell the apply that the first argument is a string that comes from outside and the second argument is the dataframe's own record."
   ]
  },
  {
   "cell_type": "markdown",
   "id": "2a8ead45",
   "metadata": {},
   "source": [
    "`apply to a df`: watch for axis arg"
   ]
  },
  {
   "cell_type": "code",
   "execution_count": null,
   "id": "3f940b66",
   "metadata": {},
   "outputs": [],
   "source": []
  },
  {
   "cell_type": "markdown",
   "id": "b90fae58",
   "metadata": {},
   "source": [
    "`lambda & defined function`"
   ]
  },
  {
   "cell_type": "code",
   "execution_count": null,
   "id": "a3034f18",
   "metadata": {},
   "outputs": [],
   "source": []
  },
  {
   "cell_type": "markdown",
   "id": "a5b72fa3",
   "metadata": {},
   "source": [
    "`pass two arguments`: one from column, another one from me"
   ]
  },
  {
   "cell_type": "code",
   "execution_count": null,
   "id": "b3c10661",
   "metadata": {},
   "outputs": [],
   "source": []
  },
  {
   "cell_type": "markdown",
   "id": "ef5b7fef",
   "metadata": {
    "lang": "en"
   },
   "source": [
    "## Deleting the duplicates"
   ]
  },
  {
   "cell_type": "markdown",
   "id": "0d0d1b96",
   "metadata": {},
   "source": [
    "[Read the docs](https://pandas.pydata.org/docs/reference/api/pandas.DataFrame.duplicated.html)"
   ]
  },
  {
   "cell_type": "code",
   "execution_count": null,
   "id": "a6f57e22",
   "metadata": {},
   "outputs": [],
   "source": []
  },
  {
   "cell_type": "markdown",
   "id": "e6fe1312",
   "metadata": {},
   "source": [
    "`duplicated()`"
   ]
  },
  {
   "cell_type": "code",
   "execution_count": null,
   "id": "c4a2d6b4",
   "metadata": {},
   "outputs": [],
   "source": []
  },
  {
   "cell_type": "markdown",
   "id": "2116d75c",
   "metadata": {},
   "source": [
    "`drop_duplicates()`"
   ]
  },
  {
   "cell_type": "code",
   "execution_count": null,
   "id": "d13bed7d",
   "metadata": {},
   "outputs": [],
   "source": []
  },
  {
   "cell_type": "markdown",
   "id": "0393109a",
   "metadata": {},
   "source": [
    "```python\n",
    "for row, series in df.iterrows():\n",
    "    print(series['T1'], series['T2'],series['T3'])\n",
    "```"
   ]
  },
  {
   "cell_type": "code",
   "execution_count": null,
   "id": "65fac1bc",
   "metadata": {},
   "outputs": [],
   "source": []
  },
  {
   "cell_type": "markdown",
   "id": "ef76028b",
   "metadata": {},
   "source": [
    "`keep`: False, first/last"
   ]
  },
  {
   "cell_type": "code",
   "execution_count": null,
   "id": "b2836c10",
   "metadata": {},
   "outputs": [],
   "source": []
  },
  {
   "cell_type": "markdown",
   "id": "b2da7dac",
   "metadata": {
    "lang": "en"
   },
   "source": [
    "## Null values"
   ]
  },
  {
   "cell_type": "code",
   "execution_count": null,
   "id": "231e7e8f",
   "metadata": {},
   "outputs": [],
   "source": []
  },
  {
   "cell_type": "markdown",
   "id": "5799f8c3",
   "metadata": {
    "lang": "en"
   },
   "source": [
    "#### It is null?\n",
    "\n",
    "`pd.isna()` == `pd.isnull()`"
   ]
  },
  {
   "cell_type": "code",
   "execution_count": null,
   "id": "2d3a63dd",
   "metadata": {},
   "outputs": [],
   "source": []
  },
  {
   "cell_type": "markdown",
   "id": "0ecb33c3",
   "metadata": {
    "lang": "en"
   },
   "source": [
    "#### Is NOT null?"
   ]
  },
  {
   "cell_type": "code",
   "execution_count": null,
   "id": "e439465f",
   "metadata": {},
   "outputs": [],
   "source": []
  },
  {
   "cell_type": "markdown",
   "id": "f613b0e2",
   "metadata": {
    "lang": "en"
   },
   "source": [
    "#### Sum the null values ​​of each column"
   ]
  },
  {
   "cell_type": "code",
   "execution_count": null,
   "id": "06e5c810",
   "metadata": {},
   "outputs": [],
   "source": []
  },
  {
   "cell_type": "markdown",
   "id": "e4d38c63",
   "metadata": {
    "lang": "en"
   },
   "source": [
    "### delete null values\n",
    "There are several ways to do this, we take into account the \"how\" parameter and of course [the docs](https://pandas.pydata.org/pandas-docs/stable/reference/api/pandas.DataFrame.dropna.html)."
   ]
  },
  {
   "cell_type": "markdown",
   "id": "98d80a97",
   "metadata": {},
   "source": [
    "`Dropping missing values where all are missing values`"
   ]
  },
  {
   "cell_type": "code",
   "execution_count": null,
   "id": "8dcbfbe9",
   "metadata": {},
   "outputs": [],
   "source": []
  },
  {
   "cell_type": "markdown",
   "id": "b374931d",
   "metadata": {},
   "source": [
    "`Dropping missing values where there's ANY`"
   ]
  },
  {
   "cell_type": "code",
   "execution_count": null,
   "id": "76394070",
   "metadata": {},
   "outputs": [],
   "source": []
  },
  {
   "cell_type": "markdown",
   "id": "2a5c98b7",
   "metadata": {},
   "source": [
    "`how`: any"
   ]
  },
  {
   "cell_type": "markdown",
   "id": "c23f12eb",
   "metadata": {
    "lang": "en"
   },
   "source": [
    "With \"any\" (parameter that comes by default so be careful not to put anything) all the records in which there is a NaN in any column are deleted"
   ]
  },
  {
   "cell_type": "code",
   "execution_count": null,
   "id": "fb8ae833",
   "metadata": {},
   "outputs": [],
   "source": []
  },
  {
   "cell_type": "markdown",
   "id": "80e1c401",
   "metadata": {},
   "source": [
    "`how`: all"
   ]
  },
  {
   "cell_type": "code",
   "execution_count": null,
   "id": "2fbd5d98",
   "metadata": {},
   "outputs": [],
   "source": []
  },
  {
   "cell_type": "markdown",
   "id": "27d17b13",
   "metadata": {},
   "source": [
    "`thresh`: int"
   ]
  },
  {
   "cell_type": "code",
   "execution_count": null,
   "id": "6b9738ca",
   "metadata": {},
   "outputs": [],
   "source": []
  },
  {
   "cell_type": "markdown",
   "id": "6a782576",
   "metadata": {
    "lang": "en"
   },
   "source": [
    "### How to fill in the missing data"
   ]
  },
  {
   "cell_type": "markdown",
   "id": "3718df0e",
   "metadata": {
    "lang": "en"
   },
   "source": [
    "How about a little [documentation](https://pandas.pydata.org/docs/reference/api/pandas.DataFrame.fillna.html)?"
   ]
  },
  {
   "cell_type": "markdown",
   "id": "1e20179a",
   "metadata": {},
   "source": [
    "`fillna`"
   ]
  },
  {
   "cell_type": "code",
   "execution_count": null,
   "id": "227f41c9",
   "metadata": {},
   "outputs": [],
   "source": []
  },
  {
   "cell_type": "markdown",
   "id": "9a3a34a5",
   "metadata": {
    "lang": "en"
   },
   "source": [
    "## Export data"
   ]
  },
  {
   "cell_type": "markdown",
   "id": "38593104",
   "metadata": {},
   "source": [
    "`to_csv`"
   ]
  },
  {
   "cell_type": "code",
   "execution_count": null,
   "id": "2ca10525",
   "metadata": {},
   "outputs": [],
   "source": []
  },
  {
   "cell_type": "markdown",
   "id": "985eeaa7",
   "metadata": {},
   "source": [
    "`to_json`"
   ]
  },
  {
   "cell_type": "code",
   "execution_count": null,
   "id": "f5cf94bd",
   "metadata": {},
   "outputs": [],
   "source": []
  },
  {
   "cell_type": "markdown",
   "id": "68dbac5b",
   "metadata": {
    "lang": "en"
   },
   "source": [
    "**REMINDER:** `inplace=True` if for method to modify the DF, otherwise you need to save it into a new variable."
   ]
  },
  {
   "cell_type": "code",
   "execution_count": null,
   "id": "924c4dc5",
   "metadata": {},
   "outputs": [],
   "source": [
    "# RECAP\n"
   ]
  },
  {
   "cell_type": "markdown",
   "id": "4f340806",
   "metadata": {
    "lang": "en"
   },
   "source": [
    "## Pandas usual methods\n",
    "```python\n",
    "df.head() # prints the head, default 5 rows\n",
    "df.tail() # set the tail, default 5 rows\n",
    "df.describe() # statistical description\n",
    "df.info() # df information\n",
    "df.columns # show column\n",
    "df.index # show index\n",
    "df.dtypes # show column data types\n",
    "df.plot() # make a plot\n",
    "df.hist() # make a histogram\n",
    "df.col.value_counts() # counts the unique values ​​of a column\n",
    "df.col.unique() # returns unique values ​​from a column\n",
    "df.copy() # copies the df\n",
    "df.drop() # remove columns or rows (axis=0,1)\n",
    "df.dropna() # remove nulls\n",
    "df.fillna() # fills nulls\n",
    "df.shape # dimensions of the df\n",
    "df._get_numeric_data() # select numeric columns\n",
    "df.rename() # rename columns\n",
    "df.str.replace() # replace columns of strings\n",
    "df.astype(dtype='float32') # change the data type\n",
    "df.iloc[] # locate by index\n",
    "df.loc[] # locate by element\n",
    "df.transpose() # transposes the df\n",
    "df.T\n",
    "df.sample(n, frac) # sample from df\n",
    "df.col.sum() # sum of a column\n",
    "df.col.max() # maximum of a column\n",
    "df.col.min() # minimum of one column\n",
    "df[col] # select column\n",
    "df.col\n",
    "df.isnull() # null values\n",
    "df.isna()\n",
    "df.notna() # not null values\n",
    "df.drop_duplicates() # remove duplicates\n",
    "df.reset_index(inplace=True) # reset the index and overwrite\n",
    "```"
   ]
  },
  {
   "cell_type": "markdown",
   "id": "stylish-jefferson",
   "metadata": {},
   "source": [
    "## Further materials\n",
    "\n",
    "* [Read the docs!](https://pandas.pydata.org/pandas-docs/stable/index.html)\n",
    "* [Cheatsheet](https://pandas.pydata.org/Pandas_Cheat_Sheet.pdf)\n",
    "* [Exercises to practice](https://github.com/guipsamora/pandas_exercises)\n",
    "* [More on merge, concat, and join](https://realpython.com/pandas-merge-join-and-concat/#pandas-join-combining-data-on-a-column-or-index). And [even more!](https://pandas.pydata.org/pandas-docs/stable/user_guide/merging.html)\n",
    "* [Categories on df](https://runebook.dev/en/docs/pandas/user_guide/categorical)\n"
   ]
  }
 ],
 "metadata": {
  "kernelspec": {
   "display_name": "Python 3 (ipykernel)",
   "language": "python",
   "name": "python3"
  },
  "language_info": {
   "codemirror_mode": {
    "name": "ipython",
    "version": 3
   },
   "file_extension": ".py",
   "mimetype": "text/x-python",
   "name": "python",
   "nbconvert_exporter": "python",
   "pygments_lexer": "ipython3",
   "version": "3.9.12"
  },
  "nbTranslate": {
   "displayLangs": [
    "en",
    "es"
   ],
   "hotkey": "alt-a",
   "langInMainMenu": true,
   "sourceLang": "es",
   "targetLang": "en",
   "useGoogleTranslate": true
  },
  "toc": {
   "base_numbering": 1,
   "nav_menu": {},
   "number_sections": true,
   "sideBar": true,
   "skip_h1_title": true,
   "title_cell": "Table of Contents",
   "title_sidebar": "Contents",
   "toc_cell": true,
   "toc_position": {
    "height": "calc(100% - 180px)",
    "left": "10px",
    "top": "150px",
    "width": "272.951px"
   },
   "toc_section_display": true,
   "toc_window_display": true
  },
  "varInspector": {
   "cols": {
    "lenName": 16,
    "lenType": 16,
    "lenVar": 40
   },
   "kernels_config": {
    "python": {
     "delete_cmd_postfix": "",
     "delete_cmd_prefix": "del ",
     "library": "var_list.py",
     "varRefreshCmd": "print(var_dic_list())"
    },
    "r": {
     "delete_cmd_postfix": ") ",
     "delete_cmd_prefix": "rm(",
     "library": "var_list.r",
     "varRefreshCmd": "cat(var_dic_list()) "
    }
   },
   "types_to_exclude": [
    "module",
    "function",
    "builtin_function_or_method",
    "instance",
    "_Feature"
   ],
   "window_display": false
  }
 },
 "nbformat": 4,
 "nbformat_minor": 5
}
