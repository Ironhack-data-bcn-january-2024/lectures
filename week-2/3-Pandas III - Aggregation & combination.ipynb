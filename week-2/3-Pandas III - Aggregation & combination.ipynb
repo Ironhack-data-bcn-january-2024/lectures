{
 "cells": [
  {
   "cell_type": "markdown",
   "id": "b823de73",
   "metadata": {
    "toc": true
   },
   "source": [
    "<h1>Table of Contents<span class=\"tocSkip\"></span></h1>\n",
    "<div class=\"toc\"><ul class=\"toc-item\"><li><span><a href=\"#Data-aggregation\" data-toc-modified-id=\"Data-aggregation-1\"><span class=\"toc-item-num\">1&nbsp;&nbsp;</span>Data aggregation</a></span><ul class=\"toc-item\"><li><span><a href=\"#groupby\" data-toc-modified-id=\"groupby-1.1\"><span class=\"toc-item-num\">1.1&nbsp;&nbsp;</span>groupby</a></span><ul class=\"toc-item\"><li><span><a href=\"#groupby-&amp;-aggregate\" data-toc-modified-id=\"groupby-&amp;-aggregate-1.1.1\"><span class=\"toc-item-num\">1.1.1&nbsp;&nbsp;</span>groupby &amp; aggregate</a></span></li></ul></li><li><span><a href=\"#Pivot-Tables\" data-toc-modified-id=\"Pivot-Tables-1.2\"><span class=\"toc-item-num\">1.2&nbsp;&nbsp;</span>Pivot Tables</a></span></li><li><span><a href=\"#Differences-between-pivot-table-and-groupby-function\" data-toc-modified-id=\"Differences-between-pivot-table-and-groupby-function-1.3\"><span class=\"toc-item-num\">1.3&nbsp;&nbsp;</span>Differences between pivot table and groupby function</a></span></li><li><span><a href=\"#crosstab\" data-toc-modified-id=\"crosstab-1.4\"><span class=\"toc-item-num\">1.4&nbsp;&nbsp;</span>crosstab</a></span></li></ul></li><li><span><a href=\"#Data-combination:-mixing-dataframes\" data-toc-modified-id=\"Data-combination:-mixing-dataframes-2\"><span class=\"toc-item-num\">2&nbsp;&nbsp;</span>Data combination: mixing dataframes</a></span><ul class=\"toc-item\"><li><span><a href=\"#Concat:-two-things-together\" data-toc-modified-id=\"Concat:-two-things-together-2.1\"><span class=\"toc-item-num\">2.1&nbsp;&nbsp;</span>Concat: two things together</a></span><ul class=\"toc-item\"><li><span><a href=\"#Concatenating-on-axis-0-(rows)\" data-toc-modified-id=\"Concatenating-on-axis-0-(rows)-2.1.1\"><span class=\"toc-item-num\">2.1.1&nbsp;&nbsp;</span>Concatenating on axis 0 (rows)</a></span></li><li><span><a href=\"#Concatenating-on-axis-1-(columns)\" data-toc-modified-id=\"Concatenating-on-axis-1-(columns)-2.1.2\"><span class=\"toc-item-num\">2.1.2&nbsp;&nbsp;</span>Concatenating on axis 1 (columns)</a></span></li></ul></li><li><span><a href=\"#Merge:-related-columns\" data-toc-modified-id=\"Merge:-related-columns-2.2\"><span class=\"toc-item-num\">2.2&nbsp;&nbsp;</span>Merge: related columns</a></span><ul class=\"toc-item\"><li><span><a href=\"#LEFT-Merge\" data-toc-modified-id=\"LEFT-Merge-2.2.1\"><span class=\"toc-item-num\">2.2.1&nbsp;&nbsp;</span>LEFT Merge</a></span></li><li><span><a href=\"#RIGHT-Merge\" data-toc-modified-id=\"RIGHT-Merge-2.2.2\"><span class=\"toc-item-num\">2.2.2&nbsp;&nbsp;</span>RIGHT Merge</a></span></li><li><span><a href=\"#INNER-Merge\" data-toc-modified-id=\"INNER-Merge-2.2.3\"><span class=\"toc-item-num\">2.2.3&nbsp;&nbsp;</span>INNER Merge</a></span></li><li><span><a href=\"#OUTER-Merge\" data-toc-modified-id=\"OUTER-Merge-2.2.4\"><span class=\"toc-item-num\">2.2.4&nbsp;&nbsp;</span>OUTER Merge</a></span></li></ul></li><li><span><a href=\"#Merging-&amp;-Concatenating-in-two-different-columns\" data-toc-modified-id=\"Merging-&amp;-Concatenating-in-two-different-columns-2.3\"><span class=\"toc-item-num\">2.3&nbsp;&nbsp;</span>Merging &amp; Concatenating in two different columns</a></span><ul class=\"toc-item\"><li><span><a href=\"#Concatenating-in-two-different-columns\" data-toc-modified-id=\"Concatenating-in-two-different-columns-2.3.1\"><span class=\"toc-item-num\">2.3.1&nbsp;&nbsp;</span>Concatenating in two different columns</a></span></li><li><span><a href=\"#Merging-in-two-different-columns\" data-toc-modified-id=\"Merging-in-two-different-columns-2.3.2\"><span class=\"toc-item-num\">2.3.2&nbsp;&nbsp;</span>Merging in two different columns</a></span></li></ul></li><li><span><a href=\"#Join:-relating-index\" data-toc-modified-id=\"Join:-relating-index-2.4\"><span class=\"toc-item-num\">2.4&nbsp;&nbsp;</span>Join: relating index</a></span></li><li><span><a href=\"#Differences-between-join-&amp;-merge\" data-toc-modified-id=\"Differences-between-join-&amp;-merge-2.5\"><span class=\"toc-item-num\">2.5&nbsp;&nbsp;</span>Differences between join &amp; merge</a></span></li></ul></li><li><span><a href=\"#Pandas-usual-methods\" data-toc-modified-id=\"Pandas-usual-methods-3\"><span class=\"toc-item-num\">3&nbsp;&nbsp;</span>Pandas usual methods</a></span></li><li><span><a href=\"#Further-materials\" data-toc-modified-id=\"Further-materials-4\"><span class=\"toc-item-num\">4&nbsp;&nbsp;</span>Further materials</a></span></li></ul></div>"
   ]
  },
  {
   "cell_type": "markdown",
   "id": "ad2d0378",
   "metadata": {},
   "source": [
    "![](https://miro.medium.com/max/1400/1*6d5dw6dPhy4vBp2vRW6uzw.webp)"
   ]
  },
  {
   "cell_type": "code",
   "execution_count": 1,
   "id": "90c4e96b",
   "metadata": {},
   "outputs": [],
   "source": [
    "import pandas as pd\n",
    "import numpy as np"
   ]
  },
  {
   "cell_type": "code",
   "execution_count": null,
   "id": "998423db",
   "metadata": {},
   "outputs": [],
   "source": []
  },
  {
   "cell_type": "markdown",
   "id": "6cc1f24d",
   "metadata": {},
   "source": [
    "## Data aggregation"
   ]
  },
  {
   "cell_type": "markdown",
   "id": "d7cd8b73",
   "metadata": {},
   "source": [
    "`groupby, pivot table & cross_tab`"
   ]
  },
  {
   "cell_type": "markdown",
   "id": "c51e74f4",
   "metadata": {
    "lang": "en"
   },
   "source": [
    "### groupby\n",
    "Pandas GroupBy is a powerful and versatile function in Python. It allows us to split your data into separate groups to perform calculations for better analysis.\n",
    "A DataFrame can be grouped on its rows (axis=0) or on its columns (axis=1). Once this is done, a function is applied to each group, producing a new value. Finally, the results of all those function applications are combined into a result object. The shape of the resulting object will usually depend on what is done with the data."
   ]
  },
  {
   "cell_type": "markdown",
   "id": "a50c2b5d",
   "metadata": {},
   "source": [
    "`df[subset].groupby(category).aggregation()`"
   ]
  },
  {
   "cell_type": "markdown",
   "id": "surprised-malpractice",
   "metadata": {},
   "source": [
    "https://pandas.pydata.org/docs/reference/api/pandas.DataFrame.groupby.html"
   ]
  },
  {
   "cell_type": "code",
   "execution_count": 7,
   "id": "ace7335e",
   "metadata": {},
   "outputs": [
    {
     "data": {
      "text/html": [
       "<div>\n",
       "<style scoped>\n",
       "    .dataframe tbody tr th:only-of-type {\n",
       "        vertical-align: middle;\n",
       "    }\n",
       "\n",
       "    .dataframe tbody tr th {\n",
       "        vertical-align: top;\n",
       "    }\n",
       "\n",
       "    .dataframe thead th {\n",
       "        text-align: right;\n",
       "    }\n",
       "</style>\n",
       "<table border=\"1\" class=\"dataframe\">\n",
       "  <thead>\n",
       "    <tr style=\"text-align: right;\">\n",
       "      <th></th>\n",
       "      <th>AveragePrice</th>\n",
       "    </tr>\n",
       "    <tr>\n",
       "      <th>region</th>\n",
       "      <th></th>\n",
       "    </tr>\n",
       "  </thead>\n",
       "  <tbody>\n",
       "    <tr>\n",
       "      <th>Albany</th>\n",
       "      <td>527.63</td>\n",
       "    </tr>\n",
       "    <tr>\n",
       "      <th>Atlanta</th>\n",
       "      <td>452.23</td>\n",
       "    </tr>\n",
       "    <tr>\n",
       "      <th>SanDiego</th>\n",
       "      <td>472.58</td>\n",
       "    </tr>\n",
       "    <tr>\n",
       "      <th>NewYork</th>\n",
       "      <td>583.92</td>\n",
       "    </tr>\n",
       "    <tr>\n",
       "      <th>West</th>\n",
       "      <td>430.01</td>\n",
       "    </tr>\n",
       "  </tbody>\n",
       "</table>\n",
       "</div>"
      ],
      "text/plain": [
       "          AveragePrice\n",
       "region                \n",
       "Albany          527.63\n",
       "Atlanta         452.23\n",
       "SanDiego        472.58\n",
       "NewYork         583.92\n",
       "West            430.01"
      ]
     },
     "execution_count": 7,
     "metadata": {},
     "output_type": "execute_result"
    }
   ],
   "source": [
    "# What is the average price of avocados per region?\n",
    "# Grouping by: region\n",
    "# aggregating by: averageprice, sum()\n",
    "\n",
    "df[[\"AveragePrice\", \"region\"]].groupby(\"region\").agg({\"AveragePrice\":\"sum\"}).sample(5)"
   ]
  },
  {
   "cell_type": "code",
   "execution_count": 2,
   "id": "7d168f47",
   "metadata": {},
   "outputs": [
    {
     "data": {
      "text/html": [
       "<div>\n",
       "<style scoped>\n",
       "    .dataframe tbody tr th:only-of-type {\n",
       "        vertical-align: middle;\n",
       "    }\n",
       "\n",
       "    .dataframe tbody tr th {\n",
       "        vertical-align: top;\n",
       "    }\n",
       "\n",
       "    .dataframe thead th {\n",
       "        text-align: right;\n",
       "    }\n",
       "</style>\n",
       "<table border=\"1\" class=\"dataframe\">\n",
       "  <thead>\n",
       "    <tr style=\"text-align: right;\">\n",
       "      <th></th>\n",
       "      <th>Unnamed: 0</th>\n",
       "      <th>Date</th>\n",
       "      <th>AveragePrice</th>\n",
       "      <th>Total Volume</th>\n",
       "      <th>4046</th>\n",
       "      <th>4225</th>\n",
       "      <th>4770</th>\n",
       "      <th>Total Bags</th>\n",
       "      <th>Small Bags</th>\n",
       "      <th>Large Bags</th>\n",
       "      <th>XLarge Bags</th>\n",
       "      <th>type</th>\n",
       "      <th>year</th>\n",
       "      <th>region</th>\n",
       "    </tr>\n",
       "  </thead>\n",
       "  <tbody>\n",
       "    <tr>\n",
       "      <th>0</th>\n",
       "      <td>0</td>\n",
       "      <td>2015-12-27</td>\n",
       "      <td>1.33</td>\n",
       "      <td>64236.62</td>\n",
       "      <td>1036.74</td>\n",
       "      <td>54454.85</td>\n",
       "      <td>48.16</td>\n",
       "      <td>8696.87</td>\n",
       "      <td>8603.62</td>\n",
       "      <td>93.25</td>\n",
       "      <td>0.0</td>\n",
       "      <td>conventional</td>\n",
       "      <td>2015</td>\n",
       "      <td>Albany</td>\n",
       "    </tr>\n",
       "    <tr>\n",
       "      <th>1</th>\n",
       "      <td>1</td>\n",
       "      <td>2015-12-20</td>\n",
       "      <td>1.35</td>\n",
       "      <td>54876.98</td>\n",
       "      <td>674.28</td>\n",
       "      <td>44638.81</td>\n",
       "      <td>58.33</td>\n",
       "      <td>9505.56</td>\n",
       "      <td>9408.07</td>\n",
       "      <td>97.49</td>\n",
       "      <td>0.0</td>\n",
       "      <td>conventional</td>\n",
       "      <td>2015</td>\n",
       "      <td>Albany</td>\n",
       "    </tr>\n",
       "    <tr>\n",
       "      <th>2</th>\n",
       "      <td>2</td>\n",
       "      <td>2015-12-13</td>\n",
       "      <td>0.93</td>\n",
       "      <td>118220.22</td>\n",
       "      <td>794.70</td>\n",
       "      <td>109149.67</td>\n",
       "      <td>130.50</td>\n",
       "      <td>8145.35</td>\n",
       "      <td>8042.21</td>\n",
       "      <td>103.14</td>\n",
       "      <td>0.0</td>\n",
       "      <td>conventional</td>\n",
       "      <td>2015</td>\n",
       "      <td>Albany</td>\n",
       "    </tr>\n",
       "    <tr>\n",
       "      <th>3</th>\n",
       "      <td>3</td>\n",
       "      <td>2015-12-06</td>\n",
       "      <td>1.08</td>\n",
       "      <td>78992.15</td>\n",
       "      <td>1132.00</td>\n",
       "      <td>71976.41</td>\n",
       "      <td>72.58</td>\n",
       "      <td>5811.16</td>\n",
       "      <td>5677.40</td>\n",
       "      <td>133.76</td>\n",
       "      <td>0.0</td>\n",
       "      <td>conventional</td>\n",
       "      <td>2015</td>\n",
       "      <td>Albany</td>\n",
       "    </tr>\n",
       "    <tr>\n",
       "      <th>4</th>\n",
       "      <td>4</td>\n",
       "      <td>2015-11-29</td>\n",
       "      <td>1.28</td>\n",
       "      <td>51039.60</td>\n",
       "      <td>941.48</td>\n",
       "      <td>43838.39</td>\n",
       "      <td>75.78</td>\n",
       "      <td>6183.95</td>\n",
       "      <td>5986.26</td>\n",
       "      <td>197.69</td>\n",
       "      <td>0.0</td>\n",
       "      <td>conventional</td>\n",
       "      <td>2015</td>\n",
       "      <td>Albany</td>\n",
       "    </tr>\n",
       "    <tr>\n",
       "      <th>...</th>\n",
       "      <td>...</td>\n",
       "      <td>...</td>\n",
       "      <td>...</td>\n",
       "      <td>...</td>\n",
       "      <td>...</td>\n",
       "      <td>...</td>\n",
       "      <td>...</td>\n",
       "      <td>...</td>\n",
       "      <td>...</td>\n",
       "      <td>...</td>\n",
       "      <td>...</td>\n",
       "      <td>...</td>\n",
       "      <td>...</td>\n",
       "      <td>...</td>\n",
       "    </tr>\n",
       "    <tr>\n",
       "      <th>18244</th>\n",
       "      <td>7</td>\n",
       "      <td>2018-02-04</td>\n",
       "      <td>1.63</td>\n",
       "      <td>17074.83</td>\n",
       "      <td>2046.96</td>\n",
       "      <td>1529.20</td>\n",
       "      <td>0.00</td>\n",
       "      <td>13498.67</td>\n",
       "      <td>13066.82</td>\n",
       "      <td>431.85</td>\n",
       "      <td>0.0</td>\n",
       "      <td>organic</td>\n",
       "      <td>2018</td>\n",
       "      <td>WestTexNewMexico</td>\n",
       "    </tr>\n",
       "    <tr>\n",
       "      <th>18245</th>\n",
       "      <td>8</td>\n",
       "      <td>2018-01-28</td>\n",
       "      <td>1.71</td>\n",
       "      <td>13888.04</td>\n",
       "      <td>1191.70</td>\n",
       "      <td>3431.50</td>\n",
       "      <td>0.00</td>\n",
       "      <td>9264.84</td>\n",
       "      <td>8940.04</td>\n",
       "      <td>324.80</td>\n",
       "      <td>0.0</td>\n",
       "      <td>organic</td>\n",
       "      <td>2018</td>\n",
       "      <td>WestTexNewMexico</td>\n",
       "    </tr>\n",
       "    <tr>\n",
       "      <th>18246</th>\n",
       "      <td>9</td>\n",
       "      <td>2018-01-21</td>\n",
       "      <td>1.87</td>\n",
       "      <td>13766.76</td>\n",
       "      <td>1191.92</td>\n",
       "      <td>2452.79</td>\n",
       "      <td>727.94</td>\n",
       "      <td>9394.11</td>\n",
       "      <td>9351.80</td>\n",
       "      <td>42.31</td>\n",
       "      <td>0.0</td>\n",
       "      <td>organic</td>\n",
       "      <td>2018</td>\n",
       "      <td>WestTexNewMexico</td>\n",
       "    </tr>\n",
       "    <tr>\n",
       "      <th>18247</th>\n",
       "      <td>10</td>\n",
       "      <td>2018-01-14</td>\n",
       "      <td>1.93</td>\n",
       "      <td>16205.22</td>\n",
       "      <td>1527.63</td>\n",
       "      <td>2981.04</td>\n",
       "      <td>727.01</td>\n",
       "      <td>10969.54</td>\n",
       "      <td>10919.54</td>\n",
       "      <td>50.00</td>\n",
       "      <td>0.0</td>\n",
       "      <td>organic</td>\n",
       "      <td>2018</td>\n",
       "      <td>WestTexNewMexico</td>\n",
       "    </tr>\n",
       "    <tr>\n",
       "      <th>18248</th>\n",
       "      <td>11</td>\n",
       "      <td>2018-01-07</td>\n",
       "      <td>1.62</td>\n",
       "      <td>17489.58</td>\n",
       "      <td>2894.77</td>\n",
       "      <td>2356.13</td>\n",
       "      <td>224.53</td>\n",
       "      <td>12014.15</td>\n",
       "      <td>11988.14</td>\n",
       "      <td>26.01</td>\n",
       "      <td>0.0</td>\n",
       "      <td>organic</td>\n",
       "      <td>2018</td>\n",
       "      <td>WestTexNewMexico</td>\n",
       "    </tr>\n",
       "  </tbody>\n",
       "</table>\n",
       "<p>18249 rows × 14 columns</p>\n",
       "</div>"
      ],
      "text/plain": [
       "       Unnamed: 0        Date  AveragePrice  Total Volume     4046       4225   \n",
       "0               0  2015-12-27          1.33      64236.62  1036.74   54454.85  \\\n",
       "1               1  2015-12-20          1.35      54876.98   674.28   44638.81   \n",
       "2               2  2015-12-13          0.93     118220.22   794.70  109149.67   \n",
       "3               3  2015-12-06          1.08      78992.15  1132.00   71976.41   \n",
       "4               4  2015-11-29          1.28      51039.60   941.48   43838.39   \n",
       "...           ...         ...           ...           ...      ...        ...   \n",
       "18244           7  2018-02-04          1.63      17074.83  2046.96    1529.20   \n",
       "18245           8  2018-01-28          1.71      13888.04  1191.70    3431.50   \n",
       "18246           9  2018-01-21          1.87      13766.76  1191.92    2452.79   \n",
       "18247          10  2018-01-14          1.93      16205.22  1527.63    2981.04   \n",
       "18248          11  2018-01-07          1.62      17489.58  2894.77    2356.13   \n",
       "\n",
       "         4770  Total Bags  Small Bags  Large Bags  XLarge Bags          type   \n",
       "0       48.16     8696.87     8603.62       93.25          0.0  conventional  \\\n",
       "1       58.33     9505.56     9408.07       97.49          0.0  conventional   \n",
       "2      130.50     8145.35     8042.21      103.14          0.0  conventional   \n",
       "3       72.58     5811.16     5677.40      133.76          0.0  conventional   \n",
       "4       75.78     6183.95     5986.26      197.69          0.0  conventional   \n",
       "...       ...         ...         ...         ...          ...           ...   \n",
       "18244    0.00    13498.67    13066.82      431.85          0.0       organic   \n",
       "18245    0.00     9264.84     8940.04      324.80          0.0       organic   \n",
       "18246  727.94     9394.11     9351.80       42.31          0.0       organic   \n",
       "18247  727.01    10969.54    10919.54       50.00          0.0       organic   \n",
       "18248  224.53    12014.15    11988.14       26.01          0.0       organic   \n",
       "\n",
       "       year            region  \n",
       "0      2015            Albany  \n",
       "1      2015            Albany  \n",
       "2      2015            Albany  \n",
       "3      2015            Albany  \n",
       "4      2015            Albany  \n",
       "...     ...               ...  \n",
       "18244  2018  WestTexNewMexico  \n",
       "18245  2018  WestTexNewMexico  \n",
       "18246  2018  WestTexNewMexico  \n",
       "18247  2018  WestTexNewMexico  \n",
       "18248  2018  WestTexNewMexico  \n",
       "\n",
       "[18249 rows x 14 columns]"
      ]
     },
     "execution_count": 2,
     "metadata": {},
     "output_type": "execute_result"
    }
   ],
   "source": [
    "df = pd.read_csv(\"../datasets/avocado_kaggle.csv\")\n",
    "df"
   ]
  },
  {
   "cell_type": "markdown",
   "id": "e36c6bb3",
   "metadata": {},
   "source": [
    "`groupby the departments and their mean age`"
   ]
  },
  {
   "cell_type": "code",
   "execution_count": null,
   "id": "596e12e2",
   "metadata": {},
   "outputs": [],
   "source": []
  },
  {
   "cell_type": "markdown",
   "id": "a968b6e9",
   "metadata": {},
   "source": [
    "`groupby the departments and their maximum age`"
   ]
  },
  {
   "cell_type": "code",
   "execution_count": null,
   "id": "a29f0c41",
   "metadata": {},
   "outputs": [],
   "source": []
  },
  {
   "cell_type": "markdown",
   "id": "28133159",
   "metadata": {},
   "source": [
    "`groupby the departments and their min age`"
   ]
  },
  {
   "cell_type": "code",
   "execution_count": null,
   "id": "8ed7f1d0",
   "metadata": {},
   "outputs": [],
   "source": []
  },
  {
   "cell_type": "markdown",
   "id": "08947d4b",
   "metadata": {},
   "source": [
    "`groupby: 2+`: Different Education Fields and their Mean Salaries in each of the Department"
   ]
  },
  {
   "cell_type": "code",
   "execution_count": null,
   "id": "255b46f8",
   "metadata": {},
   "outputs": [],
   "source": []
  },
  {
   "cell_type": "code",
   "execution_count": null,
   "id": "6e51d694",
   "metadata": {},
   "outputs": [],
   "source": [
    "# multiindex: https://pandas.pydata.org/docs/user_guide/advanced.html"
   ]
  },
  {
   "cell_type": "markdown",
   "id": "13345cef",
   "metadata": {},
   "source": [
    "`more fields`"
   ]
  },
  {
   "cell_type": "code",
   "execution_count": null,
   "id": "8239824e",
   "metadata": {},
   "outputs": [],
   "source": []
  },
  {
   "cell_type": "markdown",
   "id": "7b533d07",
   "metadata": {},
   "source": [
    "#### groupby & aggregate"
   ]
  },
  {
   "cell_type": "markdown",
   "id": "1d23b8f4",
   "metadata": {
    "lang": "en"
   },
   "source": [
    "Another way to groupby with agg syntax\n",
    "https://pandas.pydata.org/docs/reference/api/pandas.core.groupby.DataFrameGroupBy.aggregate.html\n",
    "\n",
    "- mean\n",
    "- sum\n",
    "-count"
   ]
  },
  {
   "cell_type": "markdown",
   "id": "0acc8190",
   "metadata": {
    "lang": "en"
   },
   "source": [
    "Suppose we want to calculate the mean of column data1 using the labels of key1. There are several ways to do it. One is to access data1 and call groupby with the column (a String) in key1.\n",
    "The data (a Series) has been aggregated based on the group key, producing a new String that is now indexed by the unique values ​​of the key1 column. The resulting index has the name 'key1' because the DataFrame column `df['key1']` did."
   ]
  },
  {
   "cell_type": "code",
   "execution_count": null,
   "id": "2af0ca45",
   "metadata": {},
   "outputs": [],
   "source": []
  },
  {
   "cell_type": "markdown",
   "id": "4930acad",
   "metadata": {},
   "source": [
    "### Pivot Tables"
   ]
  },
  {
   "cell_type": "markdown",
   "id": "d041aaaa",
   "metadata": {},
   "source": [
    "[groupby vs pivot table](https://towardsdatascience.com/a-comparison-of-groupby-and-pivot-in-pythons-pandas-module-527909e78d6b?source=userActivityShare-4c6d9a33c6-1674605913&_branch_match_id=1146490620103499300&_branch_referrer=H4sIAAAAAAAAA8soKSkottLXz8nMy9bLTU3JLM3VS87P1TfKCvCtKvOvCCpPAgAN4ht%2FIwAAAA%3D%3D)"
   ]
  },
  {
   "cell_type": "markdown",
   "id": "c979e8b6",
   "metadata": {},
   "source": [
    "```pivot_table(df, values=None, index=None, columns=None, aggfunc='mean', ...)```"
   ]
  },
  {
   "cell_type": "markdown",
   "id": "6b9f9abd",
   "metadata": {},
   "source": [
    "* We can create a spreadsheet-style pivot table as a DataFrame. The levels in the pivot table will be stored in MultiIndex objects (hierarchical indexes) on the index and columns of the result DataFrame."
   ]
  },
  {
   "cell_type": "markdown",
   "id": "9f7b8eec",
   "metadata": {},
   "source": [
    "`pivot table`: the department and their mean ages"
   ]
  },
  {
   "cell_type": "code",
   "execution_count": null,
   "id": "7a8eadc4",
   "metadata": {},
   "outputs": [],
   "source": []
  },
  {
   "cell_type": "markdown",
   "id": "2f4e6d7f",
   "metadata": {},
   "source": [
    "`pivot table`: the department and their max ages"
   ]
  },
  {
   "cell_type": "code",
   "execution_count": null,
   "id": "08b920ab",
   "metadata": {},
   "outputs": [],
   "source": []
  },
  {
   "cell_type": "markdown",
   "id": "23fdbbe2",
   "metadata": {},
   "source": [
    "`pivot table`: the department and their min ages"
   ]
  },
  {
   "cell_type": "code",
   "execution_count": null,
   "id": "2c804160",
   "metadata": {},
   "outputs": [],
   "source": []
  },
  {
   "cell_type": "markdown",
   "id": "4b08ccf2",
   "metadata": {},
   "source": [
    "`pivot table`: the department and their median age"
   ]
  },
  {
   "cell_type": "code",
   "execution_count": null,
   "id": "6fc473f5",
   "metadata": {},
   "outputs": [],
   "source": []
  },
  {
   "cell_type": "markdown",
   "id": "d6e9e0c6",
   "metadata": {},
   "source": [
    "`multi-index pivot table`: Department and Education Field and check the maximum salary values of employees\n"
   ]
  },
  {
   "cell_type": "code",
   "execution_count": null,
   "id": "ea2597d7",
   "metadata": {},
   "outputs": [],
   "source": []
  },
  {
   "cell_type": "markdown",
   "id": "86f96d76",
   "metadata": {},
   "source": [
    "### Differences between pivot table and groupby function"
   ]
  },
  {
   "cell_type": "code",
   "execution_count": null,
   "id": "70db1f16",
   "metadata": {},
   "outputs": [],
   "source": []
  },
  {
   "cell_type": "markdown",
   "id": "6c4911c5",
   "metadata": {},
   "source": [
    "`groupby`: team mean age by team abbreviation & season."
   ]
  },
  {
   "cell_type": "code",
   "execution_count": null,
   "id": "2b545d9d",
   "metadata": {},
   "outputs": [],
   "source": []
  },
  {
   "cell_type": "markdown",
   "id": "4176d163",
   "metadata": {},
   "source": [
    "`pivot_table`: team mean age by team abbreviation & season."
   ]
  },
  {
   "cell_type": "code",
   "execution_count": null,
   "id": "58a42f7d",
   "metadata": {},
   "outputs": [],
   "source": []
  },
  {
   "cell_type": "markdown",
   "id": "9b715869",
   "metadata": {},
   "source": [
    "### crosstab"
   ]
  },
  {
   "cell_type": "markdown",
   "id": "cd2a7925",
   "metadata": {},
   "source": [
    "* Compute a simple cross tabulation of two (or more) factors. By default computes a frequency table of the factors unless an array of values and an aggregation function are passed. Usually used to see the frequency of two qualitative variables: how many times the value of one column happens in the other one"
   ]
  },
  {
   "cell_type": "markdown",
   "id": "1c5afb57",
   "metadata": {},
   "source": [
    "```pd.crosstab(df[column1], df[column2])```"
   ]
  },
  {
   "cell_type": "code",
   "execution_count": null,
   "id": "72c54b06",
   "metadata": {},
   "outputs": [],
   "source": []
  },
  {
   "cell_type": "markdown",
   "id": "f465cda9",
   "metadata": {},
   "source": [
    "------------------------------------------------------------------------------------------------------------------------------------------------------------------------------------------------------------"
   ]
  },
  {
   "cell_type": "markdown",
   "id": "978c1560",
   "metadata": {},
   "source": [
    "## Data combination: mixing dataframes"
   ]
  },
  {
   "cell_type": "markdown",
   "id": "10d3eb62",
   "metadata": {
    "lang": "en"
   },
   "source": [
    "- https://realpython.com/pandas-merge-join-and-concat/\n",
    "- https://pandas.pydata.org/pandas-docs/stable/user_guide/merging.html"
   ]
  },
  {
   "cell_type": "code",
   "execution_count": null,
   "id": "66c3facb",
   "metadata": {},
   "outputs": [],
   "source": []
  },
  {
   "cell_type": "markdown",
   "id": "82c60a7d",
   "metadata": {},
   "source": [
    "### Concat: two things together\n",
    "We join dataframes along axis 0 one below the other. Align columns by label."
   ]
  },
  {
   "cell_type": "code",
   "execution_count": null,
   "id": "ac484cd6",
   "metadata": {
    "scrolled": false
   },
   "outputs": [],
   "source": [
    "df = pd.read_csv('https://raw.githubusercontent.com/justmarkham/DAT8/master/data/u.user',\n",
    "                             sep='|', \n",
    "                             index_col='user_id')\n",
    "df.sample()"
   ]
  },
  {
   "cell_type": "code",
   "execution_count": null,
   "id": "3a21bc6a",
   "metadata": {},
   "outputs": [],
   "source": []
  },
  {
   "cell_type": "markdown",
   "id": "0ac7695b",
   "metadata": {},
   "source": [
    "#### Concatenating on axis 0 (rows)"
   ]
  },
  {
   "cell_type": "code",
   "execution_count": null,
   "id": "049f6eaf",
   "metadata": {},
   "outputs": [],
   "source": []
  },
  {
   "cell_type": "markdown",
   "id": "7b5d00f5",
   "metadata": {},
   "source": [
    "#### Concatenating on axis 1 (columns)"
   ]
  },
  {
   "cell_type": "code",
   "execution_count": null,
   "id": "445dba1d",
   "metadata": {},
   "outputs": [],
   "source": []
  },
  {
   "cell_type": "markdown",
   "id": "ccd65ff4",
   "metadata": {},
   "source": [
    "![sql joins](https://upload.wikimedia.org/wikipedia/commons/9/9d/SQL_Joins.svg)"
   ]
  },
  {
   "cell_type": "markdown",
   "id": "weekly-klein",
   "metadata": {},
   "source": [
    "### Merge: related columns"
   ]
  },
  {
   "cell_type": "markdown",
   "id": "8efd9a95",
   "metadata": {
    "lang": "en"
   },
   "source": [
    "[Merge()](https://pandas.pydata.org/docs/reference/api/pandas.DataFrame.merge.html) is most useful when you want to merge rows that share data."
   ]
  },
  {
   "cell_type": "code",
   "execution_count": null,
   "id": "b45d2d37",
   "metadata": {},
   "outputs": [],
   "source": [
    "from IPython.display import display_html "
   ]
  },
  {
   "cell_type": "code",
   "execution_count": null,
   "id": "94d240f4",
   "metadata": {},
   "outputs": [],
   "source": [
    "df1 = pd.DataFrame(\n",
    "    {\n",
    "        \"key1\": [\"K0\", \"K0\", \"K1\", \"K2\"],\n",
    "        \"key2\": [\"K0\", \"K1\", \"K0\", \"K1\"],\n",
    "        \"A\": [\"A0\", \"A1\", \"A2\", \"A3\"],\n",
    "        \"B\": [\"B0\", \"B1\", \"B2\", \"B3\"],\n",
    "    }\n",
    ")\n",
    "\n",
    "\n",
    "df2 = pd.DataFrame(\n",
    "    {\n",
    "        \"key1\": [\"K0\", \"K1\", \"K1\", \"K2\"],\n",
    "        \"key2\": [\"K0\", \"K0\", \"K0\", \"K0\"],\n",
    "        \"C\": [\"C0\", \"C1\", \"C2\", \"C3\"],\n",
    "        \"D\": [\"D0\", \"D1\", \"D2\", \"D3\"],\n",
    "    }\n",
    ")\n",
    "\n",
    "df3 = pd.DataFrame(\n",
    "    {\n",
    "        \"key1\": [\"K90\", \"K1\", \"K1\", \"K2\"],\n",
    "        \"key2\": [\"K0\", \"K0\", \"K5\", \"K0\"],\n",
    "        \"C\": [\"C0\", \"C1\", \"C2\", \"C3\"],\n",
    "        \"Y\": [\"D0\", \"D70\", \"D2\", \"D5\"],\n",
    "    }\n",
    ")"
   ]
  },
  {
   "cell_type": "code",
   "execution_count": null,
   "id": "a0378289",
   "metadata": {},
   "outputs": [],
   "source": [
    "df1_styler = df1.style.set_table_attributes(\"style='display:inline'\").set_caption('Left table')\n",
    "df2_styler = df2.style.set_table_attributes(\"style='display:inline'\").set_caption('Right table')\n",
    "display_html(df1_styler._repr_html_() + \" \" + df2_styler._repr_html_(), raw=True)"
   ]
  },
  {
   "cell_type": "code",
   "execution_count": null,
   "id": "061cd607",
   "metadata": {},
   "outputs": [],
   "source": [
    "# merge, default is inner\n",
    "\n",
    "result = pd.merge(df1, df2)\n",
    "result"
   ]
  },
  {
   "cell_type": "markdown",
   "id": "d71c38f1",
   "metadata": {},
   "source": [
    "#### LEFT Merge"
   ]
  },
  {
   "cell_type": "code",
   "execution_count": null,
   "id": "d8de1abc",
   "metadata": {},
   "outputs": [],
   "source": [
    "left_merge = pd.merge(df1, df2, how=\"left\")\n",
    "\n",
    "\n",
    "df1_styler = df1.style.set_table_attributes(\"style='display:inline'\").set_caption('Left table')\n",
    "df2_styler = df2.style.set_table_attributes(\"style='display:inline'\").set_caption('Right table')\n",
    "left_merge = left_merge.style.set_table_attributes(\"style='display:inline'\").set_caption(\"left_merge\")\n",
    "\n",
    "display_html(df1_styler._repr_html_() +  \" \" + df2_styler._repr_html_(), raw=True)"
   ]
  },
  {
   "cell_type": "code",
   "execution_count": null,
   "id": "bea632c6",
   "metadata": {},
   "outputs": [],
   "source": [
    "display_html(left_merge._repr_html_(), raw=True)"
   ]
  },
  {
   "cell_type": "markdown",
   "id": "364ddbeb",
   "metadata": {},
   "source": [
    "#### RIGHT Merge"
   ]
  },
  {
   "cell_type": "code",
   "execution_count": null,
   "id": "0ccee3bd",
   "metadata": {
    "scrolled": true
   },
   "outputs": [],
   "source": [
    "right_merge = pd.merge(df1, df2, how=\"right\")\n",
    "\n",
    "\n",
    "df1_styler = df1.style.set_table_attributes(\"style='display:inline'\").set_caption('Left table')\n",
    "df2_styler = df2.style.set_table_attributes(\"style='display:inline'\").set_caption('Right table')\n",
    "right_merge = right_merge.style.set_table_attributes(\"style='display:inline'\").set_caption(\"right_merge\")\n",
    "\n",
    "display_html(df1_styler._repr_html_() + \" \" + df2_styler._repr_html_(),raw=True)"
   ]
  },
  {
   "cell_type": "code",
   "execution_count": null,
   "id": "8125da98",
   "metadata": {},
   "outputs": [],
   "source": [
    "display_html(right_merge._repr_html_(), raw=True)"
   ]
  },
  {
   "cell_type": "markdown",
   "id": "0b9cac56",
   "metadata": {},
   "source": [
    "#### INNER Merge"
   ]
  },
  {
   "cell_type": "code",
   "execution_count": null,
   "id": "0ebb4de2",
   "metadata": {
    "scrolled": false
   },
   "outputs": [],
   "source": [
    "inner_merge = pd.merge(df1, df2, how=\"inner\")\n",
    "\n",
    "\n",
    "df1_styler = df1.style.set_table_attributes(\"style='display:inline'\").set_caption('Left table')\n",
    "df2_styler = df2.style.set_table_attributes(\"style='display:inline'\").set_caption('Right table')\n",
    "inner_merge = inner_merge.style.set_table_attributes(\"style='display:inline'\").set_caption(\"inner_merge\")\n",
    "\n",
    "display_html(df1_styler._repr_html_() +  \" \" + df2_styler._repr_html_(), raw=True)"
   ]
  },
  {
   "cell_type": "code",
   "execution_count": null,
   "id": "84ffe258",
   "metadata": {},
   "outputs": [],
   "source": [
    "display_html(inner_merge._repr_html_(), raw=True)"
   ]
  },
  {
   "cell_type": "markdown",
   "id": "d84be3ac",
   "metadata": {},
   "source": [
    "#### OUTER Merge"
   ]
  },
  {
   "cell_type": "code",
   "execution_count": null,
   "id": "c2d03df5",
   "metadata": {
    "scrolled": false
   },
   "outputs": [],
   "source": [
    "outer_merge = pd.merge(df1, df2, how=\"outer\")\n",
    "\n",
    "df1_styler = df1.style.set_table_attributes(\"style='display:inline'\").set_caption('Left table')\n",
    "df2_styler = df2.style.set_table_attributes(\"style='display:inline'\").set_caption('Right table')\n",
    "outer_merge = outer_merge.style.set_table_attributes(\"style='display:inline'\").set_caption(\"outer_merge\")\n",
    "\n",
    "display_html(df1_styler._repr_html_() +  \" \" + df2_styler._repr_html_(), raw=True)"
   ]
  },
  {
   "cell_type": "code",
   "execution_count": null,
   "id": "80fe9a97",
   "metadata": {},
   "outputs": [],
   "source": [
    "display_html(outer_merge._repr_html_(), raw=True)"
   ]
  },
  {
   "cell_type": "markdown",
   "id": "e6ce32d1",
   "metadata": {},
   "source": [
    "### Merging & Concatenating in two different columns"
   ]
  },
  {
   "cell_type": "code",
   "execution_count": null,
   "id": "7a64637f",
   "metadata": {},
   "outputs": [],
   "source": [
    "df1_docs = pd.DataFrame({'lkey': ['foo', 'bar', 'baz', 'foo'],\n",
    "                    'value': [1, 2, 3, 5]})\n",
    "df2_docs = pd.DataFrame({'rkey': ['foo', 'bar', 'baz', 'foo'],\n",
    "                    'value': [5, 6, 7, 8]})"
   ]
  },
  {
   "cell_type": "code",
   "execution_count": null,
   "id": "81d632df",
   "metadata": {},
   "outputs": [],
   "source": [
    "df1_styler = df1_docs.style.set_table_attributes(\"style='display:inline'\").set_caption('Left table')\n",
    "df2_styler = df2_docs.style.set_table_attributes(\"style='display:inline'\").set_caption('Right table')\n",
    "\n",
    "display_html(df1_styler._repr_html_() +  \" \" + df2_styler._repr_html_(), raw=True)"
   ]
  },
  {
   "cell_type": "markdown",
   "id": "0dda9802",
   "metadata": {},
   "source": [
    "#### Concatenating in two different columns"
   ]
  },
  {
   "cell_type": "code",
   "execution_count": null,
   "id": "b40c7ccf",
   "metadata": {},
   "outputs": [],
   "source": [
    "concat_docs = pd.concat([df1_docs, df2_docs], axis=1, keys=[\"1st table\", \"2nd table\"])\n",
    "\n",
    "df1_styler = df1_docs.style.set_table_attributes(\"style='display:inline'\").set_caption('Left table')\n",
    "df2_styler = df2_docs.style.set_table_attributes(\"style='display:inline'\").set_caption('Right table')\n",
    "merge_styler = concat_docs.style.set_table_attributes(\"style='display:inline'\").set_caption('concat_docs')\n",
    "\n",
    "display_html(df1_styler._repr_html_() +  \" \" + df2_styler._repr_html_(), raw=True)"
   ]
  },
  {
   "cell_type": "code",
   "execution_count": null,
   "id": "387e9a7d",
   "metadata": {},
   "outputs": [],
   "source": [
    "display_html(merge_styler._repr_html_(), raw=True)"
   ]
  },
  {
   "cell_type": "markdown",
   "id": "156a8141",
   "metadata": {},
   "source": [
    "#### Merging in two different columns"
   ]
  },
  {
   "cell_type": "code",
   "execution_count": null,
   "id": "8fb65cb5",
   "metadata": {},
   "outputs": [],
   "source": [
    "df1_styler = df1_docs.style.set_table_attributes(\"style='display:inline'\").set_caption('Left table')\n",
    "df2_styler = df2_docs.style.set_table_attributes(\"style='display:inline'\").set_caption('Right table')\n",
    "\n",
    "display_html(df1_styler._repr_html_() +  \" \" + df2_styler._repr_html_(), raw=True)"
   ]
  },
  {
   "cell_type": "code",
   "execution_count": null,
   "id": "c8d3a53c",
   "metadata": {},
   "outputs": [],
   "source": [
    "merge_docs = df1_docs.merge(df2_docs, left_on='lkey', right_on='rkey', suffixes = [\"_fromleft\", \"_fromright\"])"
   ]
  },
  {
   "cell_type": "code",
   "execution_count": null,
   "id": "893ba4c2",
   "metadata": {},
   "outputs": [],
   "source": [
    "merge_docs = df1_docs.merge(df2_docs, left_on='lkey', right_on='rkey', suffixes = [\"_from_left\", \"_from_right\"])\n",
    "\n",
    "\n",
    "df1_styler = df1_docs.style.set_table_attributes(\"style='display:inline'\").set_caption('Left table')\n",
    "df2_styler = df2_docs.style.set_table_attributes(\"style='display:inline'\").set_caption('Right table')\n",
    "merge_styler = merge_docs.style.set_table_attributes(\"style='display:inline'\").set_caption('merge_docs')\n",
    "\n",
    "display_html(df1_styler._repr_html_() + \" \" + df2_styler._repr_html_(), raw=True)"
   ]
  },
  {
   "cell_type": "code",
   "execution_count": null,
   "id": "8d2c6ec3",
   "metadata": {},
   "outputs": [],
   "source": [
    "display_html(merge_styler._repr_html_(), raw=True)"
   ]
  },
  {
   "cell_type": "code",
   "execution_count": null,
   "id": "9f9262e4",
   "metadata": {},
   "outputs": [],
   "source": [
    "# suffixes: https://pandas.pydata.org/docs/reference/api/pandas.DataFrame.merge.html"
   ]
  },
  {
   "cell_type": "code",
   "execution_count": null,
   "id": "7f78e514",
   "metadata": {},
   "outputs": [],
   "source": [
    "# concat: putting things together\n",
    "# join/merge: putting things together THAT ARE RELATED\n",
    "    # related info in the same place -> reduces redundancy"
   ]
  },
  {
   "cell_type": "markdown",
   "id": "5e952e34",
   "metadata": {
    "lang": "en"
   },
   "source": [
    "### Join: relating index\n",
    "The join, unlike the merge, will join the dataframes and where there are no records in the \"index\" it will put NaN"
   ]
  },
  {
   "cell_type": "code",
   "execution_count": null,
   "id": "7d4660ec",
   "metadata": {},
   "outputs": [],
   "source": [
    "import numpy as np\n",
    "import pandas as pd   \n",
    "from IPython.display import display_html "
   ]
  },
  {
   "cell_type": "code",
   "execution_count": null,
   "id": "e56efa8f",
   "metadata": {},
   "outputs": [],
   "source": [
    "left_df = pd.DataFrame(\n",
    "    {\"A\": [\"A0\", \"A1\", \"A2\"], \"B\": [\"B0\", \"B1\", \"B2\"]}, index=[\"K0\", \"K1\", \"K2\"]\n",
    ")\n",
    "\n",
    "\n",
    "right_df = pd.DataFrame(\n",
    "    {\"C\": [\"C0\", \"C2\", \"C3\"], \"D\": [\"D0\", \"D2\", \"D3\"]}, index=[\"K0\", \"K2\", \"K3\"]\n",
    ")"
   ]
  },
  {
   "cell_type": "code",
   "execution_count": null,
   "id": "081741f1",
   "metadata": {},
   "outputs": [],
   "source": [
    "df1_styler = left_df.style.set_table_attributes(\"style='display:inline'\").set_caption('Left table')\n",
    "df2_styler = right_df.style.set_table_attributes(\"style='display:inline'\").set_caption('Right table')\n",
    "\n",
    "display_html(df1_styler._repr_html_()+ df2_styler._repr_html_(), raw=True)"
   ]
  },
  {
   "cell_type": "code",
   "execution_count": null,
   "id": "d4599a11",
   "metadata": {},
   "outputs": [],
   "source": [
    "result = left_df.join(right_df, how=\"inner\")\n",
    "\n",
    "#Rendering the df's in the same line. No need to learn this code\n",
    "\n",
    "df1_styler = left_df.style.set_table_attributes(\"style='display:inline'\").set_caption('Left table')\n",
    "df2_styler = right_df.style.set_table_attributes(\"style='display:inline'\").set_caption('Right table')\n",
    "df1_df2_merged = result.style.set_table_attributes(\"style='display:inline'\").set_caption('JOIN')\n",
    "\n",
    "display_html(df1_styler._repr_html_()+ df2_styler._repr_html_() + df1_df2_merged._repr_html_(), raw=True)\n",
    "#display_html(df1_styler._repr_html_()+ df2_styler._repr_html_(), raw=True)"
   ]
  },
  {
   "cell_type": "markdown",
   "id": "f3ad1415",
   "metadata": {},
   "source": [
    "### Differences between join & merge"
   ]
  },
  {
   "cell_type": "markdown",
   "id": "a158750f",
   "metadata": {},
   "source": [
    "<figure class=\"wp-block-table is-style-stripes\"><table class=\"has-fixed-layout\"><thead><tr><th><strong>Join Feature</strong></th><th class=\"has-text-align-center\" data-align=\"center\"><strong>join()</strong></th><th class=\"has-text-align-center\" data-align=\"center\"><strong>merge()</strong></th></tr></thead><tbody><tr><td>inner</td><td class=\"has-text-align-center\" data-align=\"center\">Yes</td><td class=\"has-text-align-center\" data-align=\"center\">Yes</td></tr><tr><td>left</td><td class=\"has-text-align-center\" data-align=\"center\">Yes</td><td class=\"has-text-align-center\" data-align=\"center\">Yes</td></tr><tr><td>right</td><td class=\"has-text-align-center\" data-align=\"center\">Yes</td><td class=\"has-text-align-center\" data-align=\"center\">Yes</td></tr><tr><td>outer</td><td class=\"has-text-align-center\" data-align=\"center\">Yes</td><td class=\"has-text-align-center\" data-align=\"center\">Yes</td></tr><tr><td>cross</td><td class=\"has-text-align-center\" data-align=\"center\">X</td><td class=\"has-text-align-center\" data-align=\"center\">Yes</td></tr><tr><td>Join on Indices</td><td class=\"has-text-align-center\" data-align=\"center\">Yes</td><td class=\"has-text-align-center\" data-align=\"center\">Yes</td></tr><tr><td>Join on Columns</td><td class=\"has-text-align-center\" data-align=\"center\">X</td><td class=\"has-text-align-center\" data-align=\"center\">Yes</td></tr><tr><td>Left on column, right on index</td><td class=\"has-text-align-center\" data-align=\"center\">Yes</td><td class=\"has-text-align-center\" data-align=\"center\">Yes</td></tr><tr><td>Left on index, right on column</td><td class=\"has-text-align-center\" data-align=\"center\">X</td><td class=\"has-text-align-center\" data-align=\"center\">Yes</td></tr></tbody></table>"
   ]
  },
  {
   "cell_type": "markdown",
   "id": "4f340806",
   "metadata": {
    "lang": "en"
   },
   "source": [
    "## Pandas usual methods\n",
    "```python\n",
    "df.head() # prints the head, default 5 rows\n",
    "df.tail() # set the tail, default 5 rows\n",
    "df.describe() # statistical description\n",
    "df.info() # df information\n",
    "df.columns # show column\n",
    "df.index # show index\n",
    "df.dtypes # show column data types\n",
    "df.plot() # make a plot\n",
    "df.hist() # make a histogram\n",
    "df.col.value_counts() # counts the unique values ​​of a column\n",
    "df.col.unique() # returns unique values ​​from a column\n",
    "df.copy() # copies the df\n",
    "df.drop() # remove columns or rows (axis=0,1)\n",
    "df.dropna() # remove nulls\n",
    "df.fillna() # fills nulls\n",
    "df.shape # dimensions of the df\n",
    "df._get_numeric_data() # select numeric columns\n",
    "df.rename() # rename columns\n",
    "df.str.replace() # replace columns of strings\n",
    "df.astype(dtype='float32') # change the data type\n",
    "df.iloc[] # locate by index\n",
    "df.loc[] # locate by element\n",
    "df.transpose() # transposes the df\n",
    "df.T\n",
    "df.sample(n, frac) # sample from df\n",
    "df.col.sum() # sum of a column\n",
    "df.col.max() # maximum of a column\n",
    "df.col.min() # minimum of one column\n",
    "df[col] # select column\n",
    "df.col\n",
    "df.isnull() # null values\n",
    "df.isna()\n",
    "df.notna() # not null values\n",
    "df.drop_duplicates() # remove duplicates\n",
    "df.reset_index(inplace=True) # reset the index and overwrite\n",
    "```"
   ]
  },
  {
   "cell_type": "markdown",
   "id": "stylish-jefferson",
   "metadata": {},
   "source": [
    "## Further materials\n",
    "\n",
    "* [Read the docs!](https://pandas.pydata.org/pandas-docs/stable/index.html)\n",
    "* [Cheatsheet](https://pandas.pydata.org/Pandas_Cheat_Sheet.pdf)\n",
    "* [Exercises to practice](https://github.com/guipsamora/pandas_exercises)\n",
    "* [More on merge, concat, and join](https://realpython.com/pandas-merge-join-and-concat/#pandas-join-combining-data-on-a-column-or-index). And [even more!](https://pandas.pydata.org/pandas-docs/stable/user_guide/merging.html)\n",
    " "
   ]
  }
 ],
 "metadata": {
  "kernelspec": {
   "display_name": "Python 3 (ipykernel)",
   "language": "python",
   "name": "python3"
  },
  "language_info": {
   "codemirror_mode": {
    "name": "ipython",
    "version": 3
   },
   "file_extension": ".py",
   "mimetype": "text/x-python",
   "name": "python",
   "nbconvert_exporter": "python",
   "pygments_lexer": "ipython3",
   "version": "3.9.12"
  },
  "nbTranslate": {
   "displayLangs": [
    "en",
    "es"
   ],
   "hotkey": "alt-a",
   "langInMainMenu": true,
   "sourceLang": "es",
   "targetLang": "en",
   "useGoogleTranslate": true
  },
  "toc": {
   "base_numbering": 1,
   "nav_menu": {},
   "number_sections": true,
   "sideBar": true,
   "skip_h1_title": true,
   "title_cell": "Table of Contents",
   "title_sidebar": "Contents",
   "toc_cell": true,
   "toc_position": {
    "height": "calc(100% - 180px)",
    "left": "10px",
    "top": "150px",
    "width": "269.766px"
   },
   "toc_section_display": true,
   "toc_window_display": false
  },
  "varInspector": {
   "cols": {
    "lenName": 16,
    "lenType": 16,
    "lenVar": 40
   },
   "kernels_config": {
    "python": {
     "delete_cmd_postfix": "",
     "delete_cmd_prefix": "del ",
     "library": "var_list.py",
     "varRefreshCmd": "print(var_dic_list())"
    },
    "r": {
     "delete_cmd_postfix": ") ",
     "delete_cmd_prefix": "rm(",
     "library": "var_list.r",
     "varRefreshCmd": "cat(var_dic_list()) "
    }
   },
   "types_to_exclude": [
    "module",
    "function",
    "builtin_function_or_method",
    "instance",
    "_Feature"
   ],
   "window_display": false
  }
 },
 "nbformat": 4,
 "nbformat_minor": 5
}
