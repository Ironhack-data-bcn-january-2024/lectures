{
 "cells": [
  {
   "cell_type": "markdown",
   "id": "subjective-quarter",
   "metadata": {
    "toc": true
   },
   "source": [
    "<h1>Table of Contents<span class=\"tocSkip\"></span></h1>\n",
    "<div class=\"toc\"><ul class=\"toc-item\"><li><span><a href=\"#Arithmetic-operators\" data-toc-modified-id=\"Arithmetic-operators-1\"><span class=\"toc-item-num\">1&nbsp;&nbsp;</span>Arithmetic operators</a></span></li><li><span><a href=\"#Assignment-operators\" data-toc-modified-id=\"Assignment-operators-2\"><span class=\"toc-item-num\">2&nbsp;&nbsp;</span>Assignment operators</a></span></li><li><span><a href=\"#Relational-operators\" data-toc-modified-id=\"Relational-operators-3\"><span class=\"toc-item-num\">3&nbsp;&nbsp;</span>Relational operators</a></span><ul class=\"toc-item\"><li><span><a href=\"#Extra:-equals-vs-is\" data-toc-modified-id=\"Extra:-equals-vs-is-3.1\"><span class=\"toc-item-num\">3.1&nbsp;&nbsp;</span>Extra: equals vs is</a></span><ul class=\"toc-item\"><li><span><a href=\"#\" data-toc-modified-id=\"-3.1.1\"><span class=\"toc-item-num\">3.1.1&nbsp;&nbsp;</span></a></span></li></ul></li></ul></li><li><span><a href=\"#Pseudocode\" data-toc-modified-id=\"Pseudocode-4\"><span class=\"toc-item-num\">4&nbsp;&nbsp;</span>Pseudocode</a></span></li><li><span><a href=\"#The-&quot;If&quot;-statement\" data-toc-modified-id=\"The-&quot;If&quot;-statement-5\"><span class=\"toc-item-num\">5&nbsp;&nbsp;</span>The \"If\" statement</a></span><ul class=\"toc-item\"><li><ul class=\"toc-item\"><li><span><a href=\"#Syntax-things-to-consider:\" data-toc-modified-id=\"Syntax-things-to-consider:-5.0.1\"><span class=\"toc-item-num\">5.0.1&nbsp;&nbsp;</span>Syntax things to consider:</a></span></li></ul></li><li><span><a href=\"#elif\" data-toc-modified-id=\"elif-5.1\"><span class=\"toc-item-num\">5.1&nbsp;&nbsp;</span>elif</a></span></li><li><span><a href=\"#else\" data-toc-modified-id=\"else-5.2\"><span class=\"toc-item-num\">5.2&nbsp;&nbsp;</span>else</a></span></li><li><span><a href=\"#Your-examples-🚀\" data-toc-modified-id=\"Your-examples-🚀-5.3\"><span class=\"toc-item-num\">5.3&nbsp;&nbsp;</span>Your examples 🚀</a></span></li></ul></li><li><span><a href=\"#Summary\" data-toc-modified-id=\"Summary-6\"><span class=\"toc-item-num\">6&nbsp;&nbsp;</span>Summary</a></span></li><li><span><a href=\"#Further-materials\" data-toc-modified-id=\"Further-materials-7\"><span class=\"toc-item-num\">7&nbsp;&nbsp;</span>Further materials</a></span></li></ul></div>"
   ]
  },
  {
   "cell_type": "markdown",
   "id": "italic-editor",
   "metadata": {},
   "source": [
    "# Control Flow    \n",
    "Let`s go with the flow"
   ]
  },
  {
   "cell_type": "markdown",
   "id": "143f947d",
   "metadata": {
    "lang": "en"
   },
   "source": [
    "## Arithmetic operators"
   ]
  },
  {
   "cell_type": "markdown",
   "id": "9aecbca0",
   "metadata": {
    "lang": "en"
   },
   "source": [
    "Arithmetic operators are used to perform arithmetic operations, that is, to manipulate numerical data through mathematical operations such as addition, subtraction or multiplication..."
   ]
  },
  {
   "cell_type": "code",
   "execution_count": 1,
   "id": "acf7670d",
   "metadata": {},
   "outputs": [],
   "source": [
    "a = 10\n",
    "b = 2"
   ]
  },
  {
   "cell_type": "code",
   "execution_count": 2,
   "id": "da0b9f37",
   "metadata": {},
   "outputs": [
    {
     "data": {
      "text/plain": [
       "12"
      ]
     },
     "execution_count": 2,
     "metadata": {},
     "output_type": "execute_result"
    }
   ],
   "source": [
    "a + b "
   ]
  },
  {
   "cell_type": "code",
   "execution_count": 3,
   "id": "72e458a2",
   "metadata": {},
   "outputs": [
    {
     "data": {
      "text/plain": [
       "8"
      ]
     },
     "execution_count": 3,
     "metadata": {},
     "output_type": "execute_result"
    }
   ],
   "source": [
    "a -b  # substractioj"
   ]
  },
  {
   "cell_type": "code",
   "execution_count": 4,
   "id": "01e0cbf2",
   "metadata": {},
   "outputs": [
    {
     "data": {
      "text/plain": [
       "20"
      ]
     },
     "execution_count": 4,
     "metadata": {},
     "output_type": "execute_result"
    }
   ],
   "source": [
    "a * b # multiplication"
   ]
  },
  {
   "cell_type": "code",
   "execution_count": 5,
   "id": "fa625d4a",
   "metadata": {},
   "outputs": [
    {
     "data": {
      "text/plain": [
       "5.0"
      ]
     },
     "execution_count": 5,
     "metadata": {},
     "output_type": "execute_result"
    }
   ],
   "source": [
    "a / b  # division"
   ]
  },
  {
   "cell_type": "code",
   "execution_count": 6,
   "id": "e82b7fa7",
   "metadata": {},
   "outputs": [
    {
     "data": {
      "text/plain": [
       "0"
      ]
     },
     "execution_count": 6,
     "metadata": {},
     "output_type": "execute_result"
    }
   ],
   "source": [
    "b // a # floor division: division & rounding down -> int"
   ]
  },
  {
   "cell_type": "code",
   "execution_count": 7,
   "id": "c0776bd7",
   "metadata": {},
   "outputs": [
    {
     "data": {
      "text/plain": [
       "100"
      ]
     },
     "execution_count": 7,
     "metadata": {},
     "output_type": "execute_result"
    }
   ],
   "source": [
    "a ** b # power"
   ]
  },
  {
   "cell_type": "code",
   "execution_count": 12,
   "id": "78b6f4d8",
   "metadata": {
    "scrolled": false
   },
   "outputs": [
    {
     "data": {
      "text/plain": [
       "2"
      ]
     },
     "execution_count": 12,
     "metadata": {},
     "output_type": "execute_result"
    }
   ],
   "source": [
    "b % a # modulus => remainder"
   ]
  },
  {
   "cell_type": "code",
   "execution_count": 15,
   "id": "3a1d8324",
   "metadata": {},
   "outputs": [
    {
     "data": {
      "text/plain": [
       "11"
      ]
     },
     "execution_count": 15,
     "metadata": {},
     "output_type": "execute_result"
    }
   ],
   "source": [
    "# arithmetic operators\n",
    "\n",
    "a = a + 1\n",
    "a"
   ]
  },
  {
   "cell_type": "code",
   "execution_count": 17,
   "id": "b2629f59",
   "metadata": {},
   "outputs": [],
   "source": [
    "a += 1 # 1. Operation & 2. Assign\n",
    "        #  +, = "
   ]
  },
  {
   "cell_type": "code",
   "execution_count": 18,
   "id": "fdcb2b68",
   "metadata": {},
   "outputs": [],
   "source": [
    "a -= 1"
   ]
  },
  {
   "cell_type": "code",
   "execution_count": 19,
   "id": "52a04141",
   "metadata": {},
   "outputs": [],
   "source": [
    "b *= 10"
   ]
  },
  {
   "cell_type": "code",
   "execution_count": 20,
   "id": "dfbd762f",
   "metadata": {},
   "outputs": [],
   "source": [
    "b /= 10"
   ]
  },
  {
   "cell_type": "code",
   "execution_count": 22,
   "id": "7cb11b48",
   "metadata": {},
   "outputs": [],
   "source": [
    "# overwriting / modifyng the value of the variable"
   ]
  },
  {
   "cell_type": "code",
   "execution_count": 25,
   "id": "18ae340f",
   "metadata": {},
   "outputs": [
    {
     "data": {
      "text/plain": [
       "12"
      ]
     },
     "execution_count": 25,
     "metadata": {},
     "output_type": "execute_result"
    }
   ],
   "source": [
    "a"
   ]
  },
  {
   "cell_type": "code",
   "execution_count": 26,
   "id": "f5470d46",
   "metadata": {},
   "outputs": [],
   "source": [
    "a = a + 1"
   ]
  },
  {
   "cell_type": "code",
   "execution_count": 27,
   "id": "adc54868",
   "metadata": {},
   "outputs": [
    {
     "data": {
      "text/plain": [
       "13"
      ]
     },
     "execution_count": 27,
     "metadata": {},
     "output_type": "execute_result"
    }
   ],
   "source": [
    "a"
   ]
  },
  {
   "cell_type": "code",
   "execution_count": 40,
   "id": "961c3635",
   "metadata": {},
   "outputs": [],
   "source": [
    "a += 1"
   ]
  },
  {
   "cell_type": "code",
   "execution_count": 41,
   "id": "777e8c61",
   "metadata": {},
   "outputs": [
    {
     "data": {
      "text/plain": [
       "20"
      ]
     },
     "execution_count": 41,
     "metadata": {},
     "output_type": "execute_result"
    }
   ],
   "source": [
    "a"
   ]
  },
  {
   "cell_type": "code",
   "execution_count": 10,
   "id": "64dbea49",
   "metadata": {},
   "outputs": [
    {
     "name": "stdout",
     "output_type": "stream",
     "text": [
      "10\n",
      "2\n"
     ]
    }
   ],
   "source": [
    "print(a)\n",
    "print(b)"
   ]
  },
  {
   "cell_type": "code",
   "execution_count": null,
   "id": "540b1186",
   "metadata": {},
   "outputs": [],
   "source": [
    "# Range: 0...n-1 -> 0-9"
   ]
  },
  {
   "cell_type": "code",
   "execution_count": 46,
   "id": "2a2861a9",
   "metadata": {},
   "outputs": [
    {
     "name": "stdout",
     "output_type": "stream",
     "text": [
      "[1, 2, 3, 4, 5, 6, 7, 8, 9, 10, 11, 12, 13, 14, 15, 16, 17, 18, 19, 20, 21, 22, 23, 24, 25, 26, 27, 28, 29, 30, 31, 32, 33, 34, 35, 36, 37, 38, 39, 40, 41, 42, 43, 44, 45, 46, 47, 48, 49, 50, 51, 52, 53, 54, 55, 56, 57, 58, 59, 60, 61, 62, 63, 64, 65, 66, 67, 68, 69, 70, 71, 72, 73, 74, 75, 76, 77, 78, 79, 80, 81, 82, 83, 84, 85, 86, 87, 88, 89, 90, 91, 92, 93, 94, 95, 96, 97, 98, 99, 100]\n"
     ]
    }
   ],
   "source": [
    "new_list = []\n",
    "for i in range(1, 101, 1):\n",
    "    new_list.append(i)\n",
    "print(new_list)"
   ]
  },
  {
   "cell_type": "code",
   "execution_count": null,
   "id": "059f1904",
   "metadata": {},
   "outputs": [],
   "source": [
    "# 0, 1, 2, 3, 4, 5, 6, 7, 8, 9 -> 10 times"
   ]
  },
  {
   "cell_type": "code",
   "execution_count": 77,
   "id": "e0d01e1d",
   "metadata": {},
   "outputs": [
    {
     "name": "stdout",
     "output_type": "stream",
     "text": [
      "72\n",
      "73\n",
      "74\n",
      "75\n",
      "76\n",
      "77\n",
      "78\n",
      "79\n",
      "80\n",
      "81\n",
      "81\n"
     ]
    }
   ],
   "source": [
    "for i in range (10): # 10 times, 0-9\n",
    "    a += 1\n",
    "    print(a) # Debugging -> print for visibility\n",
    "    \n",
    "print(a) "
   ]
  },
  {
   "cell_type": "markdown",
   "id": "7dae48c3",
   "metadata": {},
   "source": [
    "`+`, `*`"
   ]
  },
  {
   "cell_type": "markdown",
   "id": "e6aaec42",
   "metadata": {
    "lang": "en"
   },
   "source": [
    "## Assignment operators"
   ]
  },
  {
   "cell_type": "markdown",
   "id": "3e1e56bd",
   "metadata": {
    "lang": "en"
   },
   "source": [
    "Assignment operators are those that allow you to give a value to a variable or modify it. Python has eight different assignment operators: a simple assignment operator and seven compound assignment operators."
   ]
  },
  {
   "cell_type": "markdown",
   "id": "fc5d346e",
   "metadata": {
    "lang": "en"
   },
   "source": [
    "* `=` Simple assignment `a=b`\n",
    "* `+=` Addition assignment `a+=b` Simple equivalent `a=a+b`\n",
    "* `-=` Subtraction assignment `a-=b` Simple equivalent `a=a-b`\n",
    "* `*=` Multiplication Assignment `a*=b` Simple Equivalent `a=a*b`\n",
    "* `/=` Division assignment `a/=b` Simple equivalent `a=a/b`\n",
    "* `%=` Module mapping `a/=b` Simple equivalent `a=a%b`\n",
    "* `//=` Integer Division Assignment `a//=b` Simple Equivalent `a=a//b`"
   ]
  },
  {
   "cell_type": "code",
   "execution_count": null,
   "id": "7dba4669",
   "metadata": {},
   "outputs": [],
   "source": []
  },
  {
   "cell_type": "markdown",
   "id": "89b42f24",
   "metadata": {
    "lang": "en"
   },
   "source": [
    "The simple assignment operator is the equals symbol (=) and operations performed on it always have the syntax: `variable = expression`. In this type of operation, first, the expression on the right is resolved and the resulting value is assigned to the variable on the left."
   ]
  },
  {
   "cell_type": "markdown",
   "id": "71a92117",
   "metadata": {
    "lang": "en"
   },
   "source": [
    "## Relational operators"
   ]
  },
  {
   "cell_type": "markdown",
   "id": "38d5146c",
   "metadata": {
    "lang": "en"
   },
   "source": [
    "Relational operators are symbols used to compare two values ​​or expressions. The result of the evaluation with these two operators can be True, if the comparison is true, or False, if the comparison is false."
   ]
  },
  {
   "cell_type": "markdown",
   "id": "b7d7c2b5",
   "metadata": {
    "lang": "en"
   },
   "source": [
    "* `==` Equal to `a==b`\n",
    "* `!=` Not equal to `a!=b`\n",
    "* `>` Greater than `a>b`\n",
    "* `<` Lesser than `a<b` \n",
    "* `>=` Greater than or equal to `a>=b`\n",
    "* `<=` Less than or equal to `a<=b`"
   ]
  },
  {
   "cell_type": "markdown",
   "id": "6bb2bc2a",
   "metadata": {
    "lang": "en"
   },
   "source": [
    "Note the difference between a single equals sign (=), which is an assignment, and a double equals sign (==), which is a relational operator\n",
    "\n",
    "**Hint: Use parentheses to maintain the order of operations."
   ]
  },
  {
   "cell_type": "code",
   "execution_count": 78,
   "id": "ac9ccfb3",
   "metadata": {},
   "outputs": [
    {
     "name": "stdout",
     "output_type": "stream",
     "text": [
      "81\n",
      "2.0\n"
     ]
    }
   ],
   "source": [
    "# Arithmetic \n",
    "# Assignment\n",
    "# Relational\n",
    "\n",
    "print(a)\n",
    "print(b)"
   ]
  },
  {
   "cell_type": "code",
   "execution_count": 79,
   "id": "acc4640f",
   "metadata": {},
   "outputs": [
    {
     "data": {
      "text/plain": [
       "False"
      ]
     },
     "execution_count": 79,
     "metadata": {},
     "output_type": "execute_result"
    }
   ],
   "source": [
    "a == b"
   ]
  },
  {
   "cell_type": "code",
   "execution_count": 80,
   "id": "bb6e56d6",
   "metadata": {},
   "outputs": [
    {
     "data": {
      "text/plain": [
       "True"
      ]
     },
     "execution_count": 80,
     "metadata": {},
     "output_type": "execute_result"
    }
   ],
   "source": [
    "a != b"
   ]
  },
  {
   "cell_type": "code",
   "execution_count": 81,
   "id": "a13c264a",
   "metadata": {},
   "outputs": [
    {
     "data": {
      "text/plain": [
       "True"
      ]
     },
     "execution_count": 81,
     "metadata": {},
     "output_type": "execute_result"
    }
   ],
   "source": [
    "a > b"
   ]
  },
  {
   "cell_type": "code",
   "execution_count": 82,
   "id": "10bbcffa",
   "metadata": {},
   "outputs": [
    {
     "data": {
      "text/plain": [
       "False"
      ]
     },
     "execution_count": 82,
     "metadata": {},
     "output_type": "execute_result"
    }
   ],
   "source": [
    "a < b"
   ]
  },
  {
   "cell_type": "code",
   "execution_count": 84,
   "id": "20f2e6b4",
   "metadata": {},
   "outputs": [
    {
     "name": "stdout",
     "output_type": "stream",
     "text": [
      "81\n",
      "2.0\n"
     ]
    }
   ],
   "source": [
    "print(a)\n",
    "print(b)"
   ]
  },
  {
   "cell_type": "code",
   "execution_count": 91,
   "id": "b03fcc24",
   "metadata": {},
   "outputs": [
    {
     "data": {
      "text/plain": [
       "True"
      ]
     },
     "execution_count": 91,
     "metadata": {},
     "output_type": "execute_result"
    }
   ],
   "source": [
    "# greater or equal: > = \n",
    "\n",
    "a >=b"
   ]
  },
  {
   "cell_type": "markdown",
   "id": "0bf8a056",
   "metadata": {
    "lang": "en"
   },
   "source": [
    "With just these two `True`|`False` values ​​we can create a whole branch of mathematics called [Boolean Algebra](https://en.wikipedia.org/wiki/Boolean_algebra#Laws). While in regular Algebra the basic operations are addition and multiplication, the main operations in Boolean Algebra are conjunction (and), disjunction (or), and negation (not). **It is the formalism used to describe the logical operations**.\n",
    "\n",
    "In [Python we write these operations](https://www.geeksforgeeks.org/python-3-logical-operators/?ref=rp) as:\n",
    "\n",
    "- `==`\n",
    "* `x` and `y`\n",
    "* `x` or `y`\n",
    "* not `x`\n",
    "* Extra: `^` [caret operator](https://stackoverflow.com/questions/2451386/what-does-the-caret-operator-do)\n",
    "\n",
    "Although the meaning of these operations is clear, we can fully define them with the so-called \"truth table\":"
   ]
  },
  {
   "cell_type": "markdown",
   "id": "coral-armenia",
   "metadata": {},
   "source": [
    "![tablas](http://elclubdelautodidacta.es/wp/wp-content/uploads/2012/11/python-logicos.png)"
   ]
  },
  {
   "cell_type": "markdown",
   "id": "c39be317",
   "metadata": {
    "lang": "en"
   },
   "source": [
    "We can also include the EXCLUSIVE OR, which is true when one and only one of the operands is true, but strictly you must know that it is derived from the three basic ones. Its representation is ^, the hat or caret."
   ]
  },
  {
   "cell_type": "markdown",
   "id": "30ba18d2",
   "metadata": {},
   "source": [
    "The **equal** operator"
   ]
  },
  {
   "cell_type": "code",
   "execution_count": null,
   "id": "8a9d90b6",
   "metadata": {},
   "outputs": [],
   "source": []
  },
  {
   "cell_type": "markdown",
   "id": "244fb7c7",
   "metadata": {},
   "source": [
    "### Extra: equals vs is"
   ]
  },
  {
   "cell_type": "markdown",
   "id": "c2fc6ff2",
   "metadata": {},
   "source": [
    "[Some docs](https://towardsdatascience.com/whats-the-difference-between-is-and-in-python-dc26406c85ad)"
   ]
  },
  {
   "cell_type": "markdown",
   "id": "e8287044",
   "metadata": {},
   "source": [
    "`==` -> points to the value <br>\n",
    "`is` -> looks for identity"
   ]
  },
  {
   "cell_type": "code",
   "execution_count": null,
   "id": "2870c2fc",
   "metadata": {},
   "outputs": [],
   "source": []
  },
  {
   "cell_type": "code",
   "execution_count": null,
   "id": "873ada8d",
   "metadata": {},
   "outputs": [],
   "source": [
    "# 5 is int\n",
    "# 5 == int"
   ]
  },
  {
   "cell_type": "markdown",
   "id": "29d1ae12",
   "metadata": {},
   "source": [
    "The **not equal** operator"
   ]
  },
  {
   "cell_type": "code",
   "execution_count": null,
   "id": "70ecf121",
   "metadata": {},
   "outputs": [],
   "source": []
  },
  {
   "cell_type": "markdown",
   "id": "d5122028",
   "metadata": {
    "lang": "en"
   },
   "source": [
    "The **and** operator evaluates whether both expressions are true. If both expressions are true, it returns True. If either expression is false, it returns False. These types of tables are formally known as \"truth tables\"."
   ]
  },
  {
   "cell_type": "code",
   "execution_count": null,
   "id": "6096259b",
   "metadata": {},
   "outputs": [],
   "source": []
  },
  {
   "cell_type": "markdown",
   "id": "ddb3ca4d",
   "metadata": {
    "lang": "en"
   },
   "source": [
    "The **or** operator evaluates whether either expression is true, that is, it returns True if either expression is true and False when both expressions are false."
   ]
  },
  {
   "cell_type": "code",
   "execution_count": null,
   "id": "3c409f34",
   "metadata": {},
   "outputs": [],
   "source": []
  },
  {
   "cell_type": "markdown",
   "id": "887a5c8d",
   "metadata": {
    "lang": "en"
   },
   "source": [
    "The **not** operator is an operator that returns the opposite value of the evaluated expression. If the expression has the value True, it returns False. Conversely, if the expression has the value False, it returns True."
   ]
  },
  {
   "cell_type": "code",
   "execution_count": 92,
   "id": "2eca1949",
   "metadata": {},
   "outputs": [
    {
     "data": {
      "text/plain": [
       "bool"
      ]
     },
     "execution_count": 92,
     "metadata": {},
     "output_type": "execute_result"
    }
   ],
   "source": [
    "bool # data type"
   ]
  },
  {
   "cell_type": "code",
   "execution_count": 93,
   "id": "71a550ba",
   "metadata": {},
   "outputs": [
    {
     "data": {
      "text/plain": [
       "True"
      ]
     },
     "execution_count": 93,
     "metadata": {},
     "output_type": "execute_result"
    }
   ],
   "source": [
    "True"
   ]
  },
  {
   "cell_type": "code",
   "execution_count": 95,
   "id": "284161b7",
   "metadata": {},
   "outputs": [
    {
     "data": {
      "text/plain": [
       "bool"
      ]
     },
     "execution_count": 95,
     "metadata": {},
     "output_type": "execute_result"
    }
   ],
   "source": [
    "type(True)"
   ]
  },
  {
   "cell_type": "code",
   "execution_count": 96,
   "id": "412f3125",
   "metadata": {},
   "outputs": [
    {
     "data": {
      "text/plain": [
       "bool"
      ]
     },
     "execution_count": 96,
     "metadata": {},
     "output_type": "execute_result"
    }
   ],
   "source": [
    "type(False)"
   ]
  },
  {
   "cell_type": "code",
   "execution_count": 94,
   "id": "4d419300",
   "metadata": {},
   "outputs": [
    {
     "data": {
      "text/plain": [
       "False"
      ]
     },
     "execution_count": 94,
     "metadata": {},
     "output_type": "execute_result"
    }
   ],
   "source": [
    "False"
   ]
  },
  {
   "cell_type": "code",
   "execution_count": 97,
   "id": "34723161",
   "metadata": {},
   "outputs": [],
   "source": [
    "a = 30"
   ]
  },
  {
   "cell_type": "code",
   "execution_count": 100,
   "id": "c8d8c319",
   "metadata": {},
   "outputs": [
    {
     "data": {
      "text/plain": [
       "True"
      ]
     },
     "execution_count": 100,
     "metadata": {},
     "output_type": "execute_result"
    }
   ],
   "source": [
    "bool(a)"
   ]
  },
  {
   "cell_type": "code",
   "execution_count": 101,
   "id": "c7337d37",
   "metadata": {},
   "outputs": [
    {
     "data": {
      "text/plain": [
       "True"
      ]
     },
     "execution_count": 101,
     "metadata": {},
     "output_type": "execute_result"
    }
   ],
   "source": [
    "# truthy & falsies\n",
    "a # -> 30, int\n",
    "\n",
    "bool(a) "
   ]
  },
  {
   "cell_type": "code",
   "execution_count": 102,
   "id": "4007f7b3",
   "metadata": {},
   "outputs": [
    {
     "data": {
      "text/plain": [
       "True"
      ]
     },
     "execution_count": 102,
     "metadata": {},
     "output_type": "execute_result"
    }
   ],
   "source": [
    "bool([\"Marina\"])"
   ]
  },
  {
   "cell_type": "code",
   "execution_count": 103,
   "id": "2df5354b",
   "metadata": {},
   "outputs": [
    {
     "data": {
      "text/plain": [
       "True"
      ]
     },
     "execution_count": 103,
     "metadata": {},
     "output_type": "execute_result"
    }
   ],
   "source": [
    "bool(\"this is a string\")"
   ]
  },
  {
   "cell_type": "code",
   "execution_count": 104,
   "id": "a45a318e",
   "metadata": {},
   "outputs": [],
   "source": [
    "b = 0"
   ]
  },
  {
   "cell_type": "code",
   "execution_count": 105,
   "id": "6451695c",
   "metadata": {},
   "outputs": [
    {
     "data": {
      "text/plain": [
       "False"
      ]
     },
     "execution_count": 105,
     "metadata": {},
     "output_type": "execute_result"
    }
   ],
   "source": [
    "bool(b)"
   ]
  },
  {
   "cell_type": "code",
   "execution_count": 107,
   "id": "76e54f74",
   "metadata": {},
   "outputs": [
    {
     "data": {
      "text/plain": [
       "[True, False, False]"
      ]
     },
     "execution_count": 107,
     "metadata": {},
     "output_type": "execute_result"
    }
   ],
   "source": [
    "[True, False, False]"
   ]
  },
  {
   "cell_type": "code",
   "execution_count": 109,
   "id": "b588b9d3",
   "metadata": {},
   "outputs": [
    {
     "data": {
      "text/plain": [
       "2"
      ]
     },
     "execution_count": 109,
     "metadata": {},
     "output_type": "execute_result"
    }
   ],
   "source": [
    "sum([True, True, False]) # binary thingy, read / understood as 1, 0"
   ]
  },
  {
   "cell_type": "code",
   "execution_count": 112,
   "id": "ddb2b1a7",
   "metadata": {},
   "outputs": [
    {
     "name": "stdout",
     "output_type": "stream",
     "text": [
      "There are 4 True's in this list\n"
     ]
    }
   ],
   "source": [
    "# Counting how many True's in a list: counter\n",
    "\n",
    "boolean_list = [True, True, False, True, True]\n",
    "\n",
    "counter = 0\n",
    "for i in boolean_list:\n",
    "    if i == True:\n",
    "        counter += 1 \n",
    "        \n",
    "print(f\"There are {counter} True's in this list\")"
   ]
  },
  {
   "cell_type": "code",
   "execution_count": null,
   "id": "04061645",
   "metadata": {},
   "outputs": [],
   "source": [
    "# Refactoring: changing the code without changing the function\n",
    "\n",
    "# Counting how many True's in a list: counter\n",
    "\n",
    "boolean_list = [True, True, False, True, True]\n",
    "\n",
    "counter = 0\n",
    "for i in boolean_list:\n",
    "    if i: # if i -> truthy ////// if i == True\n",
    "        counter += 1 \n",
    "        \n",
    "print(f\"There are {counter} True's in this list\")"
   ]
  },
  {
   "cell_type": "code",
   "execution_count": 123,
   "id": "e07612ee",
   "metadata": {},
   "outputs": [
    {
     "name": "stdout",
     "output_type": "stream",
     "text": [
      "There are 4 True's in this list and 1 Falses\n"
     ]
    }
   ],
   "source": [
    "# Counting how many True's in a list: count\n",
    "\n",
    "boolean_list = [True, True, False, True, True]\n",
    "\n",
    "the_truthes = boolean_list.count(1)\n",
    "the_falses = boolean_list.count(0)\n",
    "        \n",
    "print(f\"There are {the_truthes} True's in this list and {the_falses} Falses\")"
   ]
  },
  {
   "cell_type": "code",
   "execution_count": 124,
   "id": "57cd37a3",
   "metadata": {},
   "outputs": [
    {
     "data": {
      "text/plain": [
       "0"
      ]
     },
     "execution_count": 124,
     "metadata": {},
     "output_type": "execute_result"
    }
   ],
   "source": [
    "False + False"
   ]
  },
  {
   "cell_type": "code",
   "execution_count": null,
   "id": "a09a4f03",
   "metadata": {},
   "outputs": [],
   "source": [
    "# 1. True / False -> 1 / 0\n",
    "    # Data type: is a boolean\n",
    "\n",
    "# 2. Truthies / Falsies\n",
    "    # bool() value associated to an object\n",
    "    \n",
    "# 3. Logic tables\n",
    "    # True and True"
   ]
  },
  {
   "cell_type": "code",
   "execution_count": 125,
   "id": "c477566e",
   "metadata": {},
   "outputs": [
    {
     "data": {
      "text/plain": [
       "2"
      ]
     },
     "execution_count": 125,
     "metadata": {},
     "output_type": "execute_result"
    }
   ],
   "source": [
    "# 1. Calc\n",
    "True + False + True # 1, 0, adding"
   ]
  },
  {
   "cell_type": "code",
   "execution_count": 126,
   "id": "f60cd4cf",
   "metadata": {},
   "outputs": [
    {
     "data": {
      "text/plain": [
       "False"
      ]
     },
     "execution_count": 126,
     "metadata": {},
     "output_type": "execute_result"
    }
   ],
   "source": [
    "# 2. Evalute the truthiness of something\n",
    "bool([])"
   ]
  },
  {
   "cell_type": "code",
   "execution_count": null,
   "id": "30751e1a",
   "metadata": {},
   "outputs": [],
   "source": [
    "bool({}) # dict_ or set?"
   ]
  },
  {
   "cell_type": "code",
   "execution_count": 127,
   "id": "c45fe000",
   "metadata": {},
   "outputs": [
    {
     "data": {
      "text/plain": [
       "False"
      ]
     },
     "execution_count": 127,
     "metadata": {},
     "output_type": "execute_result"
    }
   ],
   "source": [
    "bool(0)"
   ]
  },
  {
   "cell_type": "code",
   "execution_count": 128,
   "id": "c9230dc9",
   "metadata": {
    "scrolled": true
   },
   "outputs": [
    {
     "data": {
      "text/plain": [
       "False"
      ]
     },
     "execution_count": 128,
     "metadata": {},
     "output_type": "execute_result"
    }
   ],
   "source": [
    "bool(0.0)"
   ]
  },
  {
   "cell_type": "code",
   "execution_count": 129,
   "id": "54ddc228",
   "metadata": {},
   "outputs": [
    {
     "data": {
      "text/plain": [
       "True"
      ]
     },
     "execution_count": 129,
     "metadata": {},
     "output_type": "execute_result"
    }
   ],
   "source": [
    "True and True"
   ]
  },
  {
   "cell_type": "code",
   "execution_count": 130,
   "id": "a3d97422",
   "metadata": {},
   "outputs": [
    {
     "data": {
      "text/plain": [
       "False"
      ]
     },
     "execution_count": 130,
     "metadata": {},
     "output_type": "execute_result"
    }
   ],
   "source": [
    "True and False"
   ]
  },
  {
   "cell_type": "code",
   "execution_count": 106,
   "id": "64610182",
   "metadata": {},
   "outputs": [],
   "source": [
    "# empty objects or zero numbers are falsies"
   ]
  },
  {
   "cell_type": "code",
   "execution_count": null,
   "id": "6d53ca96",
   "metadata": {},
   "outputs": [],
   "source": [
    "# type(data_type_variable)\n",
    "# bool() # truthiness / falsiness of something"
   ]
  },
  {
   "cell_type": "code",
   "execution_count": null,
   "id": "45fe7b81",
   "metadata": {},
   "outputs": [],
   "source": [
    "# True\n",
    "# False\n",
    "# Error"
   ]
  },
  {
   "cell_type": "code",
   "execution_count": 131,
   "id": "524000f7",
   "metadata": {},
   "outputs": [],
   "source": [
    "name = \"Albert\""
   ]
  },
  {
   "cell_type": "code",
   "execution_count": 142,
   "id": "b9ad8ca9",
   "metadata": {},
   "outputs": [],
   "source": [
    "# 1. Falsie: 0, empty objects, None\n",
    "age = None\n",
    "if age:\n",
    "    print(f\"Age is {age}\")"
   ]
  },
  {
   "cell_type": "code",
   "execution_count": 159,
   "id": "324ac2de",
   "metadata": {},
   "outputs": [
    {
     "name": "stdout",
     "output_type": "stream",
     "text": [
      "Age is 20\n"
     ]
    }
   ],
   "source": [
    "# 1. Truthy\n",
    "age = 20\n",
    "if age:\n",
    "    print(f\"Age is {age}\")"
   ]
  },
  {
   "cell_type": "code",
   "execution_count": 161,
   "id": "c88902eb",
   "metadata": {},
   "outputs": [
    {
     "name": "stdout",
     "output_type": "stream",
     "text": [
      "True (age) are True (name)\n",
      "True 30 are True Marina\n"
     ]
    }
   ],
   "source": [
    "# 1. Both are truthy\n",
    "\n",
    "age = 30\n",
    "name = \"Marina\"\n",
    "\n",
    "if age and name:\n",
    "    # \"if True and True\"\n",
    "    # age: evaluated as a truthy/falsie\n",
    "    # name: evaluated as a truthy/falsie\n",
    "    \n",
    "    print(\"True (age) are True (name)\")\n",
    "    print(f\"True {age} are True {name}\")"
   ]
  },
  {
   "cell_type": "code",
   "execution_count": 163,
   "id": "dac9a30a",
   "metadata": {},
   "outputs": [],
   "source": [
    "# 2. One of them is truthy\n",
    "\n",
    "age = 30 # truthy\n",
    "name = \"\" # falsie\n",
    "\n",
    "if age and name:\n",
    "    # if True and False -> False\n",
    "    print(\"True and False, so not printed :( \")"
   ]
  },
  {
   "cell_type": "code",
   "execution_count": 164,
   "id": "d499cd1a",
   "metadata": {},
   "outputs": [],
   "source": [
    "# 3. Both are falsie\n",
    "\n",
    "age = 0 # falsie\n",
    "name = \"\" # falsie\n",
    "\n",
    "if age and name:\n",
    "    # if False and False -> False\n",
    "    print(\"Both are False\")"
   ]
  },
  {
   "cell_type": "code",
   "execution_count": 166,
   "id": "99f40478",
   "metadata": {},
   "outputs": [
    {
     "name": "stdout",
     "output_type": "stream",
     "text": [
      "Either\n"
     ]
    }
   ],
   "source": [
    "# 4. Either age OR name\n",
    "\n",
    "age = 30 # truthy\n",
    "name = \"\" # falsie\n",
    "\n",
    "if age or name:\n",
    "    # if False OR True -> True\n",
    "    # Is there any Truthy in here? -> yes\n",
    "    print(\"Age is true or name is true\")"
   ]
  },
  {
   "cell_type": "code",
   "execution_count": 168,
   "id": "eb501f57",
   "metadata": {},
   "outputs": [
    {
     "name": "stdout",
     "output_type": "stream",
     "text": [
      "Age is true OR name is true OR city is True\n"
     ]
    }
   ],
   "source": [
    "# # 4. Either age OR name\n",
    "\n",
    "age = 30 # truthy\n",
    "name = \"\" # falsie\n",
    "city = \"mataró\" #truthy\n",
    "\n",
    "if age or name or city:\n",
    "    # if False OR True -> True\n",
    "    # Is there any Truthy in here? -> yes\n",
    "    print(\"Age is true OR name is true OR city is True\")"
   ]
  },
  {
   "cell_type": "code",
   "execution_count": 169,
   "id": "a92a9fca",
   "metadata": {},
   "outputs": [
    {
     "name": "stdout",
     "output_type": "stream",
     "text": [
      "Age is true OR (name is true AND city is True\n"
     ]
    }
   ],
   "source": [
    "# 4. Either age OR name\n",
    "\n",
    "age = 0 # falsie\n",
    "name = \"hola\" # truthy\n",
    "city = \"mataró\" # another truthy\n",
    "\n",
    "if age or (name and city):\n",
    "    # Falsie OR (truty and truthy)\n",
    "    print(\"Age is true OR (name is true AND city is True\")"
   ]
  },
  {
   "cell_type": "code",
   "execution_count": 171,
   "id": "e1cdff15",
   "metadata": {},
   "outputs": [],
   "source": [
    "#  5. Either age OR name\n",
    "\n",
    "age = 0 # falsie\n",
    "name = \"hola\" # truthy\n",
    "city = \"mataró\" # another truthy\n",
    "\n",
    "if age and (name and city):\n",
    "    # Falsie  AND (truty and truthy)\n",
    "    print(\"Age is true OR (name is true AND city is True\")"
   ]
  },
  {
   "cell_type": "code",
   "execution_count": 183,
   "id": "5326a623",
   "metadata": {},
   "outputs": [
    {
     "name": "stdout",
     "output_type": "stream",
     "text": [
      "Warning message: YOU LEFT IT ON\n"
     ]
    }
   ],
   "source": [
    "stove_is_on = True # default / flag\n",
    "\n",
    "if stove_is_on: # truthy\n",
    "    print(\"Warning message: YOU LEFT IT ON\")\n",
    "    # someone turns it off\n",
    "    stove_is_on = False # modify the status of smething\n",
    "else:\n",
    "    print(\"It's off\")"
   ]
  },
  {
   "cell_type": "code",
   "execution_count": 186,
   "id": "669a8b3c",
   "metadata": {},
   "outputs": [
    {
     "name": "stdout",
     "output_type": "stream",
     "text": [
      "Warning message: YOU LEFT IT ON\n"
     ]
    }
   ],
   "source": [
    "stove_is_on = 1 # default / flag, int\n",
    "\n",
    "if stove_is_on == True: # checking if it's a truthy\n",
    "    print(\"Warning message: YOU LEFT IT ON\")\n",
    "    stove_is_on = False\n",
    "else:\n",
    "    print(\"It's off\")"
   ]
  },
  {
   "cell_type": "code",
   "execution_count": 188,
   "id": "1c95ae0f",
   "metadata": {},
   "outputs": [
    {
     "name": "stdout",
     "output_type": "stream",
     "text": [
      "It's off\n"
     ]
    }
   ],
   "source": [
    "stove_is_on = 1 # default / flag, type is an int\n",
    "\n",
    "if type(stove_is_on) == True: # checking the data type is Tr\n",
    "    print(\"Warning message: YOU LEFT IT ON\")\n",
    "    stove_is_on = False\n",
    "else:\n",
    "    print(\"It's off\")"
   ]
  },
  {
   "cell_type": "code",
   "execution_count": 190,
   "id": "e24ce4df",
   "metadata": {},
   "outputs": [
    {
     "name": "stdout",
     "output_type": "stream",
     "text": [
      "Warning message: YOU LEFT IT ON\n"
     ]
    }
   ],
   "source": [
    "stove_is_on = 1 # default / flag, type is an int\n",
    "\n",
    "if bool(stove_is_on) == True:\n",
    "    print(\"Warning message: YOU LEFT IT ON\")\n",
    "    stove_is_on = False\n",
    "else:\n",
    "    print(\"It's off\")"
   ]
  },
  {
   "cell_type": "code",
   "execution_count": null,
   "id": "e2d44193",
   "metadata": {},
   "outputs": [],
   "source": [
    "# Q: what if it's different to 0 and 1"
   ]
  },
  {
   "cell_type": "code",
   "execution_count": 193,
   "id": "2acfbd82",
   "metadata": {},
   "outputs": [
    {
     "name": "stdout",
     "output_type": "stream",
     "text": [
      "Warning message: YOU LEFT IT ON\n"
     ]
    }
   ],
   "source": [
    "stove_is_on = 5 # default / flag, type is an int\n",
    "\n",
    "if stove_is_on: # Is this value TRUTHY? \n",
    "    print(\"Warning message: YOU LEFT IT ON\")\n",
    "    stove_is_on = False\n",
    "else:\n",
    "    print(\"It's off\")"
   ]
  },
  {
   "cell_type": "code",
   "execution_count": 204,
   "id": "60fff7e4",
   "metadata": {},
   "outputs": [
    {
     "name": "stdout",
     "output_type": "stream",
     "text": [
      "Warning message: YOU LEFT IT ON\n"
     ]
    }
   ],
   "source": [
    "stove_is_on = 1 # default / flag, type is an int\n",
    "\n",
    "if stove_is_on == True: # Is this value True?\n",
    "    print(\"Warning message: YOU LEFT IT ON\")\n",
    "    stove_is_on = False\n",
    "else:\n",
    "    print(\"It's off\")"
   ]
  },
  {
   "cell_type": "code",
   "execution_count": 205,
   "id": "00ba79e1",
   "metadata": {},
   "outputs": [
    {
     "name": "stdout",
     "output_type": "stream",
     "text": [
      "Warning message: YOU LEFT IT ON\n"
     ]
    }
   ],
   "source": [
    "stove_is_on = True # default / flag, type is an int\n",
    "\n",
    "if stove_is_on == True: # Is this value True?\n",
    "    print(\"Warning message: YOU LEFT IT ON\")\n",
    "    stove_is_on = False\n",
    "else:\n",
    "    print(\"It's off\")"
   ]
  },
  {
   "cell_type": "code",
   "execution_count": 196,
   "id": "bf30d336",
   "metadata": {},
   "outputs": [
    {
     "ename": "SyntaxError",
     "evalue": "invalid syntax (2672705919.py, line 3)",
     "output_type": "error",
     "traceback": [
      "\u001b[0;36m  Input \u001b[0;32mIn [196]\u001b[0;36m\u001b[0m\n\u001b[0;31m    if stove_is_on = True:\u001b[0m\n\u001b[0m                   ^\u001b[0m\n\u001b[0;31mSyntaxError\u001b[0m\u001b[0;31m:\u001b[0m invalid syntax\n"
     ]
    }
   ],
   "source": [
    "# Q: what if with just one equal sign?\n",
    "\n",
    "stove_is_on = 5 # default / flag, type is an int\n",
    "\n",
    "if stove_is_on = True:\n",
    "    print(\"Warning message: YOU LEFT IT ON\")\n",
    "    stove_is_on = False\n",
    "else:\n",
    "    print(\"It's off\")"
   ]
  },
  {
   "cell_type": "code",
   "execution_count": 208,
   "id": "d7410a6a",
   "metadata": {},
   "outputs": [
    {
     "name": "stdout",
     "output_type": "stream",
     "text": [
      "something\n"
     ]
    }
   ],
   "source": [
    "# Mostly, use case will be this one:\n",
    "\n",
    "age = 30\n",
    "\n",
    "if age:\n",
    "    print(\"It's trueee\")"
   ]
  },
  {
   "attachments": {
    "image.png": {
     "image/png": "[encoded data removed]"
    }
   },
   "cell_type": "markdown",
   "id": "3b663825",
   "metadata": {},
   "source": [
    "![image.png](attachment:image.png)"
   ]
  },
  {
   "cell_type": "code",
   "execution_count": 209,
   "id": "e12f536b",
   "metadata": {},
   "outputs": [
    {
     "data": {
      "text/plain": [
       "False"
      ]
     },
     "execution_count": 209,
     "metadata": {},
     "output_type": "execute_result"
    }
   ],
   "source": [
    "bool(0)"
   ]
  },
  {
   "cell_type": "code",
   "execution_count": 210,
   "id": "5bd31da8",
   "metadata": {},
   "outputs": [
    {
     "data": {
      "text/plain": [
       "False"
      ]
     },
     "execution_count": 210,
     "metadata": {},
     "output_type": "execute_result"
    }
   ],
   "source": [
    "bool(0.0)"
   ]
  },
  {
   "cell_type": "code",
   "execution_count": 211,
   "id": "c4557f59",
   "metadata": {},
   "outputs": [
    {
     "data": {
      "text/plain": [
       "True"
      ]
     },
     "execution_count": 211,
     "metadata": {},
     "output_type": "execute_result"
    }
   ],
   "source": [
    "bool(0.01) # it has meaning"
   ]
  },
  {
   "cell_type": "code",
   "execution_count": 212,
   "id": "168a5b5a",
   "metadata": {},
   "outputs": [
    {
     "ename": "ZeroDivisionError",
     "evalue": "division by zero",
     "output_type": "error",
     "traceback": [
      "\u001b[0;31m---------------------------------------------------------------------------\u001b[0m",
      "\u001b[0;31mZeroDivisionError\u001b[0m                         Traceback (most recent call last)",
      "Input \u001b[0;32mIn [212]\u001b[0m, in \u001b[0;36m<cell line: 1>\u001b[0;34m()\u001b[0m\n\u001b[0;32m----> 1\u001b[0m \u001b[38;5;28mbool\u001b[39m(\u001b[38;5;241;43m5\u001b[39;49m\u001b[38;5;241;43m/\u001b[39;49m\u001b[38;5;241;43m0\u001b[39;49m)\n",
      "\u001b[0;31mZeroDivisionError\u001b[0m: division by zero"
     ]
    }
   ],
   "source": [
    "bool(5/0) # ZeroDivisionError"
   ]
  },
  {
   "cell_type": "code",
   "execution_count": 213,
   "id": "f2aa5deb",
   "metadata": {},
   "outputs": [
    {
     "data": {
      "text/plain": [
       "False"
      ]
     },
     "execution_count": 213,
     "metadata": {},
     "output_type": "execute_result"
    }
   ],
   "source": [
    "bool(0/5)"
   ]
  },
  {
   "cell_type": "code",
   "execution_count": 214,
   "id": "eaf13860",
   "metadata": {},
   "outputs": [
    {
     "data": {
      "text/plain": [
       "True"
      ]
     },
     "execution_count": 214,
     "metadata": {},
     "output_type": "execute_result"
    }
   ],
   "source": [
    "bool(range(10))"
   ]
  },
  {
   "cell_type": "code",
   "execution_count": 215,
   "id": "451dccfb",
   "metadata": {},
   "outputs": [
    {
     "name": "stdout",
     "output_type": "stream",
     "text": [
      "0\n",
      "1\n",
      "2\n",
      "3\n",
      "4\n",
      "5\n",
      "6\n",
      "7\n",
      "8\n",
      "9\n"
     ]
    }
   ],
   "source": [
    "for i in range (10):\n",
    "    print(i)"
   ]
  },
  {
   "cell_type": "code",
   "execution_count": 224,
   "id": "d927f3dc",
   "metadata": {},
   "outputs": [],
   "source": [
    "for i in range(0):\n",
    "    print(i)"
   ]
  },
  {
   "cell_type": "code",
   "execution_count": 225,
   "id": "27b97e56",
   "metadata": {},
   "outputs": [
    {
     "data": {
      "text/plain": [
       "False"
      ]
     },
     "execution_count": 225,
     "metadata": {},
     "output_type": "execute_result"
    }
   ],
   "source": [
    "bool(range(0))"
   ]
  },
  {
   "cell_type": "code",
   "execution_count": null,
   "id": "e8766ce3",
   "metadata": {},
   "outputs": [],
   "source": [
    "# True is not a data type itself (data type is a boolean)"
   ]
  },
  {
   "cell_type": "code",
   "execution_count": 176,
   "id": "22eaad64",
   "metadata": {},
   "outputs": [
    {
     "data": {
      "text/plain": [
       "False"
      ]
     },
     "execution_count": 176,
     "metadata": {},
     "output_type": "execute_result"
    }
   ],
   "source": [
    "stove_is_on"
   ]
  },
  {
   "cell_type": "code",
   "execution_count": 177,
   "id": "3ede2ab7",
   "metadata": {},
   "outputs": [
    {
     "data": {
      "text/plain": [
       "bool"
      ]
     },
     "execution_count": 177,
     "metadata": {},
     "output_type": "execute_result"
    }
   ],
   "source": [
    "type(stove_is_on)"
   ]
  },
  {
   "cell_type": "markdown",
   "id": "2072829d",
   "metadata": {},
   "source": [
    "#### "
   ]
  },
  {
   "cell_type": "markdown",
   "id": "2d617b18",
   "metadata": {},
   "source": [
    "- 0\n",
    "- None\n",
    "- Empty objects\n",
    "- range(0)\n",
    "- False"
   ]
  },
  {
   "cell_type": "markdown",
   "id": "attended-assurance",
   "metadata": {},
   "source": [
    "# Control Flow"
   ]
  },
  {
   "cell_type": "markdown",
   "id": "3e0ac95f",
   "metadata": {
    "lang": "en"
   },
   "source": [
    "In imperative languages, like Python, the computer follows the sequence of instructions in the code and executes it line by line. We call the \"flow\" of a program the order in which the code is executed. This sequential order can be altered. A function call, for example, leads execution to the code inside it (the \"body\" of the function) to return immediately after the call and continue."
   ]
  },
  {
   "cell_type": "markdown",
   "id": "c2a2b91b",
   "metadata": {
    "lang": "en"
   },
   "source": [
    "## Pseudocode"
   ]
  },
  {
   "cell_type": "markdown",
   "id": "6a4ca3d9",
   "metadata": {
    "lang": "en"
   },
   "source": [
    "Pseudocode is a planning method that allows the programmer to plan without worrying about syntax."
   ]
  },
  {
   "attachments": {
    "image.png": {
     "image/png": "[encoded data removed]"
    }
   },
   "cell_type": "markdown",
   "id": "short-survey",
   "metadata": {},
   "source": [
    "![image.png](attachment:image.png)"
   ]
  },
  {
   "cell_type": "code",
   "execution_count": null,
   "id": "a1b077ff",
   "metadata": {},
   "outputs": [],
   "source": [
    "# get input from the user\n",
    "# cast that input as a number\n",
    "\n",
    "# a loop on a list of hobbies\n",
    "    # for each iteration of the loop\n",
    "    # print the hooby\n",
    "    \n",
    "# create a formatted string with something\n",
    "\n",
    "# ---------------------\n",
    "\n",
    "#input_user = input()\n",
    "#input_user_casted = int(input_user)"
   ]
  },
  {
   "cell_type": "markdown",
   "id": "0eaad548",
   "metadata": {
    "lang": "en"
   },
   "source": [
    "## The \"If\" statement\n",
    "This is the most popular option to control the flow of a program. Conditions allow you to choose between different paths depending on the value of an expression. When you want to execute an action only when some condition is `True`, an \"if\" statement is used:"
   ]
  },
  {
   "cell_type": "markdown",
   "id": "580479b3",
   "metadata": {},
   "source": [
    "#### Syntax things to consider:\n",
    "- indentation\n",
    "- colon\n"
   ]
  },
  {
   "cell_type": "code",
   "execution_count": 226,
   "id": "ef3ac3be",
   "metadata": {},
   "outputs": [],
   "source": [
    "# True and True\n",
    "# False and True"
   ]
  },
  {
   "cell_type": "code",
   "execution_count": 227,
   "id": "28dcaa99",
   "metadata": {},
   "outputs": [
    {
     "name": "stdout",
     "output_type": "stream",
     "text": [
      "Hello! My age is 30\n"
     ]
    }
   ],
   "source": [
    "# logic of the flow of the code\n",
    "\n",
    "age = 30\n",
    "\n",
    "if age: # if condition is met -> statement is true\n",
    "    print(f\"Hello! My age is {age}\")\n",
    "    "
   ]
  },
  {
   "cell_type": "code",
   "execution_count": 233,
   "id": "721b4d15",
   "metadata": {},
   "outputs": [
    {
     "name": "stdout",
     "output_type": "stream",
     "text": [
      "Hello! My age is 30\n"
     ]
    }
   ],
   "source": [
    "# logic of the flow of the code\n",
    "\n",
    "age = 30\n",
    "\n",
    "if age == 30: # if condition is met -> statement is true\n",
    "    print(f\"Hello! My age is {age}\")"
   ]
  },
  {
   "cell_type": "code",
   "execution_count": null,
   "id": "7dea1416",
   "metadata": {},
   "outputs": [],
   "source": [
    "# 1. make sure you have the colon: `:`\n",
    "# 2. indentation (which is one tab)"
   ]
  },
  {
   "cell_type": "markdown",
   "id": "305e83a6",
   "metadata": {
    "lang": "en"
   },
   "source": [
    "As we can see, the code block associated with the condition begins after the colon \":\", with an indentation that determines the code block. All statements belonging to the same block must have the same indentation. The block ends when the indent returns to the starting position of the if statement. Remember that Python uses indentation to identify blocks of code."
   ]
  },
  {
   "cell_type": "markdown",
   "id": "baa11a80",
   "metadata": {
    "lang": "en"
   },
   "source": [
    "### elif\n",
    "Sometimes there are more than two possibilities. Think of something like:\n",
    "\"If Bob can get into the disco, let him in. If not, if he's over 16, recommend the nearby light disco. If not, send him home.\"\n",
    "\n",
    "We can achieve this with the `elif` clause and chained conditionals:"
   ]
  },
  {
   "cell_type": "code",
   "execution_count": 236,
   "id": "82badc29",
   "metadata": {},
   "outputs": [
    {
     "name": "stdout",
     "output_type": "stream",
     "text": [
      "Hello my age is 31 and I'm above 30\n"
     ]
    }
   ],
   "source": [
    "age = 31\n",
    "\n",
    "if age == 30:\n",
    "    print(f\"Hello my age is {age}\")\n",
    "elif age > 30:\n",
    "    print(f\"Hello my age is {age} and I'm above 30\")"
   ]
  },
  {
   "cell_type": "markdown",
   "id": "770fbd1a",
   "metadata": {
    "lang": "en"
   },
   "source": [
    "### else\n",
    "Sometimes you want if the condition is not met (and only then) another action is executed. They are mutually exclusive actions. This is achieved with the `else` statement."
   ]
  },
  {
   "cell_type": "markdown",
   "id": "median-injection",
   "metadata": {},
   "source": [
    "![if](../images/if-else-statements.jpeg)"
   ]
  },
  {
   "cell_type": "code",
   "execution_count": 237,
   "id": "5c7a1210",
   "metadata": {},
   "outputs": [
    {
     "name": "stdout",
     "output_type": "stream",
     "text": [
      "I'm younger than 30\n"
     ]
    }
   ],
   "source": [
    "age = 20\n",
    "\n",
    "if age == 30:\n",
    "    print(f\"Hello my age is {age}\")\n",
    "\n",
    "elif age > 30:\n",
    "    print(f\"Hello my age is {age} and I'm above 30\")\n",
    "    \n",
    "else: # it is very general, it covers for anything else\n",
    "    print(\"I'm younger than 30\")"
   ]
  },
  {
   "cell_type": "code",
   "execution_count": 240,
   "id": "d4ebe042",
   "metadata": {},
   "outputs": [
    {
     "name": "stdout",
     "output_type": "stream",
     "text": [
      "I'm younger than 30\n"
     ]
    }
   ],
   "source": [
    "age = - 6789\n",
    "\n",
    "if age == 30:\n",
    "    print(f\"Hello my age is {age}\")\n",
    "\n",
    "elif age > 30:\n",
    "    print(f\"Hello my age is {age} and I'm above 30\")\n",
    "    \n",
    "else: # it is very general, it covers for anything else\n",
    "    print(\"I'm younger than 30\")"
   ]
  },
  {
   "cell_type": "code",
   "execution_count": 243,
   "id": "3f9e9878",
   "metadata": {},
   "outputs": [
    {
     "name": "stdout",
     "output_type": "stream",
     "text": [
      "Hello my name is Albert and I'm 30 old and I'm from Mataró\n"
     ]
    }
   ],
   "source": [
    "age = 30\n",
    "name = \"Albert\"\n",
    "city = \"Mataró\"\n",
    "\n",
    "if age == 30:\n",
    "    if name == \"Albert\":\n",
    "        if city == \"Mataró\":\n",
    "            print(f\"Hello my name is {name} and I'm {age} old and I'm from {city}\")\n",
    "            \n",
    "else: \n",
    "    print(\"No\")"
   ]
  },
  {
   "cell_type": "code",
   "execution_count": 247,
   "id": "0dadadb5",
   "metadata": {},
   "outputs": [
    {
     "name": "stdout",
     "output_type": "stream",
     "text": [
      "Hello my name is Albert and I'm 30 old and I'm from Mataró\n"
     ]
    }
   ],
   "source": [
    "# Q: same line?\n",
    "age = 30\n",
    "name = \"Albert\"\n",
    "city = \"Mataró\"\n",
    "\n",
    "if age == 30 and name == \"Albert\" and city == \"Mataró\":\n",
    "    print(f\"Hello my name is {name} and I'm {age} old and I'm from {city}\")\n",
    "            \n",
    "else: \n",
    "    print(\"No\")"
   ]
  },
  {
   "cell_type": "code",
   "execution_count": 244,
   "id": "4564bb4b",
   "metadata": {},
   "outputs": [
    {
     "name": "stdout",
     "output_type": "stream",
     "text": [
      "I'm Albert and I'm 30\n"
     ]
    }
   ],
   "source": [
    "age = 30\n",
    "name = \"Albert\"\n",
    "city = \"Blanes\"\n",
    "\n",
    "if age == 30:\n",
    "    if name == \"Albert\":\n",
    "        print(\"I'm Albert and I'm 30\")\n",
    "        if city == \"Mataró\":\n",
    "            print(f\"Hello my name is {name} and I'm {age} old and I'm from {city}\")\n",
    "            \n",
    "else: \n",
    "    print(\"No\")"
   ]
  },
  {
   "cell_type": "markdown",
   "id": "71dcc64c",
   "metadata": {
    "lang": "en"
   },
   "source": [
    "```python\n",
    "if I don't know what:\n",
    "    I don't know\n",
    "if else:\n",
    "    somethingelse\n",
    "```\n",
    "\n",
    "💩 It is computationally more efficient to use elif, although this code works, Python will go in and check all if"
   ]
  },
  {
   "cell_type": "code",
   "execution_count": 248,
   "id": "93dff8fb",
   "metadata": {},
   "outputs": [
    {
     "name": "stdout",
     "output_type": "stream",
     "text": [
      "My age is 30\n"
     ]
    }
   ],
   "source": [
    "age = 30\n",
    "\n",
    "if age == 30:\n",
    "    print (f\"My age is {age}\")\n",
    "\n",
    "if age < 30:\n",
    "    print (f\"My age is less than 30\")\n",
    "\n",
    "if age > 30: \n",
    "    print(\"Hello\")"
   ]
  },
  {
   "cell_type": "code",
   "execution_count": 249,
   "id": "afa07100",
   "metadata": {},
   "outputs": [
    {
     "name": "stdout",
     "output_type": "stream",
     "text": [
      "My age is 30\n"
     ]
    }
   ],
   "source": [
    "age = 30\n",
    "\n",
    "if age == 30:\n",
    "    print (f\"My age is {age}\")\n",
    "\n",
    "elif age < 30:\n",
    "    print (f\"My age is less than 30\")\n",
    "\n",
    "elif age > 30: \n",
    "    print(\"Hello\")"
   ]
  },
  {
   "cell_type": "code",
   "execution_count": null,
   "id": "51f0d98b",
   "metadata": {},
   "outputs": [],
   "source": [
    "# Many if's\n",
    "# It's not just: if / elif / elif / elif / else"
   ]
  },
  {
   "cell_type": "code",
   "execution_count": null,
   "id": "e66a65da",
   "metadata": {},
   "outputs": [],
   "source": [
    "# If's -> not efficient -> If conditions are exclusive"
   ]
  },
  {
   "cell_type": "code",
   "execution_count": 252,
   "id": "8e40866a",
   "metadata": {},
   "outputs": [
    {
     "name": "stdout",
     "output_type": "stream",
     "text": [
      "Yes!\n"
     ]
    }
   ],
   "source": [
    "password = \"+kjhbnjhIHGHB\"\n",
    "\n",
    "length = False\n",
    "plus_sign = False\n",
    "\n",
    "# Sometimes it makes sense to use many ifs,\n",
    "# those times are only when you want MANY conditions to be met at once\n",
    "\n",
    "if len(password) > 10:\n",
    "    length = True\n",
    "    \n",
    "if \"+\" in password:\n",
    "    plus_sign = True\n",
    "    \n",
    "    \n",
    "    \n",
    "\n",
    "if length and plus_sign:\n",
    "    print(\"Yes!\")\n",
    "else:\n",
    "    print(\"No\")"
   ]
  },
  {
   "cell_type": "code",
   "execution_count": null,
   "id": "e4c545dd",
   "metadata": {},
   "outputs": [],
   "source": []
  },
  {
   "cell_type": "markdown",
   "id": "4119b21e",
   "metadata": {
    "lang": "en"
   },
   "source": [
    "# Challenge 🤔\n",
    "\n",
    "Write a simple program that prints if bob can get into the club\n",
    "for any two values ​​of the following variables:\n",
    "`print(age_bob,age_minimum)`"
   ]
  },
  {
   "cell_type": "code",
   "execution_count": null,
   "id": "5d8caf12",
   "metadata": {},
   "outputs": [],
   "source": [
    "# age\n",
    "    # club\n",
    "    # cannot club\n",
    "    # club: 16-18"
   ]
  },
  {
   "cell_type": "markdown",
   "id": "a9b00fd8",
   "metadata": {
    "lang": "en"
   },
   "source": [
    "### Your examples 🚀"
   ]
  },
  {
   "cell_type": "code",
   "execution_count": null,
   "id": "0833207b",
   "metadata": {},
   "outputs": [],
   "source": []
  },
  {
   "cell_type": "markdown",
   "id": "5f01cb54",
   "metadata": {
    "lang": "en"
   },
   "source": [
    "# Challenge 🤔\n",
    "Modify your schedule so that when Bob can't get into the club but is over the legal age (age=21)\n",
    "send it to disco light"
   ]
  },
  {
   "cell_type": "code",
   "execution_count": null,
   "id": "transparent-nickname",
   "metadata": {},
   "outputs": [],
   "source": []
  },
  {
   "cell_type": "markdown",
   "id": "b217ff64",
   "metadata": {
    "lang": "en"
   },
   "source": [
    "Let's imagine that we are building the program for a robot that sorts eggs by size. Our robot arm receives information from a scale, which indicates, in grams, the weight of the egg to be classified. The arm must, from the weight, place the egg in one box or another as follows:\n",
    "\n",
    "- **Box S** (small): weight less than 53 grams.\n",
    "- **Box M** (medium) : weight greater than or equal to 53 grams and less than 63 grams.\n",
    "- **Box L** (large): weight greater than or equal to 63 grams and less than 73 grams.\n",
    "- **XL box** (super large): weight greater than or equal to 73 grams."
   ]
  },
  {
   "cell_type": "markdown",
   "id": "61cfbb7c",
   "metadata": {},
   "source": [
    "## Summary\n"
   ]
  },
  {
   "cell_type": "code",
   "execution_count": null,
   "id": "4524a456",
   "metadata": {},
   "outputs": [],
   "source": []
  },
  {
   "cell_type": "markdown",
   "id": "7deb669c",
   "metadata": {},
   "source": [
    "[Rubber duck debugging](https://www.freecodecamp.org/news/rubber-duck-debugging/#:~:text=The%20idea%20behind%20the%20rubber,loud%20before%20you%20post%20it)"
   ]
  },
  {
   "cell_type": "markdown",
   "id": "toxic-romance",
   "metadata": {},
   "source": [
    "## Further materials\n",
    "\n",
    "* [Python docs](https://docs.python.org/3/tutorial/controlflow.html)\n",
    "* Short tutorial on [Python Booleans](https://realpython.com/python-boolean/)\n",
    "* Just a nice [talk by Feynman](https://www.youtube.com/watch?v=EKWGGDXe5MA) on the principles of computation"
   ]
  }
 ],
 "metadata": {
  "kernelspec": {
   "display_name": "Python 3 (ipykernel)",
   "language": "python",
   "name": "python3"
  },
  "language_info": {
   "codemirror_mode": {
    "name": "ipython",
    "version": 3
   },
   "file_extension": ".py",
   "mimetype": "text/x-python",
   "name": "python",
   "nbconvert_exporter": "python",
   "pygments_lexer": "ipython3",
   "version": "3.9.12"
  },
  "nbTranslate": {
   "displayLangs": [
    "en",
    "es"
   ],
   "hotkey": "alt-a",
   "langInMainMenu": true,
   "sourceLang": "es",
   "targetLang": "en",
   "useGoogleTranslate": true
  },
  "toc": {
   "base_numbering": 1,
   "nav_menu": {},
   "number_sections": true,
   "sideBar": true,
   "skip_h1_title": true,
   "title_cell": "Table of Contents",
   "title_sidebar": "Contents",
   "toc_cell": true,
   "toc_position": {
    "height": "calc(100% - 180px)",
    "left": "10px",
    "top": "150px",
    "width": "165px"
   },
   "toc_section_display": true,
   "toc_window_display": true
  }
 },
 "nbformat": 4,
 "nbformat_minor": 5
}
