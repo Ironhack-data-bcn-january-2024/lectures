{
 "cells": [
  {
   "cell_type": "markdown",
   "id": "f41fed60",
   "metadata": {},
   "source": [
    "# data types & data structures\n",
    "    - data types\n",
    "        - int\n",
    "        - floats\n",
    "        - strings\n",
    "            - anything within quotes: they need to match\n",
    "                - single, double and triple (multi-line comments)\n",
    "            - methods \n",
    "                - get feedback -> probably not modified, just SEEING a copy\n",
    "                    - workaround: save it into a new variable\n",
    "                - we don't get feedback -> probably the object is being modified\n",
    "            \n",
    "        - booleans\n",
    "            - True / False\n",
    "            - 1 / 0 \n",
    "            \n",
    "    - data structures\n",
    "        - lists: []\n",
    "            - easily modifyable: many methods\n",
    "            - find obejcts by **position**: it's ordered (it has indexes)\n",
    "            - can hold any data type\n",
    "            - can hold data strucutres: it allows nestedness\n",
    "            \n",
    "        - sets: {a, b, c...}\n",
    "            - don't have an order (even though it's printed as ordered low to high)\n",
    "            - some methods\n",
    "            - **UNIQUE**\n",
    "            - belonging instead of a sequence: either it's in or it's not\n",
    "            \n",
    "  \n",
    "        - tuples: () \n",
    "            - less modifyable\n",
    "            - python uses tuples internally\n",
    "                - taking and returning arguemnts\n",
    "            - cannot add values to tuples: limited amount of methods\n",
    "            - workarounds\n",
    "                - cast it into lists\n",
    "                - loop and access each individual element\n",
    "                - re-define (creating a new object instead of modifying)\n",
    "            - you'll read them more than writing them\n",
    "\n",
    "        \n",
    "        - dictionaries: {k1:v1, k2:v2...}\n",
    "            - default: object = {} -> dictionary\n",
    "            - create empty set:\n",
    "                - `new_set = set()`\n",
    "                \n",
    "            - key:value pairs\n",
    "            - keys must be unique\n",
    "            - values can be repeated\n",
    "            - `dict_[0]` -> it doesn't have an order\n",
    "                - you can look things up by key not by position\n",
    "                \n",
    "            - loop through\n",
    "                - dict_.items() -> tuples\n",
    "                - dict_.keys()\n",
    "                - dict_.values()\n",
    "\n",
    "\n",
    "            - specific dict_ methods\n",
    "    \n",
    "                - dict_[key] -> read\n",
    "                    - result: accessing the value corresponding to that key\n",
    "                    \n",
    "                - dict_[key] = value -> write\n",
    "                    - assign the value to the key\n",
    "                \n",
    "                - write values of a dictionary: loop\n",
    "                    - new = dict_[key].upper()\n",
    "                    - dict_[key] = new\n",
    "                    \n",
    "                - dictionaries in python are objects in javascript -> jsons\n",
    "                    - json: {\"name\":\"albert\"} (JavaScript)\n",
    "                    - dict: {\"name\":\"albert\"} (python)\n",
    "                    - storing information that is organized but not too much\n",
    "                        - not a table\n",
    "                        - extract:\n",
    "                            - databases: relational and non-relational (json)\n",
    "                            - api: jsons\n",
    "                            - web scraping: \n",
    "                                - html\n",
    "                                    - html is receiveing jsons to show that content \n",
    "\n",
    "                     - jsons/dictionaries can be transformed into tables as well\n",
    "                         - table -> may have smething relational?\n",
    "                         - tabular form is comfortable to do analytics\n",
    "                         \n",
    "                     - albert[\"city\"], marina[\"city\"] -> semi-organized\n",
    "                         [\"albert\", \"mataró\"]\n",
    "                         [\"marina\", 30, \"mataró\"]\n",
    "                         "
   ]
  },
  {
   "cell_type": "code",
   "execution_count": 9,
   "id": "6e4f03f8",
   "metadata": {},
   "outputs": [],
   "source": [
    "# python\n",
    "    # defines the data type in run time\n",
    "    # error handling\n",
    "        # 1. either customnize an Exception \n",
    "        # 2. Create a function that checks\n",
    "        \n",
    "        \n",
    "# other languages\n",
    "    # define the type of each variable & the space in memory\n",
    "    # 1. write the code\n",
    "    # 2. compile the code (building)\n",
    "    \n",
    "    # 3. execution is overall faster"
   ]
  },
  {
   "cell_type": "markdown",
   "id": "raised-meter",
   "metadata": {
    "toc": true
   },
   "source": [
    "<h1>Table of Contents<span class=\"tocSkip\"></span></h1>\n",
    "<div class=\"toc\"><ul class=\"toc-item\"><li><span><a href=\"#The-&quot;while&quot;-statement\" data-toc-modified-id=\"The-&quot;while&quot;-statement-1\"><span class=\"toc-item-num\">1&nbsp;&nbsp;</span>The \"while\" statement</a></span></li><li><span><a href=\"#Pass,--continue-&amp;-break\" data-toc-modified-id=\"Pass,--continue-&amp;-break-2\"><span class=\"toc-item-num\">2&nbsp;&nbsp;</span>Pass,  continue &amp; break</a></span></li><li><span><a href=\"#For\" data-toc-modified-id=\"For-3\"><span class=\"toc-item-num\">3&nbsp;&nbsp;</span>For</a></span><ul class=\"toc-item\"><li><span><a href=\"#Iterate-through-strings\" data-toc-modified-id=\"Iterate-through-strings-3.1\"><span class=\"toc-item-num\">3.1&nbsp;&nbsp;</span>Iterate through strings</a></span></li><li><span><a href=\"#Iterate-through-a-list\" data-toc-modified-id=\"Iterate-through-a-list-3.2\"><span class=\"toc-item-num\">3.2&nbsp;&nbsp;</span>Iterate through a list</a></span></li><li><span><a href=\"#We-iterate-through-lists-over-their-index\" data-toc-modified-id=\"We-iterate-through-lists-over-their-index-3.3\"><span class=\"toc-item-num\">3.3&nbsp;&nbsp;</span>We iterate through lists over their index</a></span></li><li><span><a href=\"#Loop-through-two-lists-at-the-same-time\" data-toc-modified-id=\"Loop-through-two-lists-at-the-same-time-3.4\"><span class=\"toc-item-num\">3.4&nbsp;&nbsp;</span>Loop through two lists at the same time</a></span></li><li><span><a href=\"#Iterate-over-the-elements-of-a-dictionary\" data-toc-modified-id=\"Iterate-over-the-elements-of-a-dictionary-3.5\"><span class=\"toc-item-num\">3.5&nbsp;&nbsp;</span>Iterate over the elements of a dictionary</a></span></li></ul></li><li><span><a href=\"#Summary\" data-toc-modified-id=\"Summary-4\"><span class=\"toc-item-num\">4&nbsp;&nbsp;</span>Summary</a></span></li></ul></div>"
   ]
  },
  {
   "cell_type": "markdown",
   "id": "constant-discovery",
   "metadata": {},
   "source": [
    "# Let's keep the flow going"
   ]
  },
  {
   "cell_type": "markdown",
   "id": "genetic-output",
   "metadata": {},
   "source": [
    "![FLOW](https://media.giphy.com/media/h8y265b9iKtzKT0pDj/giphy.gif)"
   ]
  },
  {
   "cell_type": "code",
   "execution_count": null,
   "id": "bb705921",
   "metadata": {},
   "outputs": [],
   "source": [
    "# while & for loops\n",
    "    # pass, continue, break\n",
    "# zip\n",
    "# comprehension lists"
   ]
  },
  {
   "cell_type": "code",
   "execution_count": null,
   "id": "333ce3dc",
   "metadata": {},
   "outputs": [],
   "source": [
    "# for and while\n",
    "\n",
    "# for:\n",
    "    # you know\n",
    "    # range, [], -> lenght of the iterable\n",
    "        # list, set, tuple, dictionary items, keys, values..\n",
    "\n",
    "# while: \n",
    "    # you don't know how many times\n",
    "    # conditional to stop -> until a condition is met\n",
    "    # while something is true: things happen\n",
    "    # while -> infinite loops\n",
    "    # while False -> don't do anything"
   ]
  },
  {
   "cell_type": "code",
   "execution_count": 15,
   "id": "15a979da",
   "metadata": {},
   "outputs": [
    {
     "data": {
      "text/plain": [
       "'\\nflag = True\\nif flag:\\n    print(\"flag is true\")\\n    \\n    flag = False\\n    while flag == False:\\n        print(\"nothing\")\\n        \\n#\\xa0while false: never will work\\n'"
      ]
     },
     "execution_count": 15,
     "metadata": {},
     "output_type": "execute_result"
    }
   ],
   "source": [
    "\"\"\"\n",
    "flag = True\n",
    "if flag:\n",
    "    print(\"flag is true\")\n",
    "    \n",
    "    flag = False\n",
    "    while flag == False:\n",
    "        print(\"nothing\")\n",
    "        \n",
    "# while false: never will work\n",
    "\"\"\""
   ]
  },
  {
   "cell_type": "markdown",
   "id": "17832115",
   "metadata": {
    "lang": "en"
   },
   "source": [
    "## The \"while\" statement\n",
    "\n",
    "Sometimes we want to run a program until a condition is met. We can achieve this with the `while` clause.\n",
    "\n",
    "**Note:** Beware of infinite recursions!"
   ]
  },
  {
   "cell_type": "code",
   "execution_count": 19,
   "id": "ca737f63",
   "metadata": {},
   "outputs": [
    {
     "name": "stdout",
     "output_type": "stream",
     "text": [
      "Balance now is 91 after 1 purchases\n",
      "Balance now is 82 after 2 purchases\n",
      "Balance now is 73 after 3 purchases\n",
      "Balance now is 64 after 4 purchases\n",
      "Balance now is 55 after 5 purchases\n",
      "Balance now is 46 after 6 purchases\n",
      "Balance now is 37 after 7 purchases\n",
      "Balance now is 28 after 8 purchases\n",
      "Balance now is 19 after 9 purchases\n",
      "Balance now is 10 after 10 purchases\n",
      "Balance now is 1 after 11 purchases\n"
     ]
    }
   ],
   "source": [
    "balance = 100\n",
    "cost = 9\n",
    "counter = 0\n",
    "\n",
    "while balance >= 9:\n",
    "    # substract 9 each time\n",
    "    balance -= cost\n",
    "    counter += 1\n",
    "    print(f\"Balance now is {balance} after {counter} purchases\")\n",
    "    \n",
    "# We don't know how many times\n",
    "# After a condition is met -> it stops"
   ]
  },
  {
   "cell_type": "code",
   "execution_count": null,
   "id": "23acd03a",
   "metadata": {},
   "outputs": [],
   "source": [
    "# 1. infinite loop\n",
    "# 2. while True\n",
    "    # while truthy\n",
    "    # while balance: -> all the time\n",
    "        # 0"
   ]
  },
  {
   "cell_type": "markdown",
   "id": "ba1c5adf",
   "metadata": {
    "lang": "en"
   },
   "source": [
    "In the case of while True the expression will always evaluate to true by definition.\n",
    "It would be equivalent to:\n",
    "\n",
    "```python\n",
    "as long as true is true:\n",
    "    do something\n",
    "   ````"
   ]
  },
  {
   "cell_type": "code",
   "execution_count": 23,
   "id": "f85e7b7d",
   "metadata": {},
   "outputs": [],
   "source": [
    "names = [\"albert\", \"laura\", \"clara\"]"
   ]
  },
  {
   "cell_type": "code",
   "execution_count": 27,
   "id": "49b1c97a",
   "metadata": {},
   "outputs": [
    {
     "data": {
      "text/plain": [
       "['Albert', 'Laura', 'Clara']"
      ]
     },
     "execution_count": 27,
     "metadata": {},
     "output_type": "execute_result"
    }
   ],
   "source": [
    "# while -> no condition to be met \n",
    "# for -> aaaaall the elements in the iterable\n",
    "\n",
    "# goal: capitalize\n",
    "\n",
    "new_list = []\n",
    "for i in names:\n",
    "    new_list.append(i.capitalize())\n",
    "new_list"
   ]
  },
  {
   "cell_type": "code",
   "execution_count": null,
   "id": "22a4954a",
   "metadata": {},
   "outputs": [],
   "source": [
    "\"\"\"\n",
    "i = \"\"\n",
    "while i in names: #Not looping an iterable\n",
    "    #i = i.capitalize()\n",
    "\"\"\""
   ]
  },
  {
   "cell_type": "code",
   "execution_count": 36,
   "id": "52960c7b",
   "metadata": {},
   "outputs": [
    {
     "data": {
      "text/plain": [
       "'albert'"
      ]
     },
     "execution_count": 36,
     "metadata": {},
     "output_type": "execute_result"
    }
   ],
   "source": [
    "names[0]"
   ]
  },
  {
   "cell_type": "code",
   "execution_count": 37,
   "id": "9e91dbaa",
   "metadata": {},
   "outputs": [
    {
     "name": "stdout",
     "output_type": "stream",
     "text": [
      "Albert\n",
      "Laura\n",
      "Clara\n"
     ]
    }
   ],
   "source": [
    "#max_ = range(len(names))\n",
    "\n",
    "for i in range(len(names)):\n",
    "    print(names[i].capitalize())\n",
    "    # wordy "
   ]
  },
  {
   "cell_type": "code",
   "execution_count": 38,
   "id": "bdaeee31",
   "metadata": {},
   "outputs": [
    {
     "name": "stdout",
     "output_type": "stream",
     "text": [
      "Albert\n",
      "Laura\n",
      "Clara\n"
     ]
    }
   ],
   "source": [
    "for element in names:\n",
    "    print(element.capitalize())"
   ]
  },
  {
   "cell_type": "code",
   "execution_count": 45,
   "id": "e6c840f5",
   "metadata": {},
   "outputs": [
    {
     "name": "stdout",
     "output_type": "stream",
     "text": [
      "Clara\n",
      "Laura\n",
      "Albert\n"
     ]
    }
   ],
   "source": [
    "length = len(names)\n",
    "\n",
    "while length > 0:\n",
    "    length -= 1 \n",
    "    print(names[length].capitalize())"
   ]
  },
  {
   "cell_type": "code",
   "execution_count": null,
   "id": "a1e8c118",
   "metadata": {},
   "outputs": [],
   "source": [
    "# for: loop an interable\n",
    "    # each element will be taking a diferent value each iteration\n",
    "# while: conditions to be met"
   ]
  },
  {
   "cell_type": "markdown",
   "id": "587399ed",
   "metadata": {
    "lang": "en"
   },
   "source": [
    "🐒 - We write a program that asks the user for a letter between a and d forever until they enter one correctly."
   ]
  },
  {
   "cell_type": "code",
   "execution_count": 46,
   "id": "d6441703",
   "metadata": {},
   "outputs": [],
   "source": [
    "# asks the user\n",
    "\n",
    "# while the answer is differnt from a, b, c or d -> ask again\n",
    "    # a ltter betwen a - d\n",
    "    # once it happens -> stop"
   ]
  },
  {
   "cell_type": "code",
   "execution_count": 48,
   "id": "67191eed",
   "metadata": {},
   "outputs": [
    {
     "data": {
      "text/plain": [
       "False"
      ]
     },
     "execution_count": 48,
     "metadata": {},
     "output_type": "execute_result"
    }
   ],
   "source": [
    "accepted_letters = [\"a\" , \"b\", \"c\", \"d\"]\n",
    "\n",
    "\"a\" == accepted_letters"
   ]
  },
  {
   "cell_type": "code",
   "execution_count": 57,
   "id": "55066a55",
   "metadata": {},
   "outputs": [
    {
     "name": "stdout",
     "output_type": "stream",
     "text": [
      "Please enter a letter: l\n",
      "Please enter a letter: l\n",
      "Try again\n",
      "Please enter a letter: l\n",
      "Try again\n",
      "Please enter a letter: a\n",
      "Try again\n",
      "Congrats!\n"
     ]
    }
   ],
   "source": [
    "inputed_letter = input(\"Please enter a letter: \")\n",
    "accepted_letters = [\"a\" , \"b\", \"c\", \"d\"]\n",
    "\n",
    "while inputed_letter not in accepted_letters:\n",
    "    inputed_letter = input(\"Please enter a letter: \")\n",
    "    print(\"Try again\")\n",
    "    \n",
    "print(\"Congrats!\")\n",
    "\n",
    "# the flow of code is linear -> top to bottom"
   ]
  },
  {
   "cell_type": "code",
   "execution_count": null,
   "id": "6cc4e782",
   "metadata": {},
   "outputs": [],
   "source": [
    "inputed_letter = input(\"Please enter a letter: \")\n",
    "accepted_letters = [\"a\" , \"b\", \"c\", \"d\"]\n",
    "\n",
    "# x and y and z -> accepted\n",
    "# x != 2 and != 3 -> not accepted\n",
    "# x != 2 and x !=  3 -> after each evaluation, you need the variable agian\n",
    "\n",
    "while \"a\" and \"b\" ....\n",
    "    inputed_letter = input(\"Please enter a letter: \")"
   ]
  },
  {
   "cell_type": "code",
   "execution_count": 52,
   "id": "72abad93",
   "metadata": {},
   "outputs": [
    {
     "data": {
      "text/plain": [
       "'\\ninputed_letter = input(\"Please enter a letter: \")\\naccepted_letters = [\"a\" , \"b\", \"c\", \"d\"]\\n\\nwhile inputed_letter != \"a\" and != \"b\" and != \"c\":\\n    inputed_letter = input(\"Please enter a letter: \")\\n'"
      ]
     },
     "execution_count": 52,
     "metadata": {},
     "output_type": "execute_result"
    }
   ],
   "source": [
    "# Q: concatenating conditions\n",
    "\n",
    "\"\"\"\n",
    "inputed_letter = input(\"Please enter a letter: \")\n",
    "accepted_letters = [\"a\" , \"b\", \"c\", \"d\"]\n",
    "\n",
    "while inputed_letter != \"a\" and != \"b\" and != \"c\":\n",
    "    inputed_letter = input(\"Please enter a letter: \")\n",
    "\"\"\""
   ]
  },
  {
   "cell_type": "code",
   "execution_count": null,
   "id": "83eae771",
   "metadata": {},
   "outputs": [],
   "source": [
    "# 1. Defining a function\n",
    "def gets_input ():\n",
    "    an_input = input(\"Please enter a letter: \")\n",
    "    return an_input\n",
    "\n",
    "\n",
    "# 2. Define a variable\n",
    "    # and store the result of the function as a variable\n",
    "    \n",
    "inputed_letter = gets_input()\n",
    "\n",
    "# 3. Declare other variable\n",
    "accepted_letters = [\"a\" , \"b\", \"c\", \"d\"]\n",
    "\n",
    "# 4. Calling a function within the loop\n",
    "while inputed_letter not in accepted_letters:\n",
    "    gets_input()\n"
   ]
  },
  {
   "cell_type": "code",
   "execution_count": 9,
   "id": "8ba1c185",
   "metadata": {},
   "outputs": [
    {
     "name": "stdout",
     "output_type": "stream",
     "text": [
      "Please enter a letter: l+\n",
      "Please enter a letter: l\n",
      "Attempt number: 2\n",
      "Please enter a letter: a\n",
      "Attempt number: 3\n",
      "Congrats\n"
     ]
    }
   ],
   "source": [
    "# Q: only three times\n",
    "\n",
    "inputed_letter = input(\"Please enter a letter: \")\n",
    "accepted_letters = [\"a\" , \"b\", \"c\", \"d\"]\n",
    "\n",
    "counter = 1\n",
    "\n",
    "while inputed_letter not in accepted_letters:\n",
    "    counter += 1\n",
    "    if counter == 4:\n",
    "        print(\"You didn't make it\")\n",
    "        break \n",
    "        \n",
    "    inputed_letter = input(\"Please enter a letter: \")\n",
    "    print(f\"Attempt number: {counter}\")\n",
    "\n",
    "if inputed_letter in accepted_letters:\n",
    "    print(\"Congrats\")\n",
    "else:\n",
    "    print(\"You failed\")\n",
    "# the flow of code is linear -> top to bottom"
   ]
  },
  {
   "cell_type": "markdown",
   "id": "9af78e68",
   "metadata": {
    "lang": "en"
   },
   "source": [
    "## Pass,  continue & break\n",
    "The pass statement does nothing. Can be used when a syntax statement is required but no action is required by the program (from the [docs](https://docs.python.org/3/tutorial/controlflow.html))\n",
    "\n",
    "\n",
    "Although it may surprise us, it is useful in several situations. In Python we cannot have an undefined block of code (for example, the body of a function, the body of a condition, or the body of a loop). So it's common to use pass when we're writing the structure of our program but haven't yet tackled the implementation of certain blocks of code."
   ]
  },
  {
   "cell_type": "code",
   "execution_count": 10,
   "id": "5b7cd447",
   "metadata": {},
   "outputs": [],
   "source": [
    "name = [\"Marina\", \"Albert\", \"Laura\"]"
   ]
  },
  {
   "cell_type": "markdown",
   "id": "9a7bc1ee",
   "metadata": {},
   "source": [
    "`pass`: ignores, does things and goes to next iteration"
   ]
  },
  {
   "cell_type": "code",
   "execution_count": 16,
   "id": "a798c2c2",
   "metadata": {},
   "outputs": [
    {
     "name": "stdout",
     "output_type": "stream",
     "text": [
      "Marina\n",
      "Albert\n",
      "Albert\n",
      "Laura\n"
     ]
    }
   ],
   "source": [
    "for i in name:\n",
    "    if i.startswith(\"A\"):\n",
    "        pass\n",
    "        print(i)\n",
    "    print(i)"
   ]
  },
  {
   "cell_type": "code",
   "execution_count": 23,
   "id": "d0f9e3ce",
   "metadata": {},
   "outputs": [
    {
     "name": "stdout",
     "output_type": "stream",
     "text": [
      "something\n"
     ]
    }
   ],
   "source": [
    "for i in name:\n",
    "    if i.startswith(\"A\"):\n",
    "        print(\"something\")\n",
    "        pass\n",
    "    else:\n",
    "        pass\n",
    "        # raiseErorr"
   ]
  },
  {
   "cell_type": "code",
   "execution_count": 19,
   "id": "e8927cec",
   "metadata": {},
   "outputs": [],
   "source": [
    "# as a placeholder\n",
    "\n",
    "def addition ():\n",
    "    pass"
   ]
  },
  {
   "cell_type": "code",
   "execution_count": 21,
   "id": "be2950be",
   "metadata": {},
   "outputs": [],
   "source": [
    "# codewars: katas, code challenges\n",
    "def function_name ():\n",
    "    # your code here\n",
    "    return a + b"
   ]
  },
  {
   "cell_type": "markdown",
   "id": "6630b66a",
   "metadata": {},
   "source": [
    "`continue`: stops and goes to next iteration"
   ]
  },
  {
   "cell_type": "code",
   "execution_count": 24,
   "id": "08b06793",
   "metadata": {},
   "outputs": [
    {
     "data": {
      "text/plain": [
       "['Marina', 'Albert', 'Laura']"
      ]
     },
     "execution_count": 24,
     "metadata": {},
     "output_type": "execute_result"
    }
   ],
   "source": [
    "name"
   ]
  },
  {
   "cell_type": "code",
   "execution_count": 28,
   "id": "c3f27b58",
   "metadata": {},
   "outputs": [
    {
     "name": "stdout",
     "output_type": "stream",
     "text": [
      "Marina\n",
      "Laura\n"
     ]
    }
   ],
   "source": [
    "for i in name:\n",
    "    if i.startswith(\"A\"):\n",
    "        continue # skip -> to the next iteration\n",
    "    else:\n",
    "        print(i)\n",
    "        \n",
    "# continues to the next value of i\n",
    "# continues to next iteration (ignoring code down below)"
   ]
  },
  {
   "cell_type": "code",
   "execution_count": 29,
   "id": "2a5f8b8f",
   "metadata": {},
   "outputs": [
    {
     "name": "stdout",
     "output_type": "stream",
     "text": [
      "Marina\n",
      "Albert\n",
      "Laura\n"
     ]
    }
   ],
   "source": [
    "for i in name:\n",
    "    if i.startswith(\"A\"):\n",
    "        pass\n",
    "    print(i)"
   ]
  },
  {
   "cell_type": "code",
   "execution_count": null,
   "id": "72f4b95b",
   "metadata": {},
   "outputs": [],
   "source": [
    "# break: stops the loop\n",
    "    # as seen above"
   ]
  },
  {
   "cell_type": "markdown",
   "id": "classical-passenger",
   "metadata": {},
   "source": [
    "## For"
   ]
  },
  {
   "cell_type": "markdown",
   "id": "fdb36275",
   "metadata": {
    "lang": "en"
   },
   "source": [
    "It is very common to write a code with loops within these two possible situations:\n",
    "- 1: When we use a counter within a repetition. The counter is a variable that increases or decreases constantly in each iteration of the loop until it reaches a limit value that marks the end of the repetitions.\n",
    "- 2: When we iterate over the elements of a container, for example, a list, to operate on each one of them. Also in this case we know in advance the number of repetitions that will take place."
   ]
  },
  {
   "cell_type": "markdown",
   "id": "753d6746",
   "metadata": {
    "lang": "en"
   },
   "source": [
    "The For statement, in Python, allows you to iterate over sequences of values ​​(lists or strings) according to an established order. Unlike other languages, with Python's for you don't define counters or expressions that change at each iteration, but rather a sequence over which the counter variable will take its values. In any case, it is the most appropriate option to solve the two previous cases...let's give an example:"
   ]
  },
  {
   "cell_type": "code",
   "execution_count": 31,
   "id": "4545e7e0",
   "metadata": {},
   "outputs": [],
   "source": [
    "number = 5"
   ]
  },
  {
   "cell_type": "code",
   "execution_count": 36,
   "id": "b143fcc3",
   "metadata": {},
   "outputs": [
    {
     "data": {
      "text/plain": [
       "[1, 2, 3, 4, 5]"
      ]
     },
     "execution_count": 36,
     "metadata": {},
     "output_type": "execute_result"
    }
   ],
   "source": [
    "new_list = []\n",
    "for i in range(1, 6):\n",
    "    new_list.append(i)\n",
    "new_list"
   ]
  },
  {
   "cell_type": "code",
   "execution_count": 39,
   "id": "9b57a1ed",
   "metadata": {},
   "outputs": [
    {
     "name": "stdout",
     "output_type": "stream",
     "text": [
      "5\n",
      "sd\n"
     ]
    }
   ],
   "source": [
    "for i in [5, \"sd\"]:\n",
    "    print(i)"
   ]
  },
  {
   "cell_type": "code",
   "execution_count": 34,
   "id": "5707fc90",
   "metadata": {},
   "outputs": [
    {
     "ename": "TypeError",
     "evalue": "'int' object is not iterable",
     "output_type": "error",
     "traceback": [
      "\u001b[0;31m---------------------------------------------------------------------------\u001b[0m",
      "\u001b[0;31mTypeError\u001b[0m                                 Traceback (most recent call last)",
      "Input \u001b[0;32mIn [34]\u001b[0m, in \u001b[0;36m<cell line: 1>\u001b[0;34m()\u001b[0m\n\u001b[0;32m----> 1\u001b[0m \u001b[38;5;28;01mfor\u001b[39;00m i \u001b[38;5;129;01min\u001b[39;00m number:\n\u001b[1;32m      2\u001b[0m     \u001b[38;5;28mprint\u001b[39m(i)\n",
      "\u001b[0;31mTypeError\u001b[0m: 'int' object is not iterable"
     ]
    }
   ],
   "source": [
    "for i in number:\n",
    "    print(i) # you cannot loop an int"
   ]
  },
  {
   "cell_type": "markdown",
   "id": "a968f25d",
   "metadata": {
    "lang": "en"
   },
   "source": [
    "The for statement, in Python, iterates over collections. So if we need a counter that increments on each iteration, Python provides the range() function, which generates lists of integers. This function allows to generate sequences and is quite versatile and we can invoke it in different ways:"
   ]
  },
  {
   "cell_type": "code",
   "execution_count": 40,
   "id": "675c847d",
   "metadata": {},
   "outputs": [
    {
     "name": "stdout",
     "output_type": "stream",
     "text": [
      "2\n",
      "6\n",
      "10\n"
     ]
    }
   ],
   "source": [
    "for i in range(1, 6, 2): # start, stop and step\n",
    "    print(i * 2)"
   ]
  },
  {
   "cell_type": "code",
   "execution_count": 42,
   "id": "604589c3",
   "metadata": {},
   "outputs": [
    {
     "name": "stdout",
     "output_type": "stream",
     "text": [
      "11111111111111111111\n",
      "22222222222222222222\n",
      "33333333333333333333\n",
      "44444444444444444444\n",
      "55555555555555555555\n"
     ]
    }
   ],
   "source": [
    "for i in range(1, 6):\n",
    "    print(str(i) * 20)\n",
    "    # i -> \"1\"\n",
    "    # i -> \"2\"\n",
    "    # i -> \"3\""
   ]
  },
  {
   "cell_type": "markdown",
   "id": "5109ef4d",
   "metadata": {
    "lang": "en"
   },
   "source": [
    "- With a single argument: generates integers ranging from 0 to the previous one indicated as a parameter:\n",
    "\n",
    "`range(int)`"
   ]
  },
  {
   "cell_type": "code",
   "execution_count": 44,
   "id": "d60df029",
   "metadata": {},
   "outputs": [
    {
     "data": {
      "text/plain": [
       "range(0, 10)"
      ]
     },
     "execution_count": 44,
     "metadata": {},
     "output_type": "execute_result"
    }
   ],
   "source": [
    "range(10)"
   ]
  },
  {
   "cell_type": "markdown",
   "id": "88f9f5a9",
   "metadata": {
    "lang": "en"
   },
   "source": [
    "- With two arguments. The first parameter is the initial value and the second the value below which the elements of the list must be:\n",
    "\n",
    "`range(int, int)` "
   ]
  },
  {
   "cell_type": "code",
   "execution_count": 45,
   "id": "433ade74",
   "metadata": {},
   "outputs": [
    {
     "data": {
      "text/plain": [
       "range(4, 11)"
      ]
     },
     "execution_count": 45,
     "metadata": {},
     "output_type": "execute_result"
    }
   ],
   "source": [
    "range(4, 11)"
   ]
  },
  {
   "cell_type": "code",
   "execution_count": 47,
   "id": "2aa57b6b",
   "metadata": {},
   "outputs": [
    {
     "name": "stdout",
     "output_type": "stream",
     "text": [
      "0\n",
      "1\n",
      "2\n",
      "3\n"
     ]
    }
   ],
   "source": [
    "for i in range(4, ):\n",
    "    print(i)"
   ]
  },
  {
   "cell_type": "markdown",
   "id": "81739599",
   "metadata": {
    "lang": "en"
   },
   "source": [
    "- With three arguments. Same as above, but the third parameter indicates the increment that occurs from one element to the next: `range(int, int, increment)` "
   ]
  },
  {
   "cell_type": "code",
   "execution_count": null,
   "id": "9cfcda02",
   "metadata": {},
   "outputs": [],
   "source": []
  },
  {
   "cell_type": "markdown",
   "id": "closing-pound",
   "metadata": {
    "lang": "es"
   },
   "source": [
    "### Iterate through strings"
   ]
  },
  {
   "cell_type": "code",
   "execution_count": 55,
   "id": "ba377dae",
   "metadata": {},
   "outputs": [],
   "source": [
    "a_sentence = \"this is\" # is an iterable"
   ]
  },
  {
   "cell_type": "code",
   "execution_count": 56,
   "id": "4467f455",
   "metadata": {},
   "outputs": [
    {
     "name": "stdout",
     "output_type": "stream",
     "text": [
      "t\n",
      "h\n",
      "i\n",
      "s\n",
      " \n",
      "i\n",
      "s\n"
     ]
    }
   ],
   "source": [
    "for i in a_sentence:\n",
    "    print(i)"
   ]
  },
  {
   "cell_type": "code",
   "execution_count": 57,
   "id": "c49a88d1",
   "metadata": {
    "scrolled": true
   },
   "outputs": [
    {
     "name": "stdout",
     "output_type": "stream",
     "text": [
      "T\n",
      "H\n",
      "I\n",
      "S\n",
      " \n",
      "I\n",
      "S\n"
     ]
    }
   ],
   "source": [
    "for i in a_sentence:\n",
    "    print(i.upper())"
   ]
  },
  {
   "cell_type": "code",
   "execution_count": 60,
   "id": "399397ac",
   "metadata": {},
   "outputs": [
    {
     "data": {
      "text/plain": [
       "'THIS IS'"
      ]
     },
     "execution_count": 60,
     "metadata": {},
     "output_type": "execute_result"
    }
   ],
   "source": [
    "# transform the string into an upper sttring\n",
    "a_sentence = \"this is\" # -> \"THIS IS\"\n",
    "\n",
    "a_sentence = a_sentence.upper()\n",
    "a_sentence"
   ]
  },
  {
   "cell_type": "code",
   "execution_count": 62,
   "id": "5d184e04",
   "metadata": {},
   "outputs": [
    {
     "data": {
      "text/plain": [
       "'THIS IS'"
      ]
     },
     "execution_count": 62,
     "metadata": {},
     "output_type": "execute_result"
    }
   ],
   "source": [
    "# transform the string into an upper string\n",
    "a_sentence = \"this is\" # -> \"THIS IS\"\n",
    "empty_string = \"\"\n",
    "\n",
    "for i in a_sentence:\n",
    "    empty_string += i.upper()\n",
    "empty_string"
   ]
  },
  {
   "cell_type": "code",
   "execution_count": 71,
   "id": "9a02b2ff",
   "metadata": {},
   "outputs": [
    {
     "data": {
      "text/plain": [
       "'THIS IS'"
      ]
     },
     "execution_count": 71,
     "metadata": {},
     "output_type": "execute_result"
    }
   ],
   "source": [
    "# transform the string into an upper sttring\n",
    "a_sentence = \"this is\" # -> \"THIS IS\"\n",
    "new_list = []\n",
    "\n",
    "for i in a_sentence:\n",
    "    new_list.append(i.upper())\n",
    "\n",
    "new_new_new = \"\".join(new_list)\n",
    "new_new_new"
   ]
  },
  {
   "cell_type": "markdown",
   "id": "fef0c8a5",
   "metadata": {
    "lang": "en"
   },
   "source": [
    "### Iterate through a list"
   ]
  },
  {
   "cell_type": "code",
   "execution_count": null,
   "id": "ef71cee6",
   "metadata": {},
   "outputs": [],
   "source": []
  },
  {
   "cell_type": "markdown",
   "id": "e873ede0",
   "metadata": {
    "lang": "en"
   },
   "source": [
    "### We iterate through lists over their index\n",
    "- Built in functions --> https://docs.python.org/3/library/functions.html\n",
    "- Enumerate doc --> https://book.pythontips.com/en/latest/enumerate.html"
   ]
  },
  {
   "cell_type": "code",
   "execution_count": 72,
   "id": "21aed269",
   "metadata": {},
   "outputs": [],
   "source": [
    "names = [\"Albert\", \"Clara\", \"Laura\"]"
   ]
  },
  {
   "cell_type": "code",
   "execution_count": 73,
   "id": "5dd551ff",
   "metadata": {},
   "outputs": [],
   "source": [
    "# Albert: 0\n",
    "# Clara: 1\n",
    "# Laura: 2"
   ]
  },
  {
   "cell_type": "code",
   "execution_count": 85,
   "id": "a3276486",
   "metadata": {},
   "outputs": [
    {
     "name": "stdout",
     "output_type": "stream",
     "text": [
      "Albert: 0\n",
      "Clara: 1\n",
      "Laura: 2\n"
     ]
    }
   ],
   "source": [
    "counter = 0\n",
    "\n",
    "for person in names:\n",
    "    print(f\"{person}: {counter}\")\n",
    "    counter += 1"
   ]
  },
  {
   "cell_type": "code",
   "execution_count": 91,
   "id": "f3332fcd",
   "metadata": {},
   "outputs": [
    {
     "name": "stdout",
     "output_type": "stream",
     "text": [
      "Albert: 0\n",
      "Albert: 1\n",
      "Albert: 2\n",
      "Clara: 0\n",
      "Clara: 1\n",
      "Clara: 2\n",
      "Laura: 0\n",
      "Laura: 1\n",
      "Laura: 2\n"
     ]
    }
   ],
   "source": [
    "#Q: Mónica\n",
    "\n",
    "names = [\"Albert\", \"Clara\", \"Laura\"]\n",
    "\n",
    "for person in names:\n",
    "    for i in range(len(names)):\n",
    "        print(f\"{person}: {i}\")"
   ]
  },
  {
   "cell_type": "code",
   "execution_count": 92,
   "id": "6959d28b",
   "metadata": {},
   "outputs": [
    {
     "name": "stdout",
     "output_type": "stream",
     "text": [
      "Albert: 0\n",
      "Clara: 1\n",
      "Laura: 2\n"
     ]
    }
   ],
   "source": [
    "#Q: Mónica\n",
    "\n",
    "names = [\"Albert\", \"Clara\", \"Laura\"]\n",
    "\n",
    "for i in range(len(names)):\n",
    "    print(f\"{names[i]}: {i}\")"
   ]
  },
  {
   "cell_type": "code",
   "execution_count": 97,
   "id": "be6a60f8",
   "metadata": {},
   "outputs": [
    {
     "name": "stdout",
     "output_type": "stream",
     "text": [
      "0: Albert\n",
      "1: Clara\n",
      "2: Laura\n"
     ]
    }
   ],
   "source": [
    "for index, name in enumerate(names): # accesses the index AND the elemnt at once\n",
    "    print(f\"{index}: {name}\")"
   ]
  },
  {
   "cell_type": "markdown",
   "id": "73b7e30f",
   "metadata": {
    "lang": "en"
   },
   "source": [
    "### Loop through two lists at the same time"
   ]
  },
  {
   "cell_type": "markdown",
   "id": "af465221",
   "metadata": {
    "lang": "en"
   },
   "source": [
    "I leave you the zip documentation, remember that it will not give an error if the lists are of different sizes but the last iteration will be that of the shortest list\n",
    "[DOC](https://docs.python.org/3/library/functions.html)"
   ]
  },
  {
   "cell_type": "code",
   "execution_count": 99,
   "id": "2588ead2",
   "metadata": {},
   "outputs": [],
   "source": [
    "names = ['Albert', 'Clara', 'Laura']\n",
    "cities = [\"Mataró\", \"Poblenou\", \"Barcelona\"]"
   ]
  },
  {
   "cell_type": "code",
   "execution_count": 100,
   "id": "7b658e3c",
   "metadata": {},
   "outputs": [],
   "source": [
    "# Albert is from Mataró"
   ]
  },
  {
   "cell_type": "code",
   "execution_count": 104,
   "id": "ca12795e",
   "metadata": {},
   "outputs": [
    {
     "name": "stdout",
     "output_type": "stream",
     "text": [
      "Albert is from Mataró\n",
      "Clara is from Poblenou\n",
      "Laura is from Barcelona\n"
     ]
    }
   ],
   "source": [
    "for n, cit in zip(names, cities):\n",
    "    print(f\"{n} is from {cit}\")"
   ]
  },
  {
   "cell_type": "code",
   "execution_count": 105,
   "id": "d8daed19",
   "metadata": {},
   "outputs": [],
   "source": [
    "names = ['Albert', 'Clara', 'Laura', \"María\"]\n",
    "cities = [\"Mataró\", \"Poblenou\", \"Barcelona\"]"
   ]
  },
  {
   "cell_type": "code",
   "execution_count": 106,
   "id": "c0be1298",
   "metadata": {},
   "outputs": [
    {
     "name": "stdout",
     "output_type": "stream",
     "text": [
      "Albert is from Mataró\n",
      "Clara is from Poblenou\n",
      "Laura is from Barcelona\n"
     ]
    }
   ],
   "source": [
    "for n, cit in zip(names, cities):\n",
    "    print(f\"{n} is from {cit}\")\n",
    "    \n",
    "# 1. It doesn't work: error\n",
    "# 2. The short version: up to Laura\n",
    "# 3. Long version 4, but María has a city that is None"
   ]
  },
  {
   "cell_type": "code",
   "execution_count": 109,
   "id": "fad3a31b",
   "metadata": {},
   "outputs": [
    {
     "name": "stdout",
     "output_type": "stream",
     "text": [
      "Hi, my name is Albert I'm from Mataró and I'm 30\n",
      "Hi, my name is Clara I'm from Poblenou and I'm 29\n",
      "Hi, my name is Laura I'm from Barcelona and I'm 31\n"
     ]
    }
   ],
   "source": [
    "names = ['Albert', 'Clara', 'Laura']\n",
    "cities = [\"Mataró\", \"Poblenou\", \"Barcelona\"]\n",
    "age = [30, 29, 31]\n",
    "\n",
    "\n",
    "# Hi, my name is {name} I'm from {city} and I'm {age}\n",
    "\n",
    "for name, city, age in zip (names, cities, age):\n",
    "    print(f\"Hi, my name is {name} I'm from {city} and I'm {age}\")"
   ]
  },
  {
   "cell_type": "code",
   "execution_count": 112,
   "id": "94da630b",
   "metadata": {},
   "outputs": [
    {
     "name": "stdout",
     "output_type": "stream",
     "text": [
      "0: Hi, my name is Albert I'm from Mataró and I'm 30\n",
      "1: Hi, my name is Clara I'm from Poblenou and I'm 29\n",
      "2: Hi, my name is Laura I'm from Barcelona and I'm 31\n"
     ]
    }
   ],
   "source": [
    "names = ['Albert', 'Clara', 'Laura']\n",
    "cities = [\"Mataró\", \"Poblenou\", \"Barcelona\"]\n",
    "age = [30, 29, 31]\n",
    "\n",
    "for index, (name, city, ages) in enumerate(zip (names, cities, age)):\n",
    "    dict_albert = {\n",
    "    \"name\": \"Albert\",\n",
    "    \"city\": \"Mataró\",\n",
    "    \"age\": 30,\n",
    "    \"holidays\": 20,\n",
    "    \"hobbies\": [\"padel\", \"reading\", \"beach\"]\n",
    "}\n",
    "    print(f\"{index}: Hi, my name is {name} I'm from {city} and I'm {ages}\")"
   ]
  },
  {
   "cell_type": "code",
   "execution_count": null,
   "id": "8aa5407c",
   "metadata": {},
   "outputs": [],
   "source": [
    "# enumerate & zip are built-in functions"
   ]
  },
  {
   "cell_type": "markdown",
   "id": "a7f5de97",
   "metadata": {},
   "source": [
    "`zip_longest`: whate if I want to keep the longest list?"
   ]
  },
  {
   "cell_type": "code",
   "execution_count": null,
   "id": "224b0bc5",
   "metadata": {},
   "outputs": [],
   "source": []
  },
  {
   "cell_type": "markdown",
   "id": "cd740c33",
   "metadata": {
    "lang": "en"
   },
   "source": [
    "### Iterate over the elements of a dictionary"
   ]
  },
  {
   "cell_type": "code",
   "execution_count": 113,
   "id": "77f5d87c",
   "metadata": {},
   "outputs": [],
   "source": [
    "dict_albert = {\n",
    "    \"name\": \"Albert\",\n",
    "    \"city\": \"Mataró\",\n",
    "    \"age\": 30,\n",
    "    \"holidays\": 20,\n",
    "    \"hobbies\": [\"padel\", \"reading\", \"beach\"]\n",
    "}"
   ]
  },
  {
   "cell_type": "code",
   "execution_count": 117,
   "id": "0e12a99f",
   "metadata": {},
   "outputs": [
    {
     "data": {
      "text/plain": [
       "['padel', 'reading', 'beach']"
      ]
     },
     "execution_count": 117,
     "metadata": {},
     "output_type": "execute_result"
    }
   ],
   "source": [
    "# hobbies with length > 5\n",
    "# 1. access hobbies\n",
    "\n",
    "dict_albert[\"hobbies\"]"
   ]
  },
  {
   "cell_type": "code",
   "execution_count": 118,
   "id": "543c9372",
   "metadata": {},
   "outputs": [
    {
     "name": "stdout",
     "output_type": "stream",
     "text": [
      "reading\n"
     ]
    }
   ],
   "source": [
    "for i in dict_albert[\"hobbies\"]:\n",
    "   # ['padel', 'reading', 'beach'] \n",
    "    if len(i) > 5:\n",
    "        print(i)"
   ]
  },
  {
   "cell_type": "markdown",
   "id": "5f8559a8",
   "metadata": {
    "lang": "en"
   },
   "source": [
    "## Summary\n",
    "It's your turn, what have we learned today?\n"
   ]
  },
  {
   "cell_type": "code",
   "execution_count": 120,
   "id": "8bb97f52",
   "metadata": {},
   "outputs": [
    {
     "data": {
      "text/plain": [
       "'\\nfor i in range(3)\\n    list[i] #\\xa0element number 4\\n'"
      ]
     },
     "execution_count": 120,
     "metadata": {},
     "output_type": "execute_result"
    }
   ],
   "source": [
    "# for \n",
    "    # loops without needing a condition\n",
    "    # lenght is defined as the lenght of the iterable\n",
    "    \n",
    "# while\n",
    "    # it iterates until a condition is met\n",
    "    # there's no length as there's no iterable \n",
    "    # beware of infinite loops\n",
    "    \n",
    "# pass, continue and break\n",
    "    # pass: placeholder, to close things, so there's no error\n",
    "    # continue: jumps on the next iteration\n",
    "    # break: stops\n",
    "\n",
    "# range\n",
    "    # starts at 0\n",
    "    # stop: stop + 1\n",
    "    # start, stop, step\n",
    "    # loop through index & access element with the index\n",
    "\"\"\"\n",
    "for i in range(3)\n",
    "    list[i] # element number 4\n",
    "\"\"\"\n",
    "    \n",
    "# zip\n",
    "    # matches elements of iterables\n",
    "    # based on position\n",
    "    # the maximum is the shortest iterable\n",
    "    \n",
    "# enumerate\n",
    "    # for index, element in enumerate (list_)\n",
    "    # both elements and position"
   ]
  }
 ],
 "metadata": {
  "kernelspec": {
   "display_name": "Python 3 (ipykernel)",
   "language": "python",
   "name": "python3"
  },
  "language_info": {
   "codemirror_mode": {
    "name": "ipython",
    "version": 3
   },
   "file_extension": ".py",
   "mimetype": "text/x-python",
   "name": "python",
   "nbconvert_exporter": "python",
   "pygments_lexer": "ipython3",
   "version": "3.9.12"
  },
  "nbTranslate": {
   "displayLangs": [
    "en",
    "es"
   ],
   "hotkey": "alt-a",
   "langInMainMenu": true,
   "sourceLang": "es",
   "targetLang": "en",
   "useGoogleTranslate": true
  },
  "toc": {
   "base_numbering": 1,
   "nav_menu": {},
   "number_sections": true,
   "sideBar": true,
   "skip_h1_title": true,
   "title_cell": "Table of Contents",
   "title_sidebar": "Contents",
   "toc_cell": true,
   "toc_position": {
    "height": "calc(100% - 180px)",
    "left": "10px",
    "top": "150px",
    "width": "253.097px"
   },
   "toc_section_display": true,
   "toc_window_display": false
  }
 },
 "nbformat": 4,
 "nbformat_minor": 5
}
