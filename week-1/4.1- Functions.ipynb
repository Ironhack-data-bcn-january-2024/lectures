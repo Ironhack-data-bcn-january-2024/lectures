{
 "cells": [
  {
   "cell_type": "markdown",
   "id": "9eb0f57b",
   "metadata": {
    "lang": "en"
   },
   "source": [
    "# Functional Programming"
   ]
  },
  {
   "cell_type": "markdown",
   "id": "conceptual-behalf",
   "metadata": {},
   "source": [
    "![elgif](https://media.giphy.com/media/CuMiNoTRz2bYc/giphy.gif)"
   ]
  },
  {
   "cell_type": "markdown",
   "id": "incorrect-serum",
   "metadata": {
    "toc": true
   },
   "source": [
    "<h1>Table of Contents<span class=\"tocSkip\"></span></h1>\n",
    "<div class=\"toc\"><ul class=\"toc-item\"><li><span><a href=\"#Your-contributions-🚀\" data-toc-modified-id=\"Your-contributions-🚀-1\"><span class=\"toc-item-num\">1&nbsp;&nbsp;</span>Your contributions 🚀</a></span></li><li><span><a href=\"#What-is-functional-programming?:-paradigms\" data-toc-modified-id=\"What-is-functional-programming?:-paradigms-2\"><span class=\"toc-item-num\">2&nbsp;&nbsp;</span>What is functional programming?: paradigms</a></span></li><li><span><a href=\"#Built-in-functions\" data-toc-modified-id=\"Built-in-functions-3\"><span class=\"toc-item-num\">3&nbsp;&nbsp;</span>Built-in functions</a></span></li><li><span><a href=\"#USER---DEFINED-FUNCTIONS\" data-toc-modified-id=\"USER---DEFINED-FUNCTIONS-4\"><span class=\"toc-item-num\">4&nbsp;&nbsp;</span>USER - DEFINED FUNCTIONS</a></span><ul class=\"toc-item\"><li><span><a href=\"#def\" data-toc-modified-id=\"def-4.1\"><span class=\"toc-item-num\">4.1&nbsp;&nbsp;</span>def</a></span></li><li><span><a href=\"#name\" data-toc-modified-id=\"name-4.2\"><span class=\"toc-item-num\">4.2&nbsp;&nbsp;</span>name</a></span></li><li><span><a href=\"#parameters\" data-toc-modified-id=\"parameters-4.3\"><span class=\"toc-item-num\">4.3&nbsp;&nbsp;</span>parameters</a></span></li><li><span><a href=\"#arguments\" data-toc-modified-id=\"arguments-4.4\"><span class=\"toc-item-num\">4.4&nbsp;&nbsp;</span>arguments</a></span><ul class=\"toc-item\"><li><span><a href=\"#default-parameters\" data-toc-modified-id=\"default-parameters-4.4.1\"><span class=\"toc-item-num\">4.4.1&nbsp;&nbsp;</span>default parameters</a></span></li><li><span><a href=\"#positional-arguments-&amp;-keyword-arguments\" data-toc-modified-id=\"positional-arguments-&amp;-keyword-arguments-4.4.2\"><span class=\"toc-item-num\">4.4.2&nbsp;&nbsp;</span>positional arguments &amp; keyword arguments</a></span></li><li><span><a href=\"#*args\" data-toc-modified-id=\"*args-4.4.3\"><span class=\"toc-item-num\">4.4.3&nbsp;&nbsp;</span><code>*args</code></a></span></li><li><span><a href=\"#**kwargs\" data-toc-modified-id=\"**kwargs-4.4.4\"><span class=\"toc-item-num\">4.4.4&nbsp;&nbsp;</span>**kwargs</a></span></li><li><span><a href=\"#order\" data-toc-modified-id=\"order-4.4.5\"><span class=\"toc-item-num\">4.4.5&nbsp;&nbsp;</span>order</a></span></li></ul></li><li><span><a href=\"#return\" data-toc-modified-id=\"return-4.5\"><span class=\"toc-item-num\">4.5&nbsp;&nbsp;</span>return</a></span></li><li><span><a href=\"#Docstrings:-documentation-strings\" data-toc-modified-id=\"Docstrings:-documentation-strings-4.6\"><span class=\"toc-item-num\">4.6&nbsp;&nbsp;</span>Docstrings: documentation strings</a></span></li><li><span><a href=\"#source-code\" data-toc-modified-id=\"source-code-4.7\"><span class=\"toc-item-num\">4.7&nbsp;&nbsp;</span>source code</a></span></li></ul></li><li><span><a href=\"#Scope-of-functions\" data-toc-modified-id=\"Scope-of-functions-5\"><span class=\"toc-item-num\">5&nbsp;&nbsp;</span>Scope of functions</a></span></li><li><span><a href=\"#Lambda\" data-toc-modified-id=\"Lambda-6\"><span class=\"toc-item-num\">6&nbsp;&nbsp;</span>Lambda</a></span><ul class=\"toc-item\"><li><span><a href=\"#Syntax-of-a-lambda\" data-toc-modified-id=\"Syntax-of-a-lambda-6.1\"><span class=\"toc-item-num\">6.1&nbsp;&nbsp;</span>Syntax of a lambda</a></span></li><li><span><a href=\"#lambda-examples\" data-toc-modified-id=\"lambda-examples-6.2\"><span class=\"toc-item-num\">6.2&nbsp;&nbsp;</span>lambda examples</a></span></li><li><span><a href=\"#lambda--as-the-option-of-some-other-built-in-functions\" data-toc-modified-id=\"lambda--as-the-option-of-some-other-built-in-functions-6.3\"><span class=\"toc-item-num\">6.3&nbsp;&nbsp;</span><code>lambda</code>  as the option of some other built-in functions</a></span></li></ul></li><li><span><a href=\"#Functions:-functions-as-return-of-another-function\" data-toc-modified-id=\"Functions:-functions-as-return-of-another-function-7\"><span class=\"toc-item-num\">7&nbsp;&nbsp;</span>Functions: functions as return of another function</a></span></li><li><span><a href=\"#Recursion\" data-toc-modified-id=\"Recursion-8\"><span class=\"toc-item-num\">8&nbsp;&nbsp;</span>Recursion</a></span></li><li><span><a href=\"#Summary\" data-toc-modified-id=\"Summary-9\"><span class=\"toc-item-num\">9&nbsp;&nbsp;</span>Summary</a></span></li></ul></div>"
   ]
  },
  {
   "cell_type": "markdown",
   "id": "c8dbbad6",
   "metadata": {
    "lang": "en"
   },
   "source": [
    "## Your contributions 🚀\n",
    "What do you think functions do/what properties do they have? Whare they useful for?"
   ]
  },
  {
   "cell_type": "markdown",
   "id": "4d00796e",
   "metadata": {},
   "source": [
    "- **things that do things**\n",
    "- they have methods (?)\n",
    "- they get values\n",
    "    - they can get values\n",
    "    - sometimes they don't\n",
    "    - arguments/parameters\n",
    "- they return things\n",
    "    - they can return things\n",
    "    - not necessarily\n",
    "- they're reusable -> you can just write once\n",
    "    - define functions\n",
    "    - call it many times\n",
    "- you can write functions within functions\n",
    "- easy way to save code\n",
    "    - re-usability\n",
    "- provides easier debugging\n",
    "    - organized\n",
    "- code within a little box\n",
    "    - fix an issue (bug) -> spot it and act on it\n"
   ]
  },
  {
   "cell_type": "markdown",
   "id": "199cb1a8",
   "metadata": {
    "lang": "en"
   },
   "source": [
    "## What is functional programming?: paradigms\n",
    "What does it mean that Python is multi-paradigm?\n",
    "According to Wikipedia:\n",
    "\n",
    "“Python is an interpreted programming language whose philosophy emphasizes the readability of its code. It is a multiparadigm programming language, since it supports object orientation, imperative programming and, to a lesser extent, functional programming.\n",
    "\n",
    "It means that it accepts different ways of working with language. Basically there are 3 predominant paradigms, or in other words, 3 global formats to organize a code."
   ]
  },
  {
   "cell_type": "markdown",
   "id": "1a292435",
   "metadata": {},
   "source": [
    "- **Imperative programming (structured)**: the code will be executed from the beginning of the file to the end without following any type of deviation. Its biggest advantage lies in its simplicity and low weight. Its danger is the spaghetti code, files with hundreds or thousands of lines where only a few human beings are able to modify and emerge victorious. It can look like this:"
   ]
  },
  {
   "cell_type": "code",
   "execution_count": null,
   "id": "0272d6e3",
   "metadata": {},
   "outputs": [],
   "source": []
  },
  {
   "cell_type": "markdown",
   "id": "02cb1e2b",
   "metadata": {},
   "source": [
    "- **Object Oriented Programming (OOP or Object Oriented Programming)**: where variables and functions are encapsulated in small modules capable of being cloned and modified. Its strong point is the ability to reuse and isolate to avoid problems with other features. The negative part lies in the complexity of creating good objects and debugging. It can look like this:\n"
   ]
  },
  {
   "cell_type": "code",
   "execution_count": null,
   "id": "4cbe955b",
   "metadata": {},
   "outputs": [],
   "source": []
  },
  {
   "cell_type": "markdown",
   "id": "2a679fd0",
   "metadata": {},
   "source": [
    "- **Functional programming (FP or Functional programming)**: where the code is divided into simple functions capable of being invoked with variables or other functions. Its ease of use by atomicity achieves robust maintainability and compatibility with almost any language. In addition, its immutability of variables avoids many of the problems that object-oriented programming suffers."
   ]
  },
  {
   "cell_type": "code",
   "execution_count": null,
   "id": "8a9c96f4",
   "metadata": {},
   "outputs": [],
   "source": []
  },
  {
   "cell_type": "markdown",
   "id": "7f89fd70",
   "metadata": {
    "lang": "en"
   },
   "source": [
    "## Built-in functions"
   ]
  },
  {
   "cell_type": "markdown",
   "id": "80919246",
   "metadata": {
    "lang": "en"
   },
   "source": [
    "The Python interpreter has a number of built-in functions and types that are always available. They are listed [here](https://docs.python.org/3/library/functions.html) in alphabetical order."
   ]
  },
  {
   "cell_type": "code",
   "execution_count": null,
   "id": "b8e2371a",
   "metadata": {},
   "outputs": [],
   "source": []
  },
  {
   "cell_type": "markdown",
   "id": "d36c02f5",
   "metadata": {
    "lang": "en"
   },
   "source": [
    "In case of built-in functions we can't extract the code with inspect, since Python itself is written in C... the Print function looks like this 👇🏻"
   ]
  },
  {
   "cell_type": "markdown",
   "id": "through-silicon",
   "metadata": {},
   "source": [
    "```C\n",
    "static PyObject *\n",
    "builtin_print(PyObject *self, PyObject *args, PyObject *kwds)\n",
    "{\n",
    "    static char *kwlist[] = {\"sep\", \"end\", \"file\", 0};\n",
    "    static PyObject *dummy_args = NULL;\n",
    "    static PyObject *unicode_newline = NULL, *unicode_space = NULL;\n",
    "    static PyObject *str_newline = NULL, *str_space = NULL;\n",
    "    PyObject *newline, *space;\n",
    "    PyObject *sep = NULL, *end = NULL, *file = NULL;\n",
    "    int i, err, use_unicode = 0;\n",
    "\n",
    "    if (dummy_args == NULL) {\n",
    "        if (!(dummy_args = PyTuple_New(0)))\n",
    "            return NULL;\n",
    "    }\n",
    "    if (str_newline == NULL) {\n",
    "        str_newline = PyString_FromString(\"\\n\");\n",
    "        if (str_newline == NULL)\n",
    "            return NULL;\n",
    "        str_space = PyString_FromString(\" \");\n",
    "        if (str_space == NULL) {\n",
    "            Py_CLEAR(str_newline);\n",
    "            return NULL;\n",
    "        }\n",
    "#ifdef Py_USING_UNICODE\n",
    "        unicode_newline = PyUnicode_FromString(\"\\n\");\n",
    "        if (unicode_newline == NULL) {\n",
    "            Py_CLEAR(str_newline);\n",
    "            Py_CLEAR(str_space);\n",
    "            return NULL;\n",
    "        }\n",
    "        unicode_space = PyUnicode_FromString(\" \");\n",
    "        if (unicode_space == NULL) {\n",
    "            Py_CLEAR(str_newline);\n",
    "            Py_CLEAR(str_space);\n",
    "            Py_CLEAR(unicode_space);\n",
    "            return NULL;\n",
    "        }\n",
    "#endif\n",
    "    }\n",
    "    if (!PyArg_ParseTupleAndKeywords(dummy_args, kwds, \"|OOO:print\",\n",
    "                                     kwlist, &sep, &end, &file))\n",
    "        return NULL;\n",
    "    if (file == NULL || file == Py_None) {\n",
    "        file = PySys_GetObject(\"stdout\");\n",
    "        /* sys.stdout may be None when FILE* stdout isn't connected */\n",
    "        if (file == Py_None)\n",
    "            Py_RETURN_NONE;\n",
    "    }\n",
    "    if (sep == Py_None) {\n",
    "        sep = NULL;\n",
    "    }\n",
    "    else if (sep) {\n",
    "        if (PyUnicode_Check(sep)) {\n",
    "            use_unicode = 1;\n",
    "        }\n",
    "        else if (!PyString_Check(sep)) {\n",
    "            PyErr_Format(PyExc_TypeError,\n",
    "                         \"sep must be None, str or unicode, not %.200s\",\n",
    "                         sep->ob_type->tp_name);\n",
    "            return NULL;\n",
    "        }\n",
    "    }\n",
    "    if (end == Py_None)\n",
    "        end = NULL;\n",
    "    else if (end) {\n",
    "        if (PyUnicode_Check(end)) {\n",
    "            use_unicode = 1;\n",
    "        }\n",
    "        else if (!PyString_Check(end)) {\n",
    "            PyErr_Format(PyExc_TypeError,\n",
    "                         \"end must be None, str or unicode, not %.200s\",\n",
    "                         end->ob_type->tp_name);\n",
    "            return NULL;\n",
    "        }\n",
    "    }\n",
    "\n",
    "    if (!use_unicode) {\n",
    "        for (i = 0; i < PyTuple_Size(args); i++) {\n",
    "            if (PyUnicode_Check(PyTuple_GET_ITEM(args, i))) {\n",
    "                use_unicode = 1;\n",
    "                break;\n",
    "            }\n",
    "        }\n",
    "    }\n",
    "    if (use_unicode) {\n",
    "        newline = unicode_newline;\n",
    "        space = unicode_space;\n",
    "    }\n",
    "    else {\n",
    "        newline = str_newline;\n",
    "        space = str_space;\n",
    "    }\n",
    "\n",
    "    for (i = 0; i < PyTuple_Size(args); i++) {\n",
    "        if (i > 0) {\n",
    "            if (sep == NULL)\n",
    "                err = PyFile_WriteObject(space, file,\n",
    "                                         Py_PRINT_RAW);\n",
    "            else\n",
    "                err = PyFile_WriteObject(sep, file,\n",
    "                                         Py_PRINT_RAW);\n",
    "            if (err)\n",
    "                return NULL;\n",
    "        }\n",
    "        err = PyFile_WriteObject(PyTuple_GetItem(args, i), file,\n",
    "                                 Py_PRINT_RAW);\n",
    "        if (err)\n",
    "            return NULL;\n",
    "    }\n",
    "\n",
    "    if (end == NULL)\n",
    "        err = PyFile_WriteObject(newline, file, Py_PRINT_RAW);\n",
    "    else\n",
    "        err = PyFile_WriteObject(end, file, Py_PRINT_RAW);\n",
    "    if (err)\n",
    "        return NULL;\n",
    "\n",
    "    Py_RETURN_NONE;\n",
    "}\n",
    "```"
   ]
  },
  {
   "cell_type": "code",
   "execution_count": null,
   "id": "f7695035",
   "metadata": {},
   "outputs": [],
   "source": []
  },
  {
   "cell_type": "markdown",
   "id": "9197a86b",
   "metadata": {},
   "source": [
    "## USER - DEFINED FUNCTIONS"
   ]
  },
  {
   "cell_type": "markdown",
   "id": "054f974c",
   "metadata": {},
   "source": [
    "- `def` \n",
    "- `name` \n",
    "- `params` \n",
    "- `args` \n",
    "-  `return`\n",
    "- `docstrings` \n",
    "\n",
    "- `source coude`"
   ]
  },
  {
   "cell_type": "markdown",
   "id": "85d6428d",
   "metadata": {
    "lang": "en"
   },
   "source": [
    "**Syntax for DEFINING a function**\n",
    "```python\n",
    "\n",
    "def name_function(input params):\n",
    "    # the colon and the indentation imply being in the function\n",
    "    take an action\n",
    "    return() # return a certain value\n",
    "\n",
    "```\n",
    "\n",
    "**Syntax for CALLING a function**\n",
    "\n",
    "`name_of_the_function(argument1, argument2, ...)`\n",
    "\n",
    "or, if you want to save the result in a variable\n",
    "\n",
    "`result = name_of_the_function(argument1, argument2, ...)`"
   ]
  },
  {
   "cell_type": "markdown",
   "id": "d14ec799",
   "metadata": {},
   "source": [
    "### def"
   ]
  },
  {
   "cell_type": "code",
   "execution_count": null,
   "id": "758fc928",
   "metadata": {},
   "outputs": [],
   "source": []
  },
  {
   "cell_type": "markdown",
   "id": "f2e75efb",
   "metadata": {},
   "source": [
    "### name"
   ]
  },
  {
   "cell_type": "code",
   "execution_count": null,
   "id": "f654d98a",
   "metadata": {},
   "outputs": [],
   "source": []
  },
  {
   "cell_type": "markdown",
   "id": "80ee81e1",
   "metadata": {},
   "source": [
    "### parameters"
   ]
  },
  {
   "cell_type": "markdown",
   "id": "5ddcf19e",
   "metadata": {},
   "source": [
    "`()`"
   ]
  },
  {
   "cell_type": "code",
   "execution_count": null,
   "id": "fdb563e9",
   "metadata": {},
   "outputs": [],
   "source": []
  },
  {
   "cell_type": "markdown",
   "id": "93588783",
   "metadata": {},
   "source": [
    "`(param_1, param_2)`"
   ]
  },
  {
   "cell_type": "code",
   "execution_count": null,
   "id": "6a08a012",
   "metadata": {},
   "outputs": [],
   "source": []
  },
  {
   "cell_type": "markdown",
   "id": "5308ad65",
   "metadata": {},
   "source": [
    "### arguments"
   ]
  },
  {
   "cell_type": "code",
   "execution_count": null,
   "id": "875542a9",
   "metadata": {},
   "outputs": [],
   "source": []
  },
  {
   "cell_type": "markdown",
   "id": "9791b430",
   "metadata": {},
   "source": [
    "Formal parameters for a function are listed in the function declaration and used in the body of the function definition.\n",
    "\n",
    "An argument is what is used when referring to parameters. When you write a function call, the arguments are listed in parentheses after the function name. When the function call is executed, the arguments are inserted for the parameters.\n",
    "\n",
    "Let's say then that the parameters are those \"imaginary\" variables that will have the same name in the definition and in the body of the function.\n",
    "The arguments are the REAL DATA that we use when we call the function."
   ]
  },
  {
   "cell_type": "markdown",
   "id": "ade26130",
   "metadata": {},
   "source": [
    "#### default parameters"
   ]
  },
  {
   "cell_type": "markdown",
   "id": "6cda5b22",
   "metadata": {},
   "source": [
    "`(param_1, param_default = defaultvalue)` "
   ]
  },
  {
   "cell_type": "markdown",
   "id": "62729a1e",
   "metadata": {},
   "source": [
    "1. `greetings_default(myself, someone_else, language=\"en\")`"
   ]
  },
  {
   "cell_type": "code",
   "execution_count": null,
   "id": "d6af2d5d",
   "metadata": {},
   "outputs": [],
   "source": []
  },
  {
   "cell_type": "markdown",
   "id": "ee22d185",
   "metadata": {},
   "source": [
    "2. `calculation (num_1, num_2, operation=\"+\")`"
   ]
  },
  {
   "cell_type": "code",
   "execution_count": null,
   "id": "5910d035",
   "metadata": {},
   "outputs": [],
   "source": []
  },
  {
   "cell_type": "markdown",
   "id": "37fbea85",
   "metadata": {},
   "source": [
    "#### positional arguments & keyword arguments"
   ]
  },
  {
   "cell_type": "markdown",
   "id": "e3e4c777",
   "metadata": {},
   "source": [
    "`def addition (num_1, some_name=withavalue)`"
   ]
  },
  {
   "cell_type": "markdown",
   "id": "b77b53ca",
   "metadata": {},
   "source": [
    "#### `*args`\n",
    "In Python, the special parameter `*args` in a function is used to optionally pass a variable number of **positional** arguments."
   ]
  },
  {
   "cell_type": "markdown",
   "id": "2bb755bc",
   "metadata": {},
   "source": [
    "`two arguments`"
   ]
  },
  {
   "cell_type": "code",
   "execution_count": null,
   "id": "d76e4be9",
   "metadata": {},
   "outputs": [],
   "source": []
  },
  {
   "cell_type": "markdown",
   "id": "7fee6e45",
   "metadata": {},
   "source": [
    "`unkown number of arguments`"
   ]
  },
  {
   "cell_type": "code",
   "execution_count": null,
   "id": "18a77de6",
   "metadata": {},
   "outputs": [],
   "source": []
  },
  {
   "cell_type": "markdown",
   "id": "17a04c9e",
   "metadata": {},
   "source": [
    "`otherwise`: errors"
   ]
  },
  {
   "cell_type": "code",
   "execution_count": null,
   "id": "30e61eaa",
   "metadata": {},
   "outputs": [],
   "source": []
  },
  {
   "cell_type": "markdown",
   "id": "67833de1",
   "metadata": {},
   "source": [
    "#### **kwargs"
   ]
  },
  {
   "cell_type": "code",
   "execution_count": null,
   "id": "fb69c6d9",
   "metadata": {},
   "outputs": [],
   "source": []
  },
  {
   "cell_type": "markdown",
   "id": "8821d732",
   "metadata": {},
   "source": [
    "#### order"
   ]
  },
  {
   "cell_type": "markdown",
   "id": "12ce7273",
   "metadata": {},
   "source": [
    "`def example(arg1, arg2, *args,**kwargs)`"
   ]
  },
  {
   "cell_type": "markdown",
   "id": "5a76c906",
   "metadata": {},
   "source": [
    "### return\n",
    "\n",
    "- return gives you something back\n",
    "- there can be more than one return\n",
    "- **after a function returns something, the execution STOPS**"
   ]
  },
  {
   "cell_type": "markdown",
   "id": "506cb965",
   "metadata": {},
   "source": [
    "`function with return`"
   ]
  },
  {
   "cell_type": "code",
   "execution_count": null,
   "id": "70fc6f43",
   "metadata": {},
   "outputs": [],
   "source": []
  },
  {
   "cell_type": "markdown",
   "id": "b61cca6c",
   "metadata": {},
   "source": [
    "`function with no return`: NoneType"
   ]
  },
  {
   "cell_type": "code",
   "execution_count": null,
   "id": "c5f4e9ca",
   "metadata": {},
   "outputs": [],
   "source": []
  },
  {
   "cell_type": "markdown",
   "id": "3f0b4787",
   "metadata": {},
   "source": [
    "`accessing the value of the result of the function`: print & return"
   ]
  },
  {
   "cell_type": "code",
   "execution_count": null,
   "id": "6e03ec1a",
   "metadata": {},
   "outputs": [],
   "source": []
  },
  {
   "cell_type": "markdown",
   "id": "309bb330",
   "metadata": {},
   "source": [
    "`more than one return`"
   ]
  },
  {
   "cell_type": "code",
   "execution_count": null,
   "id": "39587ded",
   "metadata": {},
   "outputs": [],
   "source": []
  },
  {
   "cell_type": "markdown",
   "id": "d4a7b05b",
   "metadata": {},
   "source": [
    "### Docstrings: documentation strings"
   ]
  },
  {
   "cell_type": "markdown",
   "id": "65bd3a59",
   "metadata": {},
   "source": [
    "- The code is written 1 time.\n",
    "- The code is read 100 times.\n",
    "- Help your colleagues understand your work.\n",
    "\n",
    "![lafoto](https://res.cloudinary.com/highflyer910/image/upload/v1589577574/1_1_httqnc.jpg)"
   ]
  },
  {
   "cell_type": "markdown",
   "id": "14e0777b",
   "metadata": {},
   "source": [
    "In this example, we have defined a cat function that returns meow. We have declared a docstring that explains what the function does. To get the docstring of a function, we need to display the doc attribute (print(cat.__doc__))\n",
    "Photo reference, description and more info about docstring [here](https://techiestuff.netlify.app/blog/what-is-a-python-docstring/)"
   ]
  },
  {
   "cell_type": "code",
   "execution_count": null,
   "id": "93154e4c",
   "metadata": {},
   "outputs": [],
   "source": []
  },
  {
   "cell_type": "markdown",
   "id": "1bcd1e17",
   "metadata": {},
   "source": [
    "### source code"
   ]
  },
  {
   "cell_type": "code",
   "execution_count": null,
   "id": "15a16e01",
   "metadata": {},
   "outputs": [],
   "source": []
  },
  {
   "cell_type": "markdown",
   "id": "86c5ccda",
   "metadata": {
    "lang": "en"
   },
   "source": [
    "## Scope of functions"
   ]
  },
  {
   "cell_type": "markdown",
   "id": "a353567d",
   "metadata": {},
   "source": [
    "`outer to inner`"
   ]
  },
  {
   "cell_type": "code",
   "execution_count": null,
   "id": "68156243",
   "metadata": {},
   "outputs": [],
   "source": []
  },
  {
   "cell_type": "markdown",
   "id": "c26ce173",
   "metadata": {},
   "source": [
    "`inner to outter` "
   ]
  },
  {
   "cell_type": "code",
   "execution_count": null,
   "id": "1281cc32",
   "metadata": {},
   "outputs": [],
   "source": []
  },
  {
   "cell_type": "markdown",
   "id": "80ccf4fe",
   "metadata": {},
   "source": [
    "[Extra: global variables](https://www.w3schools.com/python/python_variables_global.asp)"
   ]
  },
  {
   "cell_type": "markdown",
   "id": "28a2d72b",
   "metadata": {
    "lang": "en"
   },
   "source": [
    "## Lambda\n",
    "A lambda function is an anonymous function, with no identifier, that can be declared in place. Since we can take functions as arguments and assign them to variables, the notation that makes it possible to create lambda functions is very handy in many cases.\n",
    "\n",
    "\n",
    "### Syntax of a lambda\n",
    "```python\n",
    "lambda <param list>:<return expression>\n",
    "```\n"
   ]
  },
  {
   "cell_type": "code",
   "execution_count": null,
   "id": "78318b75",
   "metadata": {},
   "outputs": [],
   "source": []
  },
  {
   "cell_type": "markdown",
   "id": "5add6142",
   "metadata": {},
   "source": [
    "### lambda examples"
   ]
  },
  {
   "cell_type": "code",
   "execution_count": null,
   "id": "f929c4ac",
   "metadata": {},
   "outputs": [],
   "source": []
  },
  {
   "cell_type": "markdown",
   "id": "6f67a9bf",
   "metadata": {},
   "source": [
    "### `lambda`  as the option of some other built-in functions"
   ]
  },
  {
   "cell_type": "markdown",
   "id": "85df84e3",
   "metadata": {
    "lang": "en"
   },
   "source": [
    "It is also possible to use these anonymous functions as arguments in calls to other functions. For example, in a call to sorted() or list.sort() we can use a lambda function as an argument to the key parameter:"
   ]
  },
  {
   "cell_type": "code",
   "execution_count": null,
   "id": "31abf911",
   "metadata": {},
   "outputs": [],
   "source": []
  },
  {
   "cell_type": "markdown",
   "id": "51204969",
   "metadata": {},
   "source": [
    "## Functions: functions as return of another function"
   ]
  },
  {
   "cell_type": "code",
   "execution_count": null,
   "id": "35748490",
   "metadata": {},
   "outputs": [],
   "source": []
  },
  {
   "cell_type": "markdown",
   "id": "f90508d9",
   "metadata": {
    "lang": "en"
   },
   "source": [
    "## Recursion\n",
    "It is called recursive call (or recursion), to those functions that in their algorithm, refer to itself.\n",
    "\n",
    "Recursive calls are usually very useful in very specific cases, but due to their great feasibility of falling into infinite iterations, adequate preventive measures should be taken and only used when strictly necessary and there is no viable alternative way to solve the problem. avoiding recursion.\n",
    "\n",
    "Python supports recursive calls, allowing a function to call itself, just as it does when calling another function."
   ]
  },
  {
   "cell_type": "code",
   "execution_count": null,
   "id": "cb764c07",
   "metadata": {},
   "outputs": [],
   "source": []
  },
  {
   "cell_type": "markdown",
   "id": "419b6db5",
   "metadata": {},
   "source": [
    "`ins't it the same as a while loop?`"
   ]
  },
  {
   "cell_type": "code",
   "execution_count": null,
   "id": "841ed12d",
   "metadata": {},
   "outputs": [],
   "source": []
  },
  {
   "cell_type": "markdown",
   "id": "4cb268d0",
   "metadata": {
    "lang": "en"
   },
   "source": [
    "## Summary\n",
    "It's your turn. What have we learned today?"
   ]
  },
  {
   "cell_type": "code",
   "execution_count": null,
   "id": "5af47259",
   "metadata": {},
   "outputs": [],
   "source": []
  }
 ],
 "metadata": {
  "kernelspec": {
   "display_name": "ironhack",
   "language": "python",
   "name": "ironhack"
  },
  "language_info": {
   "codemirror_mode": {
    "name": "ipython",
    "version": 3
   },
   "file_extension": ".py",
   "mimetype": "text/x-python",
   "name": "python",
   "nbconvert_exporter": "python",
   "pygments_lexer": "ipython3",
   "version": "3.9.12"
  },
  "nbTranslate": {
   "displayLangs": [
    "en",
    "es"
   ],
   "hotkey": "alt-a",
   "langInMainMenu": true,
   "sourceLang": "es",
   "targetLang": "en",
   "useGoogleTranslate": true
  },
  "toc": {
   "base_numbering": 1,
   "nav_menu": {},
   "number_sections": true,
   "sideBar": true,
   "skip_h1_title": true,
   "title_cell": "Table of Contents",
   "title_sidebar": "Contents",
   "toc_cell": true,
   "toc_position": {
    "height": "calc(100% - 180px)",
    "left": "10px",
    "top": "150px",
    "width": "288px"
   },
   "toc_section_display": true,
   "toc_window_display": false
  }
 },
 "nbformat": 4,
 "nbformat_minor": 5
}
