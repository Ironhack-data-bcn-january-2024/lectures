{
 "cells": [
  {
   "cell_type": "code",
   "execution_count": 1,
   "id": "b9a933d2",
   "metadata": {},
   "outputs": [
    {
     "data": {
      "text/plain": [
       "'\\n nums = [10, 20, 30, 40]   #\\xa0* 10  \\n\\n comp_list = [i * 10 for i in nums]\\n\\n\\nfor i in nums:\\n    comp_list.append(i * 10)\\ncomp_list\\n'"
      ]
     },
     "execution_count": 1,
     "metadata": {},
     "output_type": "execute_result"
    }
   ],
   "source": [
    "# RECAP\n",
    "\n",
    "\n",
    "# control flow\n",
    "    # code is run from top to bottom\n",
    "        # loops\n",
    "            # while\n",
    "                # until a condition is met. beware for inifinity\n",
    "    \n",
    "            # for\n",
    "                # for a defined object\n",
    "                # we can loop ion iterables: [], (), {}, {set}, \"string\"\n",
    "                   # we cannot loop: ints / floats / boolean / \n",
    "            \n",
    "            # pass, continue & break\n",
    "                # pass: nothing, it passes\n",
    "                # continue: jumps onto the next iteration\n",
    "                   # ignores whatever is below \n",
    "                # break: stops\n",
    "            \n",
    "        # conditions\n",
    "            # if condition is not met: code is skipped\n",
    "            # if: \n",
    "                # if variable -> truthy\n",
    "                # many ifs vs if / elif\n",
    "                    # ifs / if / if : not as used. \n",
    "                        # only when you need all conditions to be met (password)\n",
    "                        # oterhwise -> python will read all of it -> not efficient\n",
    "                        \n",
    "                    # if / elif\n",
    "                        # go-to, if conditions are exclusive\n",
    "            # elif\n",
    "            # else: \n",
    "\n",
    "# comprehension lists\n",
    "    # simplify the code: tradeoff with simplicity (one line) vs too long of a line \n",
    "    # more efficient -> quicker (processing)\n",
    "        # no new list empty declared\n",
    "        # no appending\n",
    "        # on the spot\n",
    "    \n",
    "\n",
    "\"\"\"\n",
    " nums = [10, 20, 30, 40]   # * 10  \n",
    "\n",
    " comp_list = [i * 10 for i in nums]\n",
    "\n",
    "\n",
    "for i in nums:\n",
    "    comp_list.append(i * 10)\n",
    "comp_list\n",
    "\"\"\""
   ]
  },
  {
   "cell_type": "markdown",
   "id": "9eb0f57b",
   "metadata": {
    "lang": "en"
   },
   "source": [
    "# Functional Programming"
   ]
  },
  {
   "cell_type": "markdown",
   "id": "conceptual-behalf",
   "metadata": {},
   "source": [
    "![elgif](https://media.giphy.com/media/CuMiNoTRz2bYc/giphy.gif)"
   ]
  },
  {
   "cell_type": "markdown",
   "id": "incorrect-serum",
   "metadata": {
    "toc": true
   },
   "source": [
    "<h1>Table of Contents<span class=\"tocSkip\"></span></h1>\n",
    "<div class=\"toc\"><ul class=\"toc-item\"><li><span><a href=\"#Your-contributions-🚀\" data-toc-modified-id=\"Your-contributions-🚀-1\"><span class=\"toc-item-num\">1&nbsp;&nbsp;</span>Your contributions 🚀</a></span></li><li><span><a href=\"#What-is-functional-programming?:-paradigms\" data-toc-modified-id=\"What-is-functional-programming?:-paradigms-2\"><span class=\"toc-item-num\">2&nbsp;&nbsp;</span>What is functional programming?: paradigms</a></span></li><li><span><a href=\"#Built-in-functions\" data-toc-modified-id=\"Built-in-functions-3\"><span class=\"toc-item-num\">3&nbsp;&nbsp;</span>Built-in functions</a></span></li><li><span><a href=\"#USER---DEFINED-FUNCTIONS\" data-toc-modified-id=\"USER---DEFINED-FUNCTIONS-4\"><span class=\"toc-item-num\">4&nbsp;&nbsp;</span>USER - DEFINED FUNCTIONS</a></span><ul class=\"toc-item\"><li><span><a href=\"#def\" data-toc-modified-id=\"def-4.1\"><span class=\"toc-item-num\">4.1&nbsp;&nbsp;</span>def</a></span></li><li><span><a href=\"#name\" data-toc-modified-id=\"name-4.2\"><span class=\"toc-item-num\">4.2&nbsp;&nbsp;</span>name</a></span></li><li><span><a href=\"#parameters\" data-toc-modified-id=\"parameters-4.3\"><span class=\"toc-item-num\">4.3&nbsp;&nbsp;</span>parameters</a></span></li><li><span><a href=\"#arguments\" data-toc-modified-id=\"arguments-4.4\"><span class=\"toc-item-num\">4.4&nbsp;&nbsp;</span>arguments</a></span><ul class=\"toc-item\"><li><span><a href=\"#default-parameters\" data-toc-modified-id=\"default-parameters-4.4.1\"><span class=\"toc-item-num\">4.4.1&nbsp;&nbsp;</span>default parameters</a></span></li><li><span><a href=\"#positional-arguments-&amp;-keyword-arguments\" data-toc-modified-id=\"positional-arguments-&amp;-keyword-arguments-4.4.2\"><span class=\"toc-item-num\">4.4.2&nbsp;&nbsp;</span>positional arguments &amp; keyword arguments</a></span></li><li><span><a href=\"#*args\" data-toc-modified-id=\"*args-4.4.3\"><span class=\"toc-item-num\">4.4.3&nbsp;&nbsp;</span><code>*args</code></a></span></li><li><span><a href=\"#**kwargs\" data-toc-modified-id=\"**kwargs-4.4.4\"><span class=\"toc-item-num\">4.4.4&nbsp;&nbsp;</span>**kwargs</a></span></li><li><span><a href=\"#order\" data-toc-modified-id=\"order-4.4.5\"><span class=\"toc-item-num\">4.4.5&nbsp;&nbsp;</span>order</a></span></li></ul></li><li><span><a href=\"#return\" data-toc-modified-id=\"return-4.5\"><span class=\"toc-item-num\">4.5&nbsp;&nbsp;</span>return</a></span></li><li><span><a href=\"#Docstrings:-documentation-strings\" data-toc-modified-id=\"Docstrings:-documentation-strings-4.6\"><span class=\"toc-item-num\">4.6&nbsp;&nbsp;</span>Docstrings: documentation strings</a></span></li><li><span><a href=\"#source-code\" data-toc-modified-id=\"source-code-4.7\"><span class=\"toc-item-num\">4.7&nbsp;&nbsp;</span>source code</a></span></li></ul></li><li><span><a href=\"#Scope-of-functions\" data-toc-modified-id=\"Scope-of-functions-5\"><span class=\"toc-item-num\">5&nbsp;&nbsp;</span>Scope of functions</a></span></li><li><span><a href=\"#Lambda\" data-toc-modified-id=\"Lambda-6\"><span class=\"toc-item-num\">6&nbsp;&nbsp;</span>Lambda</a></span><ul class=\"toc-item\"><li><span><a href=\"#Syntax-of-a-lambda\" data-toc-modified-id=\"Syntax-of-a-lambda-6.1\"><span class=\"toc-item-num\">6.1&nbsp;&nbsp;</span>Syntax of a lambda</a></span></li><li><span><a href=\"#lambda-examples\" data-toc-modified-id=\"lambda-examples-6.2\"><span class=\"toc-item-num\">6.2&nbsp;&nbsp;</span>lambda examples</a></span></li><li><span><a href=\"#lambda--as-the-option-of-some-other-built-in-functions\" data-toc-modified-id=\"lambda--as-the-option-of-some-other-built-in-functions-6.3\"><span class=\"toc-item-num\">6.3&nbsp;&nbsp;</span><code>lambda</code>  as the option of some other built-in functions</a></span></li></ul></li><li><span><a href=\"#Functions:-functions-as-return-of-another-function\" data-toc-modified-id=\"Functions:-functions-as-return-of-another-function-7\"><span class=\"toc-item-num\">7&nbsp;&nbsp;</span>Functions: functions as return of another function</a></span></li><li><span><a href=\"#Recursion\" data-toc-modified-id=\"Recursion-8\"><span class=\"toc-item-num\">8&nbsp;&nbsp;</span>Recursion</a></span></li><li><span><a href=\"#Summary\" data-toc-modified-id=\"Summary-9\"><span class=\"toc-item-num\">9&nbsp;&nbsp;</span>Summary</a></span></li></ul></div>"
   ]
  },
  {
   "cell_type": "markdown",
   "id": "c8dbbad6",
   "metadata": {
    "lang": "en"
   },
   "source": [
    "## Your contributions 🚀\n",
    "What do you think functions do/what properties do they have? Whare they useful for?"
   ]
  },
  {
   "cell_type": "markdown",
   "id": "b7503fea",
   "metadata": {},
   "source": [
    "- Functions\n",
    "- What is it?\n",
    "    - \"a piece of code that does something\" -> it does things\n",
    "      \n",
    "- What does it do?\n",
    "    - Helps you do things quicker\n",
    "    - \"they help you manage the code and readibility\"\n",
    "        - encapsulation: code is within a little box\n",
    "            - you can just CALL the box\n",
    "            - code is abstracted for you, if you just call the function\n",
    "            - that makes our lives easier    \n",
    "- \"they can be built-in or libraries\"\n",
    "- \"it allows to folow the same procedures many times, same structure\" -> reusability\n",
    "\n",
    "- Fucntions & returns\n",
    "    - Can: functions return things most of the times\n",
    "    - Don't have to: fnctions can not return things\n",
    "    ```python\n",
    "       def say_hello (a, b):\n",
    "            print(\"Hello!\")\n",
    "            # no return\n",
    "    ```\n",
    "- ARGUMENTS\n",
    "    - you can pass arguments to functions\n",
    "    ```python\n",
    "         def addition (a, b):\n",
    "              return a + b\n",
    "    ```\n",
    "    ```python\n",
    "         def say_hello ():\n",
    "            return \"Hello!\"\n",
    "    ```\n",
    "    \n",
    "- Test\n",
    "    - they can be used for testing\n",
    "    - not neessarily return things to keep them\n",
    "    - TDD: test driven development\n",
    "        - 1. first builds the tests\n",
    "            - think of the results you need\n",
    "            \n",
    "        - 2. second you develop the code\n",
    "        - 3. Test your written code with your tests\n",
    "\n",
    "- They're used: reusability\n",
    "- Encapsualted code: a piece of code is under a name, location\n",
    "- Arguments: things that go into the function\n",
    "- Returns: sometimes you have, sometimes you don't"
   ]
  },
  {
   "cell_type": "markdown",
   "id": "199cb1a8",
   "metadata": {
    "lang": "en"
   },
   "source": [
    "## What is functional programming?: paradigms\n",
    "What does it mean that Python is multi-paradigm?\n",
    "According to Wikipedia:\n",
    "\n",
    "“Python is an interpreted programming language whose philosophy emphasizes the readability of its code. It is a multiparadigm programming language, since it supports object orientation, imperative programming and, to a lesser extent, functional programming.\n",
    "\n",
    "It means that it accepts different ways of working with language. Basically there are 3 predominant paradigms, or in other words, 3 global formats to organize a code."
   ]
  },
  {
   "cell_type": "markdown",
   "id": "1a292435",
   "metadata": {},
   "source": [
    "- **Imperative programming (structured)**: the code will be executed from the beginning of the file to the end without following any type of deviation. Its biggest advantage lies in its simplicity and low weight. Its danger is the spaghetti code, files with hundreds or thousands of lines where only a few human beings are able to modify and emerge victorious. It can look like this:"
   ]
  },
  {
   "cell_type": "code",
   "execution_count": 7,
   "id": "0272d6e3",
   "metadata": {},
   "outputs": [
    {
     "data": {
      "text/html": [
       "<div>\n",
       "<style scoped>\n",
       "    .dataframe tbody tr th:only-of-type {\n",
       "        vertical-align: middle;\n",
       "    }\n",
       "\n",
       "    .dataframe tbody tr th {\n",
       "        vertical-align: top;\n",
       "    }\n",
       "\n",
       "    .dataframe thead th {\n",
       "        text-align: right;\n",
       "    }\n",
       "</style>\n",
       "<table border=\"1\" class=\"dataframe\">\n",
       "  <thead>\n",
       "    <tr style=\"text-align: right;\">\n",
       "      <th></th>\n",
       "      <th>date</th>\n",
       "      <th>averageprice</th>\n",
       "      <th>total_volume</th>\n",
       "      <th>4046</th>\n",
       "      <th>4225</th>\n",
       "      <th>4770</th>\n",
       "      <th>total_bags</th>\n",
       "      <th>small_bags</th>\n",
       "      <th>large_bags</th>\n",
       "      <th>xlarge_bags</th>\n",
       "      <th>type</th>\n",
       "      <th>year</th>\n",
       "      <th>region</th>\n",
       "    </tr>\n",
       "  </thead>\n",
       "  <tbody>\n",
       "    <tr>\n",
       "      <th>0</th>\n",
       "      <td>2015-12-27</td>\n",
       "      <td>1.33</td>\n",
       "      <td>64236.62</td>\n",
       "      <td>1036.74</td>\n",
       "      <td>54454.85</td>\n",
       "      <td>48.16</td>\n",
       "      <td>8696.87</td>\n",
       "      <td>8603.62</td>\n",
       "      <td>93.25</td>\n",
       "      <td>0.0</td>\n",
       "      <td>conventional</td>\n",
       "      <td>2015</td>\n",
       "      <td>Albany</td>\n",
       "    </tr>\n",
       "    <tr>\n",
       "      <th>1</th>\n",
       "      <td>2015-12-20</td>\n",
       "      <td>1.35</td>\n",
       "      <td>54876.98</td>\n",
       "      <td>674.28</td>\n",
       "      <td>44638.81</td>\n",
       "      <td>58.33</td>\n",
       "      <td>9505.56</td>\n",
       "      <td>9408.07</td>\n",
       "      <td>97.49</td>\n",
       "      <td>0.0</td>\n",
       "      <td>conventional</td>\n",
       "      <td>2015</td>\n",
       "      <td>Albany</td>\n",
       "    </tr>\n",
       "    <tr>\n",
       "      <th>2</th>\n",
       "      <td>2015-12-13</td>\n",
       "      <td>0.93</td>\n",
       "      <td>118220.22</td>\n",
       "      <td>794.70</td>\n",
       "      <td>109149.67</td>\n",
       "      <td>130.50</td>\n",
       "      <td>8145.35</td>\n",
       "      <td>8042.21</td>\n",
       "      <td>103.14</td>\n",
       "      <td>0.0</td>\n",
       "      <td>conventional</td>\n",
       "      <td>2015</td>\n",
       "      <td>Albany</td>\n",
       "    </tr>\n",
       "    <tr>\n",
       "      <th>3</th>\n",
       "      <td>2015-12-06</td>\n",
       "      <td>1.08</td>\n",
       "      <td>78992.15</td>\n",
       "      <td>1132.00</td>\n",
       "      <td>71976.41</td>\n",
       "      <td>72.58</td>\n",
       "      <td>5811.16</td>\n",
       "      <td>5677.40</td>\n",
       "      <td>133.76</td>\n",
       "      <td>0.0</td>\n",
       "      <td>conventional</td>\n",
       "      <td>2015</td>\n",
       "      <td>Albany</td>\n",
       "    </tr>\n",
       "    <tr>\n",
       "      <th>4</th>\n",
       "      <td>2015-11-29</td>\n",
       "      <td>1.28</td>\n",
       "      <td>51039.60</td>\n",
       "      <td>941.48</td>\n",
       "      <td>43838.39</td>\n",
       "      <td>75.78</td>\n",
       "      <td>6183.95</td>\n",
       "      <td>5986.26</td>\n",
       "      <td>197.69</td>\n",
       "      <td>0.0</td>\n",
       "      <td>conventional</td>\n",
       "      <td>2015</td>\n",
       "      <td>Albany</td>\n",
       "    </tr>\n",
       "    <tr>\n",
       "      <th>...</th>\n",
       "      <td>...</td>\n",
       "      <td>...</td>\n",
       "      <td>...</td>\n",
       "      <td>...</td>\n",
       "      <td>...</td>\n",
       "      <td>...</td>\n",
       "      <td>...</td>\n",
       "      <td>...</td>\n",
       "      <td>...</td>\n",
       "      <td>...</td>\n",
       "      <td>...</td>\n",
       "      <td>...</td>\n",
       "      <td>...</td>\n",
       "    </tr>\n",
       "    <tr>\n",
       "      <th>18244</th>\n",
       "      <td>2018-02-04</td>\n",
       "      <td>1.63</td>\n",
       "      <td>17074.83</td>\n",
       "      <td>2046.96</td>\n",
       "      <td>1529.20</td>\n",
       "      <td>0.00</td>\n",
       "      <td>13498.67</td>\n",
       "      <td>13066.82</td>\n",
       "      <td>431.85</td>\n",
       "      <td>0.0</td>\n",
       "      <td>organic</td>\n",
       "      <td>2018</td>\n",
       "      <td>WestTexNewMexico</td>\n",
       "    </tr>\n",
       "    <tr>\n",
       "      <th>18245</th>\n",
       "      <td>2018-01-28</td>\n",
       "      <td>1.71</td>\n",
       "      <td>13888.04</td>\n",
       "      <td>1191.70</td>\n",
       "      <td>3431.50</td>\n",
       "      <td>0.00</td>\n",
       "      <td>9264.84</td>\n",
       "      <td>8940.04</td>\n",
       "      <td>324.80</td>\n",
       "      <td>0.0</td>\n",
       "      <td>organic</td>\n",
       "      <td>2018</td>\n",
       "      <td>WestTexNewMexico</td>\n",
       "    </tr>\n",
       "    <tr>\n",
       "      <th>18246</th>\n",
       "      <td>2018-01-21</td>\n",
       "      <td>1.87</td>\n",
       "      <td>13766.76</td>\n",
       "      <td>1191.92</td>\n",
       "      <td>2452.79</td>\n",
       "      <td>727.94</td>\n",
       "      <td>9394.11</td>\n",
       "      <td>9351.80</td>\n",
       "      <td>42.31</td>\n",
       "      <td>0.0</td>\n",
       "      <td>organic</td>\n",
       "      <td>2018</td>\n",
       "      <td>WestTexNewMexico</td>\n",
       "    </tr>\n",
       "    <tr>\n",
       "      <th>18247</th>\n",
       "      <td>2018-01-14</td>\n",
       "      <td>1.93</td>\n",
       "      <td>16205.22</td>\n",
       "      <td>1527.63</td>\n",
       "      <td>2981.04</td>\n",
       "      <td>727.01</td>\n",
       "      <td>10969.54</td>\n",
       "      <td>10919.54</td>\n",
       "      <td>50.00</td>\n",
       "      <td>0.0</td>\n",
       "      <td>organic</td>\n",
       "      <td>2018</td>\n",
       "      <td>WestTexNewMexico</td>\n",
       "    </tr>\n",
       "    <tr>\n",
       "      <th>18248</th>\n",
       "      <td>2018-01-07</td>\n",
       "      <td>1.62</td>\n",
       "      <td>17489.58</td>\n",
       "      <td>2894.77</td>\n",
       "      <td>2356.13</td>\n",
       "      <td>224.53</td>\n",
       "      <td>12014.15</td>\n",
       "      <td>11988.14</td>\n",
       "      <td>26.01</td>\n",
       "      <td>0.0</td>\n",
       "      <td>organic</td>\n",
       "      <td>2018</td>\n",
       "      <td>WestTexNewMexico</td>\n",
       "    </tr>\n",
       "  </tbody>\n",
       "</table>\n",
       "<p>18249 rows × 13 columns</p>\n",
       "</div>"
      ],
      "text/plain": [
       "             date  averageprice  total_volume     4046       4225    4770   \n",
       "0      2015-12-27          1.33      64236.62  1036.74   54454.85   48.16  \\\n",
       "1      2015-12-20          1.35      54876.98   674.28   44638.81   58.33   \n",
       "2      2015-12-13          0.93     118220.22   794.70  109149.67  130.50   \n",
       "3      2015-12-06          1.08      78992.15  1132.00   71976.41   72.58   \n",
       "4      2015-11-29          1.28      51039.60   941.48   43838.39   75.78   \n",
       "...           ...           ...           ...      ...        ...     ...   \n",
       "18244  2018-02-04          1.63      17074.83  2046.96    1529.20    0.00   \n",
       "18245  2018-01-28          1.71      13888.04  1191.70    3431.50    0.00   \n",
       "18246  2018-01-21          1.87      13766.76  1191.92    2452.79  727.94   \n",
       "18247  2018-01-14          1.93      16205.22  1527.63    2981.04  727.01   \n",
       "18248  2018-01-07          1.62      17489.58  2894.77    2356.13  224.53   \n",
       "\n",
       "       total_bags  small_bags  large_bags  xlarge_bags          type  year   \n",
       "0         8696.87     8603.62       93.25          0.0  conventional  2015  \\\n",
       "1         9505.56     9408.07       97.49          0.0  conventional  2015   \n",
       "2         8145.35     8042.21      103.14          0.0  conventional  2015   \n",
       "3         5811.16     5677.40      133.76          0.0  conventional  2015   \n",
       "4         6183.95     5986.26      197.69          0.0  conventional  2015   \n",
       "...           ...         ...         ...          ...           ...   ...   \n",
       "18244    13498.67    13066.82      431.85          0.0       organic  2018   \n",
       "18245     9264.84     8940.04      324.80          0.0       organic  2018   \n",
       "18246     9394.11     9351.80       42.31          0.0       organic  2018   \n",
       "18247    10969.54    10919.54       50.00          0.0       organic  2018   \n",
       "18248    12014.15    11988.14       26.01          0.0       organic  2018   \n",
       "\n",
       "                 region  \n",
       "0                Albany  \n",
       "1                Albany  \n",
       "2                Albany  \n",
       "3                Albany  \n",
       "4                Albany  \n",
       "...                 ...  \n",
       "18244  WestTexNewMexico  \n",
       "18245  WestTexNewMexico  \n",
       "18246  WestTexNewMexico  \n",
       "18247  WestTexNewMexico  \n",
       "18248  WestTexNewMexico  \n",
       "\n",
       "[18249 rows x 13 columns]"
      ]
     },
     "execution_count": 7,
     "metadata": {},
     "output_type": "execute_result"
    }
   ],
   "source": [
    "import pandas as pd\n",
    "df = pd.read_csv(\"../datasets/avocado_kaggle.csv\")\n",
    "df.drop(columns=[\"Unnamed: 0\"], inplace=True)\n",
    "df.columns = [i.lower().replace(\" \", \"_\") for i in df.columns]\n",
    "df"
   ]
  },
  {
   "cell_type": "markdown",
   "id": "02cb1e2b",
   "metadata": {},
   "source": [
    "- **Object Oriented Programming (OOP or Object Oriented Programming)**: where variables and functions are encapsulated in small modules capable of being cloned and modified. Its strong point is the ability to reuse and isolate to avoid problems with other features. The negative part lies in the complexity of creating good objects and debugging. It can look like this:\n"
   ]
  },
  {
   "cell_type": "code",
   "execution_count": 21,
   "id": "4cbe955b",
   "metadata": {},
   "outputs": [
    {
     "data": {
      "text/plain": [
       "'\\nclass Car ():\\n    \\n    #\\xa0attributes / variables associated to the clas\\n    n_wheels = 4\\n    color = \"red\"\\n    \\n    \\n   # methods: functions, doing things\\n    def move_forward ():\\n        return position + 1 \\n    \\n    def stop ():\\n        return position\\n    ...\\n\\npols_car = Car(4, \"white\")\\npols_car.move_forward()\\n\\ntonis_car = Car(6, \"green\")\\ntonis_car.move_forward()\\n\\n\\nclass Staff ():\\n    name = \"\"\\n    fname = \"\"\\n    dob = \"\"\\n    email = name + \".\" + fname + \"@company.com\"\\n    \\nmarina = Staff(\"marina\", \"cotanda\")\\nmarina.email #\\xa0marina.cotanda@company.com\\n\\n\\nclass Marketing ():\\n    pass\\n    \\n'"
      ]
     },
     "execution_count": 21,
     "metadata": {},
     "output_type": "execute_result"
    }
   ],
   "source": [
    "# OOP: is class based\n",
    "# class / object -> methods & attributes\n",
    "\"\"\"\n",
    "class Car ():\n",
    "    \n",
    "    # attributes / variables associated to the clas\n",
    "    n_wheels = 4\n",
    "    color = \"red\"\n",
    "    \n",
    "    \n",
    "   # methods: functions, doing things\n",
    "    def move_forward ():\n",
    "        return position + 1 \n",
    "    \n",
    "    def stop ():\n",
    "        return position\n",
    "    ...\n",
    "\n",
    "pols_car = Car(4, \"white\")\n",
    "pols_car.move_forward()\n",
    "\n",
    "tonis_car = Car(6, \"green\")\n",
    "tonis_car.move_forward()\n",
    "\n",
    "\n",
    "class Staff ():\n",
    "    name = \"\"\n",
    "    fname = \"\"\n",
    "    dob = \"\"\n",
    "    email = name + \".\" + fname + \"@company.com\"\n",
    "    \n",
    "marina = Staff(\"marina\", \"cotanda\")\n",
    "marina.email # marina.cotanda@company.com\n",
    "\n",
    "\n",
    "class Marketing ():\n",
    "    pass\n",
    "    \n",
    "\"\"\""
   ]
  },
  {
   "cell_type": "markdown",
   "id": "2a679fd0",
   "metadata": {},
   "source": [
    "- **Functional programming (FP or Functional programming)**: where the code is divided into simple functions capable of being invoked with variables or other functions. Its ease of use by atomicity achieves robust maintainability and compatibility with almost any language. In addition, its immutability of variables avoids many of the problems that object-oriented programming suffers."
   ]
  },
  {
   "cell_type": "code",
   "execution_count": 20,
   "id": "a873bd4c",
   "metadata": {},
   "outputs": [
    {
     "data": {
      "text/plain": [
       "(18249, 13)"
      ]
     },
     "execution_count": 20,
     "metadata": {},
     "output_type": "execute_result"
    }
   ],
   "source": [
    "df.shape # variable"
   ]
  },
  {
   "cell_type": "code",
   "execution_count": 18,
   "id": "8a9c96f4",
   "metadata": {},
   "outputs": [
    {
     "data": {
      "text/html": [
       "<div>\n",
       "<style scoped>\n",
       "    .dataframe tbody tr th:only-of-type {\n",
       "        vertical-align: middle;\n",
       "    }\n",
       "\n",
       "    .dataframe tbody tr th {\n",
       "        vertical-align: top;\n",
       "    }\n",
       "\n",
       "    .dataframe thead th {\n",
       "        text-align: right;\n",
       "    }\n",
       "</style>\n",
       "<table border=\"1\" class=\"dataframe\">\n",
       "  <thead>\n",
       "    <tr style=\"text-align: right;\">\n",
       "      <th></th>\n",
       "      <th>date</th>\n",
       "      <th>averageprice</th>\n",
       "      <th>total_volume</th>\n",
       "      <th>4046</th>\n",
       "      <th>4225</th>\n",
       "      <th>4770</th>\n",
       "      <th>total_bags</th>\n",
       "      <th>small_bags</th>\n",
       "      <th>large_bags</th>\n",
       "      <th>xlarge_bags</th>\n",
       "      <th>type</th>\n",
       "      <th>year</th>\n",
       "      <th>region</th>\n",
       "    </tr>\n",
       "  </thead>\n",
       "  <tbody>\n",
       "    <tr>\n",
       "      <th>0</th>\n",
       "      <td>2015-12-27</td>\n",
       "      <td>1.33</td>\n",
       "      <td>64236.62</td>\n",
       "      <td>1036.74</td>\n",
       "      <td>54454.85</td>\n",
       "      <td>48.16</td>\n",
       "      <td>8696.87</td>\n",
       "      <td>8603.62</td>\n",
       "      <td>93.25</td>\n",
       "      <td>0.0</td>\n",
       "      <td>conventional</td>\n",
       "      <td>2015</td>\n",
       "      <td>Albany</td>\n",
       "    </tr>\n",
       "    <tr>\n",
       "      <th>1</th>\n",
       "      <td>2015-12-20</td>\n",
       "      <td>1.35</td>\n",
       "      <td>54876.98</td>\n",
       "      <td>674.28</td>\n",
       "      <td>44638.81</td>\n",
       "      <td>58.33</td>\n",
       "      <td>9505.56</td>\n",
       "      <td>9408.07</td>\n",
       "      <td>97.49</td>\n",
       "      <td>0.0</td>\n",
       "      <td>conventional</td>\n",
       "      <td>2015</td>\n",
       "      <td>Albany</td>\n",
       "    </tr>\n",
       "    <tr>\n",
       "      <th>2</th>\n",
       "      <td>2015-12-13</td>\n",
       "      <td>0.93</td>\n",
       "      <td>118220.22</td>\n",
       "      <td>794.70</td>\n",
       "      <td>109149.67</td>\n",
       "      <td>130.50</td>\n",
       "      <td>8145.35</td>\n",
       "      <td>8042.21</td>\n",
       "      <td>103.14</td>\n",
       "      <td>0.0</td>\n",
       "      <td>conventional</td>\n",
       "      <td>2015</td>\n",
       "      <td>Albany</td>\n",
       "    </tr>\n",
       "    <tr>\n",
       "      <th>3</th>\n",
       "      <td>2015-12-06</td>\n",
       "      <td>1.08</td>\n",
       "      <td>78992.15</td>\n",
       "      <td>1132.00</td>\n",
       "      <td>71976.41</td>\n",
       "      <td>72.58</td>\n",
       "      <td>5811.16</td>\n",
       "      <td>5677.40</td>\n",
       "      <td>133.76</td>\n",
       "      <td>0.0</td>\n",
       "      <td>conventional</td>\n",
       "      <td>2015</td>\n",
       "      <td>Albany</td>\n",
       "    </tr>\n",
       "    <tr>\n",
       "      <th>4</th>\n",
       "      <td>2015-11-29</td>\n",
       "      <td>1.28</td>\n",
       "      <td>51039.60</td>\n",
       "      <td>941.48</td>\n",
       "      <td>43838.39</td>\n",
       "      <td>75.78</td>\n",
       "      <td>6183.95</td>\n",
       "      <td>5986.26</td>\n",
       "      <td>197.69</td>\n",
       "      <td>0.0</td>\n",
       "      <td>conventional</td>\n",
       "      <td>2015</td>\n",
       "      <td>Albany</td>\n",
       "    </tr>\n",
       "    <tr>\n",
       "      <th>...</th>\n",
       "      <td>...</td>\n",
       "      <td>...</td>\n",
       "      <td>...</td>\n",
       "      <td>...</td>\n",
       "      <td>...</td>\n",
       "      <td>...</td>\n",
       "      <td>...</td>\n",
       "      <td>...</td>\n",
       "      <td>...</td>\n",
       "      <td>...</td>\n",
       "      <td>...</td>\n",
       "      <td>...</td>\n",
       "      <td>...</td>\n",
       "    </tr>\n",
       "    <tr>\n",
       "      <th>18244</th>\n",
       "      <td>2018-02-04</td>\n",
       "      <td>1.63</td>\n",
       "      <td>17074.83</td>\n",
       "      <td>2046.96</td>\n",
       "      <td>1529.20</td>\n",
       "      <td>0.00</td>\n",
       "      <td>13498.67</td>\n",
       "      <td>13066.82</td>\n",
       "      <td>431.85</td>\n",
       "      <td>0.0</td>\n",
       "      <td>organic</td>\n",
       "      <td>2018</td>\n",
       "      <td>WestTexNewMexico</td>\n",
       "    </tr>\n",
       "    <tr>\n",
       "      <th>18245</th>\n",
       "      <td>2018-01-28</td>\n",
       "      <td>1.71</td>\n",
       "      <td>13888.04</td>\n",
       "      <td>1191.70</td>\n",
       "      <td>3431.50</td>\n",
       "      <td>0.00</td>\n",
       "      <td>9264.84</td>\n",
       "      <td>8940.04</td>\n",
       "      <td>324.80</td>\n",
       "      <td>0.0</td>\n",
       "      <td>organic</td>\n",
       "      <td>2018</td>\n",
       "      <td>WestTexNewMexico</td>\n",
       "    </tr>\n",
       "    <tr>\n",
       "      <th>18246</th>\n",
       "      <td>2018-01-21</td>\n",
       "      <td>1.87</td>\n",
       "      <td>13766.76</td>\n",
       "      <td>1191.92</td>\n",
       "      <td>2452.79</td>\n",
       "      <td>727.94</td>\n",
       "      <td>9394.11</td>\n",
       "      <td>9351.80</td>\n",
       "      <td>42.31</td>\n",
       "      <td>0.0</td>\n",
       "      <td>organic</td>\n",
       "      <td>2018</td>\n",
       "      <td>WestTexNewMexico</td>\n",
       "    </tr>\n",
       "    <tr>\n",
       "      <th>18247</th>\n",
       "      <td>2018-01-14</td>\n",
       "      <td>1.93</td>\n",
       "      <td>16205.22</td>\n",
       "      <td>1527.63</td>\n",
       "      <td>2981.04</td>\n",
       "      <td>727.01</td>\n",
       "      <td>10969.54</td>\n",
       "      <td>10919.54</td>\n",
       "      <td>50.00</td>\n",
       "      <td>0.0</td>\n",
       "      <td>organic</td>\n",
       "      <td>2018</td>\n",
       "      <td>WestTexNewMexico</td>\n",
       "    </tr>\n",
       "    <tr>\n",
       "      <th>18248</th>\n",
       "      <td>2018-01-07</td>\n",
       "      <td>1.62</td>\n",
       "      <td>17489.58</td>\n",
       "      <td>2894.77</td>\n",
       "      <td>2356.13</td>\n",
       "      <td>224.53</td>\n",
       "      <td>12014.15</td>\n",
       "      <td>11988.14</td>\n",
       "      <td>26.01</td>\n",
       "      <td>0.0</td>\n",
       "      <td>organic</td>\n",
       "      <td>2018</td>\n",
       "      <td>WestTexNewMexico</td>\n",
       "    </tr>\n",
       "  </tbody>\n",
       "</table>\n",
       "<p>18249 rows × 13 columns</p>\n",
       "</div>"
      ],
      "text/plain": [
       "             date  averageprice  total_volume     4046       4225    4770   \n",
       "0      2015-12-27          1.33      64236.62  1036.74   54454.85   48.16  \\\n",
       "1      2015-12-20          1.35      54876.98   674.28   44638.81   58.33   \n",
       "2      2015-12-13          0.93     118220.22   794.70  109149.67  130.50   \n",
       "3      2015-12-06          1.08      78992.15  1132.00   71976.41   72.58   \n",
       "4      2015-11-29          1.28      51039.60   941.48   43838.39   75.78   \n",
       "...           ...           ...           ...      ...        ...     ...   \n",
       "18244  2018-02-04          1.63      17074.83  2046.96    1529.20    0.00   \n",
       "18245  2018-01-28          1.71      13888.04  1191.70    3431.50    0.00   \n",
       "18246  2018-01-21          1.87      13766.76  1191.92    2452.79  727.94   \n",
       "18247  2018-01-14          1.93      16205.22  1527.63    2981.04  727.01   \n",
       "18248  2018-01-07          1.62      17489.58  2894.77    2356.13  224.53   \n",
       "\n",
       "       total_bags  small_bags  large_bags  xlarge_bags          type  year   \n",
       "0         8696.87     8603.62       93.25          0.0  conventional  2015  \\\n",
       "1         9505.56     9408.07       97.49          0.0  conventional  2015   \n",
       "2         8145.35     8042.21      103.14          0.0  conventional  2015   \n",
       "3         5811.16     5677.40      133.76          0.0  conventional  2015   \n",
       "4         6183.95     5986.26      197.69          0.0  conventional  2015   \n",
       "...           ...         ...         ...          ...           ...   ...   \n",
       "18244    13498.67    13066.82      431.85          0.0       organic  2018   \n",
       "18245     9264.84     8940.04      324.80          0.0       organic  2018   \n",
       "18246     9394.11     9351.80       42.31          0.0       organic  2018   \n",
       "18247    10969.54    10919.54       50.00          0.0       organic  2018   \n",
       "18248    12014.15    11988.14       26.01          0.0       organic  2018   \n",
       "\n",
       "                 region  \n",
       "0                Albany  \n",
       "1                Albany  \n",
       "2                Albany  \n",
       "3                Albany  \n",
       "4                Albany  \n",
       "...                 ...  \n",
       "18244  WestTexNewMexico  \n",
       "18245  WestTexNewMexico  \n",
       "18246  WestTexNewMexico  \n",
       "18247  WestTexNewMexico  \n",
       "18248  WestTexNewMexico  \n",
       "\n",
       "[18249 rows x 13 columns]"
      ]
     },
     "execution_count": 18,
     "metadata": {},
     "output_type": "execute_result"
    }
   ],
   "source": [
    "import pandas as pd\n",
    "\n",
    "def import_and_clean (path):\n",
    "    \n",
    "    \"\"\"Documentation\"\"\"\n",
    "    \n",
    "    # 1. Read the dataset in the path\n",
    "    df = pd.read_csv(path)\n",
    "    \n",
    "    # 2. Transfrom: dropping a column and renaming all of them\n",
    "    df.drop(columns=[\"Unnamed: 0\"], inplace=True)\n",
    "    df.columns = [i.lower().replace(\" \", \"_\") for i in df.columns]\n",
    "    \n",
    "    # 3. Returns the df\n",
    "    return df\n",
    "\n",
    "df = import_and_clean(\"../datasets/avocado_kaggle.csv\")\n",
    "df"
   ]
  },
  {
   "cell_type": "markdown",
   "id": "7f89fd70",
   "metadata": {
    "lang": "en"
   },
   "source": [
    "## Built-in functions"
   ]
  },
  {
   "cell_type": "markdown",
   "id": "80919246",
   "metadata": {
    "lang": "en"
   },
   "source": [
    "The Python interpreter has a number of built-in functions and types that are always available. They are listed [here](https://docs.python.org/3/library/functions.html) in alphabetical order."
   ]
  },
  {
   "cell_type": "code",
   "execution_count": 22,
   "id": "b8e2371a",
   "metadata": {},
   "outputs": [],
   "source": [
    "# built-in: print()\n",
    "    # within libraries\n",
    "\n",
    "# user_defined functions\n",
    "def addition (a, b):\n",
    "    return a + b\n",
    "    \n",
    "# lambda functions: more specific cases\n",
    "    # df.....lambda a: a.upper()"
   ]
  },
  {
   "cell_type": "markdown",
   "id": "d36c02f5",
   "metadata": {
    "lang": "en"
   },
   "source": [
    "In case of built-in functions we can't extract the code with inspect, since Python itself is written in C... the Print function looks like this 👇🏻"
   ]
  },
  {
   "cell_type": "markdown",
   "id": "through-silicon",
   "metadata": {},
   "source": [
    "```C\n",
    "static PyObject *\n",
    "builtin_print(PyObject *self, PyObject *args, PyObject *kwds)\n",
    "{\n",
    "    static char *kwlist[] = {\"sep\", \"end\", \"file\", 0};\n",
    "    static PyObject *dummy_args = NULL;\n",
    "    static PyObject *unicode_newline = NULL, *unicode_space = NULL;\n",
    "    static PyObject *str_newline = NULL, *str_space = NULL;\n",
    "    PyObject *newline, *space;\n",
    "    PyObject *sep = NULL, *end = NULL, *file = NULL;\n",
    "    int i, err, use_unicode = 0;\n",
    "\n",
    "    if (dummy_args == NULL) {\n",
    "        if (!(dummy_args = PyTuple_New(0)))\n",
    "            return NULL;\n",
    "    }\n",
    "    if (str_newline == NULL) {\n",
    "        str_newline = PyString_FromString(\"\\n\");\n",
    "        if (str_newline == NULL)\n",
    "            return NULL;\n",
    "        str_space = PyString_FromString(\" \");\n",
    "        if (str_space == NULL) {\n",
    "            Py_CLEAR(str_newline);\n",
    "            return NULL;\n",
    "        }\n",
    "#ifdef Py_USING_UNICODE\n",
    "        unicode_newline = PyUnicode_FromString(\"\\n\");\n",
    "        if (unicode_newline == NULL) {\n",
    "            Py_CLEAR(str_newline);\n",
    "            Py_CLEAR(str_space);\n",
    "            return NULL;\n",
    "        }\n",
    "        unicode_space = PyUnicode_FromString(\" \");\n",
    "        if (unicode_space == NULL) {\n",
    "            Py_CLEAR(str_newline);\n",
    "            Py_CLEAR(str_space);\n",
    "            Py_CLEAR(unicode_space);\n",
    "            return NULL;\n",
    "        }\n",
    "#endif\n",
    "    }\n",
    "    if (!PyArg_ParseTupleAndKeywords(dummy_args, kwds, \"|OOO:print\",\n",
    "                                     kwlist, &sep, &end, &file))\n",
    "        return NULL;\n",
    "    if (file == NULL || file == Py_None) {\n",
    "        file = PySys_GetObject(\"stdout\");\n",
    "        /* sys.stdout may be None when FILE* stdout isn't connected */\n",
    "        if (file == Py_None)\n",
    "            Py_RETURN_NONE;\n",
    "    }\n",
    "    if (sep == Py_None) {\n",
    "        sep = NULL;\n",
    "    }\n",
    "    else if (sep) {\n",
    "        if (PyUnicode_Check(sep)) {\n",
    "            use_unicode = 1;\n",
    "        }\n",
    "        else if (!PyString_Check(sep)) {\n",
    "            PyErr_Format(PyExc_TypeError,\n",
    "                         \"sep must be None, str or unicode, not %.200s\",\n",
    "                         sep->ob_type->tp_name);\n",
    "            return NULL;\n",
    "        }\n",
    "    }\n",
    "    if (end == Py_None)\n",
    "        end = NULL;\n",
    "    else if (end) {\n",
    "        if (PyUnicode_Check(end)) {\n",
    "            use_unicode = 1;\n",
    "        }\n",
    "        else if (!PyString_Check(end)) {\n",
    "            PyErr_Format(PyExc_TypeError,\n",
    "                         \"end must be None, str or unicode, not %.200s\",\n",
    "                         end->ob_type->tp_name);\n",
    "            return NULL;\n",
    "        }\n",
    "    }\n",
    "\n",
    "    if (!use_unicode) {\n",
    "        for (i = 0; i < PyTuple_Size(args); i++) {\n",
    "            if (PyUnicode_Check(PyTuple_GET_ITEM(args, i))) {\n",
    "                use_unicode = 1;\n",
    "                break;\n",
    "            }\n",
    "        }\n",
    "    }\n",
    "    if (use_unicode) {\n",
    "        newline = unicode_newline;\n",
    "        space = unicode_space;\n",
    "    }\n",
    "    else {\n",
    "        newline = str_newline;\n",
    "        space = str_space;\n",
    "    }\n",
    "\n",
    "    for (i = 0; i < PyTuple_Size(args); i++) {\n",
    "        if (i > 0) {\n",
    "            if (sep == NULL)\n",
    "                err = PyFile_WriteObject(space, file,\n",
    "                                         Py_PRINT_RAW);\n",
    "            else\n",
    "                err = PyFile_WriteObject(sep, file,\n",
    "                                         Py_PRINT_RAW);\n",
    "            if (err)\n",
    "                return NULL;\n",
    "        }\n",
    "        err = PyFile_WriteObject(PyTuple_GetItem(args, i), file,\n",
    "                                 Py_PRINT_RAW);\n",
    "        if (err)\n",
    "            return NULL;\n",
    "    }\n",
    "\n",
    "    if (end == NULL)\n",
    "        err = PyFile_WriteObject(newline, file, Py_PRINT_RAW);\n",
    "    else\n",
    "        err = PyFile_WriteObject(end, file, Py_PRINT_RAW);\n",
    "    if (err)\n",
    "        return NULL;\n",
    "\n",
    "    Py_RETURN_NONE;\n",
    "}\n",
    "```"
   ]
  },
  {
   "cell_type": "code",
   "execution_count": 27,
   "id": "f7695035",
   "metadata": {},
   "outputs": [
    {
     "name": "stdout",
     "output_type": "stream",
     "text": [
      "Hello\n"
     ]
    }
   ],
   "source": [
    "print(\"Hello\") # abstraction -> high level-ish"
   ]
  },
  {
   "cell_type": "markdown",
   "id": "9197a86b",
   "metadata": {},
   "source": [
    "## USER - DEFINED FUNCTIONS"
   ]
  },
  {
   "cell_type": "markdown",
   "id": "054f974c",
   "metadata": {},
   "source": [
    "- `def` \n",
    "- `name` \n",
    "- `params` \n",
    "- `args` \n",
    "-  `return`\n",
    "- `docstrings` \n",
    "\n",
    "- `source coude`"
   ]
  },
  {
   "cell_type": "markdown",
   "id": "85d6428d",
   "metadata": {
    "lang": "en"
   },
   "source": [
    "**Syntax for DEFINING a function**\n",
    "```python\n",
    "\n",
    "def name_function(input params):\n",
    "    # the colon and the indentation imply being in the function\n",
    "    take an action\n",
    "    return() # return a certain value\n",
    "\n",
    "```\n",
    "\n",
    "**Syntax for CALLING a function**\n",
    "\n",
    "`name_of_the_function(argument1, argument2, ...)`\n",
    "\n",
    "or, if you want to save the result in a variable\n",
    "\n",
    "`result = name_of_the_function(argument1, argument2, ...)`"
   ]
  },
  {
   "cell_type": "code",
   "execution_count": null,
   "id": "589b12bc",
   "metadata": {},
   "outputs": [],
   "source": [
    "#def input ()"
   ]
  },
  {
   "cell_type": "code",
   "execution_count": 30,
   "id": "cc5197f3",
   "metadata": {},
   "outputs": [
    {
     "name": "stdout",
     "output_type": "stream",
     "text": [
      "fer\n"
     ]
    }
   ],
   "source": [
    "name = input()"
   ]
  },
  {
   "cell_type": "code",
   "execution_count": null,
   "id": "edf653a0",
   "metadata": {},
   "outputs": [],
   "source": [
    "# optional args: \"prompt=None\""
   ]
  },
  {
   "cell_type": "code",
   "execution_count": 29,
   "id": "ceb51d01",
   "metadata": {},
   "outputs": [
    {
     "data": {
      "text/plain": [
       "'fer'"
      ]
     },
     "execution_count": 29,
     "metadata": {},
     "output_type": "execute_result"
    }
   ],
   "source": [
    "name"
   ]
  },
  {
   "cell_type": "markdown",
   "id": "d14ec799",
   "metadata": {},
   "source": [
    "### def"
   ]
  },
  {
   "cell_type": "code",
   "execution_count": null,
   "id": "758fc928",
   "metadata": {},
   "outputs": [],
   "source": [
    "# def "
   ]
  },
  {
   "cell_type": "markdown",
   "id": "f2e75efb",
   "metadata": {},
   "source": [
    "### name"
   ]
  },
  {
   "cell_type": "code",
   "execution_count": null,
   "id": "f654d98a",
   "metadata": {},
   "outputs": [],
   "source": [
    "def addition (): # meaningful\n",
    "    pass\n",
    "\n",
    "def rename_columns (): # they do things: try to use verbs\n",
    "    pass\n",
    "\n",
    "def rename_columns (): # they do things: try to use verbs\n",
    "    pass"
   ]
  },
  {
   "cell_type": "code",
   "execution_count": 34,
   "id": "3779f01e",
   "metadata": {},
   "outputs": [
    {
     "name": "stdout",
     "output_type": "stream",
     "text": [
      "Hello!\n"
     ]
    }
   ],
   "source": [
    "# 1. Define\n",
    "def say_hi ():\n",
    "    print(\"Hello!\")\n",
    "\n",
    "# 2. Call\n",
    "say_hi()"
   ]
  },
  {
   "cell_type": "markdown",
   "id": "80ee81e1",
   "metadata": {},
   "source": [
    "### parameters"
   ]
  },
  {
   "cell_type": "markdown",
   "id": "5ddcf19e",
   "metadata": {},
   "source": [
    "`()`"
   ]
  },
  {
   "cell_type": "code",
   "execution_count": 45,
   "id": "fdb563e9",
   "metadata": {},
   "outputs": [
    {
     "data": {
      "text/plain": [
       "12"
      ]
     },
     "execution_count": 45,
     "metadata": {},
     "output_type": "execute_result"
    }
   ],
   "source": [
    "def addition (a):\n",
    "    return a + b\n",
    "\n",
    "addition (10, 2)"
   ]
  },
  {
   "cell_type": "code",
   "execution_count": 46,
   "id": "3a366c24",
   "metadata": {},
   "outputs": [
    {
     "data": {
      "text/plain": [
       "'Hello! My name is Marina'"
      ]
     },
     "execution_count": 46,
     "metadata": {},
     "output_type": "execute_result"
    }
   ],
   "source": [
    "def greeting (name): # name -> parameter\n",
    "    return f\"Hello! My name is {name}\"\n",
    "\n",
    "greeting(\"Marina\")"
   ]
  },
  {
   "cell_type": "code",
   "execution_count": 47,
   "id": "912900d5",
   "metadata": {},
   "outputs": [
    {
     "data": {
      "text/plain": [
       "'Hello! My name is Marcel'"
      ]
     },
     "execution_count": 47,
     "metadata": {},
     "output_type": "execute_result"
    }
   ],
   "source": [
    "greeting(\"Marcel\")"
   ]
  },
  {
   "cell_type": "code",
   "execution_count": 48,
   "id": "6dcc0200",
   "metadata": {},
   "outputs": [
    {
     "data": {
      "text/plain": [
       "'Hello! My name is 10'"
      ]
     },
     "execution_count": 48,
     "metadata": {},
     "output_type": "execute_result"
    }
   ],
   "source": [
    "greeting(10)"
   ]
  },
  {
   "cell_type": "markdown",
   "id": "93588783",
   "metadata": {},
   "source": [
    "`(param_1, param_2)`"
   ]
  },
  {
   "cell_type": "code",
   "execution_count": 49,
   "id": "6a08a012",
   "metadata": {},
   "outputs": [],
   "source": [
    "def greeting (name, age):\n",
    "    return f\"Hello! My name is {name} and my age is {age}\""
   ]
  },
  {
   "cell_type": "code",
   "execution_count": 51,
   "id": "998ec478",
   "metadata": {},
   "outputs": [
    {
     "data": {
      "text/plain": [
       "'Hello! My name is Albert and my age is 30'"
      ]
     },
     "execution_count": 51,
     "metadata": {},
     "output_type": "execute_result"
    }
   ],
   "source": [
    "greeting(\"Albert\", 30)"
   ]
  },
  {
   "cell_type": "code",
   "execution_count": 52,
   "id": "f10aa40b",
   "metadata": {},
   "outputs": [
    {
     "data": {
      "text/plain": [
       "'Hello! My name is Marina and my age is 31'"
      ]
     },
     "execution_count": 52,
     "metadata": {},
     "output_type": "execute_result"
    }
   ],
   "source": [
    "greeting(\"Marina\", 31)"
   ]
  },
  {
   "cell_type": "code",
   "execution_count": null,
   "id": "b9996f83",
   "metadata": {},
   "outputs": [],
   "source": [
    "# parameters -> name, age\n",
    "# arguments > \"Marina\", 30"
   ]
  },
  {
   "cell_type": "markdown",
   "id": "5308ad65",
   "metadata": {},
   "source": [
    "### arguments"
   ]
  },
  {
   "cell_type": "code",
   "execution_count": null,
   "id": "875542a9",
   "metadata": {},
   "outputs": [],
   "source": []
  },
  {
   "cell_type": "markdown",
   "id": "9791b430",
   "metadata": {},
   "source": [
    "Formal parameters for a function are listed in the function declaration and used in the body of the function definition.\n",
    "\n",
    "An argument is what is used when referring to parameters. When you write a function call, the arguments are listed in parentheses after the function name. When the function call is executed, the arguments are inserted for the parameters.\n",
    "\n",
    "Let's say then that the parameters are those \"imaginary\" variables that will have the same name in the definition and in the body of the function.\n",
    "The arguments are the REAL DATA that we use when we call the function."
   ]
  },
  {
   "cell_type": "markdown",
   "id": "ade26130",
   "metadata": {},
   "source": [
    "#### default parameters"
   ]
  },
  {
   "cell_type": "markdown",
   "id": "6cda5b22",
   "metadata": {},
   "source": [
    "`(param_1, param_default = defaultvalue)` "
   ]
  },
  {
   "cell_type": "markdown",
   "id": "62729a1e",
   "metadata": {},
   "source": [
    "1. `greetings_default(myself, someone_else, language=\"en\")`"
   ]
  },
  {
   "cell_type": "code",
   "execution_count": 57,
   "id": "d6af2d5d",
   "metadata": {},
   "outputs": [],
   "source": [
    "# A function that will greet in english by default\n",
    "# unless specified otherwise\n",
    "\n",
    "def greeting (name_1, name_2, language=\"en\"):\n",
    "    if language == \"en\":\n",
    "        return f\"Hello! {name_2} I'm {name_1}\""
   ]
  },
  {
   "cell_type": "code",
   "execution_count": 59,
   "id": "01830b6a",
   "metadata": {},
   "outputs": [
    {
     "data": {
      "text/plain": [
       "\"Hello! Valentina I'm Marina\""
      ]
     },
     "execution_count": 59,
     "metadata": {},
     "output_type": "execute_result"
    }
   ],
   "source": [
    "greeting (\"Marina\", \"Valentina\") # if defined when defining -> not needed"
   ]
  },
  {
   "cell_type": "code",
   "execution_count": 58,
   "id": "831ee4f7",
   "metadata": {},
   "outputs": [
    {
     "data": {
      "text/plain": [
       "\"Hello! Valentina I'm Marina\""
      ]
     },
     "execution_count": 58,
     "metadata": {},
     "output_type": "execute_result"
    }
   ],
   "source": [
    "greeting (\"Marina\", \"Valentina\", language=\"en\") # if defined when defining -> not needed"
   ]
  },
  {
   "cell_type": "code",
   "execution_count": 60,
   "id": "835d8929",
   "metadata": {},
   "outputs": [],
   "source": [
    "def greeting (name_1, name_2, language=\"en\"):\n",
    "    \n",
    "    if language == \"en\":\n",
    "        return f\"Hello! {name_2} I'm {name_1}\"\n",
    "    \n",
    "    elif language == \"es\":\n",
    "        return f\"Hola! {name_2} soy {name_1}\""
   ]
  },
  {
   "cell_type": "code",
   "execution_count": 61,
   "id": "5b10b4b7",
   "metadata": {},
   "outputs": [
    {
     "data": {
      "text/plain": [
       "\"Hello! Valentina I'm Marina\""
      ]
     },
     "execution_count": 61,
     "metadata": {},
     "output_type": "execute_result"
    }
   ],
   "source": [
    "greeting (\"Marina\", \"Valentina\")"
   ]
  },
  {
   "cell_type": "code",
   "execution_count": 62,
   "id": "1e985b81",
   "metadata": {},
   "outputs": [
    {
     "data": {
      "text/plain": [
       "\"Hello! Valentina I'm Marina\""
      ]
     },
     "execution_count": 62,
     "metadata": {},
     "output_type": "execute_result"
    }
   ],
   "source": [
    "greeting (\"Marina\", \"Valentina\", language=\"en\")"
   ]
  },
  {
   "cell_type": "code",
   "execution_count": 63,
   "id": "85150a6d",
   "metadata": {},
   "outputs": [
    {
     "data": {
      "text/plain": [
       "'Hola! Valentina soy Marina'"
      ]
     },
     "execution_count": 63,
     "metadata": {},
     "output_type": "execute_result"
    }
   ],
   "source": [
    "greeting (\"Marina\", \"Valentina\", language=\"es\")"
   ]
  },
  {
   "cell_type": "code",
   "execution_count": 64,
   "id": "31bcebb7",
   "metadata": {},
   "outputs": [
    {
     "data": {
      "text/plain": [
       "'Hola! Valentina soy Marina'"
      ]
     },
     "execution_count": 64,
     "metadata": {},
     "output_type": "execute_result"
    }
   ],
   "source": [
    "greeting (\"Marina\", \"Valentina\", \"es\")"
   ]
  },
  {
   "cell_type": "code",
   "execution_count": 66,
   "id": "c095998c",
   "metadata": {},
   "outputs": [
    {
     "name": "stdout",
     "output_type": "stream",
     "text": [
      "Hola\n"
     ]
    }
   ],
   "source": [
    "name = input(\"Hola\")"
   ]
  },
  {
   "cell_type": "code",
   "execution_count": 67,
   "id": "e93b6ff8",
   "metadata": {},
   "outputs": [
    {
     "name": "stdout",
     "output_type": "stream",
     "text": [
      "Holaa\n"
     ]
    }
   ],
   "source": [
    "name = input(prompt = \"Hola\")"
   ]
  },
  {
   "cell_type": "code",
   "execution_count": 68,
   "id": "255a8d19",
   "metadata": {},
   "outputs": [],
   "source": [
    "def greeting (age):\n",
    "    name = input(\"What's your name?: \")\n",
    "    return f\"Hello my name is {name} and I'm {age} old\""
   ]
  },
  {
   "cell_type": "code",
   "execution_count": 69,
   "id": "d005f3f0",
   "metadata": {},
   "outputs": [
    {
     "name": "stdout",
     "output_type": "stream",
     "text": [
      "What's your name?: Fer\n"
     ]
    },
    {
     "data": {
      "text/plain": [
       "\"Hello my name is Fer and I'm 20 old\""
      ]
     },
     "execution_count": 69,
     "metadata": {},
     "output_type": "execute_result"
    }
   ],
   "source": [
    "greeting(20)"
   ]
  },
  {
   "cell_type": "markdown",
   "id": "ee22d185",
   "metadata": {},
   "source": [
    "2. `calculation (num_1, num_2, operation=\"+\")`"
   ]
  },
  {
   "cell_type": "code",
   "execution_count": 75,
   "id": "1322a733",
   "metadata": {},
   "outputs": [
    {
     "data": {
      "text/plain": [
       "3.141592653589793"
      ]
     },
     "execution_count": 75,
     "metadata": {},
     "output_type": "execute_result"
    }
   ],
   "source": [
    "import math\n",
    "\n",
    "PI = math.pi\n",
    "PI"
   ]
  },
  {
   "cell_type": "code",
   "execution_count": 71,
   "id": "5910d035",
   "metadata": {},
   "outputs": [],
   "source": [
    "def calculation (num_1, num_2, operation = \"+\"):\n",
    "    \"\"\"\n",
    "    This function does a mathematical operation based\n",
    "    on two given numbers.\n",
    "    :num_1: an int\n",
    "    :num_2: an int\n",
    "    :operation: a string for \"+\" or \"*\". It defaults to \"+\"\n",
    "    \"\"\"\n",
    "    \n",
    "    if operation == \"+\":\n",
    "        return num_1 + num_2\n",
    "    \n",
    "    elif operation == \"*\":\n",
    "        return  num_1 * num_2\n"
   ]
  },
  {
   "cell_type": "code",
   "execution_count": 72,
   "id": "a2804830",
   "metadata": {},
   "outputs": [
    {
     "data": {
      "text/plain": [
       "12"
      ]
     },
     "execution_count": 72,
     "metadata": {},
     "output_type": "execute_result"
    }
   ],
   "source": [
    "calculation (10, 2, \"+\") # 12"
   ]
  },
  {
   "cell_type": "code",
   "execution_count": 73,
   "id": "ea3404f8",
   "metadata": {},
   "outputs": [
    {
     "data": {
      "text/plain": [
       "12"
      ]
     },
     "execution_count": 73,
     "metadata": {},
     "output_type": "execute_result"
    }
   ],
   "source": [
    "calculation (10, 2) # 12, operation is a default"
   ]
  },
  {
   "cell_type": "code",
   "execution_count": 74,
   "id": "80a738f2",
   "metadata": {},
   "outputs": [
    {
     "data": {
      "text/plain": [
       "20"
      ]
     },
     "execution_count": 74,
     "metadata": {},
     "output_type": "execute_result"
    }
   ],
   "source": [
    "calculation (10, 2, \"*\") # 20"
   ]
  },
  {
   "cell_type": "markdown",
   "id": "37fbea85",
   "metadata": {},
   "source": [
    "#### positional arguments & keyword arguments"
   ]
  },
  {
   "cell_type": "markdown",
   "id": "e3e4c777",
   "metadata": {},
   "source": [
    "`def addition (num_1, some_name=withavalue)`"
   ]
  },
  {
   "cell_type": "markdown",
   "id": "b77b53ca",
   "metadata": {},
   "source": [
    "#### `*args`\n",
    "In Python, the special parameter `*args` in a function is used to optionally pass a variable number of **positional** arguments."
   ]
  },
  {
   "cell_type": "code",
   "execution_count": null,
   "id": "d08db0f9",
   "metadata": {},
   "outputs": [],
   "source": [
    "# find . -name *.csv -> find all the files that csv's\n",
    "# * -> is a placeholder, wildcard (joker) -> anything/everything"
   ]
  },
  {
   "cell_type": "code",
   "execution_count": null,
   "id": "b8e63230",
   "metadata": {},
   "outputs": [],
   "source": [
    "# *args  -> unknown or variable number of arguments"
   ]
  },
  {
   "cell_type": "markdown",
   "id": "2bb755bc",
   "metadata": {},
   "source": [
    "`two arguments`"
   ]
  },
  {
   "cell_type": "code",
   "execution_count": 90,
   "id": "d76e4be9",
   "metadata": {},
   "outputs": [
    {
     "data": {
      "text/plain": [
       "13"
      ]
     },
     "execution_count": 90,
     "metadata": {},
     "output_type": "execute_result"
    }
   ],
   "source": [
    "def addition_two (a, b):\n",
    "    return a + b\n",
    "\n",
    "addition_two (10, 3) # TypeError: addition_two() takes 2 positional arguments but 3 were given"
   ]
  },
  {
   "cell_type": "markdown",
   "id": "7fee6e45",
   "metadata": {},
   "source": [
    "`unkown number of arguments`"
   ]
  },
  {
   "cell_type": "code",
   "execution_count": 94,
   "id": "18a77de6",
   "metadata": {},
   "outputs": [],
   "source": [
    "def addition_args (*args): \n",
    "    # the code should be implemented so that \n",
    "    # it works with one or more arguments\n",
    "    \n",
    "    counter = 0\n",
    "    \n",
    "    for i in args:\n",
    "        counter += i\n",
    "        \n",
    "    return counter"
   ]
  },
  {
   "cell_type": "code",
   "execution_count": 95,
   "id": "dab1797e",
   "metadata": {},
   "outputs": [],
   "source": [
    "def addition_args (*args): \n",
    "    return sum(args)"
   ]
  },
  {
   "cell_type": "code",
   "execution_count": 96,
   "id": "98b09b3f",
   "metadata": {},
   "outputs": [
    {
     "data": {
      "text/plain": [
       "12"
      ]
     },
     "execution_count": 96,
     "metadata": {},
     "output_type": "execute_result"
    }
   ],
   "source": [
    "result = addition_args(10, 2)\n",
    "result"
   ]
  },
  {
   "cell_type": "code",
   "execution_count": 97,
   "id": "1c45a99f",
   "metadata": {},
   "outputs": [
    {
     "data": {
      "text/plain": [
       "30"
      ]
     },
     "execution_count": 97,
     "metadata": {},
     "output_type": "execute_result"
    }
   ],
   "source": [
    "result = addition_args(10, 2, 10 , 3, 5)\n",
    "result"
   ]
  },
  {
   "cell_type": "code",
   "execution_count": 98,
   "id": "2f9604a1",
   "metadata": {},
   "outputs": [],
   "source": [
    "def addition_args (*args):\n",
    "    print(f\"Args are: \", args)\n",
    "    print(f\"Type of args is: \", type(args))\n",
    "    \n",
    "    for i in args:\n",
    "        print(i)"
   ]
  },
  {
   "cell_type": "code",
   "execution_count": 99,
   "id": "4e846973",
   "metadata": {},
   "outputs": [
    {
     "name": "stdout",
     "output_type": "stream",
     "text": [
      "Args are:  (10, 3, 2, 5)\n",
      "Type of args is:  <class 'tuple'>\n",
      "10\n",
      "3\n",
      "2\n",
      "5\n"
     ]
    }
   ],
   "source": [
    "addition_args (10, 3, 2, 5) # tuple: python packages things into tuples\n",
    "# to work with data"
   ]
  },
  {
   "cell_type": "markdown",
   "id": "17a04c9e",
   "metadata": {},
   "source": [
    "`otherwise`: errors"
   ]
  },
  {
   "cell_type": "code",
   "execution_count": null,
   "id": "30e61eaa",
   "metadata": {},
   "outputs": [],
   "source": []
  },
  {
   "cell_type": "markdown",
   "id": "67833de1",
   "metadata": {},
   "source": [
    "#### **kwargs"
   ]
  },
  {
   "cell_type": "code",
   "execution_count": 100,
   "id": "fb69c6d9",
   "metadata": {},
   "outputs": [],
   "source": [
    "# *args # variable number of arguments\n",
    "\n",
    "# **kwargs # variable number of arguments AND keys"
   ]
  },
  {
   "cell_type": "code",
   "execution_count": 102,
   "id": "fd9c413c",
   "metadata": {},
   "outputs": [],
   "source": [
    "def function_example (a, b, *args, **kwargs):\n",
    "    \n",
    "    print(f\"Positional 1: {a}, and type is {type(a)}\") # int\n",
    "    print(f\"Positional 2: {b}, and type is {type(b)}\") # int\n",
    "    \n",
    "    print(f\"Args are: {args}, and type is {type(args)}\") # tuple\n",
    "    print(f\"Kwargs are: {kwargs}, and type is {type(kwargs)}\") # dict "
   ]
  },
  {
   "cell_type": "code",
   "execution_count": 106,
   "id": "f1954735",
   "metadata": {},
   "outputs": [
    {
     "name": "stdout",
     "output_type": "stream",
     "text": [
      "Positional 1: 1, and type is <class 'int'>\n",
      "Positional 2: 2, and type is <class 'int'>\n",
      "Args are: (90, 60, 80), and type is <class 'tuple'>\n",
      "Kwargs are: {'name': 'Marina', 'age': 30}, and type is <class 'dict'>\n"
     ]
    }
   ],
   "source": [
    "function_example (1, 2, 90, 60, 80, name=\"Marina\", age=30)"
   ]
  },
  {
   "cell_type": "code",
   "execution_count": 107,
   "id": "a6934e2e",
   "metadata": {},
   "outputs": [
    {
     "ename": "SyntaxError",
     "evalue": "positional argument follows keyword argument (1573228089.py, line 1)",
     "output_type": "error",
     "traceback": [
      "\u001b[0;36m  Input \u001b[0;32mIn [107]\u001b[0;36m\u001b[0m\n\u001b[0;31m    function_example (1, 2, 90, 60, 80, name=\"Marina\", age=30, 90)\u001b[0m\n\u001b[0m                                                                 ^\u001b[0m\n\u001b[0;31mSyntaxError\u001b[0m\u001b[0;31m:\u001b[0m positional argument follows keyword argument\n"
     ]
    }
   ],
   "source": [
    "function_example (1, 2, 90, 60, 80, name=\"Marina\", age=30, 90)"
   ]
  },
  {
   "cell_type": "code",
   "execution_count": null,
   "id": "ac65ac9c",
   "metadata": {},
   "outputs": [],
   "source": [
    "function_example (1, 2, 90, 60, 80, name=\"Marina\", age=30)"
   ]
  },
  {
   "cell_type": "code",
   "execution_count": null,
   "id": "0a41e169",
   "metadata": {},
   "outputs": [],
   "source": [
    "#function_example (1, 2, (90, 60, 80), name=\"Marina\")"
   ]
  },
  {
   "cell_type": "code",
   "execution_count": 110,
   "id": "41e404e8",
   "metadata": {},
   "outputs": [
    {
     "name": "stdout",
     "output_type": "stream",
     "text": [
      "Positional 1: 1, and type is <class 'int'>\n",
      "Positional 2: 2, and type is <class 'int'>\n",
      "Args are: [90, 60, 80], and type is <class 'list'>\n",
      "Kwargs are: {'name': 'Marina', 'age': 30}, and type is <class 'dict'>\n"
     ]
    }
   ],
   "source": [
    "def function_example (a, b, *args, **kwargs):\n",
    "    \n",
    "    print(f\"Positional 1: {a}, and type is {type(a)}\") # int\n",
    "    print(f\"Positional 2: {b}, and type is {type(b)}\") # int\n",
    "    \n",
    "    print(f\"Args are: {list(args)}, and type is {type(list(args))}\") # tuple\n",
    "    print(f\"Kwargs are: {kwargs}, and type is {type(kwargs)}\") # dict \n",
    "\n",
    "function_example (1, 2, 90, 60, 80, name=\"Marina\", age=30)"
   ]
  },
  {
   "cell_type": "markdown",
   "id": "8821d732",
   "metadata": {},
   "source": [
    "#### order"
   ]
  },
  {
   "cell_type": "markdown",
   "id": "12ce7273",
   "metadata": {},
   "source": [
    "`def example(arg1, arg2, *args,**kwargs)`"
   ]
  },
  {
   "cell_type": "code",
   "execution_count": 127,
   "id": "5e84b63a",
   "metadata": {},
   "outputs": [],
   "source": [
    "def job_description (year, salary, *hours, **kwargs):\n",
    "    \n",
    "    \"\"\" This function does things\n",
    "    :year: int\n",
    "    :salary: float or int\n",
    "    :hours: registered hours (variable)\n",
    "    :kwargs: tags\n",
    "    \"\"\"\n",
    "    \n",
    "    # 1. Year & salary\n",
    "    print(f\"The year is {year}\")\n",
    "    print(f\"The salary is {salary} € gross per year\")\n",
    "    \n",
    "    # 2. Calculation of hours\n",
    "    total_hours = sum(hours)\n",
    "    print(f\"I have worked a total amount of: {total_hours} hours\")\n",
    "    \n",
    "    # 3. Tags\n",
    "    print(\"\\n\")\n",
    "    \n",
    "    for key, value in kwargs.items():\n",
    "        print(f\"My {key} is {value.capitalize()}\")"
   ]
  },
  {
   "cell_type": "code",
   "execution_count": 129,
   "id": "59e93205",
   "metadata": {},
   "outputs": [
    {
     "name": "stdout",
     "output_type": "stream",
     "text": [
      "The year is 2024\n",
      "The salary is 25000 € gross per year\n",
      "I have worked a total amount of: 152 hours\n",
      "\n",
      "\n",
      "My name is Marina\n",
      "My city is Mataró\n",
      "My company is Ih\n",
      "My role is Pm\n"
     ]
    }
   ],
   "source": [
    "job_description (2024, 25000, 40, 29, 38, 45, name=\"Marina\", city=\"mataró\", company=\"iH\", role=\"PM\")"
   ]
  },
  {
   "cell_type": "code",
   "execution_count": 131,
   "id": "9469d580",
   "metadata": {},
   "outputs": [],
   "source": [
    "dict_albert = {\"name\":\"albert\", \"city\":\"mataró\", \"role\":\"unknown\"}"
   ]
  },
  {
   "cell_type": "code",
   "execution_count": 132,
   "id": "2613f8f6",
   "metadata": {},
   "outputs": [
    {
     "data": {
      "text/plain": [
       "{'name': 'albert', 'city': 'mataró', 'role': 'unknown'}"
      ]
     },
     "execution_count": 132,
     "metadata": {},
     "output_type": "execute_result"
    }
   ],
   "source": [
    "dict_albert"
   ]
  },
  {
   "cell_type": "code",
   "execution_count": 135,
   "id": "64357516",
   "metadata": {},
   "outputs": [],
   "source": [
    "valentina = {'name': 'val', 'city': 'bcn', 'role': 'careers'}"
   ]
  },
  {
   "cell_type": "code",
   "execution_count": 133,
   "id": "c74331f8",
   "metadata": {},
   "outputs": [],
   "source": [
    "year = 2020"
   ]
  },
  {
   "cell_type": "code",
   "execution_count": 136,
   "id": "2cb921f7",
   "metadata": {},
   "outputs": [
    {
     "name": "stdout",
     "output_type": "stream",
     "text": [
      "The year is 2020\n",
      "The salary is 25000 € gross per year\n",
      "I have worked a total amount of: 152 hours\n",
      "\n",
      "\n",
      "My name is Val\n",
      "My city is Bcn\n",
      "My role is Careers\n"
     ]
    }
   ],
   "source": [
    "job_description (year, 25000, 40, 29, 38, 45, **valentina)"
   ]
  },
  {
   "cell_type": "code",
   "execution_count": 149,
   "id": "44f82b3b",
   "metadata": {},
   "outputs": [],
   "source": [
    "hours_worked_list = [40, 3, 50, 1, 40, 40, 40]"
   ]
  },
  {
   "cell_type": "code",
   "execution_count": 142,
   "id": "fb859c0e",
   "metadata": {},
   "outputs": [],
   "source": [
    "hours_worked = (40, 3, 50, 1)"
   ]
  },
  {
   "cell_type": "code",
   "execution_count": 150,
   "id": "bb763d42",
   "metadata": {},
   "outputs": [],
   "source": [
    "hours_worked_set = {40, 3, 50, 1, 40, 40, 40}"
   ]
  },
  {
   "cell_type": "code",
   "execution_count": 152,
   "id": "30506a89",
   "metadata": {
    "scrolled": true
   },
   "outputs": [
    {
     "name": "stdout",
     "output_type": "stream",
     "text": [
      "The year is 2020\n",
      "The salary is 25000 € gross per year\n",
      "I have worked a total amount of: 94 hours\n",
      "\n",
      "\n",
      "My name is Val\n",
      "My city is Bcn\n",
      "My role is Careers\n"
     ]
    }
   ],
   "source": [
    "job_description (year, 25000, *hours_worked_set, **valentina)"
   ]
  },
  {
   "cell_type": "code",
   "execution_count": null,
   "id": "56587b68",
   "metadata": {},
   "outputs": [],
   "source": [
    "# python\n",
    "    # open source\n",
    "    # libraries\n",
    "        # pandas\n",
    "        # numpy\n",
    "        # visualization\n",
    "        # statistics\n",
    "        # machine learning\n",
    "        # using other services: sqlthrough python\n",
    "        \n",
    "   # libraries: pandas"
   ]
  },
  {
   "cell_type": "code",
   "execution_count": null,
   "id": "cab2bce0",
   "metadata": {},
   "outputs": [],
   "source": [
    "class Car ():\n",
    "    pass\n",
    "\n",
    "tonis_car = Car()\n",
    "tonis_car.forward() # function (method) -> return updated position\n",
    "\n",
    "tonis_car.color # red\n",
    "tonis_car.color = # white\n",
    "\n",
    "\n"
   ]
  },
  {
   "cell_type": "code",
   "execution_count": 154,
   "id": "5835af57",
   "metadata": {},
   "outputs": [],
   "source": [
    "import pandas as pd\n",
    "#tonis_car = Car ()\n",
    "\n",
    "df = pd.read_csv(\"../datasets/avocado_kaggle.csv\")\n",
    "\n",
    "df.drop()\n",
    "df.shape # number of rows and columns\n",
    "\n",
    "\n",
    "df_2 = pd.read_csv(\"../datasets/boston.csv\")\n",
    "df_2.drop()\n",
    "df.shape\n",
    "\n"
   ]
  },
  {
   "cell_type": "code",
   "execution_count": 155,
   "id": "dab98259",
   "metadata": {},
   "outputs": [],
   "source": [
    "import pandas as pd\n",
    "\n",
    "dict_ = {\"col1\": [1, 2, 3], \"col2\": [10, 20, 30]}"
   ]
  },
  {
   "cell_type": "code",
   "execution_count": 157,
   "id": "4f368bd5",
   "metadata": {},
   "outputs": [
    {
     "data": {
      "text/html": [
       "<div>\n",
       "<style scoped>\n",
       "    .dataframe tbody tr th:only-of-type {\n",
       "        vertical-align: middle;\n",
       "    }\n",
       "\n",
       "    .dataframe tbody tr th {\n",
       "        vertical-align: top;\n",
       "    }\n",
       "\n",
       "    .dataframe thead th {\n",
       "        text-align: right;\n",
       "    }\n",
       "</style>\n",
       "<table border=\"1\" class=\"dataframe\">\n",
       "  <thead>\n",
       "    <tr style=\"text-align: right;\">\n",
       "      <th></th>\n",
       "      <th>col1</th>\n",
       "      <th>col2</th>\n",
       "    </tr>\n",
       "  </thead>\n",
       "  <tbody>\n",
       "    <tr>\n",
       "      <th>0</th>\n",
       "      <td>1</td>\n",
       "      <td>10</td>\n",
       "    </tr>\n",
       "    <tr>\n",
       "      <th>1</th>\n",
       "      <td>2</td>\n",
       "      <td>20</td>\n",
       "    </tr>\n",
       "    <tr>\n",
       "      <th>2</th>\n",
       "      <td>3</td>\n",
       "      <td>30</td>\n",
       "    </tr>\n",
       "  </tbody>\n",
       "</table>\n",
       "</div>"
      ],
      "text/plain": [
       "   col1  col2\n",
       "0     1    10\n",
       "1     2    20\n",
       "2     3    30"
      ]
     },
     "execution_count": 157,
     "metadata": {},
     "output_type": "execute_result"
    }
   ],
   "source": [
    "df_3 = pd.DataFrame(dict_)\n",
    "df_3"
   ]
  },
  {
   "cell_type": "markdown",
   "id": "5a76c906",
   "metadata": {},
   "source": [
    "### return\n",
    "\n",
    "- return gives you something back\n",
    "- there can be more than one return\n",
    "- **after a function returns something, the execution STOPS**"
   ]
  },
  {
   "cell_type": "markdown",
   "id": "506cb965",
   "metadata": {},
   "source": [
    "`function with return`"
   ]
  },
  {
   "cell_type": "code",
   "execution_count": 164,
   "id": "70fc6f43",
   "metadata": {
    "scrolled": true
   },
   "outputs": [
    {
     "data": {
      "text/plain": [
       "'Hello'"
      ]
     },
     "execution_count": 164,
     "metadata": {},
     "output_type": "execute_result"
    }
   ],
   "source": [
    "def greeting_return ():\n",
    "    return \"Hello\"\n",
    "    \n",
    "result_return = greeting_return ()\n",
    "#result_return = \"Hello\"\n",
    "result_return"
   ]
  },
  {
   "cell_type": "code",
   "execution_count": 180,
   "id": "4529ab90",
   "metadata": {},
   "outputs": [
    {
     "data": {
      "text/plain": [
       "'HELLO'"
      ]
     },
     "execution_count": 180,
     "metadata": {},
     "output_type": "execute_result"
    }
   ],
   "source": [
    "result_return.upper()"
   ]
  },
  {
   "cell_type": "markdown",
   "id": "b61cca6c",
   "metadata": {},
   "source": [
    "`function with no return`: NoneType"
   ]
  },
  {
   "cell_type": "code",
   "execution_count": 167,
   "id": "c5f4e9ca",
   "metadata": {},
   "outputs": [
    {
     "name": "stdout",
     "output_type": "stream",
     "text": [
      "Hello\n"
     ]
    }
   ],
   "source": [
    "def greeting_print ():\n",
    "    print(\"Hello\")\n",
    "    \n",
    "result_print = greeting_print ()"
   ]
  },
  {
   "cell_type": "code",
   "execution_count": 181,
   "id": "11479afe",
   "metadata": {},
   "outputs": [
    {
     "ename": "AttributeError",
     "evalue": "'NoneType' object has no attribute 'upper'",
     "output_type": "error",
     "traceback": [
      "\u001b[0;31m---------------------------------------------------------------------------\u001b[0m",
      "\u001b[0;31mAttributeError\u001b[0m                            Traceback (most recent call last)",
      "Input \u001b[0;32mIn [181]\u001b[0m, in \u001b[0;36m<cell line: 1>\u001b[0;34m()\u001b[0m\n\u001b[0;32m----> 1\u001b[0m \u001b[43mresult_print\u001b[49m\u001b[38;5;241;43m.\u001b[39;49m\u001b[43mupper\u001b[49m()\n",
      "\u001b[0;31mAttributeError\u001b[0m: 'NoneType' object has no attribute 'upper'"
     ]
    }
   ],
   "source": [
    "result_print.upper()"
   ]
  },
  {
   "cell_type": "code",
   "execution_count": 182,
   "id": "4d74ee73",
   "metadata": {},
   "outputs": [],
   "source": [
    "# return: want to keep the value -> saving that into a variable\n",
    "    # keep the value of things\n",
    "    # why? to look it up i nthe future\n",
    "    # to modify / work / apply\n",
    "\n",
    "# no return: we just want things to happen, nothing to give back\n",
    "    # siri: lower the temperature\n",
    "        # DO: change the temperature\n",
    "        # it doesnt return anything"
   ]
  },
  {
   "cell_type": "code",
   "execution_count": 183,
   "id": "ef1e9e08",
   "metadata": {},
   "outputs": [],
   "source": [
    "# A FUNCTION WITH NO RETURN -> EVALUATES TO NONE"
   ]
  },
  {
   "cell_type": "code",
   "execution_count": 186,
   "id": "2eb96937",
   "metadata": {},
   "outputs": [
    {
     "data": {
      "text/plain": [
       "str"
      ]
     },
     "execution_count": 186,
     "metadata": {},
     "output_type": "execute_result"
    }
   ],
   "source": [
    "type(greeting_return()) # type of the result: str (it returns a string)"
   ]
  },
  {
   "cell_type": "code",
   "execution_count": 185,
   "id": "9782a145",
   "metadata": {},
   "outputs": [
    {
     "name": "stdout",
     "output_type": "stream",
     "text": [
      "Hello\n"
     ]
    },
    {
     "data": {
      "text/plain": [
       "NoneType"
      ]
     },
     "execution_count": 185,
     "metadata": {},
     "output_type": "execute_result"
    }
   ],
   "source": [
    "type(greeting_print()) # the type of the result (no result): None (no return)"
   ]
  },
  {
   "cell_type": "code",
   "execution_count": null,
   "id": "1f2d5a6b",
   "metadata": {},
   "outputs": [],
   "source": [
    "# FUNCTIONS WITHOUT RETURN GIVE YOU NONE"
   ]
  },
  {
   "cell_type": "markdown",
   "id": "3f0b4787",
   "metadata": {},
   "source": [
    "`accessing the value of the result of the function`: print & return"
   ]
  },
  {
   "cell_type": "code",
   "execution_count": null,
   "id": "6e03ec1a",
   "metadata": {},
   "outputs": [],
   "source": []
  },
  {
   "cell_type": "markdown",
   "id": "309bb330",
   "metadata": {},
   "source": [
    "`more than one return`"
   ]
  },
  {
   "cell_type": "code",
   "execution_count": 188,
   "id": "39587ded",
   "metadata": {},
   "outputs": [
    {
     "name": "stdout",
     "output_type": "stream",
     "text": [
      "20\n",
      "30\n"
     ]
    }
   ],
   "source": [
    "def addition (a, b):\n",
    "    \n",
    "    one_number = a * 10\n",
    "    another_number = b * 10\n",
    "    \n",
    "    return one_number, another_number\n",
    "\n",
    "the_first_one, the_second_one = addition (2, 3)\n",
    "\n",
    "print(the_first_one)\n",
    "print(the_second_one)"
   ]
  },
  {
   "cell_type": "code",
   "execution_count": 190,
   "id": "91f521ae",
   "metadata": {},
   "outputs": [
    {
     "data": {
      "text/plain": [
       "80"
      ]
     },
     "execution_count": 190,
     "metadata": {},
     "output_type": "execute_result"
    }
   ],
   "source": [
    "a, b = (10, 80)\n",
    "b"
   ]
  },
  {
   "cell_type": "markdown",
   "id": "d4a7b05b",
   "metadata": {},
   "source": [
    "### Docstrings: documentation strings"
   ]
  },
  {
   "cell_type": "markdown",
   "id": "65bd3a59",
   "metadata": {},
   "source": [
    "- The code is written 1 time.\n",
    "- The code is read 100 times.\n",
    "- Help your colleagues understand your work.\n",
    "\n",
    "![lafoto](https://res.cloudinary.com/highflyer910/image/upload/v1589577574/1_1_httqnc.jpg)"
   ]
  },
  {
   "cell_type": "markdown",
   "id": "14e0777b",
   "metadata": {},
   "source": [
    "In this example, we have defined a cat function that returns meow. We have declared a docstring that explains what the function does. To get the docstring of a function, we need to display the doc attribute (print(cat.__doc__))\n",
    "Photo reference, description and more info about docstring [here](https://techiestuff.netlify.app/blog/what-is-a-python-docstring/)"
   ]
  },
  {
   "cell_type": "code",
   "execution_count": 191,
   "id": "93154e4c",
   "metadata": {},
   "outputs": [],
   "source": [
    "def job_description (year, salary, *hours, **kwargs):\n",
    "    \n",
    "    \"\"\"This function does things\n",
    "    :year: int, current year\n",
    "    :salary: float or int\n",
    "    :hours: registered hours (variable), ints\n",
    "    :kwargs: tags, refering to the person\n",
    "    \"\"\"\n",
    "    \n",
    "    # 1. Year & salary\n",
    "    print(f\"The year is {year}\")\n",
    "    print(f\"The salary is {salary} € gross per year\")\n",
    "    \n",
    "    # 2. Calculation of hours\n",
    "    total_hours = sum(hours)\n",
    "    print(f\"I have worked a total amount of: {total_hours} hours\")\n",
    "    \n",
    "    # 3. Tags\n",
    "    print(\"\\n\")\n",
    "    \n",
    "    for key, value in kwargs.items():\n",
    "        print(f\"My {key} is {value.capitalize()}\")"
   ]
  },
  {
   "cell_type": "code",
   "execution_count": 198,
   "id": "4ea8cdfa",
   "metadata": {},
   "outputs": [
    {
     "name": "stdout",
     "output_type": "stream",
     "text": [
      "Hello\n",
      "there\n",
      "new line\n"
     ]
    }
   ],
   "source": [
    "print(\"Hello\\nthere\\nnew line\")"
   ]
  },
  {
   "cell_type": "code",
   "execution_count": null,
   "id": "2f13c5fd",
   "metadata": {},
   "outputs": [],
   "source": [
    "def job_description (year, salary, *hours, **kwargs):\n",
    "    \n",
    "    print(f\"The year is {year}\")\n",
    "    print(f\"The salary is {salary} € gross per year\")\n",
    "    total_hours = sum(hours)\n",
    "    print(f\"I have worked a total amount of: {total_hours} hours\")\n",
    "    print(\"\\n\")\n",
    "    for key, value in kwargs.items():\n",
    "        print(f\"My {key} is {value.capitalize()}\")"
   ]
  },
  {
   "cell_type": "code",
   "execution_count": null,
   "id": "e8f85525",
   "metadata": {},
   "outputs": [],
   "source": [
    "# technical debt"
   ]
  },
  {
   "cell_type": "markdown",
   "id": "1bcd1e17",
   "metadata": {},
   "source": [
    "### source code"
   ]
  },
  {
   "cell_type": "code",
   "execution_count": 192,
   "id": "15a16e01",
   "metadata": {},
   "outputs": [
    {
     "name": "stdout",
     "output_type": "stream",
     "text": [
      "def job_description (year, salary, *hours, **kwargs):\n",
      "    \n",
      "    \"\"\"This function does things\n",
      "    :year: int, current year\n",
      "    :salary: float or int\n",
      "    :hours: registered hours (variable), ints\n",
      "    :kwargs: tags, refering to the person\n",
      "    \"\"\"\n",
      "    \n",
      "    # 1. Year & salary\n",
      "    print(f\"The year is {year}\")\n",
      "    print(f\"The salary is {salary} € gross per year\")\n",
      "    \n",
      "    # 2. Calculation of hours\n",
      "    total_hours = sum(hours)\n",
      "    print(f\"I have worked a total amount of: {total_hours} hours\")\n",
      "    \n",
      "    # 3. Tags\n",
      "    print(\"\\n\")\n",
      "    \n",
      "    for key, value in kwargs.items():\n",
      "        print(f\"My {key} is {value.capitalize()}\")\n",
      "\n"
     ]
    }
   ],
   "source": [
    "import inspect\n",
    "print(inspect.getsource(job_description))"
   ]
  },
  {
   "cell_type": "code",
   "execution_count": 196,
   "id": "bc6c64a6",
   "metadata": {
    "scrolled": false
   },
   "outputs": [
    {
     "name": "stdout",
     "output_type": "stream",
     "text": [
      "This function does things\n",
      "    :year: int, current year\n",
      "    :salary: float or int\n",
      "    :hours: registered hours (variable), ints\n",
      "    :kwargs: tags, refering to the person\n",
      "    \n"
     ]
    }
   ],
   "source": [
    "print(job_description.__doc__)"
   ]
  },
  {
   "cell_type": "code",
   "execution_count": null,
   "id": "a4c669f8",
   "metadata": {},
   "outputs": [],
   "source": [
    "# create a function that counts the number of vowels in a string\n",
    "\n",
    "def count_vowels ():\n",
    "    pass\n",
    "\n",
    "count_vowels(\"kiuysdsaaareoieuatfvbnmjhgfcv\")"
   ]
  },
  {
   "cell_type": "markdown",
   "id": "86c5ccda",
   "metadata": {
    "lang": "en"
   },
   "source": [
    "## Scope of functions"
   ]
  },
  {
   "cell_type": "markdown",
   "id": "a353567d",
   "metadata": {},
   "source": [
    "`outer to inner`"
   ]
  },
  {
   "cell_type": "code",
   "execution_count": null,
   "id": "68156243",
   "metadata": {},
   "outputs": [],
   "source": []
  },
  {
   "cell_type": "markdown",
   "id": "c26ce173",
   "metadata": {},
   "source": [
    "`inner to outter` "
   ]
  },
  {
   "cell_type": "code",
   "execution_count": null,
   "id": "1281cc32",
   "metadata": {},
   "outputs": [],
   "source": []
  },
  {
   "cell_type": "markdown",
   "id": "80ccf4fe",
   "metadata": {},
   "source": [
    "[Extra: global variables](https://www.w3schools.com/python/python_variables_global.asp)"
   ]
  },
  {
   "cell_type": "markdown",
   "id": "28a2d72b",
   "metadata": {
    "lang": "en"
   },
   "source": [
    "## Lambda\n",
    "A lambda function is an anonymous function, with no identifier, that can be declared in place. Since we can take functions as arguments and assign them to variables, the notation that makes it possible to create lambda functions is very handy in many cases.\n",
    "\n",
    "\n",
    "### Syntax of a lambda\n",
    "```python\n",
    "lambda <param list>:<return expression>\n",
    "```\n"
   ]
  },
  {
   "cell_type": "code",
   "execution_count": null,
   "id": "78318b75",
   "metadata": {},
   "outputs": [],
   "source": []
  },
  {
   "cell_type": "markdown",
   "id": "5add6142",
   "metadata": {},
   "source": [
    "### lambda examples"
   ]
  },
  {
   "cell_type": "code",
   "execution_count": null,
   "id": "f929c4ac",
   "metadata": {},
   "outputs": [],
   "source": []
  },
  {
   "cell_type": "markdown",
   "id": "6f67a9bf",
   "metadata": {},
   "source": [
    "### `lambda`  as the option of some other built-in functions"
   ]
  },
  {
   "cell_type": "markdown",
   "id": "85df84e3",
   "metadata": {
    "lang": "en"
   },
   "source": [
    "It is also possible to use these anonymous functions as arguments in calls to other functions. For example, in a call to sorted() or list.sort() we can use a lambda function as an argument to the key parameter:"
   ]
  },
  {
   "cell_type": "code",
   "execution_count": null,
   "id": "31abf911",
   "metadata": {},
   "outputs": [],
   "source": []
  },
  {
   "cell_type": "markdown",
   "id": "51204969",
   "metadata": {},
   "source": [
    "## Functions: functions as return of another function"
   ]
  },
  {
   "cell_type": "code",
   "execution_count": null,
   "id": "35748490",
   "metadata": {},
   "outputs": [],
   "source": []
  },
  {
   "cell_type": "markdown",
   "id": "f90508d9",
   "metadata": {
    "lang": "en"
   },
   "source": [
    "## Recursion\n",
    "It is called recursive call (or recursion), to those functions that in their algorithm, refer to itself.\n",
    "\n",
    "Recursive calls are usually very useful in very specific cases, but due to their great feasibility of falling into infinite iterations, adequate preventive measures should be taken and only used when strictly necessary and there is no viable alternative way to solve the problem. avoiding recursion.\n",
    "\n",
    "Python supports recursive calls, allowing a function to call itself, just as it does when calling another function."
   ]
  },
  {
   "cell_type": "code",
   "execution_count": null,
   "id": "cb764c07",
   "metadata": {},
   "outputs": [],
   "source": []
  },
  {
   "cell_type": "markdown",
   "id": "419b6db5",
   "metadata": {},
   "source": [
    "`ins't it the same as a while loop?`"
   ]
  },
  {
   "cell_type": "code",
   "execution_count": null,
   "id": "841ed12d",
   "metadata": {},
   "outputs": [],
   "source": []
  },
  {
   "cell_type": "markdown",
   "id": "4cb268d0",
   "metadata": {
    "lang": "en"
   },
   "source": [
    "## Summary\n",
    "It's your turn. What have we learned today?"
   ]
  },
  {
   "cell_type": "code",
   "execution_count": null,
   "id": "5af47259",
   "metadata": {},
   "outputs": [],
   "source": []
  }
 ],
 "metadata": {
  "kernelspec": {
   "display_name": "ironhack",
   "language": "python",
   "name": "ironhack"
  },
  "language_info": {
   "codemirror_mode": {
    "name": "ipython",
    "version": 3
   },
   "file_extension": ".py",
   "mimetype": "text/x-python",
   "name": "python",
   "nbconvert_exporter": "python",
   "pygments_lexer": "ipython3",
   "version": "3.9.12"
  },
  "nbTranslate": {
   "displayLangs": [
    "en",
    "es"
   ],
   "hotkey": "alt-a",
   "langInMainMenu": true,
   "sourceLang": "es",
   "targetLang": "en",
   "useGoogleTranslate": true
  },
  "toc": {
   "base_numbering": 1,
   "nav_menu": {},
   "number_sections": true,
   "sideBar": true,
   "skip_h1_title": true,
   "title_cell": "Table of Contents",
   "title_sidebar": "Contents",
   "toc_cell": true,
   "toc_position": {
    "height": "calc(100% - 180px)",
    "left": "10px",
    "top": "150px",
    "width": "288px"
   },
   "toc_section_display": true,
   "toc_window_display": false
  }
 },
 "nbformat": 4,
 "nbformat_minor": 5
}
