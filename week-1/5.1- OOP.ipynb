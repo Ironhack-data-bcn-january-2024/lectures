{
 "cells": [
  {
   "cell_type": "markdown",
   "id": "55de0eea",
   "metadata": {},
   "source": [
    "- return\n",
    "    - indented return\n",
    "        - after it hits: functio's done\n",
    "        - if in a loop or in a condition: end things early?\n",
    "    - flags: workaround\n",
    "        - by changing the status of a variable to a boolean True/False\n",
    "            - you can evaluate that later\n",
    "            - so you postpone the return\n",
    " \n",
    "```python \n",
    "def function ():\n",
    "# correct (recomended), okay -> as long as not in a loop\n",
    "    if something:\n",
    "        return False # unless\n",
    "    elif something else:\n",
    "        return False # unless\n",
    "        \n",
    "    return True\n",
    "```\n",
    "    \n",
    "```python\n",
    "    # not as recommended -> risk stopping the first one\n",
    "def function ():\n",
    "    for i in whatever:\n",
    "        if i == something:\n",
    "            return False # unless\n",
    "    elif i == something:\n",
    "            return False # unless\n",
    "\n",
    "        return True\n",
    "```\n",
    "\n",
    "- you can change tha status of a variable\n",
    "    - variable = True\n",
    "    - if condition -> variable changes\n",
    "    - return variable # truthy / falsie"
   ]
  },
  {
   "cell_type": "markdown",
   "id": "40b8675f",
   "metadata": {},
   "source": [
    "# booleans\n",
    "    1. `type(True)`\n",
    "        - bool # data type\n",
    "        \n",
    "    2. `bool(any_variable)`\n",
    "        - True or False\n",
    "        - variables evaluate to truthy / falsie under an if condition\n",
    "            - we don't do bool(variable) -> if variable\n",
    "            - result is: True / False\n",
    "    \n",
    "    3. `True & False`\n",
    "        - 1 & 0: they can be read as ints\n",
    "       \n",
    "    4. Logic\n",
    "        - If a False -> always false\n",
    "     "
   ]
  },
  {
   "cell_type": "code",
   "execution_count": 4,
   "id": "3e0a8e1b",
   "metadata": {},
   "outputs": [
    {
     "data": {
      "text/plain": [
       "bool"
      ]
     },
     "execution_count": 4,
     "metadata": {},
     "output_type": "execute_result"
    }
   ],
   "source": [
    "# 1. booleans as data types\n",
    "type(True)"
   ]
  },
  {
   "cell_type": "code",
   "execution_count": 17,
   "id": "691ec0cf",
   "metadata": {},
   "outputs": [],
   "source": [
    "# 2. bool (variable): evaluated through the boolean function\n",
    "a_number = 10\n",
    "bool(a_number)\n",
    "\n",
    "\n",
    "# 2.1. if variable: evaluate implicitly (without bool function)\n",
    "if a_number:\n",
    "    print(\"Number is Truthy: not zero\")"
   ]
  },
  {
   "cell_type": "code",
   "execution_count": 21,
   "id": "2d0ff65c",
   "metadata": {},
   "outputs": [
    {
     "data": {
      "text/plain": [
       "2"
      ]
     },
     "execution_count": 21,
     "metadata": {},
     "output_type": "execute_result"
    }
   ],
   "source": [
    "# 3. True & False: as ints\n",
    "\n",
    "False * 10.9876\n",
    "True + True + False"
   ]
  },
  {
   "cell_type": "code",
   "execution_count": 28,
   "id": "71669e7c",
   "metadata": {},
   "outputs": [
    {
     "data": {
      "text/plain": [
       "False"
      ]
     },
     "execution_count": 28,
     "metadata": {},
     "output_type": "execute_result"
    }
   ],
   "source": [
    "# 4. Logic\n",
    "\n",
    "False and False # not like signs in multiplications, where signs invert when two negatives"
   ]
  },
  {
   "cell_type": "code",
   "execution_count": 29,
   "id": "a7554c6c",
   "metadata": {},
   "outputs": [
    {
     "data": {
      "text/plain": [
       "{'!', '#', '$', '%', '&', '(', ')', '*', '@', '[', ']', '^', '{', '}'}"
      ]
     },
     "execution_count": 29,
     "metadata": {},
     "output_type": "execute_result"
    }
   ],
   "source": [
    "signs_l = set(\"#@!$%&()^*[]{}\")\n",
    "signs_l"
   ]
  },
  {
   "cell_type": "code",
   "execution_count": 30,
   "id": "32dd823c",
   "metadata": {},
   "outputs": [
    {
     "data": {
      "text/plain": [
       "14"
      ]
     },
     "execution_count": 30,
     "metadata": {},
     "output_type": "execute_result"
    }
   ],
   "source": [
    "len(signs_l)"
   ]
  },
  {
   "cell_type": "code",
   "execution_count": 40,
   "id": "0d62fa9e",
   "metadata": {},
   "outputs": [
    {
     "data": {
      "text/plain": [
       "True"
      ]
     },
     "execution_count": 40,
     "metadata": {},
     "output_type": "execute_result"
    }
   ],
   "source": [
    "# Toni: password function (debuigging)\n",
    "\n",
    "def check_pass(string):\n",
    "    \n",
    "    signs_l = \"#@!$%&()^*[]{}\"\n",
    "    upper_l = \"ABCDEFGHIJKLMNOPQRSTUVWXYZ\"\n",
    "    lower_l = \"abcdefghijklmnopqrstuvwxyz\"\n",
    "    digits_l = \"0123456789\"\n",
    "    \n",
    "    length_check = False\n",
    "    signs_check = False\n",
    "    upper_check = False\n",
    "    lower_check = False\n",
    "    digits_check = False\n",
    "    \n",
    "    if len(string) >= 8:\n",
    "        length_check = True\n",
    "    \n",
    "    for letters in string:\n",
    "        if letters in signs_l: \n",
    "            signs_check = True\n",
    "\n",
    "            \n",
    "    for letters in string:\n",
    "        if letters in upper_l:\n",
    "            upper_check = True\n",
    "\n",
    "            \n",
    "    for letters in string:        \n",
    "        if letters in lower_l:\n",
    "            lower_check = True\n",
    "    \n",
    "    for letters in string:\n",
    "        if letters in digits_l:\n",
    "            digits_check = True\n",
    "\n",
    "\n",
    "    return length_check and signs_check and upper_check and lower_check and digits_check\n",
    "\n",
    "check_pass(\"12345678lowerUPPERCASE!#\")"
   ]
  },
  {
   "cell_type": "code",
   "execution_count": null,
   "id": "aaf40bb0",
   "metadata": {},
   "outputs": [],
   "source": [
    "health\n",
    "strength"
   ]
  },
  {
   "cell_type": "markdown",
   "id": "bfd2fc1f",
   "metadata": {
    "lang": "en"
   },
   "source": [
    "# Object-oriented programming"
   ]
  },
  {
   "cell_type": "markdown",
   "id": "linear-pierre",
   "metadata": {
    "toc": true
   },
   "source": [
    "<h1>Table of Contents<span class=\"tocSkip\"></span></h1>\n",
    "<div class=\"toc\"><ul class=\"toc-item\"><li><span><a href=\"#What-is-OOP---Object-Oriented-Programming?\" data-toc-modified-id=\"What-is-OOP---Object-Oriented-Programming?-1\"><span class=\"toc-item-num\">1&nbsp;&nbsp;</span>What is OOP - Object Oriented Programming?</a></span><ul class=\"toc-item\"><li><span><a href=\"#Fundamental-Principles\" data-toc-modified-id=\"Fundamental-Principles-1.1\"><span class=\"toc-item-num\">1.1&nbsp;&nbsp;</span>Fundamental Principles</a></span></li></ul></li><li><span><a href=\"#Classes-and-instances\" data-toc-modified-id=\"Classes-and-instances-2\"><span class=\"toc-item-num\">2&nbsp;&nbsp;</span>Classes and instances</a></span></li><li><span><a href=\"#Definition-of-a-class\" data-toc-modified-id=\"Definition-of-a-class-3\"><span class=\"toc-item-num\">3&nbsp;&nbsp;</span>Definition of a class</a></span><ul class=\"toc-item\"><li><span><a href=\"#Self:\" data-toc-modified-id=\"Self:-3.1\"><span class=\"toc-item-num\">3.1&nbsp;&nbsp;</span>Self:</a></span><ul class=\"toc-item\"><li><span><a href=\"#Defining-a-function\" data-toc-modified-id=\"Defining-a-function-3.1.1\"><span class=\"toc-item-num\">3.1.1&nbsp;&nbsp;</span>Defining a function</a></span></li><li><span><a href=\"#Calling-a-function\" data-toc-modified-id=\"Calling-a-function-3.1.2\"><span class=\"toc-item-num\">3.1.2&nbsp;&nbsp;</span>Calling a function</a></span></li><li><span><a href=\"#Defining-a-class\" data-toc-modified-id=\"Defining-a-class-3.1.3\"><span class=\"toc-item-num\">3.1.3&nbsp;&nbsp;</span>Defining a class</a></span></li><li><span><a href=\"#Instansiating-a-class\" data-toc-modified-id=\"Instansiating-a-class-3.1.4\"><span class=\"toc-item-num\">3.1.4&nbsp;&nbsp;</span>Instansiating a class</a></span></li></ul></li><li><span><a href=\"#Exploring-a-class\" data-toc-modified-id=\"Exploring-a-class-3.2\"><span class=\"toc-item-num\">3.2&nbsp;&nbsp;</span>Exploring a class</a></span></li><li><span><a href=\"#Instance-Attributes\" data-toc-modified-id=\"Instance-Attributes-3.3\"><span class=\"toc-item-num\">3.3&nbsp;&nbsp;</span>Instance Attributes</a></span><ul class=\"toc-item\"><li><span><a href=\"#Default-attributes\" data-toc-modified-id=\"Default-attributes-3.3.1\"><span class=\"toc-item-num\">3.3.1&nbsp;&nbsp;</span>Default attributes</a></span></li></ul></li><li><span><a href=\"#Instance-Methods\" data-toc-modified-id=\"Instance-Methods-3.4\"><span class=\"toc-item-num\">3.4&nbsp;&nbsp;</span>Instance Methods</a></span><ul class=\"toc-item\"><li><span><a href=\"#Python-is-built-with-objects\" data-toc-modified-id=\"Python-is-built-with-objects-3.4.1\"><span class=\"toc-item-num\">3.4.1&nbsp;&nbsp;</span>Python is built with objects</a></span></li></ul></li><li><span><a href=\"#Class-variables\" data-toc-modified-id=\"Class-variables-3.5\"><span class=\"toc-item-num\">3.5&nbsp;&nbsp;</span>Class variables</a></span></li></ul></li><li><span><a href=\"#Before-continuing,-let's-take-a-breath-and-review-vocabulary\" data-toc-modified-id=\"Before-continuing,-let's-take-a-breath-and-review-vocabulary-4\"><span class=\"toc-item-num\">4&nbsp;&nbsp;</span>Before continuing, let's take a breath and review vocabulary</a></span><ul class=\"toc-item\"><li><ul class=\"toc-item\"><li><span><a href=\"#Easy-exercise\" data-toc-modified-id=\"Easy-exercise-4.0.1\"><span class=\"toc-item-num\">4.0.1&nbsp;&nbsp;</span>Easy exercise</a></span></li></ul></li></ul></li><li><span><a href=\"#Inheritance\" data-toc-modified-id=\"Inheritance-5\"><span class=\"toc-item-num\">5&nbsp;&nbsp;</span>Inheritance</a></span><ul class=\"toc-item\"><li><span><a href=\"#super()\" data-toc-modified-id=\"super()-5.1\"><span class=\"toc-item-num\">5.1&nbsp;&nbsp;</span>super()</a></span></li></ul></li><li><span><a href=\"#Summary\" data-toc-modified-id=\"Summary-6\"><span class=\"toc-item-num\">6&nbsp;&nbsp;</span>Summary</a></span></li><li><span><a href=\"#Furthermaterials\" data-toc-modified-id=\"Furthermaterials-7\"><span class=\"toc-item-num\">7&nbsp;&nbsp;</span>Furthermaterials</a></span><ul class=\"toc-item\"><li><span><a href=\"#Methods-ADVANCED-@classmethod@staticmethod\" data-toc-modified-id=\"Methods-ADVANCED-@classmethod@staticmethod-7.1\"><span class=\"toc-item-num\">7.1&nbsp;&nbsp;</span>Methods <strong>ADVANCED</strong> @classmethod@staticmethod</a></span></li></ul></li></ul></div>"
   ]
  },
  {
   "cell_type": "markdown",
   "id": "44bbe54e",
   "metadata": {
    "lang": "en"
   },
   "source": [
    "## What is OOP - Object Oriented Programming?"
   ]
  },
  {
   "cell_type": "markdown",
   "id": "da79b55b",
   "metadata": {
    "lang": "en"
   },
   "source": [
    "Object-oriented programming is a programming paradigm, that is, a programming style and technique, which goes beyond the implementation itself. This paradigm is based on the \"object\" concept, which can contain both data, in the form of fields called \"attributes\", and code for its manipulation in the form of procedures and functions, called \"methods\". Thanks to this, we can group everything under a single data type (the object \"class\"), which facilitates the modularity and reusability of the code.\n",
    "This has a strong implication in the design of IT solutions; Software engineering methodologies are based on object-oriented programming."
   ]
  },
  {
   "cell_type": "markdown",
   "id": "19380f68",
   "metadata": {
    "lang": "en"
   },
   "source": [
    "You can imagine objects as a new data type whose definition is given in a structure called class.\n",
    "Classes are often compared to cookie cutters and objects to the cookies themselves. While all cookies made from the same pan have the same shape, each one takes on individual attributes after baking. Things like color, texture, flavor... can be very different.\n",
    "In other words, the cookies share a manufacturing process and some attributes, but they are independent of each other and of the mold itself, and that makes each one unique.\n",
    "Extrapolating from the example, a class is just a script about how the objects that will be created with it should be."
   ]
  },
  {
   "cell_type": "markdown",
   "id": "fallen-brazil",
   "metadata": {},
   "source": [
    "![clases](https://files.realpython.com/media/Object-Oriented-Programming-OOP-in-Python-3_Watermarked.0d29780806d5.jpg)"
   ]
  },
  {
   "cell_type": "markdown",
   "id": "92d02d2c",
   "metadata": {
    "lang": "en"
   },
   "source": [
    "### Fundamental Principles"
   ]
  },
  {
   "cell_type": "markdown",
   "id": "0473322c",
   "metadata": {
    "lang": "en"
   },
   "source": [
    "1 - **Data abstraction**: Something we do naturally in our understanding of the world is the abstraction of concrete information in concepts or classes. For example, the concept of \"car\" evokes in us an idea of ​​a vehicle with four wheels, a steering wheel, an engine... Our car is a specific \"instance\" of that concept, and different from other cars, but we are capable of associating certain properties or characteristics to said concept above specific details. This ability to abstract a concept is essential for the development of human language and, of course, such a good idea has been transferred to the world of programming. In OOP, we call the abstract concept \"class\" and the realization of that concept \"object\". Your car is concrete, you can drive it, it is an object, an \"instance\" of the class \"car\".\n",
    "   \n",
    "   2 - **Encapsulation**: Each type of object contains its own information and can be manipulated in a particular way. A car can be driven and has a certain pressure in the wheels, a color, a certain level of gasoline, etc. With a GPS we can obtain our position coordinates and the batteries will have a certain charge. A dog barks, has a weight, an age. All those attributes and \"methods\" are \"encapsulated\" within the object, and are accessible only through a given object. The advantage is that we don't need to have, for example, a list with names, another with ages, another with weights... but rather a list of objects and each one contains, that is, encapsulates, its own information.\n",
    "   \n",
    "   3 - **Inheritance**: Some classes can specialize others. For this, the specialized class \"inherits\" the properties of the more general class, called the \"superclass\". For example, the \"Car\" and \"Truck\" classes can inherit from the \"Vehicle\" class. This is a way of reusing code, by being able to assume those common properties between several classes in a superior class. Python supports \"multiple inheritance\", so a class can be defined as a subclass of several classes from which it would inherit all its properties (attributes and methods) at once.\n",
    "   \n",
    "   4 - **Polymorphism**: A square can be drawn, a circle as well, just as any other shape can be drawn. \"Square\" and \"Circle\" would be subclasses of \"Shape\". The \"Shape\" superclass implements a draw() method, and both the \"Square\" subclass and the \"Circle\" subclass override this method to their particular case. So a function could accept an object of type \"Shape\" as a parameter and call the draw() method without knowing if the passed argument is a circle or a square. Each object knows its level of specialization and the concrete implementation of its methods. This ability to use superclass methods in code but resolve to subclass methods at run time is called \"Polymorphism\": the same variable can take different forms."
   ]
  },
  {
   "cell_type": "markdown",
   "id": "f325c4f9",
   "metadata": {
    "lang": "en"
   },
   "source": [
    "## Classes and instances"
   ]
  },
  {
   "cell_type": "markdown",
   "id": "f1423c0e",
   "metadata": {
    "lang": "en"
   },
   "source": [
    "A class is like an abstract type for objects that, in addition to storing values ​​called attributes, has associated a series of functions that we call methods. An instance of a class is the same as saying an object of that class. Instantiating a class refers to creating an object that belongs to that class.\n",
    "In Python, data types are classes, and any literal or variable of one of these types is an object that instantiates the type's class. For example: a = 2222 is equivalent to instantiating the PyLongObject class by assigning an internal attribute the value 2222. This is what happens at a low level, but we can consider that the variable a is of type int. We can know the type of any variable, that is, the class it instantiates, with the type() function, and the identifier of the instantiated object with the id() function."
   ]
  },
  {
   "cell_type": "code",
   "execution_count": null,
   "id": "3ffbc8fa",
   "metadata": {},
   "outputs": [],
   "source": [
    "# 3 paradigms\n",
    "    # imperative: ✅\n",
    "    # functional: ✅\n",
    "    # oop: "
   ]
  },
  {
   "cell_type": "code",
   "execution_count": null,
   "id": "4dcf6330",
   "metadata": {},
   "outputs": [],
   "source": [
    "# object oriented programming\n",
    "    # class Car():\n",
    "    # class Staff ():\n",
    "    # anything in python is an object"
   ]
  },
  {
   "cell_type": "code",
   "execution_count": 42,
   "id": "481b27ea",
   "metadata": {},
   "outputs": [
    {
     "data": {
      "text/plain": [
       "'sdsdsd'"
      ]
     },
     "execution_count": 42,
     "metadata": {},
     "output_type": "execute_result"
    }
   ],
   "source": [
    "a = \"sdsdsd\"\n",
    "a"
   ]
  },
  {
   "cell_type": "code",
   "execution_count": 43,
   "id": "32695039",
   "metadata": {},
   "outputs": [
    {
     "data": {
      "text/plain": [
       "str"
      ]
     },
     "execution_count": 43,
     "metadata": {},
     "output_type": "execute_result"
    }
   ],
   "source": [
    "type(a)"
   ]
  },
  {
   "cell_type": "code",
   "execution_count": 44,
   "id": "37e54b63",
   "metadata": {},
   "outputs": [
    {
     "data": {
      "text/plain": [
       "6"
      ]
     },
     "execution_count": 44,
     "metadata": {},
     "output_type": "execute_result"
    }
   ],
   "source": [
    "len(a)"
   ]
  },
  {
   "cell_type": "code",
   "execution_count": 45,
   "id": "448f7a41",
   "metadata": {},
   "outputs": [
    {
     "data": {
      "text/plain": [
       "'Sdsdsd'"
      ]
     },
     "execution_count": 45,
     "metadata": {},
     "output_type": "execute_result"
    }
   ],
   "source": [
    "a.capitalize()"
   ]
  },
  {
   "cell_type": "code",
   "execution_count": 46,
   "id": "c42342dc",
   "metadata": {},
   "outputs": [
    {
     "data": {
      "text/plain": [
       "'Efszojdhjkvtg'"
      ]
     },
     "execution_count": 46,
     "metadata": {},
     "output_type": "execute_result"
    }
   ],
   "source": [
    "b = \"efszojdhjkvtg\"\n",
    "b.capitalize()"
   ]
  },
  {
   "cell_type": "code",
   "execution_count": null,
   "id": "c3b33a4f",
   "metadata": {},
   "outputs": [],
   "source": [
    "# creating instances (objects) of the class string\n",
    "    # because objects share properties and methods\n",
    "    # we can pass capitalize to anything that is a string"
   ]
  },
  {
   "cell_type": "code",
   "execution_count": 50,
   "id": "48f3edeb",
   "metadata": {},
   "outputs": [
    {
     "data": {
      "text/plain": [
       "'\\nclass  Car ():\\n    pass\\n\\nfiat_punto = Car()\\nferrari_white = Car()\\n\\nfiat_punto.move_forward ()\\nferrari_white.move_forward ()\\n\\n                .capitalize()\\n                \\n'"
      ]
     },
     "execution_count": 50,
     "metadata": {},
     "output_type": "execute_result"
    }
   ],
   "source": [
    "\"\"\"\n",
    "class  Car ():\n",
    "    pass\n",
    "\n",
    "fiat_punto = Car()\n",
    "ferrari_white = Car()\n",
    "\n",
    "fiat_punto.move_forward ()\n",
    "ferrari_white.move_forward ()\n",
    "\n",
    "                .capitalize()\n",
    "                \n",
    "\"\"\""
   ]
  },
  {
   "cell_type": "markdown",
   "id": "e4bd50ab",
   "metadata": {
    "lang": "en"
   },
   "source": [
    "To know all the methods and attributes of a class we can use the dir() function both on an object and on the class."
   ]
  },
  {
   "cell_type": "code",
   "execution_count": 52,
   "id": "16d463df",
   "metadata": {},
   "outputs": [
    {
     "data": {
      "text/plain": [
       "['capitalize',\n",
       " 'casefold',\n",
       " 'center',\n",
       " 'count',\n",
       " 'encode',\n",
       " 'endswith',\n",
       " 'expandtabs',\n",
       " 'find',\n",
       " 'format',\n",
       " 'index',\n",
       " 'isalnum',\n",
       " 'isalpha',\n",
       " 'isascii',\n",
       " 'isdecimal',\n",
       " 'isdigit',\n",
       " 'isidentifier',\n",
       " 'islower',\n",
       " 'isnumeric',\n",
       " 'isprintable',\n",
       " 'isspace',\n",
       " 'istitle',\n",
       " 'isupper',\n",
       " 'join',\n",
       " 'ljust',\n",
       " 'lower',\n",
       " 'lstrip',\n",
       " 'maketrans',\n",
       " 'partition',\n",
       " 'removeprefix',\n",
       " 'removesuffix',\n",
       " 'replace',\n",
       " 'rfind',\n",
       " 'rindex',\n",
       " 'rjust',\n",
       " 'rpartition',\n",
       " 'rsplit',\n",
       " 'rstrip',\n",
       " 'split',\n",
       " 'splitlines',\n",
       " 'startswith',\n",
       " 'strip',\n",
       " 'swapcase',\n",
       " 'title',\n",
       " 'translate',\n",
       " 'upper',\n",
       " 'zfill']"
      ]
     },
     "execution_count": 52,
     "metadata": {},
     "output_type": "execute_result"
    }
   ],
   "source": [
    "[i for i in dir(str) if \"_\" not in i]"
   ]
  },
  {
   "cell_type": "code",
   "execution_count": null,
   "id": "a5651b17",
   "metadata": {},
   "outputs": [],
   "source": []
  },
  {
   "cell_type": "markdown",
   "id": "032f8630",
   "metadata": {},
   "source": [
    "You don't need to master this, just know what the `.__something__` means. It's a dunder/magic methods. Meant for Python internally"
   ]
  },
  {
   "cell_type": "code",
   "execution_count": 55,
   "id": "c06f0c60",
   "metadata": {},
   "outputs": [
    {
     "data": {
      "text/plain": [
       "['__add__',\n",
       " '__class__',\n",
       " '__contains__',\n",
       " '__delattr__',\n",
       " '__dir__',\n",
       " '__doc__',\n",
       " '__eq__',\n",
       " '__format__',\n",
       " '__ge__',\n",
       " '__getattribute__',\n",
       " '__getitem__',\n",
       " '__getnewargs__',\n",
       " '__gt__',\n",
       " '__hash__',\n",
       " '__init__',\n",
       " '__init_subclass__',\n",
       " '__iter__',\n",
       " '__le__',\n",
       " '__len__',\n",
       " '__lt__',\n",
       " '__mod__',\n",
       " '__mul__',\n",
       " '__ne__',\n",
       " '__new__',\n",
       " '__reduce__',\n",
       " '__reduce_ex__',\n",
       " '__repr__',\n",
       " '__rmod__',\n",
       " '__rmul__',\n",
       " '__setattr__',\n",
       " '__sizeof__',\n",
       " '__str__',\n",
       " '__subclasshook__',\n",
       " 'capitalize',\n",
       " 'casefold',\n",
       " 'center',\n",
       " 'count',\n",
       " 'encode',\n",
       " 'endswith',\n",
       " 'expandtabs',\n",
       " 'find',\n",
       " 'format',\n",
       " 'format_map',\n",
       " 'index',\n",
       " 'isalnum',\n",
       " 'isalpha',\n",
       " 'isascii',\n",
       " 'isdecimal',\n",
       " 'isdigit',\n",
       " 'isidentifier',\n",
       " 'islower',\n",
       " 'isnumeric',\n",
       " 'isprintable',\n",
       " 'isspace',\n",
       " 'istitle',\n",
       " 'isupper',\n",
       " 'join',\n",
       " 'ljust',\n",
       " 'lower',\n",
       " 'lstrip',\n",
       " 'maketrans',\n",
       " 'partition',\n",
       " 'removeprefix',\n",
       " 'removesuffix',\n",
       " 'replace',\n",
       " 'rfind',\n",
       " 'rindex',\n",
       " 'rjust',\n",
       " 'rpartition',\n",
       " 'rsplit',\n",
       " 'rstrip',\n",
       " 'split',\n",
       " 'splitlines',\n",
       " 'startswith',\n",
       " 'strip',\n",
       " 'swapcase',\n",
       " 'title',\n",
       " 'translate',\n",
       " 'upper',\n",
       " 'zfill']"
      ]
     },
     "execution_count": 55,
     "metadata": {},
     "output_type": "execute_result"
    }
   ],
   "source": [
    "[i for i in dir (\"Hello\")]"
   ]
  },
  {
   "cell_type": "code",
   "execution_count": 57,
   "id": "a973c674",
   "metadata": {},
   "outputs": [],
   "source": [
    "# double under (dunder) mthods\n",
    "# are for python to manage things internally"
   ]
  },
  {
   "cell_type": "code",
   "execution_count": 58,
   "id": "a50cef98",
   "metadata": {},
   "outputs": [],
   "source": [
    "a = 10\n",
    "b = 20"
   ]
  },
  {
   "cell_type": "code",
   "execution_count": 60,
   "id": "02e24414",
   "metadata": {},
   "outputs": [],
   "source": [
    "# two instances of the class int\n",
    "    # methods & properties\n",
    "    # expect: behave the same"
   ]
  },
  {
   "cell_type": "code",
   "execution_count": 61,
   "id": "53f2ef50",
   "metadata": {},
   "outputs": [
    {
     "data": {
      "text/plain": [
       "30"
      ]
     },
     "execution_count": 61,
     "metadata": {},
     "output_type": "execute_result"
    }
   ],
   "source": [
    "a + b # when we do this, what happens is"
   ]
  },
  {
   "cell_type": "code",
   "execution_count": 65,
   "id": "2a22f7bb",
   "metadata": {},
   "outputs": [
    {
     "data": {
      "text/plain": [
       "30"
      ]
     },
     "execution_count": 65,
     "metadata": {},
     "output_type": "execute_result"
    }
   ],
   "source": [
    "a.__add__(b)"
   ]
  },
  {
   "cell_type": "code",
   "execution_count": 66,
   "id": "f8be60cd",
   "metadata": {},
   "outputs": [],
   "source": [
    "# function.__doc__"
   ]
  },
  {
   "cell_type": "code",
   "execution_count": 62,
   "id": "46759ec1",
   "metadata": {},
   "outputs": [
    {
     "data": {
      "text/plain": [
       "['__abs__',\n",
       " '__add__',\n",
       " '__and__',\n",
       " '__bool__',\n",
       " '__ceil__',\n",
       " '__class__',\n",
       " '__delattr__',\n",
       " '__dir__',\n",
       " '__divmod__',\n",
       " '__doc__',\n",
       " '__eq__',\n",
       " '__float__',\n",
       " '__floor__',\n",
       " '__floordiv__',\n",
       " '__format__',\n",
       " '__ge__',\n",
       " '__getattribute__',\n",
       " '__getnewargs__',\n",
       " '__gt__',\n",
       " '__hash__',\n",
       " '__index__',\n",
       " '__init__',\n",
       " '__init_subclass__',\n",
       " '__int__',\n",
       " '__invert__',\n",
       " '__le__',\n",
       " '__lshift__',\n",
       " '__lt__',\n",
       " '__mod__',\n",
       " '__mul__',\n",
       " '__ne__',\n",
       " '__neg__',\n",
       " '__new__',\n",
       " '__or__',\n",
       " '__pos__',\n",
       " '__pow__',\n",
       " '__radd__',\n",
       " '__rand__',\n",
       " '__rdivmod__',\n",
       " '__reduce__',\n",
       " '__reduce_ex__',\n",
       " '__repr__',\n",
       " '__rfloordiv__',\n",
       " '__rlshift__',\n",
       " '__rmod__',\n",
       " '__rmul__',\n",
       " '__ror__',\n",
       " '__round__',\n",
       " '__rpow__',\n",
       " '__rrshift__',\n",
       " '__rshift__',\n",
       " '__rsub__',\n",
       " '__rtruediv__',\n",
       " '__rxor__',\n",
       " '__setattr__',\n",
       " '__sizeof__',\n",
       " '__str__',\n",
       " '__sub__',\n",
       " '__subclasshook__',\n",
       " '__truediv__',\n",
       " '__trunc__',\n",
       " '__xor__',\n",
       " 'as_integer_ratio',\n",
       " 'bit_length',\n",
       " 'conjugate',\n",
       " 'denominator',\n",
       " 'from_bytes',\n",
       " 'imag',\n",
       " 'numerator',\n",
       " 'real',\n",
       " 'to_bytes']"
      ]
     },
     "execution_count": 62,
     "metadata": {},
     "output_type": "execute_result"
    }
   ],
   "source": [
    "[i for i in dir(a)] # '__add__'"
   ]
  },
  {
   "cell_type": "markdown",
   "id": "ffc3bd0b",
   "metadata": {
    "lang": "en"
   },
   "source": [
    "## Definition of a class"
   ]
  },
  {
   "cell_type": "markdown",
   "id": "8917064a",
   "metadata": {
    "lang": "en"
   },
   "source": [
    "We can define our own classes and indicate whether they inherit from others, what their internal attributes are, and what their methods are. Once the class is defined, it is possible to create objects from it. To create a class, simply group attributes and methods in the body of a **class** block.\n",
    "Imagine that you create software to manage a school, and you want to represent \"teachers\" in your Python code. Teachers will have some associated data (`attributes` in `class` jargon), and they will be able to *perform actions* through functions that we will call `methods` (again, `class` jargon).\n",
    "\n",
    "We could do it one by one:"
   ]
  },
  {
   "cell_type": "code",
   "execution_count": 67,
   "id": "ab05f966",
   "metadata": {},
   "outputs": [],
   "source": [
    "class Car ():\n",
    "    pass\n",
    "\n",
    "# 4 wheels\n",
    "# spinning wheel\n",
    "# seats: 2-5\n",
    "# 3 - 5\n",
    "\n",
    "# cookie-cutter\n",
    "\n",
    "my_car = Car()\n",
    "someones_Car = Car ()"
   ]
  },
  {
   "cell_type": "code",
   "execution_count": 68,
   "id": "e5aaca39",
   "metadata": {},
   "outputs": [],
   "source": [
    "class Staff ():\n",
    "    pass\n",
    "\n",
    "albert = Staff() # name, email, holidays, role\n",
    "marina = Staff () # name, email, holidays, role"
   ]
  },
  {
   "cell_type": "code",
   "execution_count": null,
   "id": "65554af3",
   "metadata": {},
   "outputs": [],
   "source": [
    "\"\"\"\n",
    "class Staff (name):\n",
    "    \n",
    "    name = name\n",
    "    pass\n",
    "\n",
    "\"\"\"\n",
    "\n",
    "albert = Staff(\"Albert Coca\")"
   ]
  },
  {
   "cell_type": "markdown",
   "id": "dffb2147",
   "metadata": {},
   "source": [
    "### Self: "
   ]
  },
  {
   "cell_type": "markdown",
   "id": "0acb0ad3",
   "metadata": {
    "lang": "en"
   },
   "source": [
    "I leave you [here](https://realpython.com/python-pep8/#naming-styles) a realpython article about the conventions for naming things (by things I mean variables, classes, functions... code tidbits )\n",
    "The Python user community has adopted a style guide that makes code easier to read and consistent between different user programs. This guide is not mandatory to follow, but it is highly recommended."
   ]
  },
  {
   "cell_type": "code",
   "execution_count": 69,
   "id": "a7042516",
   "metadata": {},
   "outputs": [],
   "source": [
    "def string_modification (str_):\n",
    "    return str_.upper().replace(\" \", \"_\")"
   ]
  },
  {
   "cell_type": "code",
   "execution_count": 70,
   "id": "1c9179e9",
   "metadata": {},
   "outputs": [
    {
     "data": {
      "text/plain": [
       "'HOLA_CÓMO_ESTÁS'"
      ]
     },
     "execution_count": 70,
     "metadata": {},
     "output_type": "execute_result"
    }
   ],
   "source": [
    "string_modification (\"hola cómo estás\")  # passing the function TO it"
   ]
  },
  {
   "cell_type": "code",
   "execution_count": null,
   "id": "8c94e98b",
   "metadata": {},
   "outputs": [],
   "source": []
  },
  {
   "cell_type": "code",
   "execution_count": 72,
   "id": "f993ab7f",
   "metadata": {},
   "outputs": [
    {
     "data": {
      "text/plain": [
       "'HOLA_CÓMO_ESTÁS'"
      ]
     },
     "execution_count": 72,
     "metadata": {},
     "output_type": "execute_result"
    }
   ],
   "source": [
    "\"hola cómo estás\".upper().replace(\" \", \"_\") # passing the function ON it"
   ]
  },
  {
   "cell_type": "code",
   "execution_count": 73,
   "id": "b00f1b03",
   "metadata": {},
   "outputs": [
    {
     "data": {
      "text/plain": [
       "'randoM string'"
      ]
     },
     "execution_count": 73,
     "metadata": {},
     "output_type": "execute_result"
    }
   ],
   "source": [
    "\"random string\".replace(\"m\", \"M\") # passing function to itlself"
   ]
  },
  {
   "cell_type": "code",
   "execution_count": null,
   "id": "55e10750",
   "metadata": {},
   "outputs": [],
   "source": [
    "# ON it"
   ]
  },
  {
   "cell_type": "code",
   "execution_count": 74,
   "id": "9fdc17cd",
   "metadata": {},
   "outputs": [
    {
     "data": {
      "text/plain": [
       "31"
      ]
     },
     "execution_count": 74,
     "metadata": {},
     "output_type": "execute_result"
    }
   ],
   "source": [
    "def move_forward (position):\n",
    "    return position + 1\n",
    "\n",
    "move_forward (30) # user-defind: pass arg to funct"
   ]
  },
  {
   "cell_type": "code",
   "execution_count": null,
   "id": "6ae476c2",
   "metadata": {},
   "outputs": [],
   "source": [
    "my_car.move_forward() # passing a function ON my_car\n",
    "\n",
    "# pass function ON itself\n",
    "    # itself -> instance of the class\n",
    "    # you pass on (it) self"
   ]
  },
  {
   "cell_type": "code",
   "execution_count": null,
   "id": "21af9fa9",
   "metadata": {},
   "outputs": [],
   "source": [
    "self.move_forward() # passing a function ON my_car\n",
    "\n",
    "# pass function ON itself\n",
    "    # itself -> instance of the class\n",
    "    # you pass on (it) self"
   ]
  },
  {
   "cell_type": "markdown",
   "id": "23576dae",
   "metadata": {},
   "source": [
    "#### Defining a function"
   ]
  },
  {
   "cell_type": "code",
   "execution_count": null,
   "id": "4c6f68dc",
   "metadata": {},
   "outputs": [],
   "source": []
  },
  {
   "cell_type": "markdown",
   "id": "0789adf6",
   "metadata": {},
   "source": [
    "#### Calling a function"
   ]
  },
  {
   "cell_type": "code",
   "execution_count": null,
   "id": "77edbd75",
   "metadata": {},
   "outputs": [],
   "source": []
  },
  {
   "cell_type": "markdown",
   "id": "9e4ef398",
   "metadata": {},
   "source": [
    "#### Defining a class"
   ]
  },
  {
   "cell_type": "code",
   "execution_count": null,
   "id": "103bfef4",
   "metadata": {},
   "outputs": [],
   "source": []
  },
  {
   "cell_type": "markdown",
   "id": "dda40dab",
   "metadata": {},
   "source": [
    "#### Instansiating a class"
   ]
  },
  {
   "cell_type": "code",
   "execution_count": null,
   "id": "f9c96c01",
   "metadata": {},
   "outputs": [],
   "source": [
    "class Car ():\n",
    "    \n",
    "    # 1. Attributes / variables / content\n",
    "    def \n",
    "    \n",
    "    # 2. Methods: DOES things\n",
    "        # 2.2. Moving forwards (def)\n",
    "\n",
    "my_car = Car (\"red\")\n",
    "my_car.color # red\n",
    "my_car.year # year"
   ]
  },
  {
   "cell_type": "code",
   "execution_count": null,
   "id": "48257b60",
   "metadata": {},
   "outputs": [],
   "source": [
    "# attributes & methods\n",
    "# saving information, store info"
   ]
  },
  {
   "cell_type": "code",
   "execution_count": 81,
   "id": "68f47316",
   "metadata": {},
   "outputs": [],
   "source": [
    "class Car ():\n",
    "    \n",
    "    def __init__ (self, color): # color here is an param\n",
    "        self.color = color\n",
    "    \n",
    "\n",
    "my_car = Car (\"red\") # color here is the arg"
   ]
  },
  {
   "cell_type": "code",
   "execution_count": null,
   "id": "926b485f",
   "metadata": {},
   "outputs": [],
   "source": [
    "# Init makes sure you can transfer\n",
    "# properties from class to instance\n",
    "# it recieves args\n",
    "# so that instances can use them"
   ]
  },
  {
   "cell_type": "code",
   "execution_count": 82,
   "id": "43c1109e",
   "metadata": {},
   "outputs": [
    {
     "data": {
      "text/plain": [
       "'red'"
      ]
     },
     "execution_count": 82,
     "metadata": {},
     "output_type": "execute_result"
    }
   ],
   "source": [
    "my_car.color"
   ]
  },
  {
   "cell_type": "code",
   "execution_count": null,
   "id": "12d1f8a5",
   "metadata": {},
   "outputs": [],
   "source": [
    "class Car ():\n",
    "    \n",
    "    def __init__ (self, color):\n",
    "        self.color = color\n",
    "    \n",
    "\n",
    "my_car = Car (\"red\") \n",
    "\n",
    "\n",
    "\n",
    "\"\"\"\n",
    "class DataFrame ():\n",
    "    \n",
    "    def __init__ (self, shape)\n",
    "        self.shape = shape\n",
    "        \n",
    "    pass\n",
    "\n",
    "\n",
    "df = pd.DataFrame ({\"col1\": \"row1\"})\n",
    "df.shape\n",
    "\"\"\""
   ]
  },
  {
   "cell_type": "code",
   "execution_count": 85,
   "id": "e96b1e10",
   "metadata": {},
   "outputs": [
    {
     "data": {
      "text/plain": [
       "'red'"
      ]
     },
     "execution_count": 85,
     "metadata": {},
     "output_type": "execute_result"
    }
   ],
   "source": [
    "class Car ():\n",
    "    \n",
    "    def __init__ (self, color):\n",
    "        self.color = color\n",
    "    \n",
    "\n",
    "my_car = Car (\"red\") \n",
    "my_car.color"
   ]
  },
  {
   "cell_type": "code",
   "execution_count": 88,
   "id": "216976c2",
   "metadata": {},
   "outputs": [
    {
     "data": {
      "text/plain": [
       "'SDSDSDSD'"
      ]
     },
     "execution_count": 88,
     "metadata": {},
     "output_type": "execute_result"
    }
   ],
   "source": [
    "\"sdsdsdsd\".upper()"
   ]
  },
  {
   "cell_type": "code",
   "execution_count": 89,
   "id": "bc7325d7",
   "metadata": {},
   "outputs": [],
   "source": [
    "[].append(\"another word\")\n",
    "# attributes (var) / methods"
   ]
  },
  {
   "cell_type": "code",
   "execution_count": 95,
   "id": "fad338c8",
   "metadata": {},
   "outputs": [],
   "source": [
    "class Car ():\n",
    "    \n",
    "    def __init__ (self, color, make, wheels):\n",
    "        self.color = color\n",
    "        self.make = make\n",
    "        self.wheels = wheels\n"
   ]
  },
  {
   "cell_type": "code",
   "execution_count": 96,
   "id": "9521f268",
   "metadata": {},
   "outputs": [],
   "source": [
    "my_car = Car (\"red\", \"fiat\", 4)\n",
    "someones_car = Car (\"white\", \"ferrari\", 4)"
   ]
  },
  {
   "cell_type": "code",
   "execution_count": 97,
   "id": "da971c68",
   "metadata": {},
   "outputs": [
    {
     "data": {
      "text/plain": [
       "'white'"
      ]
     },
     "execution_count": 97,
     "metadata": {},
     "output_type": "execute_result"
    }
   ],
   "source": [
    "someones_car.color"
   ]
  },
  {
   "cell_type": "code",
   "execution_count": 99,
   "id": "42a9b476",
   "metadata": {},
   "outputs": [
    {
     "data": {
      "text/plain": [
       "'Albert'"
      ]
     },
     "execution_count": 99,
     "metadata": {},
     "output_type": "execute_result"
    }
   ],
   "source": [
    "class Staff ():\n",
    "    \n",
    "    def __init__ (self, name, fname, city):\n",
    "        self.name = name\n",
    "        self.fname = fname\n",
    "        self.city = city\n",
    "        \n",
    "\n",
    "albert = Staff(\"Albert\", \"Coca\", \"Mataró\")\n",
    "albert.name"
   ]
  },
  {
   "cell_type": "code",
   "execution_count": 102,
   "id": "ec5f8717",
   "metadata": {},
   "outputs": [
    {
     "data": {
      "text/plain": [
       "'albert.coca@company.com'"
      ]
     },
     "execution_count": 102,
     "metadata": {},
     "output_type": "execute_result"
    }
   ],
   "source": [
    "class Staff ():\n",
    "    \n",
    "    def __init__ (self, name, fname, city):\n",
    "        self.name = name\n",
    "        self.fname = fname\n",
    "        self.city = city\n",
    "        \n",
    "        self.email = f\"{name}.{fname}@company.com\".lower()\n",
    "        \n",
    "\n",
    "albert = Staff(\"Albert\", \"Coca\", \"Mataró\")\n",
    "albert.email"
   ]
  },
  {
   "cell_type": "code",
   "execution_count": 104,
   "id": "6b051064",
   "metadata": {},
   "outputs": [
    {
     "data": {
      "text/plain": [
       "'marina.cotanda@company.com'"
      ]
     },
     "execution_count": 104,
     "metadata": {},
     "output_type": "execute_result"
    }
   ],
   "source": [
    "marina = Staff(\"Marina\", \"Cotanda\", \"Barcelona\")\n",
    "marina.email"
   ]
  },
  {
   "cell_type": "code",
   "execution_count": 108,
   "id": "43d59308",
   "metadata": {},
   "outputs": [
    {
     "data": {
      "text/plain": [
       "\"Hello! My name is Albert and I'm from Mataró\""
      ]
     },
     "execution_count": 108,
     "metadata": {},
     "output_type": "execute_result"
    }
   ],
   "source": [
    "class Staff ():\n",
    "    \n",
    "    # 1. Attributes     \n",
    "    def __init__ (self, name, fname, city):\n",
    "        self.name = name\n",
    "        self.fname = fname\n",
    "        self.city = city\n",
    "        \n",
    "        self.email = f\"{name}.{fname}@company.com\".lower()\n",
    "        \n",
    "    \n",
    "    # 2. Methods / functions\n",
    "    def greeting (self):\n",
    "        return f\"Hello! My name is {self.name} and I'm from {self.city}\"\n",
    "\n",
    "\n",
    "albert = Staff(\"Albert\", \"Coca\", \"Mataró\")\n",
    "albert.city\n",
    "albert.greeting() #albert was given but self was not passed"
   ]
  },
  {
   "cell_type": "code",
   "execution_count": 109,
   "id": "21f0872f",
   "metadata": {},
   "outputs": [],
   "source": [
    "marina = Staff(\"Marina\", \"Cotanda\", \"Barcelona\")"
   ]
  },
  {
   "cell_type": "code",
   "execution_count": 110,
   "id": "85af8ed0",
   "metadata": {},
   "outputs": [
    {
     "data": {
      "text/plain": [
       "\"Hello! My name is Marina and I'm from Barcelona\""
      ]
     },
     "execution_count": 110,
     "metadata": {},
     "output_type": "execute_result"
    }
   ],
   "source": [
    "marina.greeting()"
   ]
  },
  {
   "cell_type": "code",
   "execution_count": null,
   "id": "71c520a6",
   "metadata": {},
   "outputs": [],
   "source": [
    "# characters\n",
    "    # lifespan\n",
    "    # name\n",
    "    # DO things: \n",
    "        # move\n",
    "        # fighting\n",
    "        # ..."
   ]
  },
  {
   "cell_type": "code",
   "execution_count": 128,
   "id": "2fa8de66",
   "metadata": {},
   "outputs": [
    {
     "data": {
      "text/plain": [
       "\"Hello! My name is Albert and I'm from Mataró\""
      ]
     },
     "execution_count": 128,
     "metadata": {},
     "output_type": "execute_result"
    }
   ],
   "source": [
    "class Staff ():\n",
    "    \n",
    "    # 1. Attributes     \n",
    "    def __init__ (self, name, fname, city):\n",
    "        self.name = name\n",
    "        self.fname = fname\n",
    "        self.city = city\n",
    "        \n",
    "        self.days_off = 30\n",
    "        \n",
    "        self.email = f\"{name}.{fname}@company.com\".lower()\n",
    "        \n",
    "    \n",
    "    # 2. Methods / functions\n",
    "    def greeting (self):\n",
    "        return f\"Hello! My name is {self.name} and I'm from {self.city}\"\n",
    "    \n",
    "\n",
    "albert = Staff(\"Albert\", \"Coca\", \"Mataró\")\n",
    "albert.greeting()"
   ]
  },
  {
   "cell_type": "code",
   "execution_count": 119,
   "id": "7869046c",
   "metadata": {},
   "outputs": [
    {
     "data": {
      "text/plain": [
       "27"
      ]
     },
     "execution_count": 119,
     "metadata": {},
     "output_type": "execute_result"
    }
   ],
   "source": [
    "class Staff ():\n",
    "    \n",
    "    # 1. Attributes     \n",
    "    def __init__ (self, name, fname, city):\n",
    "        self.name = name\n",
    "        self.fname = fname\n",
    "        self.city = city\n",
    "        \n",
    "        self.days_off = 30\n",
    "        \n",
    "        self.email = f\"{name}.{fname}@company.com\".lower()\n",
    "        \n",
    "    \n",
    "    # 2. Methods / functions\n",
    "    def greeting (self):\n",
    "        return f\"Hello! My name is {self.name} and I'm from {self.city}\"\n",
    "    \n",
    "    def takes_days_off (self, days_passed):\n",
    "        # 2. Substractig as many days as they take\n",
    "        self.days_off -= days_passed\n",
    "        \n",
    "        # 1. Default: \n",
    "        \n",
    "\n",
    "albert = Staff(\"Albert\", \"Coca\", \"Mataró\")\n",
    "albert.takes_days_off(3) # By default: substracts 1, not default: substract as many as we pass\n",
    "albert.days_off #27 "
   ]
  },
  {
   "cell_type": "code",
   "execution_count": 124,
   "id": "04c25c06",
   "metadata": {},
   "outputs": [],
   "source": [
    "albert.takes_days_off(5)"
   ]
  },
  {
   "cell_type": "code",
   "execution_count": 125,
   "id": "f116e0cf",
   "metadata": {},
   "outputs": [
    {
     "data": {
      "text/plain": [
       "12"
      ]
     },
     "execution_count": 125,
     "metadata": {},
     "output_type": "execute_result"
    }
   ],
   "source": [
    "albert.days_off"
   ]
  },
  {
   "cell_type": "code",
   "execution_count": 129,
   "id": "4d971892",
   "metadata": {},
   "outputs": [],
   "source": [
    "class Staff ():\n",
    "    \n",
    "    # 1. Attributes     \n",
    "    def __init__ (self, name, fname, city):\n",
    "        self.name = name\n",
    "        self.fname = fname\n",
    "        self.city = city\n",
    "        \n",
    "        self.days_off = 30\n",
    "        \n",
    "        self.email = f\"{name}.{fname}@company.com\".lower()\n",
    "        \n",
    "    \n",
    "    # 2. Methods / functions\n",
    "    def greeting (self):\n",
    "        return f\"Hello! My name is {self.name} and I'm from {self.city}\"\n",
    "    \n",
    "    def takes_days_off (self, days_passed=1):\n",
    "        self.days_off -= days_passed\n",
    "\n",
    "albert = Staff(\"Albert\", \"Coca\", \"Mataró\")"
   ]
  },
  {
   "cell_type": "code",
   "execution_count": 138,
   "id": "9de97043",
   "metadata": {},
   "outputs": [
    {
     "data": {
      "text/plain": [
       "7"
      ]
     },
     "execution_count": 138,
     "metadata": {},
     "output_type": "execute_result"
    }
   ],
   "source": [
    "albert.takes_days_off(days_passed=10)\n",
    "albert.days_off"
   ]
  },
  {
   "cell_type": "code",
   "execution_count": 139,
   "id": "0d77cb6e",
   "metadata": {},
   "outputs": [
    {
     "data": {
      "text/plain": [
       "'marina.cotanda@company.com'"
      ]
     },
     "execution_count": 139,
     "metadata": {},
     "output_type": "execute_result"
    }
   ],
   "source": [
    "marina = Staff(\"Marina\", \"Cotanda\", \"Barcelona\")\n",
    "marina.email"
   ]
  },
  {
   "cell_type": "code",
   "execution_count": 140,
   "id": "d7673ef4",
   "metadata": {},
   "outputs": [
    {
     "data": {
      "text/plain": [
       "30"
      ]
     },
     "execution_count": 140,
     "metadata": {},
     "output_type": "execute_result"
    }
   ],
   "source": [
    "marina.days_off"
   ]
  },
  {
   "cell_type": "code",
   "execution_count": 141,
   "id": "bf98598b",
   "metadata": {},
   "outputs": [
    {
     "data": {
      "text/plain": [
       "29"
      ]
     },
     "execution_count": 141,
     "metadata": {},
     "output_type": "execute_result"
    }
   ],
   "source": [
    "marina.takes_days_off()\n",
    "marina.days_off"
   ]
  },
  {
   "cell_type": "code",
   "execution_count": 142,
   "id": "0d14a7f8",
   "metadata": {},
   "outputs": [],
   "source": [
    "class Staff ():\n",
    "    \n",
    "    # 1. Attributes     \n",
    "    def __init__ (self, name, fname, city):\n",
    "        self.name = name\n",
    "        self.fname = fname\n",
    "        self.city = city\n",
    "        \n",
    "        self.days_off = 30\n",
    "        \n",
    "        self.email = f\"{name}.{fname}@company.com\".lower()\n",
    "        \n",
    "    \n",
    "    # 2. Methods / functions\n",
    "    def greeting (self):\n",
    "        return f\"Hello! My name is {self.name} and I'm from {self.city}\"\n",
    "    \n",
    "    def takes_days_off (self, days_passed=1):\n",
    "        self.days_off -= days_passed\n",
    "\n",
    "albert = Staff(\"Albert\", \"Coca\", \"Mataró\")"
   ]
  },
  {
   "cell_type": "code",
   "execution_count": 150,
   "id": "0dc324c9",
   "metadata": {},
   "outputs": [],
   "source": [
    "albert.takes_days_off(10)"
   ]
  },
  {
   "cell_type": "code",
   "execution_count": 151,
   "id": "3ce0f522",
   "metadata": {},
   "outputs": [
    {
     "data": {
      "text/plain": [
       "-10"
      ]
     },
     "execution_count": 151,
     "metadata": {},
     "output_type": "execute_result"
    }
   ],
   "source": [
    "albert.days_off"
   ]
  },
  {
   "cell_type": "code",
   "execution_count": 152,
   "id": "bd49e638",
   "metadata": {},
   "outputs": [],
   "source": [
    "albert.days_off = 30"
   ]
  },
  {
   "cell_type": "code",
   "execution_count": 153,
   "id": "ab6c0a61",
   "metadata": {},
   "outputs": [
    {
     "data": {
      "text/plain": [
       "30"
      ]
     },
     "execution_count": 153,
     "metadata": {},
     "output_type": "execute_result"
    }
   ],
   "source": [
    "albert.days_off"
   ]
  },
  {
   "cell_type": "markdown",
   "id": "be46cddd",
   "metadata": {},
   "source": [
    "### Exploring a class"
   ]
  },
  {
   "cell_type": "code",
   "execution_count": null,
   "id": "89b6cc81",
   "metadata": {},
   "outputs": [],
   "source": []
  },
  {
   "cell_type": "markdown",
   "id": "81f9ca3e",
   "metadata": {},
   "source": [
    "### Instance Attributes\n",
    "They contain data that is unique to each instance."
   ]
  },
  {
   "cell_type": "code",
   "execution_count": null,
   "id": "c7dee1bb",
   "metadata": {},
   "outputs": [],
   "source": []
  },
  {
   "cell_type": "markdown",
   "id": "39ed3781",
   "metadata": {
    "lang": "en"
   },
   "source": [
    "Instead of doing it one by one, we can create these variables each time an object is instantiated with the special `__init__` method. This function defines all the actions that should be performed when we create a new object. The reason we have two underscores before and after the function name is to indicate that this function is internal to the object and should not be called from outside the object."
   ]
  },
  {
   "cell_type": "code",
   "execution_count": null,
   "id": "26c9c730",
   "metadata": {},
   "outputs": [],
   "source": []
  },
  {
   "cell_type": "markdown",
   "id": "a9b11397",
   "metadata": {
    "lang": "en"
   },
   "source": [
    "What does self do? It indicates that the data we are entering is for the object we are creating."
   ]
  },
  {
   "cell_type": "code",
   "execution_count": null,
   "id": "273d458e",
   "metadata": {},
   "outputs": [],
   "source": []
  },
  {
   "cell_type": "markdown",
   "id": "8751e24c",
   "metadata": {
    "lang": "en"
   },
   "source": [
    "#### Default attributes\n",
    "\n",
    "We can initialize the attributes with a default value in case later, when creating the instances, the user or ourselves do not put anything in any of the attributes"
   ]
  },
  {
   "cell_type": "code",
   "execution_count": 207,
   "id": "755ea01e",
   "metadata": {},
   "outputs": [],
   "source": [
    "class Staff ():\n",
    "    \n",
    "    # 1. Attributes     \n",
    "    def __init__ (self, name, fname, city):\n",
    "        self.name = name\n",
    "        self.fname = fname\n",
    "        self.city = city\n",
    "        \n",
    "        self.days_off = 30\n",
    "        \n",
    "        self.email = f\"{name}.{fname}@company.com\".lower()\n",
    "        \n",
    "    \n",
    "    # 2. Methods / functions\n",
    "    def greeting (self):\n",
    "        return f\"Hello! My name is {self.name} and I'm from {self.city}\"\n",
    "    \n",
    "    def takes_days_off (self, days_passed=1):\n",
    "        \n",
    "        if self.days_off < days_passed :\n",
    "            print(f\"You only have {self.days_off}, you can't have {days_passed}\")\n",
    "        else:\n",
    "            self.days_off -= days_passed\n",
    "            print(f\"You have {self.days_off} days off available\")\n",
    "        \n",
    "    def grant_holidays (self):\n",
    "        self.days_off += 5\n",
    "\n",
    "albert = Staff(\"Albert\", \"Coca\", \"Mataró\") # if not in init, not here"
   ]
  },
  {
   "cell_type": "code",
   "execution_count": 225,
   "id": "ea429397",
   "metadata": {},
   "outputs": [
    {
     "name": "stdout",
     "output_type": "stream",
     "text": [
      "You only have 0, you can't have 5\n"
     ]
    }
   ],
   "source": [
    "albert.takes_days_off(5)"
   ]
  },
  {
   "cell_type": "code",
   "execution_count": 193,
   "id": "c3722853",
   "metadata": {},
   "outputs": [
    {
     "data": {
      "text/plain": [
       "25"
      ]
     },
     "execution_count": 193,
     "metadata": {},
     "output_type": "execute_result"
    }
   ],
   "source": [
    "albert.days_off"
   ]
  },
  {
   "cell_type": "code",
   "execution_count": 194,
   "id": "f1f3d497",
   "metadata": {},
   "outputs": [],
   "source": [
    "albert.grant_holidays()"
   ]
  },
  {
   "cell_type": "code",
   "execution_count": 195,
   "id": "a7e4e35f",
   "metadata": {},
   "outputs": [
    {
     "data": {
      "text/plain": [
       "30"
      ]
     },
     "execution_count": 195,
     "metadata": {},
     "output_type": "execute_result"
    }
   ],
   "source": [
    "albert.days_off"
   ]
  },
  {
   "cell_type": "code",
   "execution_count": null,
   "id": "ae99f15e",
   "metadata": {},
   "outputs": [],
   "source": [
    "import math\n",
    "\n",
    "class Circle ():\n",
    "    \n",
    "    # 1. Attributes: radius. def __init....\n",
    "    \n",
    "    \n",
    "    # 2. Method: calculate area: def calculate_area ...\n",
    "\n",
    "    pass\n",
    "\n",
    "PI = math.pi \n",
    "# area of a circule: pi * raiuds ** 2"
   ]
  },
  {
   "cell_type": "code",
   "execution_count": null,
   "id": "753d5a63",
   "metadata": {},
   "outputs": [],
   "source": [
    "class Staff ():\n",
    "    \n",
    "    # 1. Attributes     \n",
    "    def __init__ (self, name, fname, city):\n",
    "        self.name = name\n",
    "        self.fname = fname\n",
    "        self.city = city\n",
    "        \n",
    "        self.days_off = 30\n",
    "        \n",
    "        self.email = f\"{name}.{fname}@company.com\".lower()\n",
    "        \n",
    "    \n",
    "    # 2. Methods / functions\n",
    "    def greeting (self):\n",
    "        return f\"Hello! My name is {self.name} and I'm from {self.city}\"\n",
    "    \n",
    "    def takes_days_off (self, days_passed=1):\n",
    "        \n",
    "        if self.days_off < days_passed :\n",
    "            print(f\"You only have {self.days_off}, you can't have {days_passed}\")\n",
    "        else:\n",
    "            self.days_off -= days_passed\n",
    "            print(f\"You have {self.days_off} days off available\")\n",
    "        \n",
    "    def grant_holidays (self):\n",
    "        self.days_off += 5\n",
    "\n",
    "albert = Staff(\"Albert\", \"Coca\", \"Mataró\") # if not in init, not here"
   ]
  },
  {
   "cell_type": "markdown",
   "id": "57294d4c",
   "metadata": {},
   "source": [
    "- naming: class Circle ()\n",
    "    - DataFrame # CamelCase\n",
    "    - variable # lowercase\n",
    "    - PI  # uppercase\n",
    "    - a_random_one # snake_case\n",
    "    \n",
    "- functions: lower or snakecase\n",
    "- clases: CamelCase: first one is capitalize\n",
    "- constants: UPPER"
   ]
  },
  {
   "cell_type": "markdown",
   "id": "0808357c",
   "metadata": {},
   "source": [
    "- Naming: Camel\n",
    "- def __init__\n",
    "    - double under score, init, dunder score\n",
    "    - what it does:\n",
    "        - being able to instantiate\n",
    "        - it's needed to pass arguments when constructing\n",
    "        - the instance\n",
    "        \n",
    "    - always pass self: \n",
    "        - def __init__ (self):\n",
    "            pass\n",
    "        - self and whatever things we want it to have\n",
    "        \n",
    "    - attributes are than below\n",
    "        - self.color = color\n",
    "        - self.color = \"red\"\n",
    "\n",
    "    - if we have methods: they will NEED to recieve self\n",
    "        - variables within the methids\n",
    "            - if variable is FROM the class: also self\n",
    "            - if from outside: no self needed"
   ]
  },
  {
   "cell_type": "markdown",
   "id": "c1f281b5",
   "metadata": {},
   "source": [
    "- SELF\n",
    "    - ALWAYS: if it's IN the class FROM the class\n",
    "        - init (self, )\n",
    "        - methods (self)\n",
    "        - variables:\n",
    "            self.variable\n",
    "                - def __init__ (self, something):\n",
    "                    self.something = something \n",
    "                    \n",
    "        - Why does this something not have the self\n",
    "            - it comes from the outside, and it's just the value\n",
    "            - the value is stored INTO a variable INSIDE of the class\n",
    "            - and therefore -> self."
   ]
  },
  {
   "cell_type": "markdown",
   "id": "0ce1eb62",
   "metadata": {
    "lang": "en"
   },
   "source": [
    "### Instance Methods"
   ]
  },
  {
   "cell_type": "code",
   "execution_count": null,
   "id": "7f3ecad3",
   "metadata": {},
   "outputs": [],
   "source": []
  },
  {
   "cell_type": "markdown",
   "id": "3b7de249",
   "metadata": {
    "lang": "en"
   },
   "source": [
    "They are functions within the classes that will save us a lot of time"
   ]
  },
  {
   "cell_type": "code",
   "execution_count": null,
   "id": "5c9fef82",
   "metadata": {},
   "outputs": [],
   "source": []
  },
  {
   "cell_type": "markdown",
   "id": "fdda9183",
   "metadata": {},
   "source": [
    "_⚠️:  Target variables when instantiaing, ingnoring defaults?_"
   ]
  },
  {
   "cell_type": "code",
   "execution_count": null,
   "id": "aa27d407",
   "metadata": {},
   "outputs": [],
   "source": []
  },
  {
   "cell_type": "markdown",
   "id": "c584762d",
   "metadata": {
    "lang": "en"
   },
   "source": [
    "**watch out** 👀\n",
    "If we modify a class and add attributes or methods, we have to recreate the object so that it is initialized with those attributes and has those methods."
   ]
  },
  {
   "cell_type": "markdown",
   "id": "b6c1dbd0",
   "metadata": {
    "lang": "en"
   },
   "source": [
    "#### Python is built with objects\n",
    "In Python primitive data types are also objects that have associated attributes and methods."
   ]
  },
  {
   "cell_type": "code",
   "execution_count": null,
   "id": "d7a7a599",
   "metadata": {},
   "outputs": [],
   "source": []
  },
  {
   "cell_type": "markdown",
   "id": "e6af3733",
   "metadata": {
    "lang": "en"
   },
   "source": [
    "Whenever we do .something, it is because we are calling the methods/attributes of that class"
   ]
  },
  {
   "cell_type": "markdown",
   "id": "2b7c965f",
   "metadata": {
    "lang": "en"
   },
   "source": [
    "### Class variables"
   ]
  },
  {
   "cell_type": "code",
   "execution_count": null,
   "id": "e55d6664",
   "metadata": {},
   "outputs": [],
   "source": []
  },
  {
   "cell_type": "markdown",
   "id": "2a28ab69",
   "metadata": {
    "lang": "en"
   },
   "source": [
    "In general, class attributes should not be used, except to store constant values."
   ]
  },
  {
   "cell_type": "markdown",
   "id": "9ad7387e",
   "metadata": {
    "lang": "en"
   },
   "source": [
    "**Exercise**\n",
    "\n",
    "Create a class `Circle` with:\n",
    "- radius as instance/object variable\n",
    "- pi (math.pi) as class variable\n",
    "- a compute_area(self) method that returns the area of ​​the \"circle\" object"
   ]
  },
  {
   "cell_type": "code",
   "execution_count": null,
   "id": "892b6bca",
   "metadata": {},
   "outputs": [],
   "source": []
  },
  {
   "cell_type": "markdown",
   "id": "87cccad5",
   "metadata": {
    "lang": "en"
   },
   "source": [
    "## Before continuing, let's take a breath and review vocabulary"
   ]
  },
  {
   "cell_type": "markdown",
   "id": "9170647e",
   "metadata": {
    "lang": "en"
   },
   "source": [
    "- **Class**: The cookie cutter. With the class we can generate instances or objects.\n",
    "- **Object**: The cookie we generated. Each object has different characteristics but under the same pattern as the class.\n",
    "- **Instance**: Same as object, it's a synonym :) hehe\n",
    "- **Attribute**: The different ingredients of each object. They are defined as arguments in the __init__ function but are saved as data when we instantiate an object by calling the class"
   ]
  },
  {
   "cell_type": "code",
   "execution_count": null,
   "id": "5c6951ca",
   "metadata": {},
   "outputs": [],
   "source": []
  },
  {
   "cell_type": "markdown",
   "id": "05499ca5",
   "metadata": {},
   "source": [
    "\n",
    "\n",
    "\n",
    "* **Class attribute**: Variables that belong to the class and that will be the same in all objects.\n",
    "* **Object/instance attribute**: The attributes explained above, specific to each object.\n",
    "* **Method**: Functions that do things"
   ]
  },
  {
   "cell_type": "markdown",
   "id": "8772dea7",
   "metadata": {
    "lang": "en"
   },
   "source": [
    "#### Easy exercise\n",
    "Kata --> https://www.codewars.com/kata/53f0f358b9cb376eca001079/train/python\n",
    "\n",
    "You can ignore the \"object\" for now"
   ]
  },
  {
   "cell_type": "code",
   "execution_count": 1,
   "id": "b6a27bcf",
   "metadata": {},
   "outputs": [],
   "source": []
  },
  {
   "cell_type": "markdown",
   "id": "pressed-proof",
   "metadata": {},
   "source": [
    "## Inheritance"
   ]
  },
  {
   "cell_type": "markdown",
   "id": "1f62f02d",
   "metadata": {
    "lang": "en"
   },
   "source": [
    "Inheritance allows defining new classes from existing classes. The class from which it is inherited is called the \"parent class\"/\"superclass\"/\"parent\". The class that it inherits is called a \"child class\" or \"subclass.\"\n",
    "The child class \"inherits\" all the properties of the parent class and allows us to override methods and attributes or add new ones. The fundamental advantage that the inheritance mechanism brings to programming is the ability to reuse code. Thus, a set of classes that share attributes and methods can inherit from a superclass where those methods and attributes are defined."
   ]
  },
  {
   "cell_type": "markdown",
   "id": "wanted-works",
   "metadata": {},
   "source": [
    "\n",
    "![miniyoda](https://media.giphy.com/media/j0eRJzyW7XjMpu1Pqd/giphy.gif)"
   ]
  },
  {
   "cell_type": "markdown",
   "id": "37b8b77c",
   "metadata": {
    "lang": "en"
   },
   "source": [
    "- Method defined in the `parent`, but not in the `child`\n",
    "\n",
    "In this case, the child will inherit the parent's method, it will work exactly the same and there is no need to override it.\n",
    "\n",
    "- Method defined in `Child`, but not in Parent\n",
    "\n",
    "The method only belongs to the child. Inheritance is one way.\n",
    "\n",
    "- Method set to \"both\".\n",
    "\n",
    "Two things can happen here, but both are a variant of the same fact. The method written in the `Child` class will override the one previously defined in Parent.\n",
    "\n",
    "However, if we want to use the original method and just add something else to it, we can always refer to the original (parent) method with `super()`. The `super()` function allows us to call any method of the parent class. Just remember to call it on the new define and make sure you get all the attributes it needs 😉 ."
   ]
  },
  {
   "cell_type": "code",
   "execution_count": 264,
   "id": "5bfd8b43",
   "metadata": {},
   "outputs": [],
   "source": [
    "class Staff ():\n",
    "    \n",
    "    # 1. Attributes     \n",
    "    def __init__ (self, name, fname, city):\n",
    "        self.name = name\n",
    "        self.fname = fname\n",
    "        self.city = city\n",
    "        \n",
    "        self.days_off = 30\n",
    "        \n",
    "        self.email = f\"{name}.{fname}@company.com\".lower()\n",
    "        \n",
    "    \n",
    "    # 2. Methods / functions\n",
    "    def greeting (self):\n",
    "        return f\"Hello! My name is {self.name} and I'm from {self.city}\"\n",
    "    \n",
    "    def takes_days_off (self, days_passed=1):\n",
    "        \n",
    "        if self.days_off < days_passed :\n",
    "            print(f\"You only have {self.days_off}, you can't have {days_passed}\")\n",
    "        else:\n",
    "            self.days_off -= days_passed\n",
    "            print(f\"You have {self.days_off} days off available\")\n",
    "        \n",
    "    def grant_holidays (self):\n",
    "        self.days_off += 5\n",
    "\n",
    "albert = Staff(\"Albert\", \"Coca\", \"Mataró\") # if not in init, not here"
   ]
  },
  {
   "cell_type": "code",
   "execution_count": 253,
   "id": "caf1b4c7",
   "metadata": {},
   "outputs": [
    {
     "data": {
      "text/plain": [
       "'\\nclass Staff ():\\n    pass\\n\\nclass Marketing():\\n    # role / social media ...\\n    pass\\n\\n#\\xa0inheritance\\n'"
      ]
     },
     "execution_count": 253,
     "metadata": {},
     "output_type": "execute_result"
    }
   ],
   "source": [
    "\"\"\"\n",
    "class Staff ():\n",
    "    pass\n",
    "\n",
    "class Marketing():\n",
    "    # role / social media ...\n",
    "    pass\n",
    "\n",
    "# inheritance\n",
    "\"\"\""
   ]
  },
  {
   "cell_type": "code",
   "execution_count": 265,
   "id": "b9fc634a",
   "metadata": {},
   "outputs": [],
   "source": [
    "class Marketing (Staff):\n",
    "    \n",
    "    def social_media (self):\n",
    "        return f\"Posting to instagram\""
   ]
  },
  {
   "cell_type": "code",
   "execution_count": 266,
   "id": "35b4331e",
   "metadata": {},
   "outputs": [],
   "source": [
    "laura = Marketing(\"Laura\", \"Molas\", \"Barcelona\")"
   ]
  },
  {
   "cell_type": "code",
   "execution_count": 267,
   "id": "aa9e87a9",
   "metadata": {
    "scrolled": true
   },
   "outputs": [
    {
     "data": {
      "text/plain": [
       "'Posting to instagram'"
      ]
     },
     "execution_count": 267,
     "metadata": {},
     "output_type": "execute_result"
    }
   ],
   "source": [
    "# Laura is Staff & Marketing \n",
    "laura.social_media() # Inheritance: re-use"
   ]
  },
  {
   "cell_type": "code",
   "execution_count": 269,
   "id": "7cd1e6b2",
   "metadata": {},
   "outputs": [
    {
     "data": {
      "text/plain": [
       "'Posting to instagram'"
      ]
     },
     "execution_count": 269,
     "metadata": {},
     "output_type": "execute_result"
    }
   ],
   "source": [
    "# Ferran is Staff & Marketing \n",
    "ferran = Marketing(\"Ferran\", \"idk\", \"mataró\")\n",
    "ferran.social_media()"
   ]
  },
  {
   "cell_type": "code",
   "execution_count": 270,
   "id": "f8dceb0a",
   "metadata": {},
   "outputs": [
    {
     "ename": "AttributeError",
     "evalue": "'Staff' object has no attribute 'social_media'",
     "output_type": "error",
     "traceback": [
      "\u001b[0;31m---------------------------------------------------------------------------\u001b[0m",
      "\u001b[0;31mAttributeError\u001b[0m                            Traceback (most recent call last)",
      "Input \u001b[0;32mIn [270]\u001b[0m, in \u001b[0;36m<cell line: 2>\u001b[0;34m()\u001b[0m\n\u001b[1;32m      1\u001b[0m \u001b[38;5;66;03m# Marina is Staff but no Marketing -> error\u001b[39;00m\n\u001b[0;32m----> 2\u001b[0m \u001b[43mmarina\u001b[49m\u001b[38;5;241;43m.\u001b[39;49m\u001b[43msocial_media\u001b[49m()\n",
      "\u001b[0;31mAttributeError\u001b[0m: 'Staff' object has no attribute 'social_media'"
     ]
    }
   ],
   "source": [
    "# Marina is Staff but no Marketing -> ERROR\n",
    "marina.social_media()"
   ]
  },
  {
   "cell_type": "code",
   "execution_count": 247,
   "id": "85f8f732",
   "metadata": {},
   "outputs": [
    {
     "ename": "AttributeError",
     "evalue": "'Staff' object has no attribute 'social_media'",
     "output_type": "error",
     "traceback": [
      "\u001b[0;31m---------------------------------------------------------------------------\u001b[0m",
      "\u001b[0;31mAttributeError\u001b[0m                            Traceback (most recent call last)",
      "Input \u001b[0;32mIn [247]\u001b[0m, in \u001b[0;36m<cell line: 1>\u001b[0;34m()\u001b[0m\n\u001b[0;32m----> 1\u001b[0m \u001b[43malbert\u001b[49m\u001b[38;5;241;43m.\u001b[39;49m\u001b[43msocial_media\u001b[49m()\n",
      "\u001b[0;31mAttributeError\u001b[0m: 'Staff' object has no attribute 'social_media'"
     ]
    }
   ],
   "source": [
    "albert.social_media() # without affect the previous class"
   ]
  },
  {
   "cell_type": "code",
   "execution_count": 248,
   "id": "426c9de4",
   "metadata": {},
   "outputs": [
    {
     "data": {
      "text/plain": [
       "'laura.molas@company.com'"
      ]
     },
     "execution_count": 248,
     "metadata": {},
     "output_type": "execute_result"
    }
   ],
   "source": [
    "laura.email"
   ]
  },
  {
   "cell_type": "code",
   "execution_count": 233,
   "id": "54288124",
   "metadata": {},
   "outputs": [
    {
     "name": "stdout",
     "output_type": "stream",
     "text": [
      "You have 27 days off available\n"
     ]
    }
   ],
   "source": [
    "laura.takes_days_off(3)"
   ]
  },
  {
   "cell_type": "code",
   "execution_count": 236,
   "id": "09d020fb",
   "metadata": {},
   "outputs": [
    {
     "data": {
      "text/plain": [
       "True"
      ]
     },
     "execution_count": 236,
     "metadata": {},
     "output_type": "execute_result"
    }
   ],
   "source": [
    "isinstance(laura, Staff)"
   ]
  },
  {
   "cell_type": "code",
   "execution_count": 237,
   "id": "b3579a2a",
   "metadata": {},
   "outputs": [
    {
     "data": {
      "text/plain": [
       "True"
      ]
     },
     "execution_count": 237,
     "metadata": {},
     "output_type": "execute_result"
    }
   ],
   "source": [
    "isinstance(laura, Marketing)"
   ]
  },
  {
   "cell_type": "code",
   "execution_count": null,
   "id": "024aaf68",
   "metadata": {},
   "outputs": [],
   "source": [
    "class Marketing (Staff):\n",
    "    pass"
   ]
  },
  {
   "cell_type": "code",
   "execution_count": 271,
   "id": "645cfda5",
   "metadata": {},
   "outputs": [],
   "source": [
    "class Staff ():\n",
    "    \n",
    "    # 1. Attributes     \n",
    "    def __init__ (self, name, fname, city):\n",
    "        self.name = name\n",
    "        self.fname = fname\n",
    "        self.city = city\n",
    "        \n",
    "        self.days_off = 30\n",
    "        \n",
    "        self.email = f\"{name}.{fname}@company.com\".lower()\n",
    "        \n",
    "    \n",
    "    # 2. Methods / functions\n",
    "    def greeting (self):\n",
    "        return f\"Hello! My name is {self.name} and I'm from {self.city}\"\n",
    "    \n",
    "    def takes_days_off (self, days_passed=1):\n",
    "        \n",
    "        if self.days_off < days_passed :\n",
    "            print(f\"You only have {self.days_off}, you can't have {days_passed}\")\n",
    "        else:\n",
    "            self.days_off -= days_passed\n",
    "            print(f\"You have {self.days_off} days off available\")\n",
    "        \n",
    "    def grant_holidays (self):\n",
    "        self.days_off += 5\n",
    "\n",
    "albert = Staff(\"Albert\", \"Coca\", \"Mataró\") # if not in init, not here"
   ]
  },
  {
   "cell_type": "code",
   "execution_count": 282,
   "id": "1ec46506",
   "metadata": {},
   "outputs": [],
   "source": [
    "class Marketing (Staff):\n",
    "    \n",
    "    def __init__(self, name, fname, city, skills):\n",
    "        self.name = name\n",
    "        self.fname = fname\n",
    "        self.city = city\n",
    "        \n",
    "        self.skills = skills\n",
    "    \n",
    "    def social_media (self):\n",
    "        return f\"Posting to instagram\""
   ]
  },
  {
   "cell_type": "code",
   "execution_count": 283,
   "id": "5cfb4b8e",
   "metadata": {},
   "outputs": [],
   "source": [
    "laura = Marketing(\"Laura\", \"Molas\", \"Mataró\", \"skills\") # skills"
   ]
  },
  {
   "cell_type": "code",
   "execution_count": 285,
   "id": "e0c645b9",
   "metadata": {},
   "outputs": [
    {
     "data": {
      "text/plain": [
       "'Mataró'"
      ]
     },
     "execution_count": 285,
     "metadata": {},
     "output_type": "execute_result"
    }
   ],
   "source": [
    "laura.city"
   ]
  },
  {
   "cell_type": "code",
   "execution_count": 286,
   "id": "435ef690",
   "metadata": {},
   "outputs": [
    {
     "data": {
      "text/plain": [
       "'Posting to instagram'"
      ]
     },
     "execution_count": 286,
     "metadata": {},
     "output_type": "execute_result"
    }
   ],
   "source": [
    "laura.social_media()"
   ]
  },
  {
   "cell_type": "markdown",
   "id": "willing-workshop",
   "metadata": {},
   "source": [
    "### super()"
   ]
  },
  {
   "cell_type": "code",
   "execution_count": 301,
   "id": "2800959e",
   "metadata": {},
   "outputs": [],
   "source": [
    "class Staff ():\n",
    "    \n",
    "    # 1. Attributes     \n",
    "    def __init__ (self, name, fname, city):\n",
    "        self.name = name\n",
    "        self.fname = fname\n",
    "        self.city = city\n",
    "        \n",
    "        self.days_off = 30\n",
    "        \n",
    "        self.email = f\"{name}.{fname}@company.com\".lower()\n",
    "        \n",
    "    \n",
    "    # 2. Methods / functions\n",
    "    def greeting (self):\n",
    "        return f\"Hello! My name is {self.name} and I'm from {self.city}\"\n",
    "    \n",
    "    def takes_days_off (self, days_passed=1):\n",
    "        \n",
    "        if self.days_off < days_passed :\n",
    "            print(f\"You only have {self.days_off}, you can't have {days_passed}\")\n",
    "        else:\n",
    "            self.days_off -= days_passed\n",
    "            print(f\"You have {self.days_off} days off available\")\n",
    "        \n",
    "    def grant_holidays (self):\n",
    "        self.days_off += 5\n",
    "\n",
    "albert = Staff(\"Albert\", \"Coca\", \"Mataró\") # if not in init, not here"
   ]
  },
  {
   "cell_type": "code",
   "execution_count": 304,
   "id": "af0a2eac",
   "metadata": {},
   "outputs": [],
   "source": [
    "class Marketing (Staff):\n",
    "    \n",
    "    def __init__(self, name, fname, city, skills):\n",
    "        super().__init__(name, fname, city)\n",
    "        self.skills = skills\n",
    "    \n",
    "    def social_media (self):\n",
    "        return f\"Posting to instagram\""
   ]
  },
  {
   "cell_type": "code",
   "execution_count": 305,
   "id": "3d89f749",
   "metadata": {},
   "outputs": [],
   "source": [
    "laura = Marketing(\"Laura\", \"Molas\", \"Mataró\", \"social networks\") # skills"
   ]
  },
  {
   "cell_type": "code",
   "execution_count": 332,
   "id": "e294158f",
   "metadata": {},
   "outputs": [],
   "source": [
    "# instance (a) -> staff (a) -> marketing  (a)"
   ]
  },
  {
   "cell_type": "code",
   "execution_count": 333,
   "id": "df2c3d9f",
   "metadata": {},
   "outputs": [
    {
     "data": {
      "text/plain": [
       "30"
      ]
     },
     "execution_count": 333,
     "metadata": {},
     "output_type": "execute_result"
    }
   ],
   "source": [
    "laura.days_off"
   ]
  },
  {
   "cell_type": "code",
   "execution_count": 334,
   "id": "84c00d6b",
   "metadata": {},
   "outputs": [
    {
     "data": {
      "text/plain": [
       "'social networks'"
      ]
     },
     "execution_count": 334,
     "metadata": {},
     "output_type": "execute_result"
    }
   ],
   "source": [
    "laura.skills"
   ]
  },
  {
   "cell_type": "code",
   "execution_count": 335,
   "id": "2038f99c",
   "metadata": {},
   "outputs": [
    {
     "data": {
      "text/plain": [
       "'Posting to instagram'"
      ]
     },
     "execution_count": 335,
     "metadata": {},
     "output_type": "execute_result"
    }
   ],
   "source": [
    "laura.social_media()"
   ]
  },
  {
   "cell_type": "code",
   "execution_count": 336,
   "id": "0065d5b6",
   "metadata": {},
   "outputs": [],
   "source": [
    "class Teaching (Staff):\n",
    "    \n",
    "    def __init__(self, name, fname, city, vertical):\n",
    "        super().__init__(name, fname, city) # inherits from parent class (Staff -> Marketing)\n",
    "        self.vertical = vertical\n",
    "    \n",
    "    def fail_students (self):\n",
    "        return f\"Grading {self.vertical} students\""
   ]
  },
  {
   "cell_type": "code",
   "execution_count": 337,
   "id": "b4dcd35a",
   "metadata": {},
   "outputs": [],
   "source": [
    "marcel = Teaching(\"Marcel\", \"idk\", \"Mataró\", \"webdev\")"
   ]
  },
  {
   "cell_type": "code",
   "execution_count": 338,
   "id": "17804f90",
   "metadata": {},
   "outputs": [
    {
     "data": {
      "text/plain": [
       "<bound method Teaching.fail_students of <__main__.Teaching object at 0x7f885607d310>>"
      ]
     },
     "execution_count": 338,
     "metadata": {},
     "output_type": "execute_result"
    }
   ],
   "source": [
    "marcel.fail_students"
   ]
  },
  {
   "cell_type": "code",
   "execution_count": 339,
   "id": "ac6bc530",
   "metadata": {},
   "outputs": [
    {
     "data": {
      "text/plain": [
       "'Grading webdev students'"
      ]
     },
     "execution_count": 339,
     "metadata": {},
     "output_type": "execute_result"
    }
   ],
   "source": [
    "marcel.fail_students() # <>, watch out for ()"
   ]
  },
  {
   "cell_type": "code",
   "execution_count": 340,
   "id": "85a62518",
   "metadata": {},
   "outputs": [],
   "source": [
    "mika = Teaching (\"Mika\", \"Katzman\", \"dsdsdd\", \"UX\")"
   ]
  },
  {
   "cell_type": "code",
   "execution_count": 341,
   "id": "1bea751f",
   "metadata": {},
   "outputs": [
    {
     "data": {
      "text/plain": [
       "'Grading UX students'"
      ]
     },
     "execution_count": 341,
     "metadata": {},
     "output_type": "execute_result"
    }
   ],
   "source": [
    "mika.fail_students()"
   ]
  },
  {
   "cell_type": "code",
   "execution_count": 342,
   "id": "cdd04177",
   "metadata": {},
   "outputs": [
    {
     "data": {
      "text/plain": [
       "['city', 'email', 'fname', 'greeting', 'name', 'vertical']"
      ]
     },
     "execution_count": 342,
     "metadata": {},
     "output_type": "execute_result"
    }
   ],
   "source": [
    "methods_and_attributes = [i for i in dir(mika) if \"_\" not in i]\n",
    "methods_and_attributes"
   ]
  },
  {
   "cell_type": "code",
   "execution_count": 328,
   "id": "226199ed",
   "metadata": {},
   "outputs": [
    {
     "data": {
      "text/plain": [
       "{'name': 'Mika',\n",
       " 'fname': 'Katzman',\n",
       " 'city': 'dsdsdd',\n",
       " 'days_off': 30,\n",
       " 'email': 'mika.katzman@company.com',\n",
       " 'vertical': 'UX'}"
      ]
     },
     "execution_count": 328,
     "metadata": {},
     "output_type": "execute_result"
    }
   ],
   "source": [
    "properties_attributes_values = mika.__dict__\n",
    "properties_attributes_values"
   ]
  },
  {
   "cell_type": "code",
   "execution_count": 331,
   "id": "7b93c5a4",
   "metadata": {},
   "outputs": [
    {
     "data": {
      "text/plain": [
       "['greeting']"
      ]
     },
     "execution_count": 331,
     "metadata": {},
     "output_type": "execute_result"
    }
   ],
   "source": [
    "methods = [i for i in all_of_it if i not in properties_attributes_values.keys()]\n",
    "methods"
   ]
  },
  {
   "cell_type": "code",
   "execution_count": 343,
   "id": "ea782228",
   "metadata": {},
   "outputs": [
    {
     "data": {
      "text/plain": [
       "1"
      ]
     },
     "execution_count": 343,
     "metadata": {},
     "output_type": "execute_result"
    }
   ],
   "source": [
    "def count_methods_in_a_class ():\n",
    "    methods = [i for i in all_of_it if i not in properties_attributes_values.keys()]\n",
    "    return len(methods)\n",
    "\n",
    "count_methods_in_a_class()"
   ]
  },
  {
   "cell_type": "markdown",
   "id": "06927b5c",
   "metadata": {},
   "source": [
    "## Summary"
   ]
  },
  {
   "cell_type": "markdown",
   "id": "dec270a8",
   "metadata": {},
   "source": [
    "- miniconda\n",
    "- vscode\n",
    "\n",
    "- heads-up\n",
    "    - python files instead of notebooks\n",
    "    - watch out for typos\n",
    "        - strength, health, th\n",
    "        - tests: \n",
    "            - LITERALLY space by space\n",
    "            - \"Herald has 18 of strength\" -> \"Herald has 18 of strength \"\n",
    "            - return a string: literal \n",
    "        \n",
    "        - tests:\n",
    "            - `None != 180` -> result of a test\n",
    "            - class -> methods (functions)\n",
    "                - function -> None\n",
    "                     - not returning anything: missing return\n",
    "                     \n",
    "     - WRITING classes\n",
    "     - RUNNING: test files"
   ]
  },
  {
   "cell_type": "markdown",
   "id": "7d8865bd",
   "metadata": {
    "lang": "en"
   },
   "source": [
    "## Furthermaterials\n",
    "\n",
    "- Youtube Tutorial by [Corey Schafer](https://www.youtube.com/watch?v=ZDa-Z5JzLYM)\n",
    "- [Real Python](https://docs.hektorprofe.net/python/object-oriented-programming/classes-and-objects/)\n",
    "- [Interesting read](https://medium.com/@shaistha24/functional-programming-vs-object-oriented-programming-oop-which-is-better-82172e53a526) --> OOP vs Functional programming"
   ]
  },
  {
   "cell_type": "markdown",
   "id": "92bd3cce",
   "metadata": {
    "lang": "en"
   },
   "source": [
    "### Methods **ADVANCED** @classmethod@staticmethod\n",
    "* [Real Python - @classmethod/@stathicmethod](https://realpython.com/instance-class-and-static-methods-demystified/). Advanced Python with decorators (we'll mention them later)"
   ]
  }
 ],
 "metadata": {
  "kernelspec": {
   "display_name": "ironhack",
   "language": "python",
   "name": "ironhack"
  },
  "language_info": {
   "codemirror_mode": {
    "name": "ipython",
    "version": 3
   },
   "file_extension": ".py",
   "mimetype": "text/x-python",
   "name": "python",
   "nbconvert_exporter": "python",
   "pygments_lexer": "ipython3",
   "version": "3.9.12"
  },
  "nbTranslate": {
   "displayLangs": [
    "en",
    "es"
   ],
   "hotkey": "alt-a",
   "langInMainMenu": true,
   "sourceLang": "es",
   "targetLang": "en",
   "useGoogleTranslate": true
  },
  "toc": {
   "base_numbering": 1,
   "nav_menu": {},
   "number_sections": true,
   "sideBar": true,
   "skip_h1_title": true,
   "title_cell": "Table of Contents",
   "title_sidebar": "Contents",
   "toc_cell": true,
   "toc_position": {
    "height": "calc(100% - 180px)",
    "left": "10px",
    "top": "150px",
    "width": "288px"
   },
   "toc_section_display": true,
   "toc_window_display": false
  }
 },
 "nbformat": 4,
 "nbformat_minor": 5
}
