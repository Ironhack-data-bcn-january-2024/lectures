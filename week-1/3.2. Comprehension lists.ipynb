{
 "cells": [
  {
   "cell_type": "markdown",
   "id": "4476bce5",
   "metadata": {
    "lang": "en"
   },
   "source": [
    "# List Comprehensions"
   ]
  },
  {
   "cell_type": "markdown",
   "id": "ambient-dodge",
   "metadata": {},
   "source": [
    "![elgif](https://media.giphy.com/media/8vZY0QZZjJZqmfResk/giphy.gif)"
   ]
  },
  {
   "cell_type": "markdown",
   "id": "2d0ea60c",
   "metadata": {
    "lang": "en"
   },
   "source": [
    "## But what is this?\n",
    "List compressions are a very powerful tool, creating one list based on another, on a single readable line."
   ]
  },
  {
   "cell_type": "markdown",
   "id": "a6776c39",
   "metadata": {
    "lang": "en"
   },
   "source": [
    "If we wanted to have a list like this but with all the words in uppercase using a loop..."
   ]
  },
  {
   "cell_type": "code",
   "execution_count": 2,
   "id": "4a5fbde9",
   "metadata": {},
   "outputs": [],
   "source": [
    "list_of_words = [\"Barcelona\", \"Madrid\", \"Girona\", \"Murcia\"]"
   ]
  },
  {
   "cell_type": "markdown",
   "id": "012339ec",
   "metadata": {
    "lang": "en"
   },
   "source": [
    "How can we do it with list comprehension?"
   ]
  },
  {
   "cell_type": "code",
   "execution_count": null,
   "id": "dc7e2409",
   "metadata": {},
   "outputs": [],
   "source": [
    "# [\"BARCELONA\", \"MADRID\"...]"
   ]
  },
  {
   "cell_type": "code",
   "execution_count": 5,
   "id": "f29eeb6d",
   "metadata": {},
   "outputs": [
    {
     "data": {
      "text/plain": [
       "['BARCELONA', 'MADRID', 'GIRONA', 'MURCIA']"
      ]
     },
     "execution_count": 5,
     "metadata": {},
     "output_type": "execute_result"
    }
   ],
   "source": [
    "list_of_words = [\"Barcelona\", \"Madrid\", \"Girona\", \"Murcia\"]\n",
    "\n",
    "new_list = []\n",
    "\n",
    "for words in list_of_words:\n",
    "    new_list.append(words.upper())\n",
    "new_list"
   ]
  },
  {
   "cell_type": "code",
   "execution_count": 6,
   "id": "815e960e",
   "metadata": {},
   "outputs": [
    {
     "data": {
      "text/plain": [
       "['BARCELONA', 'MADRID', 'GIRONA', 'MURCIA']"
      ]
     },
     "execution_count": 6,
     "metadata": {},
     "output_type": "execute_result"
    }
   ],
   "source": [
    "list_of_words = [\"Barcelona\", \"Madrid\", \"Girona\", \"Murcia\"]\n",
    "\n",
    "# comprehension list\n",
    "\n",
    "new_list = [words.upper() for words in list_of_words]\n",
    "new_list"
   ]
  },
  {
   "cell_type": "code",
   "execution_count": null,
   "id": "06fb4e95",
   "metadata": {},
   "outputs": [],
   "source": [
    "# it's a bit more straightforward\n",
    "# we avoid having to create an empty list and then append"
   ]
  },
  {
   "cell_type": "markdown",
   "id": "third-policy",
   "metadata": {},
   "source": [
    "![imagen_compr](https://stsewd.dev/charla-comprension-de-listas/img/listComprehensions.gif)"
   ]
  },
  {
   "cell_type": "code",
   "execution_count": null,
   "id": "bf8f22f2",
   "metadata": {},
   "outputs": [],
   "source": []
  },
  {
   "cell_type": "markdown",
   "id": "aa4b9751",
   "metadata": {
    "lang": "en"
   },
   "source": [
    "## Easy challenge 🤔\n",
    "We want a list containing the squares of the numbers 1 to 10."
   ]
  },
  {
   "cell_type": "code",
   "execution_count": 8,
   "id": "14273087",
   "metadata": {},
   "outputs": [
    {
     "data": {
      "text/plain": [
       "[1, 4, 9, 16, 25, 36, 49, 64, 81, 100]"
      ]
     },
     "execution_count": 8,
     "metadata": {},
     "output_type": "execute_result"
    }
   ],
   "source": [
    "# 1. Loop\n",
    "\n",
    "squared_numbers = []\n",
    "\n",
    "for i in range(1, 11):\n",
    "    squared_numbers.append(i ** 2)\n",
    "squared_numbers"
   ]
  },
  {
   "cell_type": "code",
   "execution_count": 9,
   "id": "96ddc736",
   "metadata": {},
   "outputs": [
    {
     "data": {
      "text/plain": [
       "[1, 4, 9, 16, 25, 36, 49, 64, 81, 100]"
      ]
     },
     "execution_count": 9,
     "metadata": {},
     "output_type": "execute_result"
    }
   ],
   "source": [
    "# 2. Comprehension \n",
    "\n",
    "squared_numbers = [i ** 2 for i in range(1, 11)]\n",
    "squared_numbers"
   ]
  },
  {
   "cell_type": "code",
   "execution_count": 10,
   "id": "3c1c2b47",
   "metadata": {},
   "outputs": [
    {
     "data": {
      "text/plain": [
       "[0, 2, 4, 6, 8, 10]"
      ]
     },
     "execution_count": 10,
     "metadata": {},
     "output_type": "execute_result"
    }
   ],
   "source": [
    "# all even numbers from 0 to 10, including 0\n",
    "# 1. For loop\n",
    "\n",
    "even_numbers = []\n",
    "\n",
    "for i in range(0, 11): #not using step\n",
    "    if i % 2 == 0: #remainder is zero, divisible by 2, even\n",
    "        even_numbers.append(i)\n",
    "even_numbers"
   ]
  },
  {
   "cell_type": "code",
   "execution_count": 11,
   "id": "b8d53b95",
   "metadata": {},
   "outputs": [
    {
     "data": {
      "text/plain": [
       "[0, 2, 4, 6, 8, 10]"
      ]
     },
     "execution_count": 11,
     "metadata": {},
     "output_type": "execute_result"
    }
   ],
   "source": [
    "# 2. Comprehension list\n",
    "\n",
    "even_numbers = [i for i in range(0, 11) if i % 2 == 0]\n",
    "even_numbers"
   ]
  },
  {
   "cell_type": "markdown",
   "id": "54ce8e78",
   "metadata": {
    "lang": "en"
   },
   "source": [
    "## Advantage\n",
    "Understanding the list:\n",
    " *we don't need an empty list to start* we don't use the `.append` method."
   ]
  },
  {
   "cell_type": "code",
   "execution_count": null,
   "id": "ef07aeff",
   "metadata": {},
   "outputs": [],
   "source": []
  },
  {
   "cell_type": "markdown",
   "id": "04427900",
   "metadata": {
    "lang": "en"
   },
   "source": [
    "## Easy challenge 🤔\n",
    "Create a new list, substituting \"e's\" for \"a's\" in each word in the original `words` list."
   ]
  },
  {
   "cell_type": "code",
   "execution_count": 15,
   "id": "cee227e9",
   "metadata": {},
   "outputs": [
    {
     "data": {
      "text/plain": [
       "['BErcelonE', 'MEdrid', 'GironE', 'MurciE', 'ZEr']"
      ]
     },
     "execution_count": 15,
     "metadata": {},
     "output_type": "execute_result"
    }
   ],
   "source": [
    "list_of_words = [\"Barcelona\", \"Madrid\", \"Girona\", \"Murcia\", \"Zar\" ]\n",
    "\n",
    "# \"a\" -> \"E\"\n",
    "\n",
    "new_list = []\n",
    "\n",
    "for words in list_of_words:\n",
    "    item = words.replace(\"a\", \"E\")\n",
    "    new_list.append(item)\n",
    "new_list"
   ]
  },
  {
   "cell_type": "code",
   "execution_count": 16,
   "id": "d23d1d1d",
   "metadata": {},
   "outputs": [
    {
     "data": {
      "text/plain": [
       "['BErcelonE', 'MEdrid', 'GironE', 'MurciE', 'ZEr']"
      ]
     },
     "execution_count": 16,
     "metadata": {},
     "output_type": "execute_result"
    }
   ],
   "source": [
    "# 2. Comprehension list\n",
    "\n",
    "new_list = [words.replace(\"a\", \"E\") for words in list_of_words]\n",
    "new_list"
   ]
  },
  {
   "cell_type": "markdown",
   "id": "2c1733cd",
   "metadata": {},
   "source": [
    "### For loop"
   ]
  },
  {
   "cell_type": "code",
   "execution_count": null,
   "id": "bf7d22dc",
   "metadata": {},
   "outputs": [],
   "source": []
  },
  {
   "cell_type": "markdown",
   "id": "998fd911",
   "metadata": {},
   "source": [
    "### Comprehension list"
   ]
  },
  {
   "cell_type": "code",
   "execution_count": null,
   "id": "9b190dac",
   "metadata": {},
   "outputs": [],
   "source": []
  },
  {
   "cell_type": "markdown",
   "id": "69146175",
   "metadata": {
    "lang": "en"
   },
   "source": [
    "## Conditions (we put IF in the comprehension)"
   ]
  },
  {
   "cell_type": "markdown",
   "id": "worthy-major",
   "metadata": {},
   "source": [
    "<img width=600 src=\"https://www.mrdbourke.com/content/images/2019/09/python-list-comprehension-article.png\">"
   ]
  },
  {
   "cell_type": "markdown",
   "id": "27f79aae",
   "metadata": {
    "lang": "en"
   },
   "source": [
    "## Easy challenge 🤔\n",
    "We want a new list with words longer than 6 characters."
   ]
  },
  {
   "cell_type": "code",
   "execution_count": 17,
   "id": "5f97f7fa",
   "metadata": {},
   "outputs": [],
   "source": [
    "list_of_words = [\"Barcelona\", \"Madrid\", \"Girona\", \"Murcia\", \"Zar\" ]"
   ]
  },
  {
   "cell_type": "code",
   "execution_count": 18,
   "id": "19303b4a",
   "metadata": {},
   "outputs": [
    {
     "data": {
      "text/plain": [
       "['Barcelona']"
      ]
     },
     "execution_count": 18,
     "metadata": {},
     "output_type": "execute_result"
    }
   ],
   "source": [
    "new_list = []\n",
    "\n",
    "for words in list_of_words:\n",
    "    if len(words) > 6:\n",
    "        new_list.append(words)\n",
    "new_list  "
   ]
  },
  {
   "cell_type": "code",
   "execution_count": 19,
   "id": "f8b3f7e3",
   "metadata": {},
   "outputs": [
    {
     "data": {
      "text/plain": [
       "['Barcelona']"
      ]
     },
     "execution_count": 19,
     "metadata": {},
     "output_type": "execute_result"
    }
   ],
   "source": [
    "new_list = [words for words in list_of_words if len(words) > 6]\n",
    "new_list"
   ]
  },
  {
   "cell_type": "markdown",
   "id": "4e443e54",
   "metadata": {},
   "source": [
    "### For loop"
   ]
  },
  {
   "cell_type": "code",
   "execution_count": null,
   "id": "176d4c34",
   "metadata": {},
   "outputs": [],
   "source": []
  },
  {
   "cell_type": "markdown",
   "id": "efa2cc76",
   "metadata": {},
   "source": [
    "### Comprehension list"
   ]
  },
  {
   "cell_type": "code",
   "execution_count": null,
   "id": "67c082ed",
   "metadata": {},
   "outputs": [],
   "source": []
  },
  {
   "cell_type": "markdown",
   "id": "3a362f88",
   "metadata": {
    "lang": "en"
   },
   "source": [
    "## If / Else in comprehension\n",
    "You can include an else statement with a block of code that is implemented if the condition is false."
   ]
  },
  {
   "cell_type": "code",
   "execution_count": 25,
   "id": "68fc2144",
   "metadata": {},
   "outputs": [
    {
     "data": {
      "text/plain": [
       "['BARCELONA', 'MADRID', 'GIRONA', 'MURCIA', 'zar']"
      ]
     },
     "execution_count": 25,
     "metadata": {},
     "output_type": "execute_result"
    }
   ],
   "source": [
    "list_of_words = [\"Barcelona\", \"Madrid\", \"Girona\", \"Murcia\", \"Zar\" ]\n",
    "\n",
    "# if length > 5: upper\n",
    "# if length < 5: lower\n",
    "\n",
    "new_list = []\n",
    "\n",
    "for i in list_of_words:\n",
    "    if len(i) > 5:\n",
    "        new_list.append(i.upper())\n",
    "    else:\n",
    "        new_list.append(i.lower())\n",
    "new_list"
   ]
  },
  {
   "cell_type": "code",
   "execution_count": 27,
   "id": "75ebd2cc",
   "metadata": {},
   "outputs": [
    {
     "data": {
      "text/plain": [
       "['BARCELONA', 'MADRID', 'GIRONA', 'MURCIA', 'zar']"
      ]
     },
     "execution_count": 27,
     "metadata": {},
     "output_type": "execute_result"
    }
   ],
   "source": [
    "new_list = [i.upper() if len(i) > 5 else i.lower() for i in list_of_words]\n",
    "new_list"
   ]
  },
  {
   "cell_type": "markdown",
   "id": "e5430c1d",
   "metadata": {
    "lang": "en"
   },
   "source": [
    "Be careful with the syntax, in this case it will change, the syntax of the comprehension will be:\n",
    "\n",
    "`[element if / else for element in whatever]`"
   ]
  },
  {
   "cell_type": "code",
   "execution_count": null,
   "id": "c3181b11",
   "metadata": {},
   "outputs": [],
   "source": [
    "# if / elif -> no"
   ]
  },
  {
   "cell_type": "code",
   "execution_count": 28,
   "id": "02104180",
   "metadata": {},
   "outputs": [
    {
     "data": {
      "text/plain": [
       "['BARCELONA', 'MADRID', 'GIRONA', 'MURCIA']"
      ]
     },
     "execution_count": 28,
     "metadata": {},
     "output_type": "execute_result"
    }
   ],
   "source": [
    "list_of_words = [\"Barcelona\", \"Madrid\", \"Girona\", \"Murcia\", \"Zar\" ]\n",
    "\n",
    "\n",
    "new_list = []\n",
    "\n",
    "for i in list_of_words:\n",
    "    if len(i) > 5:\n",
    "        if type(i) == str:\n",
    "            new_list.append(i.upper())\n",
    "new_list"
   ]
  },
  {
   "cell_type": "code",
   "execution_count": 30,
   "id": "29b39a54",
   "metadata": {},
   "outputs": [
    {
     "data": {
      "text/plain": [
       "['BARCELONA', 'MADRID', 'GIRONA', 'MURCIA', True]"
      ]
     },
     "execution_count": 30,
     "metadata": {},
     "output_type": "execute_result"
    }
   ],
   "source": [
    "new_list = [i.upper() if len(i) > 5 else type(i) == str for i in list_of_words]\n",
    "new_list"
   ]
  },
  {
   "cell_type": "markdown",
   "id": "6e95c674",
   "metadata": {
    "lang": "es"
   },
   "source": [
    "## Nested list comprehensions"
   ]
  },
  {
   "cell_type": "code",
   "execution_count": 36,
   "id": "de405011",
   "metadata": {},
   "outputs": [
    {
     "data": {
      "text/plain": [
       "[[1, 2], [3, 4], [5, 6]]"
      ]
     },
     "execution_count": 36,
     "metadata": {},
     "output_type": "execute_result"
    }
   ],
   "source": [
    "big_list = [[1, 2], [3, 4], [5, 6]]\n",
    "big_list"
   ]
  },
  {
   "cell_type": "code",
   "execution_count": null,
   "id": "a4192c66",
   "metadata": {},
   "outputs": [],
   "source": [
    "# flat_list = [1, 2, 3, 4, 5, 6]"
   ]
  },
  {
   "cell_type": "code",
   "execution_count": 39,
   "id": "b4d9bb4d",
   "metadata": {},
   "outputs": [
    {
     "data": {
      "text/plain": [
       "[1, 2, 3, 4, 5, 6]"
      ]
     },
     "execution_count": 39,
     "metadata": {},
     "output_type": "execute_result"
    }
   ],
   "source": [
    "flat_list = []\n",
    "\n",
    "for small_list in big_list:\n",
    "    for number in small_list:\n",
    "        flat_list.append(number)\n",
    "flat_list"
   ]
  },
  {
   "cell_type": "code",
   "execution_count": 41,
   "id": "a06aaf75",
   "metadata": {},
   "outputs": [
    {
     "data": {
      "text/plain": [
       "[1, 2, 3, 4, 5, 6]"
      ]
     },
     "execution_count": 41,
     "metadata": {},
     "output_type": "execute_result"
    }
   ],
   "source": [
    "flat_list = [number for small_list in big_list for number in small_list]\n",
    "flat_list"
   ]
  },
  {
   "cell_type": "markdown",
   "id": "18296b82",
   "metadata": {},
   "source": [
    "### For loop"
   ]
  },
  {
   "cell_type": "markdown",
   "id": "3dceac52",
   "metadata": {
    "lang": "en"
   },
   "source": [
    "Let's create a list of lists with a for loop"
   ]
  },
  {
   "cell_type": "code",
   "execution_count": null,
   "id": "ac81ffd2",
   "metadata": {},
   "outputs": [],
   "source": []
  },
  {
   "cell_type": "markdown",
   "id": "ac27117f",
   "metadata": {},
   "source": [
    "### Comprehension list: nested lists"
   ]
  },
  {
   "cell_type": "code",
   "execution_count": 43,
   "id": "7b417e31",
   "metadata": {},
   "outputs": [
    {
     "data": {
      "text/plain": [
       "[[[[1, 2], [3, 4], [5, 6]], [[1, 2], [3, 4], [5, 6]]],\n",
       " [[[1, 2], [3, 4], [5, 6]], [[1, 2], [3, 4], [5, 6]]]]"
      ]
     },
     "execution_count": 43,
     "metadata": {},
     "output_type": "execute_result"
    }
   ],
   "source": [
    "big_list = [[[[1, 2], [3, 4], [5, 6]], [[1, 2], [3, 4], [5, 6]]], [[[1, 2], [3, 4], [5, 6]], [[1, 2], [3, 4], [5, 6]]]]\n",
    "big_list"
   ]
  },
  {
   "cell_type": "code",
   "execution_count": 47,
   "id": "ec3fc86d",
   "metadata": {},
   "outputs": [
    {
     "data": {
      "text/plain": [
       "[1, 2, 3, 4, 5, 6, 1, 2, 3, 4, 5, 6, 1, 2, 3, 4, 5, 6, 1, 2, 3, 4, 5, 6]"
      ]
     },
     "execution_count": 47,
     "metadata": {},
     "output_type": "execute_result"
    }
   ],
   "source": [
    "new_list = [number for i in big_list for x in i for j in x for number in j]\n",
    "new_list"
   ]
  },
  {
   "cell_type": "markdown",
   "id": "90d83e6c",
   "metadata": {},
   "source": [
    "#### Unflattening a nested list with a for loop"
   ]
  },
  {
   "cell_type": "code",
   "execution_count": null,
   "id": "0d19069c",
   "metadata": {},
   "outputs": [],
   "source": []
  },
  {
   "cell_type": "markdown",
   "id": "e9c37ab7",
   "metadata": {},
   "source": [
    "#### Unflattening a nested list with a comprehension list"
   ]
  },
  {
   "cell_type": "code",
   "execution_count": null,
   "id": "54561bd4",
   "metadata": {},
   "outputs": [],
   "source": []
  },
  {
   "cell_type": "markdown",
   "id": "3cbc2ea4",
   "metadata": {
    "lang": "en"
   },
   "source": [
    "## Dictionary comprehensions"
   ]
  },
  {
   "cell_type": "markdown",
   "id": "a199d32c",
   "metadata": {
    "lang": "en"
   },
   "source": [
    "How would we do it with a normal loop?"
   ]
  },
  {
   "cell_type": "code",
   "execution_count": 48,
   "id": "33a452d2",
   "metadata": {},
   "outputs": [],
   "source": [
    "names = [\"Clara\", \"Albert\", \"Laura\"]\n",
    "emojis = [\"🙃\", \"☝️\", \"🫂\"]"
   ]
  },
  {
   "cell_type": "markdown",
   "id": "11a48040",
   "metadata": {},
   "source": [
    "### For loop"
   ]
  },
  {
   "cell_type": "code",
   "execution_count": 51,
   "id": "4a15be40",
   "metadata": {},
   "outputs": [],
   "source": [
    "# people_and_emojis = {\"Clara\": \"🙃\", \"Albert\": \"☝️\"}"
   ]
  },
  {
   "cell_type": "code",
   "execution_count": 53,
   "id": "89312a2f",
   "metadata": {},
   "outputs": [
    {
     "data": {
      "text/plain": [
       "{'Clara': '🙃', 'Albert': '☝️', 'Laura': '🫂'}"
      ]
     },
     "execution_count": 53,
     "metadata": {},
     "output_type": "execute_result"
    }
   ],
   "source": [
    "new_dict = {}\n",
    "\n",
    "for n, e in zip (names, emojis):\n",
    "    new_dict[n] = e # n:e\n",
    "    \n",
    "new_dict"
   ]
  },
  {
   "cell_type": "code",
   "execution_count": 54,
   "id": "4694d4da",
   "metadata": {},
   "outputs": [
    {
     "data": {
      "text/plain": [
       "{'Clara': '🙃', 'Albert': '☝️', 'Laura': '🫂'}"
      ]
     },
     "execution_count": 54,
     "metadata": {},
     "output_type": "execute_result"
    }
   ],
   "source": [
    "new_dict = {n:e for n, e in zip (names, emojis)}\n",
    "new_dict"
   ]
  },
  {
   "cell_type": "markdown",
   "id": "c8d2e4fa",
   "metadata": {
    "lang": "en"
   },
   "source": [
    "### Comprehension dict"
   ]
  },
  {
   "cell_type": "code",
   "execution_count": 55,
   "id": "1cd4fc87",
   "metadata": {},
   "outputs": [
    {
     "data": {
      "text/plain": [
       "['Barcelona', 'Madrid', 'Girona', 'Murcia', 'Zar']"
      ]
     },
     "execution_count": 55,
     "metadata": {},
     "output_type": "execute_result"
    }
   ],
   "source": [
    "list_of_words"
   ]
  },
  {
   "cell_type": "code",
   "execution_count": null,
   "id": "e21f047e",
   "metadata": {},
   "outputs": [],
   "source": [
    "{'Barcelona': 9,\n",
    " , 'Madrid': 6} \n",
    "\n",
    "{i: len(i)}"
   ]
  },
  {
   "cell_type": "code",
   "execution_count": 56,
   "id": "9c2145cc",
   "metadata": {},
   "outputs": [
    {
     "data": {
      "text/plain": [
       "{'Barcelona': 9, 'Madrid': 6, 'Girona': 6, 'Murcia': 6, 'Zar': 3}"
      ]
     },
     "execution_count": 56,
     "metadata": {},
     "output_type": "execute_result"
    }
   ],
   "source": [
    "new_dict = {}\n",
    "\n",
    "for i in list_of_words:\n",
    "    new_dict[i] = len(i)       # {i: len(i)}\n",
    "new_dict"
   ]
  },
  {
   "cell_type": "code",
   "execution_count": 57,
   "id": "3a9fa2da",
   "metadata": {},
   "outputs": [
    {
     "data": {
      "text/plain": [
       "{'Barcelona': 9, 'Madrid': 6, 'Girona': 6, 'Murcia': 6, 'Zar': 3}"
      ]
     },
     "execution_count": 57,
     "metadata": {},
     "output_type": "execute_result"
    }
   ],
   "source": [
    "new_dict = {i:len(i) for i in list_of_words}\n",
    "new_dict"
   ]
  },
  {
   "cell_type": "markdown",
   "id": "c33cdd0a",
   "metadata": {
    "lang": "en"
   },
   "source": [
    "## Challenge 🤔\n",
    "They give you a list of words. Write a dictionary containing the length of each word."
   ]
  },
  {
   "cell_type": "code",
   "execution_count": 59,
   "id": "db0de427",
   "metadata": {},
   "outputs": [
    {
     "data": {
      "text/plain": [
       "['es-91', 'en-88', 'fra-12', 'it-33', 'ar-55', 'it-34', 'es-98']"
      ]
     },
     "execution_count": 59,
     "metadata": {},
     "output_type": "execute_result"
    }
   ],
   "source": [
    "codes_countries = [\"es-91\", \"en-88\", \"fra-12\", \"it-33\", \"ar-55\", \"it-34\", \"es-98\"]\n",
    "codes_countries"
   ]
  },
  {
   "cell_type": "code",
   "execution_count": null,
   "id": "0104dc54",
   "metadata": {},
   "outputs": [],
   "source": [
    "# {ES, EN, FRA, IT, AR}"
   ]
  },
  {
   "cell_type": "code",
   "execution_count": 68,
   "id": "9ccf7bde",
   "metadata": {},
   "outputs": [
    {
     "data": {
      "text/plain": [
       "{'AR', 'EN', 'ES', 'FRA', 'IT'}"
      ]
     },
     "execution_count": 68,
     "metadata": {},
     "output_type": "execute_result"
    }
   ],
   "source": [
    "new_list = []\n",
    "\n",
    "for i in codes_countries:\n",
    "    country = i.split(\"-\")[0].upper()\n",
    "    new_list.append(country)\n",
    "\n",
    "new_list = set(new_list)\n",
    "new_list"
   ]
  },
  {
   "cell_type": "code",
   "execution_count": 69,
   "id": "43c68a36",
   "metadata": {},
   "outputs": [
    {
     "data": {
      "text/plain": [
       "{'AR', 'EN', 'ES', 'FRA', 'IT'}"
      ]
     },
     "execution_count": 69,
     "metadata": {},
     "output_type": "execute_result"
    }
   ],
   "source": [
    "comprehension_set = {i.split(\"-\")[0].upper() for i in codes_countries}\n",
    "comprehension_set"
   ]
  },
  {
   "cell_type": "code",
   "execution_count": 61,
   "id": "af59a2e7",
   "metadata": {},
   "outputs": [
    {
     "data": {
      "text/plain": [
       "'es-91'"
      ]
     },
     "execution_count": 61,
     "metadata": {},
     "output_type": "execute_result"
    }
   ],
   "source": [
    "example = codes_countries[0]\n",
    "example"
   ]
  },
  {
   "cell_type": "code",
   "execution_count": null,
   "id": "94fce8e1",
   "metadata": {},
   "outputs": [],
   "source": [
    "'es-91' # -> # ES\n",
    "\n",
    "# 1. Find es: OK\n",
    "# 2. Separate the text from the rest: OK\n",
    "# 3. uppercase: OK"
   ]
  },
  {
   "cell_type": "code",
   "execution_count": 65,
   "id": "5f43ae9f",
   "metadata": {},
   "outputs": [
    {
     "data": {
      "text/plain": [
       "'ES'"
      ]
     },
     "execution_count": 65,
     "metadata": {},
     "output_type": "execute_result"
    }
   ],
   "source": [
    "example.split(\"-\")[0].upper()"
   ]
  },
  {
   "cell_type": "markdown",
   "id": "6ecdeb74",
   "metadata": {},
   "source": [
    "### For loop"
   ]
  },
  {
   "cell_type": "code",
   "execution_count": null,
   "id": "bfbf642f",
   "metadata": {},
   "outputs": [],
   "source": []
  },
  {
   "cell_type": "markdown",
   "id": "c62375e0",
   "metadata": {},
   "source": [
    "### Comprehension dict"
   ]
  },
  {
   "cell_type": "code",
   "execution_count": null,
   "id": "1747bb00",
   "metadata": {},
   "outputs": [],
   "source": []
  },
  {
   "cell_type": "markdown",
   "id": "0389e710",
   "metadata": {
    "lang": "en"
   },
   "source": [
    "## Last Challenge: comprehension SET\n",
    "Also output, with a set comprehension, only unique country codes"
   ]
  },
  {
   "cell_type": "code",
   "execution_count": null,
   "id": "79bc189b",
   "metadata": {},
   "outputs": [],
   "source": []
  },
  {
   "cell_type": "markdown",
   "id": "19d8a0d8",
   "metadata": {},
   "source": [
    "# RECAP"
   ]
  },
  {
   "cell_type": "code",
   "execution_count": 70,
   "id": "f41a8143",
   "metadata": {},
   "outputs": [],
   "source": [
    "# use comprehensions whenever you want\n",
    "# you can always just use loops -> perfectly fine\n",
    "\n",
    "# new_list = [], appending, .... -> a little less effective\n",
    "    # loop more than comprehension -> loop\n"
   ]
  }
 ],
 "metadata": {
  "kernelspec": {
   "display_name": "ironhack",
   "language": "python",
   "name": "ironhack"
  },
  "language_info": {
   "codemirror_mode": {
    "name": "ipython",
    "version": 3
   },
   "file_extension": ".py",
   "mimetype": "text/x-python",
   "name": "python",
   "nbconvert_exporter": "python",
   "pygments_lexer": "ipython3",
   "version": "3.9.12"
  },
  "nbTranslate": {
   "displayLangs": [
    "en",
    "es"
   ],
   "hotkey": "alt-a",
   "langInMainMenu": true,
   "sourceLang": "es",
   "targetLang": "en",
   "useGoogleTranslate": true
  },
  "toc": {
   "base_numbering": 1,
   "nav_menu": {},
   "number_sections": true,
   "sideBar": false,
   "skip_h1_title": true,
   "title_cell": "Table of Contents",
   "title_sidebar": "Contents",
   "toc_cell": false,
   "toc_position": {
    "height": "466px",
    "left": "91px",
    "top": "111.125px",
    "width": "256px"
   },
   "toc_section_display": true,
   "toc_window_display": false
  }
 },
 "nbformat": 4,
 "nbformat_minor": 5
}
