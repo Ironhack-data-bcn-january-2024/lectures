{
 "cells": [
  {
   "cell_type": "markdown",
   "id": "2b52a763",
   "metadata": {
    "lang": "en"
   },
   "source": [
    "# Intro to Machine Learning"
   ]
  },
  {
   "cell_type": "markdown",
   "id": "aerial-american",
   "metadata": {},
   "source": [
    "![elgifderigor](https://media.giphy.com/media/NsBknNwmmWE8WU1q2U/giphy.gif)"
   ]
  },
  {
   "cell_type": "markdown",
   "id": "simple-vault",
   "metadata": {
    "toc": true
   },
   "source": [
    "<h1>Table of Contents<span class=\"tocSkip\"></span></h1>\n",
    "<div class=\"toc\"><ul class=\"toc-item\"><li><span><a href=\"#Some-concepts\" data-toc-modified-id=\"Some-concepts-1\"><span class=\"toc-item-num\">1&nbsp;&nbsp;</span>Some concepts</a></span><ul class=\"toc-item\"><li><span><a href=\"#Estimators\" data-toc-modified-id=\"Estimators-1.1\"><span class=\"toc-item-num\">1.1&nbsp;&nbsp;</span>Estimators</a></span></li><li><span><a href=\"#Bias-Error\" data-toc-modified-id=\"Bias-Error-1.2\"><span class=\"toc-item-num\">1.2&nbsp;&nbsp;</span>Bias Error</a></span></li><li><span><a href=\"#Variance-Error\" data-toc-modified-id=\"Variance-Error-1.3\"><span class=\"toc-item-num\">1.3&nbsp;&nbsp;</span>Variance Error</a></span></li></ul></li><li><span><a href=\"#Types-of-Machine-Learning\" data-toc-modified-id=\"Types-of-Machine-Learning-2\"><span class=\"toc-item-num\">2&nbsp;&nbsp;</span>Types of Machine Learning</a></span></li><li><span><a href=\"#Features\" data-toc-modified-id=\"Features-3\"><span class=\"toc-item-num\">3&nbsp;&nbsp;</span>Features</a></span></li><li><span><a href=\"#Underfitting-and-Overfitting\" data-toc-modified-id=\"Underfitting-and-Overfitting-4\"><span class=\"toc-item-num\">4&nbsp;&nbsp;</span>Underfitting and Overfitting</a></span></li><li><span><a href=\"#Let's-do-it?\" data-toc-modified-id=\"Let's-do-it?-5\"><span class=\"toc-item-num\">5&nbsp;&nbsp;</span>Let's do it?</a></span><ul class=\"toc-item\"><li><span><a href=\"#Let's-practice-ML-with-a-regression-example\" data-toc-modified-id=\"Let's-practice-ML-with-a-regression-example-5.1\"><span class=\"toc-item-num\">5.1&nbsp;&nbsp;</span>Let's practice ML with a regression example</a></span></li><li><span><a href=\"#We-load-a-dataset\" data-toc-modified-id=\"We-load-a-dataset-5.2\"><span class=\"toc-item-num\">5.2&nbsp;&nbsp;</span>We load a dataset</a></span></li><li><span><a href=\"#Train-/-Test-Split---What-is-this?\" data-toc-modified-id=\"Train-/-Test-Split---What-is-this?-5.3\"><span class=\"toc-item-num\">5.3&nbsp;&nbsp;</span>Train / Test Split - What is this?</a></span></li><li><span><a href=\"#Preparing-data-for-train-test-split\" data-toc-modified-id=\"Preparing-data-for-train-test-split-5.4\"><span class=\"toc-item-num\">5.4&nbsp;&nbsp;</span>Preparing data for train test split</a></span></li><li><span><a href=\"#Optional-train-test-split-parameters\" data-toc-modified-id=\"Optional-train-test-split-parameters-5.5\"><span class=\"toc-item-num\">5.5&nbsp;&nbsp;</span>Optional train test split parameters</a></span></li><li><span><a href=\"#We-already-have-the-dataset-divided,-now-we-are-going-to-import-a-model-and-train-it\" data-toc-modified-id=\"We-already-have-the-dataset-divided,-now-we-are-going-to-import-a-model-and-train-it-5.6\"><span class=\"toc-item-num\">5.6&nbsp;&nbsp;</span>We already have the dataset divided, now we are going to import a model and train it</a></span></li><li><span><a href=\"#We-create-our-predictions\" data-toc-modified-id=\"We-create-our-predictions-5.7\"><span class=\"toc-item-num\">5.7&nbsp;&nbsp;</span>We create our predictions</a></span></li><li><span><a href=\"#We-measure-our-model\" data-toc-modified-id=\"We-measure-our-model-5.8\"><span class=\"toc-item-num\">5.8&nbsp;&nbsp;</span>We measure our model</a></span><ul class=\"toc-item\"><li><span><a href=\"#Example-with-a-real-case-of-a-colleague-who-gives-me-data-from-a-house-in-Boston\" data-toc-modified-id=\"Example-with-a-real-case-of-a-colleague-who-gives-me-data-from-a-house-in-Boston-5.8.1\"><span class=\"toc-item-num\">5.8.1&nbsp;&nbsp;</span>Example with a real case of a colleague who gives me data from a house in Boston</a></span></li></ul></li></ul></li><li><span><a href=\"#Extra!-Training-different-models-at-the-same-time\" data-toc-modified-id=\"Extra!-Training-different-models-at-the-same-time-6\"><span class=\"toc-item-num\">6&nbsp;&nbsp;</span>Extra! Training different models at the same time</a></span><ul class=\"toc-item\"><li><span><a href=\"#Store-all-the-models-we-are-going-to-train-in-a-dictionary\" data-toc-modified-id=\"Store-all-the-models-we-are-going-to-train-in-a-dictionary-6.1\"><span class=\"toc-item-num\">6.1&nbsp;&nbsp;</span>Store all the models we are going to train in a dictionary</a></span></li><li><span><a href=\"#Iterate-over-the-models-to-train-them\" data-toc-modified-id=\"Iterate-over-the-models-to-train-them-6.2\"><span class=\"toc-item-num\">6.2&nbsp;&nbsp;</span>Iterate over the models to train them</a></span></li></ul></li><li><span><a href=\"#Cross-Validation\" data-toc-modified-id=\"Cross-Validation-7\"><span class=\"toc-item-num\">7&nbsp;&nbsp;</span>Cross Validation</a></span><ul class=\"toc-item\"><li><span><a href=\"#We-make-CV-to-a-single-model\" data-toc-modified-id=\"We-make-CV-to-a-single-model-7.1\"><span class=\"toc-item-num\">7.1&nbsp;&nbsp;</span>We make CV to a single model</a></span></li><li><span><a href=\"#CV-looping-through-all-models\" data-toc-modified-id=\"CV-looping-through-all-models-7.2\"><span class=\"toc-item-num\">7.2&nbsp;&nbsp;</span>CV looping through all models</a></span></li></ul></li><li><span><a href=\"#Feature-Selection\" data-toc-modified-id=\"Feature-Selection-8\"><span class=\"toc-item-num\">8&nbsp;&nbsp;</span>Feature Selection</a></span></li><li><span><a href=\"#Summary\" data-toc-modified-id=\"Summary-9\"><span class=\"toc-item-num\">9&nbsp;&nbsp;</span>Summary</a></span></li></ul></div>"
   ]
  },
  {
   "cell_type": "markdown",
   "id": "d25fa2aa",
   "metadata": {},
   "source": [
    "![sklearn](../images/ext_sklearn.jpeg)"
   ]
  },
  {
   "cell_type": "markdown",
   "id": "74b42919",
   "metadata": {},
   "source": [
    "[Mar I/O](https://www.youtube.com/watch?v=qv6UVOQ0F44&ab_channel=SethBling)"
   ]
  },
  {
   "cell_type": "markdown",
   "id": "7fe8bdd5",
   "metadata": {
    "lang": "en"
   },
   "source": [
    "## Some concepts\n",
    "To understand how a machine learning algorithm learns from data to predict an outcome, it is essential to understand the underlying concepts that go into training an algorithm."
   ]
  },
  {
   "cell_type": "markdown",
   "id": "ab999f7d",
   "metadata": {
    "lang": "en"
   },
   "source": [
    "### Estimators\n",
    "Estimate is a statistical term for finding some estimate of an unknown parameter, given some data. Point estimation is the attempt to provide the best prediction of some quantity of interest.\n",
    "The amount of interest can be:\n",
    " - A single parameter\n",
    " - A vector of parameters - for example, the weights in linear regression\n",
    " - A full function\n",
    "\n",
    "### Bias Error\n",
    "\n",
    "It is the difference between the expected prediction of our model and the true values. Although in the end our goal is always to build models that can predict data very close to the true values, it is not always that easy because some algorithms are simply too rigid to learn complex signals from the data set.\n",
    "\n",
    "Imagine fitting a linear regression to a data set that has a non-linear pattern, no matter how many more observations you collect, a linear regression will not be able to model the curves on that data. This is known as underfitting.\n",
    "\n",
    "In general, parametric algorithms like linear regression have a high bias that makes them quick to learn and easier to understand, but generally less flexible. In turn, they have a lower predictive performance in complex problems.\n",
    "\n",
    "### Variance Error\n",
    "\n",
    "It refers to the amount that the estimate of the objective function will change if different training data is used. The objective function is estimated from the training data by a Machine Learning algorithm, so we should expect the algorithm to have some variance. Ideally it shouldn't change too much from one training dataset to another, which means the algorithm is good at choosing the hidden underlying mapping between the input and output variables.\n",
    "\n",
    "Machine learning algorithms that have a large variance are heavily influenced by the details of the training data, this means that the details of the training influence the number and types of parameters used to characterize the mapping function.\n",
    "\n",
    "Generally, non-parametric machine learning algorithms that have a lot of flexibility have a lot of variation.\n",
    "\n",
    "- Low variance: suggests small changes in the estimate of the objective function with changes in the training data set.\n",
    "- High variance: suggests large changes in the estimate of the objective function with changes in the training data set.\n",
    "Low variance machine learning algorithms include: linear regression, linear discriminant analysis, and logistic regression.\n",
    "\n",
    "On the other hand, the algorithms with high variance are: decision trees, k-nearest neighbors and support vector machines."
   ]
  },
  {
   "cell_type": "markdown",
   "id": "f6ee9c76",
   "metadata": {},
   "source": [
    "<img src=\"https://nvsyashwanth.github.io/machinelearningmaster/assets/images/bias_variance.jpg\" width=\"400\">"
   ]
  },
  {
   "cell_type": "markdown",
   "id": "94b75a54",
   "metadata": {
    "lang": "en"
   },
   "source": [
    "## Types of Machine Learning\n",
    "**- Supervised**\n",
    "The model is trained with labeled data, that is, with data whose basic truth is known. When presented with data and a label, the model infers patterns.\n",
    "\n",
    "**- Unsupervised**\n",
    "There are no basic truths. The model looks for previously undetected patterns, with which to separate the different data points into different clusters.\n",
    "\n",
    "**- Reinforcement**\n",
    "There is also no basic truth. The model's action is valued and a reward or punishment is given accordingly. The goal of the model is to get as many rewards as possible."
   ]
  },
  {
   "cell_type": "markdown",
   "id": "794bb12e",
   "metadata": {
    "lang": "en"
   },
   "source": [
    "## Features\n",
    "**Features** are independent individual variables that act as input to your system. Prediction models use features to\n",
    "make predictions.\n",
    "\n",
    "**Target**\n",
    "The goal is the output of the input variables. They can be the individual classes to which the input variables are assigned in the case of a classification problem or the range of output values ​​in a regression problem."
   ]
  },
  {
   "cell_type": "markdown",
   "id": "b69f061c",
   "metadata": {
    "lang": "en"
   },
   "source": [
    "## Underfitting and Overfitting\n",
    "Splitting a data set can also be important to detect if your model suffers from one of two common problems, called underfitting and overfitting:\n",
    "\n",
    "**underfitting** is usually the consequence of a model being unable to encapsulate relationships between data. For example, this can occur when trying to represent nonlinear relationships with a linear model. Underfitted models are likely to perform poorly on both the training and test sets.\n",
    "\n",
    "**overfitting** usually occurs when a model has an excessively complex structure and learns both relationships between data and noise. These models tend to have poor generalization ability. Although they work well with training data, they tend to perform poorly with unseen (test) data."
   ]
  },
  {
   "cell_type": "markdown",
   "id": "42891daf",
   "metadata": {},
   "source": [
    "<img src=\"https://community.alteryx.com/t5/image/serverpage/image-id/52874iE986B6E19F3248CF?v=v2\" width=\"500\">"
   ]
  },
  {
   "cell_type": "markdown",
   "id": "1d818b71",
   "metadata": {
    "lang": "en"
   },
   "source": [
    "Bias and variance in machine learning --> https://www.analyticslane.com/2019/05/24/the-concepts-of-bias-and-variance-in-machine-learning/"
   ]
  },
  {
   "cell_type": "markdown",
   "id": "97bb69f4",
   "metadata": {
    "lang": "en"
   },
   "source": [
    "## Let's do it?"
   ]
  },
  {
   "cell_type": "markdown",
   "id": "e3cc9340",
   "metadata": {
    "lang": "en"
   },
   "source": [
    "### Let's practice ML with a regression example"
   ]
  },
  {
   "cell_type": "code",
   "execution_count": 1,
   "id": "8eba2240",
   "metadata": {},
   "outputs": [],
   "source": [
    "import pandas as pd\n",
    "import seaborn as sns\n",
    "import numpy as np\n",
    "import plotly.graph_objects as go\n",
    "from sklearn.linear_model import LinearRegression\n",
    "from sklearn.datasets import make_regression"
   ]
  },
  {
   "cell_type": "code",
   "execution_count": 3,
   "id": "71991430",
   "metadata": {},
   "outputs": [
    {
     "data": {
      "text/html": [
       "<div>\n",
       "<style scoped>\n",
       "    .dataframe tbody tr th:only-of-type {\n",
       "        vertical-align: middle;\n",
       "    }\n",
       "\n",
       "    .dataframe tbody tr th {\n",
       "        vertical-align: top;\n",
       "    }\n",
       "\n",
       "    .dataframe thead th {\n",
       "        text-align: right;\n",
       "    }\n",
       "</style>\n",
       "<table border=\"1\" class=\"dataframe\">\n",
       "  <thead>\n",
       "    <tr style=\"text-align: right;\">\n",
       "      <th></th>\n",
       "      <th>CRIM</th>\n",
       "      <th>ZN</th>\n",
       "      <th>INDUS</th>\n",
       "      <th>CHAS</th>\n",
       "      <th>NOX</th>\n",
       "      <th>RM</th>\n",
       "      <th>AGE</th>\n",
       "      <th>DIS</th>\n",
       "      <th>RAD</th>\n",
       "      <th>TAX</th>\n",
       "      <th>PTRATIO</th>\n",
       "      <th>B</th>\n",
       "      <th>LSTAT</th>\n",
       "      <th>MEDV</th>\n",
       "    </tr>\n",
       "  </thead>\n",
       "  <tbody>\n",
       "    <tr>\n",
       "      <th>0</th>\n",
       "      <td>0.00632</td>\n",
       "      <td>18.0</td>\n",
       "      <td>2.31</td>\n",
       "      <td>0.0</td>\n",
       "      <td>0.538</td>\n",
       "      <td>6.575</td>\n",
       "      <td>65.2</td>\n",
       "      <td>4.0900</td>\n",
       "      <td>1.0</td>\n",
       "      <td>296.0</td>\n",
       "      <td>15.3</td>\n",
       "      <td>396.90</td>\n",
       "      <td>4.98</td>\n",
       "      <td>24.0</td>\n",
       "    </tr>\n",
       "    <tr>\n",
       "      <th>1</th>\n",
       "      <td>0.02731</td>\n",
       "      <td>0.0</td>\n",
       "      <td>7.07</td>\n",
       "      <td>0.0</td>\n",
       "      <td>0.469</td>\n",
       "      <td>6.421</td>\n",
       "      <td>78.9</td>\n",
       "      <td>4.9671</td>\n",
       "      <td>2.0</td>\n",
       "      <td>242.0</td>\n",
       "      <td>17.8</td>\n",
       "      <td>396.90</td>\n",
       "      <td>9.14</td>\n",
       "      <td>21.6</td>\n",
       "    </tr>\n",
       "    <tr>\n",
       "      <th>2</th>\n",
       "      <td>0.02729</td>\n",
       "      <td>0.0</td>\n",
       "      <td>7.07</td>\n",
       "      <td>0.0</td>\n",
       "      <td>0.469</td>\n",
       "      <td>7.185</td>\n",
       "      <td>61.1</td>\n",
       "      <td>4.9671</td>\n",
       "      <td>2.0</td>\n",
       "      <td>242.0</td>\n",
       "      <td>17.8</td>\n",
       "      <td>392.83</td>\n",
       "      <td>4.03</td>\n",
       "      <td>34.7</td>\n",
       "    </tr>\n",
       "    <tr>\n",
       "      <th>3</th>\n",
       "      <td>0.03237</td>\n",
       "      <td>0.0</td>\n",
       "      <td>2.18</td>\n",
       "      <td>0.0</td>\n",
       "      <td>0.458</td>\n",
       "      <td>6.998</td>\n",
       "      <td>45.8</td>\n",
       "      <td>6.0622</td>\n",
       "      <td>3.0</td>\n",
       "      <td>222.0</td>\n",
       "      <td>18.7</td>\n",
       "      <td>394.63</td>\n",
       "      <td>2.94</td>\n",
       "      <td>33.4</td>\n",
       "    </tr>\n",
       "    <tr>\n",
       "      <th>4</th>\n",
       "      <td>0.06905</td>\n",
       "      <td>0.0</td>\n",
       "      <td>2.18</td>\n",
       "      <td>0.0</td>\n",
       "      <td>0.458</td>\n",
       "      <td>7.147</td>\n",
       "      <td>54.2</td>\n",
       "      <td>6.0622</td>\n",
       "      <td>3.0</td>\n",
       "      <td>222.0</td>\n",
       "      <td>18.7</td>\n",
       "      <td>396.90</td>\n",
       "      <td>5.33</td>\n",
       "      <td>36.2</td>\n",
       "    </tr>\n",
       "    <tr>\n",
       "      <th>...</th>\n",
       "      <td>...</td>\n",
       "      <td>...</td>\n",
       "      <td>...</td>\n",
       "      <td>...</td>\n",
       "      <td>...</td>\n",
       "      <td>...</td>\n",
       "      <td>...</td>\n",
       "      <td>...</td>\n",
       "      <td>...</td>\n",
       "      <td>...</td>\n",
       "      <td>...</td>\n",
       "      <td>...</td>\n",
       "      <td>...</td>\n",
       "      <td>...</td>\n",
       "    </tr>\n",
       "    <tr>\n",
       "      <th>501</th>\n",
       "      <td>0.06263</td>\n",
       "      <td>0.0</td>\n",
       "      <td>11.93</td>\n",
       "      <td>0.0</td>\n",
       "      <td>0.573</td>\n",
       "      <td>6.593</td>\n",
       "      <td>69.1</td>\n",
       "      <td>2.4786</td>\n",
       "      <td>1.0</td>\n",
       "      <td>273.0</td>\n",
       "      <td>21.0</td>\n",
       "      <td>391.99</td>\n",
       "      <td>9.67</td>\n",
       "      <td>22.4</td>\n",
       "    </tr>\n",
       "    <tr>\n",
       "      <th>502</th>\n",
       "      <td>0.04527</td>\n",
       "      <td>0.0</td>\n",
       "      <td>11.93</td>\n",
       "      <td>0.0</td>\n",
       "      <td>0.573</td>\n",
       "      <td>6.120</td>\n",
       "      <td>76.7</td>\n",
       "      <td>2.2875</td>\n",
       "      <td>1.0</td>\n",
       "      <td>273.0</td>\n",
       "      <td>21.0</td>\n",
       "      <td>396.90</td>\n",
       "      <td>9.08</td>\n",
       "      <td>20.6</td>\n",
       "    </tr>\n",
       "    <tr>\n",
       "      <th>503</th>\n",
       "      <td>0.06076</td>\n",
       "      <td>0.0</td>\n",
       "      <td>11.93</td>\n",
       "      <td>0.0</td>\n",
       "      <td>0.573</td>\n",
       "      <td>6.976</td>\n",
       "      <td>91.0</td>\n",
       "      <td>2.1675</td>\n",
       "      <td>1.0</td>\n",
       "      <td>273.0</td>\n",
       "      <td>21.0</td>\n",
       "      <td>396.90</td>\n",
       "      <td>5.64</td>\n",
       "      <td>23.9</td>\n",
       "    </tr>\n",
       "    <tr>\n",
       "      <th>504</th>\n",
       "      <td>0.10959</td>\n",
       "      <td>0.0</td>\n",
       "      <td>11.93</td>\n",
       "      <td>0.0</td>\n",
       "      <td>0.573</td>\n",
       "      <td>6.794</td>\n",
       "      <td>89.3</td>\n",
       "      <td>2.3889</td>\n",
       "      <td>1.0</td>\n",
       "      <td>273.0</td>\n",
       "      <td>21.0</td>\n",
       "      <td>393.45</td>\n",
       "      <td>6.48</td>\n",
       "      <td>22.0</td>\n",
       "    </tr>\n",
       "    <tr>\n",
       "      <th>505</th>\n",
       "      <td>0.04741</td>\n",
       "      <td>0.0</td>\n",
       "      <td>11.93</td>\n",
       "      <td>0.0</td>\n",
       "      <td>0.573</td>\n",
       "      <td>6.030</td>\n",
       "      <td>80.8</td>\n",
       "      <td>2.5050</td>\n",
       "      <td>1.0</td>\n",
       "      <td>273.0</td>\n",
       "      <td>21.0</td>\n",
       "      <td>396.90</td>\n",
       "      <td>7.88</td>\n",
       "      <td>11.9</td>\n",
       "    </tr>\n",
       "  </tbody>\n",
       "</table>\n",
       "<p>506 rows × 14 columns</p>\n",
       "</div>"
      ],
      "text/plain": [
       "        CRIM    ZN  INDUS  CHAS    NOX     RM   AGE     DIS  RAD    TAX   \n",
       "0    0.00632  18.0   2.31   0.0  0.538  6.575  65.2  4.0900  1.0  296.0  \\\n",
       "1    0.02731   0.0   7.07   0.0  0.469  6.421  78.9  4.9671  2.0  242.0   \n",
       "2    0.02729   0.0   7.07   0.0  0.469  7.185  61.1  4.9671  2.0  242.0   \n",
       "3    0.03237   0.0   2.18   0.0  0.458  6.998  45.8  6.0622  3.0  222.0   \n",
       "4    0.06905   0.0   2.18   0.0  0.458  7.147  54.2  6.0622  3.0  222.0   \n",
       "..       ...   ...    ...   ...    ...    ...   ...     ...  ...    ...   \n",
       "501  0.06263   0.0  11.93   0.0  0.573  6.593  69.1  2.4786  1.0  273.0   \n",
       "502  0.04527   0.0  11.93   0.0  0.573  6.120  76.7  2.2875  1.0  273.0   \n",
       "503  0.06076   0.0  11.93   0.0  0.573  6.976  91.0  2.1675  1.0  273.0   \n",
       "504  0.10959   0.0  11.93   0.0  0.573  6.794  89.3  2.3889  1.0  273.0   \n",
       "505  0.04741   0.0  11.93   0.0  0.573  6.030  80.8  2.5050  1.0  273.0   \n",
       "\n",
       "     PTRATIO       B  LSTAT  MEDV  \n",
       "0       15.3  396.90   4.98  24.0  \n",
       "1       17.8  396.90   9.14  21.6  \n",
       "2       17.8  392.83   4.03  34.7  \n",
       "3       18.7  394.63   2.94  33.4  \n",
       "4       18.7  396.90   5.33  36.2  \n",
       "..       ...     ...    ...   ...  \n",
       "501     21.0  391.99   9.67  22.4  \n",
       "502     21.0  396.90   9.08  20.6  \n",
       "503     21.0  396.90   5.64  23.9  \n",
       "504     21.0  393.45   6.48  22.0  \n",
       "505     21.0  396.90   7.88  11.9  \n",
       "\n",
       "[506 rows x 14 columns]"
      ]
     },
     "execution_count": 3,
     "metadata": {},
     "output_type": "execute_result"
    }
   ],
   "source": [
    "boston = pd.read_csv(\"../datasets/boston.csv\")\n",
    "boston"
   ]
  },
  {
   "cell_type": "code",
   "execution_count": 6,
   "id": "92644f4e",
   "metadata": {},
   "outputs": [
    {
     "data": {
      "text/html": [
       "<div>\n",
       "<style scoped>\n",
       "    .dataframe tbody tr th:only-of-type {\n",
       "        vertical-align: middle;\n",
       "    }\n",
       "\n",
       "    .dataframe tbody tr th {\n",
       "        vertical-align: top;\n",
       "    }\n",
       "\n",
       "    .dataframe thead th {\n",
       "        text-align: right;\n",
       "    }\n",
       "</style>\n",
       "<table border=\"1\" class=\"dataframe\">\n",
       "  <thead>\n",
       "    <tr style=\"text-align: right;\">\n",
       "      <th></th>\n",
       "      <th>CRIM</th>\n",
       "      <th>ZN</th>\n",
       "      <th>INDUS</th>\n",
       "      <th>CHAS</th>\n",
       "      <th>NOX</th>\n",
       "      <th>RM</th>\n",
       "      <th>AGE</th>\n",
       "      <th>DIS</th>\n",
       "      <th>RAD</th>\n",
       "      <th>TAX</th>\n",
       "      <th>PTRATIO</th>\n",
       "      <th>B</th>\n",
       "      <th>LSTAT</th>\n",
       "      <th>MEDV</th>\n",
       "    </tr>\n",
       "  </thead>\n",
       "  <tbody>\n",
       "    <tr>\n",
       "      <th>CRIM</th>\n",
       "      <td>1.000000</td>\n",
       "      <td>-0.200469</td>\n",
       "      <td>0.406583</td>\n",
       "      <td>-0.055892</td>\n",
       "      <td>0.420972</td>\n",
       "      <td>-0.219247</td>\n",
       "      <td>0.352734</td>\n",
       "      <td>-0.379670</td>\n",
       "      <td>0.625505</td>\n",
       "      <td>0.582764</td>\n",
       "      <td>0.289946</td>\n",
       "      <td>-0.385064</td>\n",
       "      <td>0.455621</td>\n",
       "      <td>-0.388305</td>\n",
       "    </tr>\n",
       "    <tr>\n",
       "      <th>ZN</th>\n",
       "      <td>-0.200469</td>\n",
       "      <td>1.000000</td>\n",
       "      <td>-0.533828</td>\n",
       "      <td>-0.042697</td>\n",
       "      <td>-0.516604</td>\n",
       "      <td>0.311991</td>\n",
       "      <td>-0.569537</td>\n",
       "      <td>0.664408</td>\n",
       "      <td>-0.311948</td>\n",
       "      <td>-0.314563</td>\n",
       "      <td>-0.391679</td>\n",
       "      <td>0.175520</td>\n",
       "      <td>-0.412995</td>\n",
       "      <td>0.360445</td>\n",
       "    </tr>\n",
       "    <tr>\n",
       "      <th>INDUS</th>\n",
       "      <td>0.406583</td>\n",
       "      <td>-0.533828</td>\n",
       "      <td>1.000000</td>\n",
       "      <td>0.062938</td>\n",
       "      <td>0.763651</td>\n",
       "      <td>-0.391676</td>\n",
       "      <td>0.644779</td>\n",
       "      <td>-0.708027</td>\n",
       "      <td>0.595129</td>\n",
       "      <td>0.720760</td>\n",
       "      <td>0.383248</td>\n",
       "      <td>-0.356977</td>\n",
       "      <td>0.603800</td>\n",
       "      <td>-0.483725</td>\n",
       "    </tr>\n",
       "    <tr>\n",
       "      <th>CHAS</th>\n",
       "      <td>-0.055892</td>\n",
       "      <td>-0.042697</td>\n",
       "      <td>0.062938</td>\n",
       "      <td>1.000000</td>\n",
       "      <td>0.091203</td>\n",
       "      <td>0.091251</td>\n",
       "      <td>0.086518</td>\n",
       "      <td>-0.099176</td>\n",
       "      <td>-0.007368</td>\n",
       "      <td>-0.035587</td>\n",
       "      <td>-0.121515</td>\n",
       "      <td>0.048788</td>\n",
       "      <td>-0.053929</td>\n",
       "      <td>0.175260</td>\n",
       "    </tr>\n",
       "    <tr>\n",
       "      <th>NOX</th>\n",
       "      <td>0.420972</td>\n",
       "      <td>-0.516604</td>\n",
       "      <td>0.763651</td>\n",
       "      <td>0.091203</td>\n",
       "      <td>1.000000</td>\n",
       "      <td>-0.302188</td>\n",
       "      <td>0.731470</td>\n",
       "      <td>-0.769230</td>\n",
       "      <td>0.611441</td>\n",
       "      <td>0.668023</td>\n",
       "      <td>0.188933</td>\n",
       "      <td>-0.380051</td>\n",
       "      <td>0.590879</td>\n",
       "      <td>-0.427321</td>\n",
       "    </tr>\n",
       "    <tr>\n",
       "      <th>RM</th>\n",
       "      <td>-0.219247</td>\n",
       "      <td>0.311991</td>\n",
       "      <td>-0.391676</td>\n",
       "      <td>0.091251</td>\n",
       "      <td>-0.302188</td>\n",
       "      <td>1.000000</td>\n",
       "      <td>-0.240265</td>\n",
       "      <td>0.205246</td>\n",
       "      <td>-0.209847</td>\n",
       "      <td>-0.292048</td>\n",
       "      <td>-0.355501</td>\n",
       "      <td>0.128069</td>\n",
       "      <td>-0.613808</td>\n",
       "      <td>0.695360</td>\n",
       "    </tr>\n",
       "    <tr>\n",
       "      <th>AGE</th>\n",
       "      <td>0.352734</td>\n",
       "      <td>-0.569537</td>\n",
       "      <td>0.644779</td>\n",
       "      <td>0.086518</td>\n",
       "      <td>0.731470</td>\n",
       "      <td>-0.240265</td>\n",
       "      <td>1.000000</td>\n",
       "      <td>-0.747881</td>\n",
       "      <td>0.456022</td>\n",
       "      <td>0.506456</td>\n",
       "      <td>0.261515</td>\n",
       "      <td>-0.273534</td>\n",
       "      <td>0.602339</td>\n",
       "      <td>-0.376955</td>\n",
       "    </tr>\n",
       "    <tr>\n",
       "      <th>DIS</th>\n",
       "      <td>-0.379670</td>\n",
       "      <td>0.664408</td>\n",
       "      <td>-0.708027</td>\n",
       "      <td>-0.099176</td>\n",
       "      <td>-0.769230</td>\n",
       "      <td>0.205246</td>\n",
       "      <td>-0.747881</td>\n",
       "      <td>1.000000</td>\n",
       "      <td>-0.494588</td>\n",
       "      <td>-0.534432</td>\n",
       "      <td>-0.232471</td>\n",
       "      <td>0.291512</td>\n",
       "      <td>-0.496996</td>\n",
       "      <td>0.249929</td>\n",
       "    </tr>\n",
       "    <tr>\n",
       "      <th>RAD</th>\n",
       "      <td>0.625505</td>\n",
       "      <td>-0.311948</td>\n",
       "      <td>0.595129</td>\n",
       "      <td>-0.007368</td>\n",
       "      <td>0.611441</td>\n",
       "      <td>-0.209847</td>\n",
       "      <td>0.456022</td>\n",
       "      <td>-0.494588</td>\n",
       "      <td>1.000000</td>\n",
       "      <td>0.910228</td>\n",
       "      <td>0.464741</td>\n",
       "      <td>-0.444413</td>\n",
       "      <td>0.488676</td>\n",
       "      <td>-0.381626</td>\n",
       "    </tr>\n",
       "    <tr>\n",
       "      <th>TAX</th>\n",
       "      <td>0.582764</td>\n",
       "      <td>-0.314563</td>\n",
       "      <td>0.720760</td>\n",
       "      <td>-0.035587</td>\n",
       "      <td>0.668023</td>\n",
       "      <td>-0.292048</td>\n",
       "      <td>0.506456</td>\n",
       "      <td>-0.534432</td>\n",
       "      <td>0.910228</td>\n",
       "      <td>1.000000</td>\n",
       "      <td>0.460853</td>\n",
       "      <td>-0.441808</td>\n",
       "      <td>0.543993</td>\n",
       "      <td>-0.468536</td>\n",
       "    </tr>\n",
       "    <tr>\n",
       "      <th>PTRATIO</th>\n",
       "      <td>0.289946</td>\n",
       "      <td>-0.391679</td>\n",
       "      <td>0.383248</td>\n",
       "      <td>-0.121515</td>\n",
       "      <td>0.188933</td>\n",
       "      <td>-0.355501</td>\n",
       "      <td>0.261515</td>\n",
       "      <td>-0.232471</td>\n",
       "      <td>0.464741</td>\n",
       "      <td>0.460853</td>\n",
       "      <td>1.000000</td>\n",
       "      <td>-0.177383</td>\n",
       "      <td>0.374044</td>\n",
       "      <td>-0.507787</td>\n",
       "    </tr>\n",
       "    <tr>\n",
       "      <th>B</th>\n",
       "      <td>-0.385064</td>\n",
       "      <td>0.175520</td>\n",
       "      <td>-0.356977</td>\n",
       "      <td>0.048788</td>\n",
       "      <td>-0.380051</td>\n",
       "      <td>0.128069</td>\n",
       "      <td>-0.273534</td>\n",
       "      <td>0.291512</td>\n",
       "      <td>-0.444413</td>\n",
       "      <td>-0.441808</td>\n",
       "      <td>-0.177383</td>\n",
       "      <td>1.000000</td>\n",
       "      <td>-0.366087</td>\n",
       "      <td>0.333461</td>\n",
       "    </tr>\n",
       "    <tr>\n",
       "      <th>LSTAT</th>\n",
       "      <td>0.455621</td>\n",
       "      <td>-0.412995</td>\n",
       "      <td>0.603800</td>\n",
       "      <td>-0.053929</td>\n",
       "      <td>0.590879</td>\n",
       "      <td>-0.613808</td>\n",
       "      <td>0.602339</td>\n",
       "      <td>-0.496996</td>\n",
       "      <td>0.488676</td>\n",
       "      <td>0.543993</td>\n",
       "      <td>0.374044</td>\n",
       "      <td>-0.366087</td>\n",
       "      <td>1.000000</td>\n",
       "      <td>-0.737663</td>\n",
       "    </tr>\n",
       "    <tr>\n",
       "      <th>MEDV</th>\n",
       "      <td>-0.388305</td>\n",
       "      <td>0.360445</td>\n",
       "      <td>-0.483725</td>\n",
       "      <td>0.175260</td>\n",
       "      <td>-0.427321</td>\n",
       "      <td>0.695360</td>\n",
       "      <td>-0.376955</td>\n",
       "      <td>0.249929</td>\n",
       "      <td>-0.381626</td>\n",
       "      <td>-0.468536</td>\n",
       "      <td>-0.507787</td>\n",
       "      <td>0.333461</td>\n",
       "      <td>-0.737663</td>\n",
       "      <td>1.000000</td>\n",
       "    </tr>\n",
       "  </tbody>\n",
       "</table>\n",
       "</div>"
      ],
      "text/plain": [
       "             CRIM        ZN     INDUS      CHAS       NOX        RM       AGE   \n",
       "CRIM     1.000000 -0.200469  0.406583 -0.055892  0.420972 -0.219247  0.352734  \\\n",
       "ZN      -0.200469  1.000000 -0.533828 -0.042697 -0.516604  0.311991 -0.569537   \n",
       "INDUS    0.406583 -0.533828  1.000000  0.062938  0.763651 -0.391676  0.644779   \n",
       "CHAS    -0.055892 -0.042697  0.062938  1.000000  0.091203  0.091251  0.086518   \n",
       "NOX      0.420972 -0.516604  0.763651  0.091203  1.000000 -0.302188  0.731470   \n",
       "RM      -0.219247  0.311991 -0.391676  0.091251 -0.302188  1.000000 -0.240265   \n",
       "AGE      0.352734 -0.569537  0.644779  0.086518  0.731470 -0.240265  1.000000   \n",
       "DIS     -0.379670  0.664408 -0.708027 -0.099176 -0.769230  0.205246 -0.747881   \n",
       "RAD      0.625505 -0.311948  0.595129 -0.007368  0.611441 -0.209847  0.456022   \n",
       "TAX      0.582764 -0.314563  0.720760 -0.035587  0.668023 -0.292048  0.506456   \n",
       "PTRATIO  0.289946 -0.391679  0.383248 -0.121515  0.188933 -0.355501  0.261515   \n",
       "B       -0.385064  0.175520 -0.356977  0.048788 -0.380051  0.128069 -0.273534   \n",
       "LSTAT    0.455621 -0.412995  0.603800 -0.053929  0.590879 -0.613808  0.602339   \n",
       "MEDV    -0.388305  0.360445 -0.483725  0.175260 -0.427321  0.695360 -0.376955   \n",
       "\n",
       "              DIS       RAD       TAX   PTRATIO         B     LSTAT      MEDV  \n",
       "CRIM    -0.379670  0.625505  0.582764  0.289946 -0.385064  0.455621 -0.388305  \n",
       "ZN       0.664408 -0.311948 -0.314563 -0.391679  0.175520 -0.412995  0.360445  \n",
       "INDUS   -0.708027  0.595129  0.720760  0.383248 -0.356977  0.603800 -0.483725  \n",
       "CHAS    -0.099176 -0.007368 -0.035587 -0.121515  0.048788 -0.053929  0.175260  \n",
       "NOX     -0.769230  0.611441  0.668023  0.188933 -0.380051  0.590879 -0.427321  \n",
       "RM       0.205246 -0.209847 -0.292048 -0.355501  0.128069 -0.613808  0.695360  \n",
       "AGE     -0.747881  0.456022  0.506456  0.261515 -0.273534  0.602339 -0.376955  \n",
       "DIS      1.000000 -0.494588 -0.534432 -0.232471  0.291512 -0.496996  0.249929  \n",
       "RAD     -0.494588  1.000000  0.910228  0.464741 -0.444413  0.488676 -0.381626  \n",
       "TAX     -0.534432  0.910228  1.000000  0.460853 -0.441808  0.543993 -0.468536  \n",
       "PTRATIO -0.232471  0.464741  0.460853  1.000000 -0.177383  0.374044 -0.507787  \n",
       "B        0.291512 -0.444413 -0.441808 -0.177383  1.000000 -0.366087  0.333461  \n",
       "LSTAT   -0.496996  0.488676  0.543993  0.374044 -0.366087  1.000000 -0.737663  \n",
       "MEDV     0.249929 -0.381626 -0.468536 -0.507787  0.333461 -0.737663  1.000000  "
      ]
     },
     "execution_count": 6,
     "metadata": {},
     "output_type": "execute_result"
    }
   ],
   "source": [
    "import seaborn as sns\n",
    "import numpy as np\n",
    "import matplotlib.pyplot as plt\n",
    "boston.corr()"
   ]
  },
  {
   "cell_type": "code",
   "execution_count": 10,
   "id": "2274d817",
   "metadata": {},
   "outputs": [
    {
     "data": {
      "text/plain": [
       "\"\\nimport plotly.figure_factory as ff\\nimport plotly.io as pio\\nimport numpy as np\\n\\nnp.random.seed(0)\\ndata = np.random.rand(10, 10)\\n\\nmask = np.triu(np.ones_like(data, dtype=bool))\\n\\nlower_tri = np.tril(data, k=-1)\\n\\nfig = ff.create_annotated_heatmap(\\n    z=lower_tri,\\n    x=boston.columns,\\n    y=boston.columns,\\n    colorscale='Viridis',\\n)\\n\\n# Update layout\\nfig.update_layout(\\n    title='Beautiful Plotly Correlation Matrix with Values Below the Diagonal',\\n    xaxis=dict(title='Variables'),\\n    yaxis=dict(title='Variables')\\n)\\n\\n# Show plot\\npio.show(fig)\""
      ]
     },
     "execution_count": 10,
     "metadata": {},
     "output_type": "execute_result"
    }
   ],
   "source": [
    "\"\"\"\n",
    "import plotly.figure_factory as ff\n",
    "import plotly.io as pio\n",
    "import numpy as np\n",
    "\n",
    "np.random.seed(0)\n",
    "data = np.random.rand(10, 10)\n",
    "\n",
    "mask = np.triu(np.ones_like(data, dtype=bool))\n",
    "\n",
    "lower_tri = np.tril(data, k=-1)\n",
    "\n",
    "fig = ff.create_annotated_heatmap(\n",
    "    z=lower_tri,\n",
    "    x=boston.columns,\n",
    "    y=boston.columns,\n",
    "    colorscale='Viridis',\n",
    ")\n",
    "\n",
    "# Update layout\n",
    "fig.update_layout(\n",
    "    title='Beautiful Plotly Correlation Matrix with Values Below the Diagonal',\n",
    "    xaxis=dict(title='Variables'),\n",
    "    yaxis=dict(title='Variables')\n",
    ")\n",
    "\n",
    "# Show plot\n",
    "pio.show(fig)\"\"\""
   ]
  },
  {
   "cell_type": "code",
   "execution_count": 11,
   "id": "f676c22b",
   "metadata": {},
   "outputs": [
    {
     "data": {
      "image/png": "[encoded data removed]",
      "text/plain": [
       "<Figure size 432x288 with 1 Axes>"
      ]
     },
     "metadata": {
      "needs_background": "light"
     },
     "output_type": "display_data"
    }
   ],
   "source": [
    "sns.histplot(boston[\"MEDV\"]); # y, target, variable to predict, dependant"
   ]
  },
  {
   "cell_type": "markdown",
   "id": "4eb3fc2d",
   "metadata": {},
   "source": [
    "[Datasets source](https://scikit-learn.org/stable/datasets/toy_dataset.html#boston-house-prices-dataset)"
   ]
  },
  {
   "cell_type": "markdown",
   "id": "47d3c508",
   "metadata": {
    "lang": "en"
   },
   "source": [
    "### We load a dataset"
   ]
  },
  {
   "cell_type": "markdown",
   "id": "467203f2",
   "metadata": {},
   "source": [
    "- CRIM - per capita crime rate by town\n",
    "- ZN - proportion of residential land zoned for lots over 25,000 sq.ft.\n",
    "- INDUS - proportion of non-retail business acres per town.\n",
    "- CHAS - Charles River dummy variable (1 if tract bounds river; 0 otherwise)\n",
    "- NOX - nitric oxides concentration (parts per 10 million)\n",
    "- RM - average number of rooms per dwelling\n",
    "- AGE - proportion of owner-occupied units built prior to 1940\n",
    "- DIS - weighted distances to five Boston employment centres\n",
    "- RAD - index of accessibility to radial highways\n",
    "- TAX - full-value property-tax rate per 10,000\n",
    "- PTRATIO - pupil-teacher ratio by town\n",
    "- B - 1000(Bk - 0.63)^2 where Bk is the proportion of blacks by town\n",
    "- LSTAT - % lower status of the population\n",
    "- MEDV - Median value of owner-occupied homes in 1000's"
   ]
  },
  {
   "cell_type": "markdown",
   "id": "0a57701d",
   "metadata": {
    "lang": "en"
   },
   "source": [
    "### Train / Test Split - What is this?"
   ]
  },
  {
   "cell_type": "markdown",
   "id": "d75e15f7",
   "metadata": {},
   "source": [
    "<img src=\"https://www.dataquest.io/wp-content/uploads/kaggle_train_test_split.svg\" width=\"500\">"
   ]
  },
  {
   "cell_type": "markdown",
   "id": "f3ab1891",
   "metadata": {
    "lang": "en"
   },
   "source": [
    "The training-test split is a technique for evaluating the performance of a machine learning algorithm.\n",
    "\n",
    "It can be used for classification or regression problems and can be used for any supervised learning algorithm.\n",
    "\n",
    "The procedure consists of taking a data set and dividing it into two subsets. The first subset is used to fit the model and is called the training data set. The second subset is not used to train the model; instead, the model is given the input from the dataset, then predictions are made and compared to expected values. This second data set is called the test data set.\n",
    "\n",
    "Training dataset: Used to fit the machine learning model.\n",
    "Test dataset: Used to evaluate the fitted machine learning model.\n",
    "The goal is to estimate the performance of the machine learning model with new data: data not used to train the model.\n",
    "\n",
    "This is how we hope to use the model in practice. That is, fit it on the available data with known inputs and outputs, and then make predictions about new examples in the future where we don't have the expected output or target values.\n",
    "\n",
    "The training-test procedure is adequate when a sufficiently large data set is available."
   ]
  },
  {
   "cell_type": "markdown",
   "id": "e3b7641d",
   "metadata": {
    "lang": "en"
   },
   "source": [
    "### Preparing data for train test split"
   ]
  },
  {
   "cell_type": "code",
   "execution_count": 15,
   "id": "c633d381",
   "metadata": {},
   "outputs": [],
   "source": [
    "from sklearn.model_selection import train_test_split"
   ]
  },
  {
   "cell_type": "code",
   "execution_count": 16,
   "id": "96f3e33a",
   "metadata": {},
   "outputs": [],
   "source": [
    "X = boston.drop(\"MEDV\", axis=1)\n",
    "y = boston[\"MEDV\"]"
   ]
  },
  {
   "cell_type": "code",
   "execution_count": 24,
   "id": "c199d2fa",
   "metadata": {},
   "outputs": [],
   "source": [
    "X_train, X_test, y_train, y_test = train_test_split(X, y, test_size=0.2)"
   ]
  },
  {
   "cell_type": "code",
   "execution_count": 25,
   "id": "e6aff773",
   "metadata": {},
   "outputs": [
    {
     "data": {
      "text/plain": [
       "(506, 14)"
      ]
     },
     "execution_count": 25,
     "metadata": {},
     "output_type": "execute_result"
    }
   ],
   "source": [
    "boston.shape"
   ]
  },
  {
   "cell_type": "code",
   "execution_count": 27,
   "id": "00fc6fe5",
   "metadata": {},
   "outputs": [
    {
     "data": {
      "text/plain": [
       "(404, 13)"
      ]
     },
     "execution_count": 27,
     "metadata": {},
     "output_type": "execute_result"
    }
   ],
   "source": [
    "X_train.shape # (404, 13)"
   ]
  },
  {
   "cell_type": "code",
   "execution_count": 29,
   "id": "3d37e3f8",
   "metadata": {},
   "outputs": [
    {
     "data": {
      "text/plain": [
       "(102, 13)"
      ]
     },
     "execution_count": 29,
     "metadata": {},
     "output_type": "execute_result"
    }
   ],
   "source": [
    "X_test.shape # (102, 13)"
   ]
  },
  {
   "cell_type": "code",
   "execution_count": 30,
   "id": "4ec16cfd",
   "metadata": {},
   "outputs": [
    {
     "data": {
      "text/plain": [
       "(404,)"
      ]
     },
     "execution_count": 30,
     "metadata": {},
     "output_type": "execute_result"
    }
   ],
   "source": [
    "y_train.shape # (404,)"
   ]
  },
  {
   "cell_type": "code",
   "execution_count": 28,
   "id": "45b5f25e",
   "metadata": {},
   "outputs": [
    {
     "data": {
      "text/plain": [
       "(102,)"
      ]
     },
     "execution_count": 28,
     "metadata": {},
     "output_type": "execute_result"
    }
   ],
   "source": [
    "y_test.shape # (102, )"
   ]
  },
  {
   "cell_type": "markdown",
   "id": "0dd02e98",
   "metadata": {
    "lang": "en"
   },
   "source": [
    "### Optional train test split parameters\n",
    "\n",
    "**train_size** is the number that defines the size of the training set. If you provide a float then it must be between 0.0 and 1.0 and will define the part of the dataset used for testing. If you provide an int, then it will represent the total number of training samples. The default value is None.\n",
    "\n",
    "**test_size** is the number that defines the size of the test suite. It is very similar to train_size. You must provide either train_size or test_size. If neither is provided, the default portion of the dataset to use for testing is 0.25, or 25 percent.\n",
    "\n",
    "**random_state** is the object that controls randomness during splitting. It can be an int or an instance of RandomState. The default value is None."
   ]
  },
  {
   "cell_type": "code",
   "execution_count": null,
   "id": "private-subdivision",
   "metadata": {},
   "outputs": [],
   "source": [
    "from sklearn.model_selection import train_test_split"
   ]
  },
  {
   "cell_type": "code",
   "execution_count": null,
   "id": "c65c8111",
   "metadata": {},
   "outputs": [],
   "source": []
  },
  {
   "cell_type": "markdown",
   "id": "2813454a",
   "metadata": {
    "lang": "en"
   },
   "source": [
    "### We already have the dataset divided, now we are going to import a model and train it"
   ]
  },
  {
   "cell_type": "code",
   "execution_count": 31,
   "id": "ultimate-tumor",
   "metadata": {},
   "outputs": [],
   "source": [
    "from sklearn.linear_model import LinearRegression as LinReg"
   ]
  },
  {
   "cell_type": "code",
   "execution_count": 32,
   "id": "2a5e7bfb",
   "metadata": {},
   "outputs": [],
   "source": [
    "lr = LinReg()"
   ]
  },
  {
   "cell_type": "code",
   "execution_count": 35,
   "id": "ad1212c7",
   "metadata": {},
   "outputs": [
    {
     "data": {
      "text/html": [
       "<style>#sk-container-id-2 {color: black;background-color: white;}#sk-container-id-2 pre{padding: 0;}#sk-container-id-2 div.sk-toggleable {background-color: white;}#sk-container-id-2 label.sk-toggleable__label {cursor: pointer;display: block;width: 100%;margin-bottom: 0;padding: 0.3em;box-sizing: border-box;text-align: center;}#sk-container-id-2 label.sk-toggleable__label-arrow:before {content: \"▸\";float: left;margin-right: 0.25em;color: #696969;}#sk-container-id-2 label.sk-toggleable__label-arrow:hover:before {color: black;}#sk-container-id-2 div.sk-estimator:hover label.sk-toggleable__label-arrow:before {color: black;}#sk-container-id-2 div.sk-toggleable__content {max-height: 0;max-width: 0;overflow: hidden;text-align: left;background-color: #f0f8ff;}#sk-container-id-2 div.sk-toggleable__content pre {margin: 0.2em;color: black;border-radius: 0.25em;background-color: #f0f8ff;}#sk-container-id-2 input.sk-toggleable__control:checked~div.sk-toggleable__content {max-height: 200px;max-width: 100%;overflow: auto;}#sk-container-id-2 input.sk-toggleable__control:checked~label.sk-toggleable__label-arrow:before {content: \"▾\";}#sk-container-id-2 div.sk-estimator input.sk-toggleable__control:checked~label.sk-toggleable__label {background-color: #d4ebff;}#sk-container-id-2 div.sk-label input.sk-toggleable__control:checked~label.sk-toggleable__label {background-color: #d4ebff;}#sk-container-id-2 input.sk-hidden--visually {border: 0;clip: rect(1px 1px 1px 1px);clip: rect(1px, 1px, 1px, 1px);height: 1px;margin: -1px;overflow: hidden;padding: 0;position: absolute;width: 1px;}#sk-container-id-2 div.sk-estimator {font-family: monospace;background-color: #f0f8ff;border: 1px dotted black;border-radius: 0.25em;box-sizing: border-box;margin-bottom: 0.5em;}#sk-container-id-2 div.sk-estimator:hover {background-color: #d4ebff;}#sk-container-id-2 div.sk-parallel-item::after {content: \"\";width: 100%;border-bottom: 1px solid gray;flex-grow: 1;}#sk-container-id-2 div.sk-label:hover label.sk-toggleable__label {background-color: #d4ebff;}#sk-container-id-2 div.sk-serial::before {content: \"\";position: absolute;border-left: 1px solid gray;box-sizing: border-box;top: 0;bottom: 0;left: 50%;z-index: 0;}#sk-container-id-2 div.sk-serial {display: flex;flex-direction: column;align-items: center;background-color: white;padding-right: 0.2em;padding-left: 0.2em;position: relative;}#sk-container-id-2 div.sk-item {position: relative;z-index: 1;}#sk-container-id-2 div.sk-parallel {display: flex;align-items: stretch;justify-content: center;background-color: white;position: relative;}#sk-container-id-2 div.sk-item::before, #sk-container-id-2 div.sk-parallel-item::before {content: \"\";position: absolute;border-left: 1px solid gray;box-sizing: border-box;top: 0;bottom: 0;left: 50%;z-index: -1;}#sk-container-id-2 div.sk-parallel-item {display: flex;flex-direction: column;z-index: 1;position: relative;background-color: white;}#sk-container-id-2 div.sk-parallel-item:first-child::after {align-self: flex-end;width: 50%;}#sk-container-id-2 div.sk-parallel-item:last-child::after {align-self: flex-start;width: 50%;}#sk-container-id-2 div.sk-parallel-item:only-child::after {width: 0;}#sk-container-id-2 div.sk-dashed-wrapped {border: 1px dashed gray;margin: 0 0.4em 0.5em 0.4em;box-sizing: border-box;padding-bottom: 0.4em;background-color: white;}#sk-container-id-2 div.sk-label label {font-family: monospace;font-weight: bold;display: inline-block;line-height: 1.2em;}#sk-container-id-2 div.sk-label-container {text-align: center;}#sk-container-id-2 div.sk-container {/* jupyter's `normalize.less` sets `[hidden] { display: none; }` but bootstrap.min.css set `[hidden] { display: none !important; }` so we also need the `!important` here to be able to override the default hidden behavior on the sphinx rendered scikit-learn.org. See: https://github.com/scikit-learn/scikit-learn/issues/21755 */display: inline-block !important;position: relative;}#sk-container-id-2 div.sk-text-repr-fallback {display: none;}</style><div id=\"sk-container-id-2\" class=\"sk-top-container\"><div class=\"sk-text-repr-fallback\"><pre>LinearRegression()</pre><b>In a Jupyter environment, please rerun this cell to show the HTML representation or trust the notebook. <br />On GitHub, the HTML representation is unable to render, please try loading this page with nbviewer.org.</b></div><div class=\"sk-container\" hidden><div class=\"sk-item\"><div class=\"sk-estimator sk-toggleable\"><input class=\"sk-toggleable__control sk-hidden--visually\" id=\"sk-estimator-id-2\" type=\"checkbox\" checked><label for=\"sk-estimator-id-2\" class=\"sk-toggleable__label sk-toggleable__label-arrow\">LinearRegression</label><div class=\"sk-toggleable__content\"><pre>LinearRegression()</pre></div></div></div></div></div>"
      ],
      "text/plain": [
       "LinearRegression()"
      ]
     },
     "execution_count": 35,
     "metadata": {},
     "output_type": "execute_result"
    }
   ],
   "source": [
    "lr.fit(X_train, y_train)"
   ]
  },
  {
   "cell_type": "code",
   "execution_count": 36,
   "id": "ee647f36",
   "metadata": {},
   "outputs": [],
   "source": [
    "y_pred = lr.predict(X_test)"
   ]
  },
  {
   "cell_type": "code",
   "execution_count": 37,
   "id": "ab92ecab",
   "metadata": {
    "scrolled": true
   },
   "outputs": [
    {
     "data": {
      "text/plain": [
       "(102,)"
      ]
     },
     "execution_count": 37,
     "metadata": {},
     "output_type": "execute_result"
    }
   ],
   "source": [
    "y_pred.shape # (102,)"
   ]
  },
  {
   "cell_type": "code",
   "execution_count": 38,
   "id": "847cd70c",
   "metadata": {},
   "outputs": [
    {
     "data": {
      "text/plain": [
       "array([22.45159327, 21.34813406, 24.10280172, 20.9715476 , 17.77565806,\n",
       "        3.34482361, 26.68656734, 25.82438315, 22.65674862, 35.34658899,\n",
       "       -6.5750017 , 23.61986391, 20.81686488, 20.0516532 , 41.70177281,\n",
       "       29.55452247, 34.9146211 , 25.27964224, 20.98786342, 29.28172847,\n",
       "       25.02762706, 36.10806645, 22.65056785, 21.12686854, 23.15520999,\n",
       "       24.31384259, 11.06673257,  4.90234332, 17.20263018, 14.93312282,\n",
       "       12.63949436, 21.9351675 , 23.76955257, 19.7120754 , 18.7030471 ,\n",
       "       25.65421497, 14.09428441, 27.9350724 , 29.94853331, 24.15568704,\n",
       "       33.4993961 , 28.33825824, 26.08133502, 32.61476233, 25.33315657,\n",
       "       23.37337637, 26.72777059, 17.503571  , 29.27528905, 22.74373045,\n",
       "       29.04109137, 26.83648626, 19.83836513, 20.35283848, 27.35665289,\n",
       "        9.99811774, 18.48993171, 16.72111893, 14.69232229, 18.89259455,\n",
       "       15.8095447 , 20.49559126, 23.13437822, 26.6567082 , 33.27295355,\n",
       "        0.15529149, 20.30686679, 19.12052534, 21.25725947, 27.08568471,\n",
       "       12.14797415, 33.26116845, 19.04431677, 24.0328649 , 17.43125562,\n",
       "       18.30789342, 20.1136934 , 11.19393834, 18.52587551, 13.46428428,\n",
       "       24.3384323 ,  7.9214385 , 35.59506653, 12.59044164, 40.35128913,\n",
       "       22.83078126, 21.28750994,  5.3269429 , 38.26106853, 27.64483415,\n",
       "       19.48333968, 38.49891898, 13.37471214, 18.58080829, 24.90668788,\n",
       "       11.18361449, 13.91991383, 16.48023539, 44.30506058, 34.56440361,\n",
       "       20.63343147, 21.92592476])"
      ]
     },
     "execution_count": 38,
     "metadata": {},
     "output_type": "execute_result"
    }
   ],
   "source": [
    "y_pred"
   ]
  },
  {
   "cell_type": "markdown",
   "id": "5570f80d",
   "metadata": {
    "lang": "en"
   },
   "source": [
    "### We create our predictions"
   ]
  },
  {
   "cell_type": "code",
   "execution_count": null,
   "id": "4f4688fe",
   "metadata": {},
   "outputs": [],
   "source": []
  },
  {
   "cell_type": "markdown",
   "id": "c7b1dcd8",
   "metadata": {},
   "source": [
    "<img src=\"https://www.dataquest.io/wp-content/uploads/kaggle_train_test_split.svg\" width=\"500\">"
   ]
  },
  {
   "cell_type": "code",
   "execution_count": null,
   "id": "241278e7",
   "metadata": {},
   "outputs": [],
   "source": []
  },
  {
   "attachments": {
    "Screenshot%202023-05-24%20at%2012.39.07.png": {
     "image/png": "[encoded data removed]"
    }
   },
   "cell_type": "markdown",
   "id": "3265ac5c",
   "metadata": {},
   "source": [
    "![Screenshot%202023-05-24%20at%2012.39.07.png](attachment:Screenshot%202023-05-24%20at%2012.39.07.png)"
   ]
  },
  {
   "cell_type": "markdown",
   "id": "7e96d06c",
   "metadata": {
    "lang": "en"
   },
   "source": [
    "### We measure our model"
   ]
  },
  {
   "cell_type": "code",
   "execution_count": 39,
   "id": "treated-remedy",
   "metadata": {},
   "outputs": [],
   "source": [
    "from sklearn import metrics\n",
    "import numpy as np"
   ]
  },
  {
   "cell_type": "code",
   "execution_count": 40,
   "id": "5a9145ab",
   "metadata": {},
   "outputs": [
    {
     "name": "stdout",
     "output_type": "stream",
     "text": [
      "MAE, error: 3.231861380708737\n",
      "MSE, error: 20.017284435291145\n",
      "RMSE, error: 4.474067996274883\n",
      "r2: 0.7599541484325215\n"
     ]
    }
   ],
   "source": [
    "print(f\"MAE, error: {metrics.mean_absolute_error(y_test, y_pred)}\")\n",
    "print(f\"MSE, error: {metrics.mean_squared_error(y_test, y_pred)}\")\n",
    "print(f\"RMSE, error: {np.sqrt(metrics.mean_squared_error(y_test, y_pred))}\")\n",
    "print(f\"r2: {metrics.r2_score(y_test, y_pred)}\")"
   ]
  },
  {
   "cell_type": "code",
   "execution_count": 42,
   "id": "f5318527",
   "metadata": {},
   "outputs": [
    {
     "data": {
      "text/plain": [
       "array([-1.41775298e-01,  4.93322886e-02,  2.53391467e-02,  2.74553042e+00,\n",
       "       -1.59413969e+01,  3.51910343e+00,  8.37657794e-03, -1.44870528e+00,\n",
       "        2.80622355e-01, -1.03085051e-02, -9.03134532e-01,  1.15575202e-02,\n",
       "       -5.87718897e-01])"
      ]
     },
     "execution_count": 42,
     "metadata": {},
     "output_type": "execute_result"
    }
   ],
   "source": [
    "lr.coef_"
   ]
  },
  {
   "cell_type": "code",
   "execution_count": 43,
   "id": "e98e8a8d",
   "metadata": {},
   "outputs": [
    {
     "data": {
      "text/plain": [
       "35.248679581901186"
      ]
     },
     "execution_count": 43,
     "metadata": {},
     "output_type": "execute_result"
    }
   ],
   "source": [
    "lr.intercept_"
   ]
  },
  {
   "cell_type": "code",
   "execution_count": null,
   "id": "0208c954",
   "metadata": {},
   "outputs": [],
   "source": [
    "def equation_prediction (features):\n",
    "    return lr.intercept_ + features[0] * lr.coef_[0] + features[1] *  lr.coef_[1] .... "
   ]
  },
  {
   "cell_type": "markdown",
   "id": "85fae727",
   "metadata": {
    "lang": "en"
   },
   "source": [
    "#### Example with a real case of a colleague who gives me data from a house in Boston"
   ]
  },
  {
   "cell_type": "code",
   "execution_count": null,
   "id": "844b70f3",
   "metadata": {},
   "outputs": [],
   "source": [
    "# 4.476 wrong on average"
   ]
  },
  {
   "cell_type": "code",
   "execution_count": 70,
   "id": "479ebdf8",
   "metadata": {},
   "outputs": [
    {
     "data": {
      "image/png": "[encoded data removed]",
      "text/plain": [
       "<Figure size 432x288 with 1 Axes>"
      ]
     },
     "metadata": {
      "needs_background": "light"
     },
     "output_type": "display_data"
    }
   ],
   "source": [
    "sns.histplot(x=boston[\"MEDV\"])\n",
    "plt.axvline(boston[\"MEDV\"].median(), c=\"red\", label=\"Median\")\n",
    "plt.axvline(boston[\"MEDV\"].mean(), c=\"yellow\", label=\"Mean\")\n",
    "plt.axvline(boston[\"MEDV\"].quantile(0.25), c=\"brown\", linestyle=\"--\", label=\"25%\")\n",
    "plt.axvline(boston[\"MEDV\"].quantile(0.75), c=\"brown\", linestyle=\"--\", label=\"75%\")\n",
    "plt.title(\"Distribution of MEDV\", size=20)\n",
    "plt.legend();"
   ]
  },
  {
   "cell_type": "code",
   "execution_count": 57,
   "id": "c38e038d",
   "metadata": {},
   "outputs": [
    {
     "data": {
      "image/png": "[encoded data removed]",
      "text/plain": [
       "<Figure size 432x288 with 1 Axes>"
      ]
     },
     "metadata": {
      "needs_background": "light"
     },
     "output_type": "display_data"
    }
   ],
   "source": [
    "sns.boxplot(boston[\"MEDV\"]);"
   ]
  },
  {
   "cell_type": "code",
   "execution_count": 44,
   "id": "10ec1f0c",
   "metadata": {},
   "outputs": [],
   "source": [
    "data = [{\n",
    "    \"CRIM\": 0.04337,\n",
    "    \"ZN\": 30,\n",
    "    \"INDUS\": 8,\n",
    "    \"CHAS\": 0, \n",
    "    \"NOX\": 0.2345,\n",
    "    \"RM\": 9.8,\n",
    "    \"AGE\":30,\n",
    "    \"DIS\": 3.55,\n",
    "    \"RAD\": 4.0,\n",
    "    \"TAX\": 345, \n",
    "    \"PTRATIO\": 19.0,\n",
    "    \"B\":343,\n",
    "    \"LSTAT\": 4.5,\n",
    "    }]"
   ]
  },
  {
   "cell_type": "code",
   "execution_count": 47,
   "id": "b4e5de65",
   "metadata": {},
   "outputs": [
    {
     "data": {
      "text/plain": [
       "[{'CRIM': 0.04337,\n",
       "  'ZN': 30,\n",
       "  'INDUS': 8,\n",
       "  'CHAS': 0,\n",
       "  'NOX': 0.2345,\n",
       "  'RM': 9.8,\n",
       "  'AGE': 30,\n",
       "  'DIS': 3.55,\n",
       "  'RAD': 4.0,\n",
       "  'TAX': 345,\n",
       "  'PTRATIO': 19.0,\n",
       "  'B': 343,\n",
       "  'LSTAT': 4.5}]"
      ]
     },
     "execution_count": 47,
     "metadata": {},
     "output_type": "execute_result"
    }
   ],
   "source": [
    "data"
   ]
  },
  {
   "cell_type": "code",
   "execution_count": 48,
   "id": "483eb9ff",
   "metadata": {},
   "outputs": [
    {
     "data": {
      "text/html": [
       "<div>\n",
       "<style scoped>\n",
       "    .dataframe tbody tr th:only-of-type {\n",
       "        vertical-align: middle;\n",
       "    }\n",
       "\n",
       "    .dataframe tbody tr th {\n",
       "        vertical-align: top;\n",
       "    }\n",
       "\n",
       "    .dataframe thead th {\n",
       "        text-align: right;\n",
       "    }\n",
       "</style>\n",
       "<table border=\"1\" class=\"dataframe\">\n",
       "  <thead>\n",
       "    <tr style=\"text-align: right;\">\n",
       "      <th></th>\n",
       "      <th>CRIM</th>\n",
       "      <th>ZN</th>\n",
       "      <th>INDUS</th>\n",
       "      <th>CHAS</th>\n",
       "      <th>NOX</th>\n",
       "      <th>RM</th>\n",
       "      <th>AGE</th>\n",
       "      <th>DIS</th>\n",
       "      <th>RAD</th>\n",
       "      <th>TAX</th>\n",
       "      <th>PTRATIO</th>\n",
       "      <th>B</th>\n",
       "      <th>LSTAT</th>\n",
       "    </tr>\n",
       "  </thead>\n",
       "  <tbody>\n",
       "    <tr>\n",
       "      <th>0</th>\n",
       "      <td>0.04337</td>\n",
       "      <td>30</td>\n",
       "      <td>8</td>\n",
       "      <td>0</td>\n",
       "      <td>0.2345</td>\n",
       "      <td>9.8</td>\n",
       "      <td>30</td>\n",
       "      <td>3.55</td>\n",
       "      <td>4.0</td>\n",
       "      <td>345</td>\n",
       "      <td>19.0</td>\n",
       "      <td>343</td>\n",
       "      <td>4.5</td>\n",
       "    </tr>\n",
       "  </tbody>\n",
       "</table>\n",
       "</div>"
      ],
      "text/plain": [
       "      CRIM  ZN  INDUS  CHAS     NOX   RM  AGE   DIS  RAD  TAX  PTRATIO    B   \n",
       "0  0.04337  30      8     0  0.2345  9.8   30  3.55  4.0  345     19.0  343  \\\n",
       "\n",
       "   LSTAT  \n",
       "0    4.5  "
      ]
     },
     "execution_count": 48,
     "metadata": {},
     "output_type": "execute_result"
    }
   ],
   "source": [
    "df = pd.DataFrame(data)\n",
    "df"
   ]
  },
  {
   "cell_type": "code",
   "execution_count": 49,
   "id": "2679d197",
   "metadata": {},
   "outputs": [],
   "source": [
    "y_pred_one_row = lr.predict(df) # X, uppercase, 2-d, many columns"
   ]
  },
  {
   "cell_type": "code",
   "execution_count": 50,
   "id": "355e987b",
   "metadata": {},
   "outputs": [
    {
     "data": {
      "text/plain": [
       "array([44.50855572])"
      ]
     },
     "execution_count": 50,
     "metadata": {},
     "output_type": "execute_result"
    }
   ],
   "source": [
    "y_pred_one_row"
   ]
  },
  {
   "cell_type": "code",
   "execution_count": 53,
   "id": "406b9133",
   "metadata": {},
   "outputs": [],
   "source": [
    "def predict_medv (dict_):\n",
    "    \n",
    "    data = [dict_]\n",
    "    df = pd.DataFrame(data)\n",
    "    y_pred_one_row = lr.predict(df)\n",
    "    return y_pred_one_row[0]"
   ]
  },
  {
   "cell_type": "code",
   "execution_count": 54,
   "id": "8f6063d0",
   "metadata": {},
   "outputs": [],
   "source": [
    "more_data = {\n",
    "    \"CRIM\": 0.2345,\n",
    "    \"ZN\": 20,\n",
    "    \"INDUS\": 6,\n",
    "    \"CHAS\": 0, \n",
    "    \"NOX\": 0.25,\n",
    "    \"RM\": 7,\n",
    "    \"AGE\":30,\n",
    "    \"DIS\": 3.55,\n",
    "    \"RAD\": 4.0,\n",
    "    \"TAX\": 345, \n",
    "    \"PTRATIO\": 19.0,\n",
    "    \"B\":200,\n",
    "    \"LSTAT\": 4.5,\n",
    "    }"
   ]
  },
  {
   "cell_type": "code",
   "execution_count": 55,
   "id": "c1f7c81f",
   "metadata": {},
   "outputs": [
    {
     "data": {
      "text/plain": [
       "32.18415038222404"
      ]
     },
     "execution_count": 55,
     "metadata": {},
     "output_type": "execute_result"
    }
   ],
   "source": [
    "predict_medv (more_data) # "
   ]
  },
  {
   "cell_type": "markdown",
   "id": "dd821128",
   "metadata": {
    "lang": "en"
   },
   "source": [
    "## Extra! Training different models at the same time"
   ]
  },
  {
   "cell_type": "code",
   "execution_count": 72,
   "id": "designed-stomach",
   "metadata": {},
   "outputs": [],
   "source": [
    "from sklearn.linear_model import Ridge, Lasso, LinearRegression # these are lines\n",
    "\n",
    "from sklearn.linear_model import SGDRegressor\n",
    "\n",
    "from sklearn.neighbors import KNeighborsRegressor\n",
    "\n",
    "from sklearn.ensemble import GradientBoostingRegressor\n",
    "\n",
    "from sklearn.svm import SVR"
   ]
  },
  {
   "cell_type": "markdown",
   "id": "7b63a201",
   "metadata": {
    "lang": "en"
   },
   "source": [
    "### Store all the models we are going to train in a dictionary"
   ]
  },
  {
   "cell_type": "code",
   "execution_count": null,
   "id": "27b17e89",
   "metadata": {},
   "outputs": [],
   "source": [
    "models = {\n",
    "    \"lr\": LinReg(),\n",
    "    \"ridge\": Ridge(), #lr similar\n",
    "    \"lasso\": Lasso(), # lr similar \n",
    "    \"sgd\": SGDRegressor(),\n",
    "    \"knn\": KNeighborsRegressor(),\n",
    "    \"grad\": GradientBoostingRegressor(),\n",
    "    \"svr\": SVR() #potato chip\n",
    "}"
   ]
  },
  {
   "cell_type": "markdown",
   "id": "53e8c182",
   "metadata": {
    "lang": "en"
   },
   "source": [
    "### Iterate over the models to train them"
   ]
  },
  {
   "cell_type": "markdown",
   "id": "067bc0ac",
   "metadata": {},
   "source": [
    "<img src=\"https://www.dataquest.io/wp-content/uploads/kaggle_train_test_split.svg\" width=\"500\">"
   ]
  },
  {
   "cell_type": "code",
   "execution_count": null,
   "id": "ba309a1f",
   "metadata": {},
   "outputs": [],
   "source": [
    "for model in models.values():\n",
    "    print(f\"Training: {model}\")\n",
    "    model.fit(X_train, y_train)"
   ]
  },
  {
   "cell_type": "code",
   "execution_count": null,
   "id": "e544f022",
   "metadata": {},
   "outputs": [],
   "source": [
    "for name, model in models.items():\n",
    "    y_pred = model.predict(X_test)\n",
    "    print(f\"------------{name}------------\\n\")\n",
    "    print(f\"MAE, error: {metrics.mean_absolute_error(y_test, y_pred)}\")\n",
    "    print(f\"MSE, error: {metrics.mean_squared_error(y_test, y_pred)}\")\n",
    "    print(f\"RMSE, error: {np.sqrt(metrics.mean_squared_error(y_test, y_pred))}\")\n",
    "    print(f\"r2: {metrics.r2_score(y_test, y_pred)}\")\n",
    "    print(\"\\n\")"
   ]
  },
  {
   "cell_type": "markdown",
   "id": "e00692a8",
   "metadata": {},
   "source": [
    "![Suppor vector regressor](http://www.semspirit.com//wp-content/uploads/sites/17154/2017/10/R-SVR-model-capture-800x450-compress-50.gif)"
   ]
  },
  {
   "cell_type": "markdown",
   "id": "375ec66c",
   "metadata": {},
   "source": [
    "![Gradient boost regressor](https://raw.githubusercontent.com/nyk510/simple-ngboost/master/results/result.gif)"
   ]
  },
  {
   "cell_type": "markdown",
   "id": "2cba144d",
   "metadata": {
    "lang": "en"
   },
   "source": [
    "## Cross Validation\n",
    "Let's read a bit of the [documentation](https://scikit-learn.org/stable/modules/cross_validation.html)\n",
    "\n",
    "**Wikipedia tells us**\n",
    "Cross validation or cross-validation is a technique used to evaluate the results of a statistical analysis and ensure that they are independent of the partition between training and test data. It consists of repeating and calculating the arithmetic mean obtained from the evaluation measures on different partitions. It is used in environments where the main objective is prediction and the accuracy of a model that will be carried out in practice is to be estimated. It is a technique widely used in artificial intelligence projects to validate generated models."
   ]
  },
  {
   "cell_type": "code",
   "execution_count": null,
   "id": "cellular-orchestra",
   "metadata": {},
   "outputs": [],
   "source": [
    "from sklearn.model_selection import cross_val_score as cvs"
   ]
  },
  {
   "cell_type": "markdown",
   "id": "disabled-walnut",
   "metadata": {},
   "source": [
    "![kfoldcv](https://scikit-learn.org/stable/_images/grid_search_cross_validation.png)"
   ]
  },
  {
   "cell_type": "markdown",
   "id": "825c9d4d",
   "metadata": {
    "lang": "en"
   },
   "source": [
    "Cross-Validation: K-fold with 5 splits\n",
    "What we normally do when training the model is to pass all the records to it and have it do the fit().\n",
    "With K-Folds -in this example of 5 splits- to train, instead of passing all the records directly to the model, we will do this:\n",
    "\n",
    "**Iterate 5 times:**\n",
    "- We will set aside 1/5 of samples\n",
    "- We train the model with the remaining 4/5 samples\n",
    "- We will measure the r2 obtained on those we had set aside.\n",
    "- This means that we do 5 independent trainings.\n",
    "- The final R2 will be the average of the 5 previous r2."
   ]
  },
  {
   "cell_type": "markdown",
   "id": "9ae76a93",
   "metadata": {
    "lang": "en"
   },
   "source": [
    "### We make CV to a single model"
   ]
  },
  {
   "cell_type": "markdown",
   "id": "8b7320c2",
   "metadata": {},
   "source": [
    "`tipically 5-10`. Goal: not better, but more reliable"
   ]
  },
  {
   "cell_type": "code",
   "execution_count": null,
   "id": "joined-payroll",
   "metadata": {},
   "outputs": [],
   "source": [
    "from sklearn.model_selection import cross_val_score as cvs"
   ]
  },
  {
   "cell_type": "code",
   "execution_count": null,
   "id": "585200bf",
   "metadata": {},
   "outputs": [],
   "source": []
  },
  {
   "cell_type": "markdown",
   "id": "d76a1794",
   "metadata": {
    "lang": "en"
   },
   "source": [
    "### CV looping through all models"
   ]
  },
  {
   "cell_type": "code",
   "execution_count": null,
   "id": "148105f0",
   "metadata": {},
   "outputs": [],
   "source": [
    "for model in models.values():\n",
    "    print(f\"Training: {model}\")\n",
    "    model.fit(X_train, y_train)\n",
    "    \n",
    "    \n",
    "for name, model in models.items():\n",
    "    y_pred = model.predict(X_test)\n",
    "    print(f\"------------{name}------------\\n\")\n",
    "    print(f\"MAE, error: {metrics.mean_absolute_error(y_test, y_pred)}\")\n",
    "    print(f\"MSE, error: {metrics.mean_squared_error(y_test, y_pred)}\")\n",
    "    print(f\"RMSE, error: {np.sqrt(metrics.mean_squared_error(y_test, y_pred))}\")\n",
    "    print(f\"r2: {metrics.r2_score(y_test, y_pred)}\")\n",
    "    print(\"\\n\")"
   ]
  },
  {
   "cell_type": "code",
   "execution_count": null,
   "id": "46d0bcb3",
   "metadata": {},
   "outputs": [],
   "source": []
  },
  {
   "cell_type": "markdown",
   "id": "a18ea72b",
   "metadata": {
    "lang": "en"
   },
   "source": [
    "## Feature Selection"
   ]
  },
  {
   "cell_type": "code",
   "execution_count": null,
   "id": "003082cd",
   "metadata": {},
   "outputs": [],
   "source": [
    "from sklearn.feature_selection import RFE"
   ]
  },
  {
   "cell_type": "code",
   "execution_count": null,
   "id": "71848f34",
   "metadata": {},
   "outputs": [],
   "source": []
  },
  {
   "cell_type": "markdown",
   "id": "2fca4400",
   "metadata": {
    "lang": "en"
   },
   "source": [
    "Given an external estimator that assigns weights to features (for example, the coefficients of a linear model), the goal of recursive feature elimination (RFE) is to select them by recursively considering smaller and smaller sets of features. First, the estimator is trained with the initial set of features and the importance of each of them is obtained through some specific or callable attribute. The less important features of the current set are then removed. This procedure is repeated recursively on the pruned set until the desired number of features to select is reached."
   ]
  },
  {
   "cell_type": "code",
   "execution_count": null,
   "id": "8fa04088",
   "metadata": {},
   "outputs": [],
   "source": []
  },
  {
   "cell_type": "markdown",
   "id": "2625af8c",
   "metadata": {
    "lang": "en"
   },
   "source": [
    "The ranking of the features, so that ranking_[i] corresponds to the ranking position of the i-th feature. Selected features (i.e. best estimates) are assigned rank 1."
   ]
  },
  {
   "cell_type": "code",
   "execution_count": null,
   "id": "4a1ec22f",
   "metadata": {},
   "outputs": [],
   "source": []
  },
  {
   "cell_type": "markdown",
   "id": "f55401a7",
   "metadata": {},
   "source": [
    "# 3d visualization"
   ]
  },
  {
   "cell_type": "code",
   "execution_count": null,
   "id": "544e6118",
   "metadata": {},
   "outputs": [],
   "source": [
    "#Generate a random three-feature dataset for demonstration\n",
    "n_samples = 100\n",
    "n_features = 3\n",
    "X, y = make_regression(n_samples=n_samples, n_features=n_features, noise=10)\n",
    "\n",
    "# Fit the regression model\n",
    "regression = LinearRegression()\n",
    "regression.fit(X, y)\n",
    "\n",
    "# Define the meshgrid for the fitting plane\n",
    "plot_range = 2\n",
    "x_min, x_max = np.min(X[:, 0]) - plot_range, np.max(X[:, 0]) + plot_range\n",
    "y_min, y_max = np.min(X[:, 1]) - plot_range, np.max(X[:, 1]) + plot_range\n",
    "xx, yy = np.meshgrid(np.arange(x_min, x_max, 0.2), np.arange(y_min, y_max, 0.2))\n",
    "zz = regression.coef_[0] * xx + regression.coef_[1] * yy + regression.intercept_\n",
    "\n",
    "# Create an interactive 3D plot\n",
    "fig = go.Figure(data=[\n",
    "    go.Scatter3d(\n",
    "        x=X[:, 0],\n",
    "        y=X[:, 1],\n",
    "        z=y,\n",
    "        mode='markers',\n",
    "        name='Original Data',\n",
    "        marker=dict(\n",
    "            size=3,\n",
    "            color='blue',\n",
    "            opacity=0.8\n",
    "        )\n",
    "    ),\n",
    "    go.Surface(\n",
    "        x=xx,\n",
    "        y=yy,\n",
    "        z=zz,\n",
    "        name='Fitting Plane',\n",
    "        colorscale='Reds',\n",
    "        opacity=0.8\n",
    "    )\n",
    "])\n",
    "\n",
    "fig.update_layout(\n",
    "    scene=dict(\n",
    "        xaxis_title='X',\n",
    "        yaxis_title='Y',\n",
    "        zaxis_title='Z'\n",
    "    ),\n",
    "    title='Regression Fitting Plane'\n",
    ")\n",
    "\n",
    "# Show the interactive 3D figure\n",
    "fig.show()\n"
   ]
  },
  {
   "cell_type": "markdown",
   "id": "a8ecdf71",
   "metadata": {},
   "source": [
    "[Docs](https://scikit-learn.org/stable/modules/generated/sklearn.feature_selection.SelectFromModel.html)"
   ]
  },
  {
   "cell_type": "markdown",
   "id": "d5ea6610",
   "metadata": {
    "lang": "en"
   },
   "source": [
    "## Summary"
   ]
  },
  {
   "cell_type": "code",
   "execution_count": null,
   "id": "ff7fdf6e",
   "metadata": {},
   "outputs": [],
   "source": []
  }
 ],
 "metadata": {
  "kernelspec": {
   "display_name": "ironhack",
   "language": "python",
   "name": "ironhack"
  },
  "language_info": {
   "codemirror_mode": {
    "name": "ipython",
    "version": 3
   },
   "file_extension": ".py",
   "mimetype": "text/x-python",
   "name": "python",
   "nbconvert_exporter": "python",
   "pygments_lexer": "ipython3",
   "version": "3.9.12"
  },
  "nbTranslate": {
   "displayLangs": [
    "en",
    "es"
   ],
   "hotkey": "alt-a",
   "langInMainMenu": true,
   "sourceLang": "es",
   "targetLang": "en",
   "useGoogleTranslate": true
  },
  "toc": {
   "base_numbering": 1,
   "nav_menu": {},
   "number_sections": true,
   "sideBar": true,
   "skip_h1_title": true,
   "title_cell": "Table of Contents",
   "title_sidebar": "Contents",
   "toc_cell": true,
   "toc_position": {
    "height": "calc(100% - 180px)",
    "left": "10px",
    "top": "150px",
    "width": "288px"
   },
   "toc_section_display": true,
   "toc_window_display": false
  },
  "varInspector": {
   "cols": {
    "lenName": 16,
    "lenType": 16,
    "lenVar": 40
   },
   "kernels_config": {
    "python": {
     "delete_cmd_postfix": "",
     "delete_cmd_prefix": "del ",
     "library": "var_list.py",
     "varRefreshCmd": "print(var_dic_list())"
    },
    "r": {
     "delete_cmd_postfix": ") ",
     "delete_cmd_prefix": "rm(",
     "library": "var_list.r",
     "varRefreshCmd": "cat(var_dic_list()) "
    }
   },
   "types_to_exclude": [
    "module",
    "function",
    "builtin_function_or_method",
    "instance",
    "_Feature"
   ],
   "window_display": false
  }
 },
 "nbformat": 4,
 "nbformat_minor": 5
}
